{
 "cells": [
  {
   "cell_type": "markdown",
   "metadata": {},
   "source": [
    "# Import Libraris"
   ]
  },
  {
   "cell_type": "code",
   "execution_count": 385,
   "metadata": {
    "ExecuteTime": {
     "end_time": "2025-07-31T08:05:37.874025Z",
     "start_time": "2025-07-31T08:05:36.738065Z"
    }
   },
   "outputs": [],
   "source": [
    "# !pip install evidently\n",
    "# !pip install ydata_profiling\n",
    "# !pip install facets-overview\n",
    "# !pip install holidays"
   ]
  },
  {
   "cell_type": "code",
   "metadata": {
    "execution": {
     "iopub.execute_input": "2025-07-24T09:50:36.213529Z",
     "iopub.status.busy": "2025-07-24T09:50:36.213244Z",
     "iopub.status.idle": "2025-07-24T09:50:38.995194Z",
     "shell.execute_reply": "2025-07-24T09:50:38.994297Z",
     "shell.execute_reply.started": "2025-07-24T09:50:36.213508Z"
    },
    "trusted": true,
    "ExecuteTime": {
     "end_time": "2025-07-31T20:15:16.822568Z",
     "start_time": "2025-07-31T20:15:08.886299Z"
    }
   },
   "source": [
    "import pandas as pd\n",
    "import holidays\n",
    "import numpy as np\n",
    "\n",
    "from sklearn.model_selection import train_test_split\n",
    "from sklearn.ensemble import RandomForestClassifier  # пример модели\n",
    "from sklearn.metrics import accuracy_score, confusion_matrix, f1_score, roc_auc_score\n",
    "\n",
    "\n",
    "from IPython.core.display import HTML, display_html\n",
    "import base64\n",
    "from facets_overview.generic_feature_statistics_generator import GenericFeatureStatisticsGenerator\n",
    "\n",
    "from ydata_profiling import ProfileReport\n",
    "\n",
    "from evidently import Dataset, DataDefinition, Report\n",
    "from evidently.presets import DataDriftPreset, DataSummaryPreset"
   ],
   "outputs": [
    {
     "data": {
      "text/plain": [
       "<IPython.core.display.HTML object>"
      ],
      "text/html": [
       "\n",
       "            <div>\n",
       "                <ins><a href=\"https://ydata.ai/register\">Upgrade to ydata-sdk</a></ins>\n",
       "                <p>\n",
       "                    Improve your data and profiling with ydata-sdk, featuring data quality scoring, redundancy detection, outlier identification, text validation, and synthetic data generation.\n",
       "                </p>\n",
       "            </div>\n",
       "            "
      ]
     },
     "metadata": {},
     "output_type": "display_data"
    }
   ],
   "execution_count": 2
  },
  {
   "cell_type": "markdown",
   "metadata": {},
   "source": [
    "# Load data and EDA"
   ]
  },
  {
   "cell_type": "code",
   "metadata": {
    "execution": {
     "iopub.execute_input": "2025-07-24T09:59:02.901212Z",
     "iopub.status.busy": "2025-07-24T09:59:02.900935Z",
     "iopub.status.idle": "2025-07-24T09:59:03.002333Z",
     "shell.execute_reply": "2025-07-24T09:59:03.001560Z",
     "shell.execute_reply.started": "2025-07-24T09:59:02.901191Z"
    },
    "trusted": true,
    "ExecuteTime": {
     "end_time": "2025-07-31T20:15:16.884467Z",
     "start_time": "2025-07-31T20:15:16.835375Z"
    }
   },
   "source": [
    "df = pd.read_csv('Hotel Reservations.csv')\n",
    "df.head(3)"
   ],
   "outputs": [
    {
     "data": {
      "text/plain": [
       "  Booking_ID  no_of_adults  no_of_children  no_of_weekend_nights  \\\n",
       "0   INN00001             2               0                     1   \n",
       "1   INN00002             2               0                     2   \n",
       "2   INN00003             1               0                     2   \n",
       "\n",
       "   no_of_week_nights type_of_meal_plan  required_car_parking_space  \\\n",
       "0                  2       Meal Plan 1                           0   \n",
       "1                  3      Not Selected                           0   \n",
       "2                  1       Meal Plan 1                           0   \n",
       "\n",
       "  room_type_reserved  lead_time  arrival_year  arrival_month  arrival_date  \\\n",
       "0        Room_Type 1        224          2017             10             2   \n",
       "1        Room_Type 1          5          2018             11             6   \n",
       "2        Room_Type 1          1          2018              2            28   \n",
       "\n",
       "  market_segment_type  repeated_guest  no_of_previous_cancellations  \\\n",
       "0             Offline               0                             0   \n",
       "1              Online               0                             0   \n",
       "2              Online               0                             0   \n",
       "\n",
       "   no_of_previous_bookings_not_canceled  avg_price_per_room  \\\n",
       "0                                     0               65.00   \n",
       "1                                     0              106.68   \n",
       "2                                     0               60.00   \n",
       "\n",
       "   no_of_special_requests booking_status  \n",
       "0                       0   Not_Canceled  \n",
       "1                       1   Not_Canceled  \n",
       "2                       0       Canceled  "
      ],
      "text/html": [
       "<div>\n",
       "<style scoped>\n",
       "    .dataframe tbody tr th:only-of-type {\n",
       "        vertical-align: middle;\n",
       "    }\n",
       "\n",
       "    .dataframe tbody tr th {\n",
       "        vertical-align: top;\n",
       "    }\n",
       "\n",
       "    .dataframe thead th {\n",
       "        text-align: right;\n",
       "    }\n",
       "</style>\n",
       "<table border=\"1\" class=\"dataframe\">\n",
       "  <thead>\n",
       "    <tr style=\"text-align: right;\">\n",
       "      <th></th>\n",
       "      <th>Booking_ID</th>\n",
       "      <th>no_of_adults</th>\n",
       "      <th>no_of_children</th>\n",
       "      <th>no_of_weekend_nights</th>\n",
       "      <th>no_of_week_nights</th>\n",
       "      <th>type_of_meal_plan</th>\n",
       "      <th>required_car_parking_space</th>\n",
       "      <th>room_type_reserved</th>\n",
       "      <th>lead_time</th>\n",
       "      <th>arrival_year</th>\n",
       "      <th>arrival_month</th>\n",
       "      <th>arrival_date</th>\n",
       "      <th>market_segment_type</th>\n",
       "      <th>repeated_guest</th>\n",
       "      <th>no_of_previous_cancellations</th>\n",
       "      <th>no_of_previous_bookings_not_canceled</th>\n",
       "      <th>avg_price_per_room</th>\n",
       "      <th>no_of_special_requests</th>\n",
       "      <th>booking_status</th>\n",
       "    </tr>\n",
       "  </thead>\n",
       "  <tbody>\n",
       "    <tr>\n",
       "      <th>0</th>\n",
       "      <td>INN00001</td>\n",
       "      <td>2</td>\n",
       "      <td>0</td>\n",
       "      <td>1</td>\n",
       "      <td>2</td>\n",
       "      <td>Meal Plan 1</td>\n",
       "      <td>0</td>\n",
       "      <td>Room_Type 1</td>\n",
       "      <td>224</td>\n",
       "      <td>2017</td>\n",
       "      <td>10</td>\n",
       "      <td>2</td>\n",
       "      <td>Offline</td>\n",
       "      <td>0</td>\n",
       "      <td>0</td>\n",
       "      <td>0</td>\n",
       "      <td>65.00</td>\n",
       "      <td>0</td>\n",
       "      <td>Not_Canceled</td>\n",
       "    </tr>\n",
       "    <tr>\n",
       "      <th>1</th>\n",
       "      <td>INN00002</td>\n",
       "      <td>2</td>\n",
       "      <td>0</td>\n",
       "      <td>2</td>\n",
       "      <td>3</td>\n",
       "      <td>Not Selected</td>\n",
       "      <td>0</td>\n",
       "      <td>Room_Type 1</td>\n",
       "      <td>5</td>\n",
       "      <td>2018</td>\n",
       "      <td>11</td>\n",
       "      <td>6</td>\n",
       "      <td>Online</td>\n",
       "      <td>0</td>\n",
       "      <td>0</td>\n",
       "      <td>0</td>\n",
       "      <td>106.68</td>\n",
       "      <td>1</td>\n",
       "      <td>Not_Canceled</td>\n",
       "    </tr>\n",
       "    <tr>\n",
       "      <th>2</th>\n",
       "      <td>INN00003</td>\n",
       "      <td>1</td>\n",
       "      <td>0</td>\n",
       "      <td>2</td>\n",
       "      <td>1</td>\n",
       "      <td>Meal Plan 1</td>\n",
       "      <td>0</td>\n",
       "      <td>Room_Type 1</td>\n",
       "      <td>1</td>\n",
       "      <td>2018</td>\n",
       "      <td>2</td>\n",
       "      <td>28</td>\n",
       "      <td>Online</td>\n",
       "      <td>0</td>\n",
       "      <td>0</td>\n",
       "      <td>0</td>\n",
       "      <td>60.00</td>\n",
       "      <td>0</td>\n",
       "      <td>Canceled</td>\n",
       "    </tr>\n",
       "  </tbody>\n",
       "</table>\n",
       "</div>"
      ]
     },
     "execution_count": 3,
     "metadata": {},
     "output_type": "execute_result"
    }
   ],
   "execution_count": 3
  },
  {
   "cell_type": "code",
   "metadata": {
    "execution": {
     "iopub.execute_input": "2025-07-24T09:00:04.707016Z",
     "iopub.status.busy": "2025-07-24T09:00:04.706725Z",
     "iopub.status.idle": "2025-07-24T09:00:14.576312Z",
     "shell.execute_reply": "2025-07-24T09:00:14.574939Z",
     "shell.execute_reply.started": "2025-07-24T09:00:04.706991Z"
    },
    "trusted": true,
    "ExecuteTime": {
     "end_time": "2025-07-31T20:15:20.566266Z",
     "start_time": "2025-07-31T20:15:16.917817Z"
    }
   },
   "source": [
    "profile = ProfileReport(df, title=\"Hotel Bookings Profiling\", minimal=True)\n",
    "\n",
    "profile.to_file(\"report.html\")"
   ],
   "outputs": [
    {
     "data": {
      "text/plain": [
       "Summarize dataset:   0%|          | 0/5 [00:00<?, ?it/s]"
      ],
      "application/vnd.jupyter.widget-view+json": {
       "version_major": 2,
       "version_minor": 0,
       "model_id": "1bc9489085dd485b9b5e08fcece682ca"
      }
     },
     "metadata": {},
     "output_type": "display_data"
    },
    {
     "name": "stderr",
     "output_type": "stream",
     "text": [
      "\n",
      "100%|██████████| 19/19 [00:00<00:00, 4991.97it/s]\n"
     ]
    },
    {
     "data": {
      "text/plain": [
       "Generate report structure:   0%|          | 0/1 [00:00<?, ?it/s]"
      ],
      "application/vnd.jupyter.widget-view+json": {
       "version_major": 2,
       "version_minor": 0,
       "model_id": "a72663438aa44e058978462e379ba21f"
      }
     },
     "metadata": {},
     "output_type": "display_data"
    },
    {
     "data": {
      "text/plain": [
       "Render HTML:   0%|          | 0/1 [00:00<?, ?it/s]"
      ],
      "application/vnd.jupyter.widget-view+json": {
       "version_major": 2,
       "version_minor": 0,
       "model_id": "88f7abd4ee194904970aa6ec1bc38d7c"
      }
     },
     "metadata": {},
     "output_type": "display_data"
    },
    {
     "data": {
      "text/plain": [
       "Export report to file:   0%|          | 0/1 [00:00<?, ?it/s]"
      ],
      "application/vnd.jupyter.widget-view+json": {
       "version_major": 2,
       "version_minor": 0,
       "model_id": "26d789288fe844d08acb5ede641300d0"
      }
     },
     "metadata": {},
     "output_type": "display_data"
    }
   ],
   "execution_count": 4
  },
  {
   "cell_type": "code",
   "metadata": {
    "execution": {
     "iopub.execute_input": "2025-07-24T09:00:14.579023Z",
     "iopub.status.busy": "2025-07-24T09:00:14.578628Z",
     "iopub.status.idle": "2025-07-24T09:00:14.602149Z",
     "shell.execute_reply": "2025-07-24T09:00:14.601236Z",
     "shell.execute_reply.started": "2025-07-24T09:00:14.578993Z"
    },
    "trusted": true,
    "ExecuteTime": {
     "end_time": "2025-07-31T20:15:20.608907Z",
     "start_time": "2025-07-31T20:15:20.601609Z"
    }
   },
   "source": [
    "df[[\"avg_price_per_room\", \"no_of_weekend_nights\", \"no_of_week_nights\"]].corr()"
   ],
   "outputs": [
    {
     "data": {
      "text/plain": [
       "                      avg_price_per_room  no_of_weekend_nights  \\\n",
       "avg_price_per_room              1.000000             -0.004525   \n",
       "no_of_weekend_nights           -0.004525              1.000000   \n",
       "no_of_week_nights               0.022753              0.179577   \n",
       "\n",
       "                      no_of_week_nights  \n",
       "avg_price_per_room             0.022753  \n",
       "no_of_weekend_nights           0.179577  \n",
       "no_of_week_nights              1.000000  "
      ],
      "text/html": [
       "<div>\n",
       "<style scoped>\n",
       "    .dataframe tbody tr th:only-of-type {\n",
       "        vertical-align: middle;\n",
       "    }\n",
       "\n",
       "    .dataframe tbody tr th {\n",
       "        vertical-align: top;\n",
       "    }\n",
       "\n",
       "    .dataframe thead th {\n",
       "        text-align: right;\n",
       "    }\n",
       "</style>\n",
       "<table border=\"1\" class=\"dataframe\">\n",
       "  <thead>\n",
       "    <tr style=\"text-align: right;\">\n",
       "      <th></th>\n",
       "      <th>avg_price_per_room</th>\n",
       "      <th>no_of_weekend_nights</th>\n",
       "      <th>no_of_week_nights</th>\n",
       "    </tr>\n",
       "  </thead>\n",
       "  <tbody>\n",
       "    <tr>\n",
       "      <th>avg_price_per_room</th>\n",
       "      <td>1.000000</td>\n",
       "      <td>-0.004525</td>\n",
       "      <td>0.022753</td>\n",
       "    </tr>\n",
       "    <tr>\n",
       "      <th>no_of_weekend_nights</th>\n",
       "      <td>-0.004525</td>\n",
       "      <td>1.000000</td>\n",
       "      <td>0.179577</td>\n",
       "    </tr>\n",
       "    <tr>\n",
       "      <th>no_of_week_nights</th>\n",
       "      <td>0.022753</td>\n",
       "      <td>0.179577</td>\n",
       "      <td>1.000000</td>\n",
       "    </tr>\n",
       "  </tbody>\n",
       "</table>\n",
       "</div>"
      ]
     },
     "execution_count": 5,
     "metadata": {},
     "output_type": "execute_result"
    }
   ],
   "execution_count": 5
  },
  {
   "cell_type": "markdown",
   "metadata": {},
   "source": [
    "# Feature Genering"
   ]
  },
  {
   "cell_type": "code",
   "metadata": {
    "ExecuteTime": {
     "end_time": "2025-07-31T20:15:33.598209Z",
     "start_time": "2025-07-31T20:15:33.504854Z"
    }
   },
   "source": [
    "ru_holidays = holidays.RU()\n",
    "\n",
    "meal_codes = {\n",
    "    'Not Selected': 0,\n",
    "    'Meal Plan 1': 1,\n",
    "    'Meal Plan 2': 2,\n",
    "    'Meal Plan 3': 3\n",
    "}\n",
    "\n",
    "def target_to_int(df):\n",
    "    df['booking_status'] = (df['booking_status'] == 'Canceled').astype('int64')\n",
    "    return df\n",
    "\n",
    "def market_to_int(df):\n",
    "    df['market_segment_type'] = (df['market_segment_type'] == 'Offline').astype('int64')\n",
    "    return df\n",
    "\n",
    "def set_meal_codes(x):\n",
    "    return meal_codes.get(x, 0)"
   ],
   "outputs": [],
   "execution_count": 6
  },
  {
   "cell_type": "code",
   "metadata": {
    "ExecuteTime": {
     "end_time": "2025-07-31T20:15:34.848363Z",
     "start_time": "2025-07-31T20:15:34.794084Z"
    }
   },
   "source": [
    "df = target_to_int(df)\n",
    "\n",
    "df['date'] = pd.to_datetime({\n",
    "    'year': df['arrival_year'].astype(int),\n",
    "    'month': df['arrival_month'].astype(int),\n",
    "    'day': df['arrival_date'].astype(int)\n",
    "}, errors='coerce')\n",
    "\n",
    "df = df[df['date'].notna()]\n",
    "\n",
    "df['is_holiday'] = df['date'].isin(ru_holidays).astype(int)\n",
    "df['is_weekend'] = (df['date'].dt.weekday >= 5).astype(int)\n",
    "\n",
    "df[\"type_of_meal_plan\"] = df[\"type_of_meal_plan\"].apply(set_meal_codes)\n",
    "df[\"room_type_reserved\"] = df[\"room_type_reserved\"].apply(lambda x: int(x.split()[-1]))\n"
   ],
   "outputs": [],
   "execution_count": 7
  },
  {
   "cell_type": "code",
   "metadata": {
    "ExecuteTime": {
     "end_time": "2025-07-31T20:15:35.908731Z",
     "start_time": "2025-07-31T20:15:35.877677Z"
    }
   },
   "source": [
    "df.groupby('market_segment_type')['booking_status'].mean()"
   ],
   "outputs": [
    {
     "data": {
      "text/plain": [
       "market_segment_type\n",
       "Aviation         0.296000\n",
       "Complementary    0.000000\n",
       "Corporate        0.109398\n",
       "Offline          0.299677\n",
       "Online           0.365138\n",
       "Name: booking_status, dtype: float64"
      ]
     },
     "execution_count": 8,
     "metadata": {},
     "output_type": "execute_result"
    }
   ],
   "execution_count": 8
  },
  {
   "cell_type": "code",
   "metadata": {
    "ExecuteTime": {
     "end_time": "2025-07-31T20:15:36.677004Z",
     "start_time": "2025-07-31T20:15:36.643201Z"
    }
   },
   "source": [
    "df.groupby('market_segment_type')['booking_status'].count()"
   ],
   "outputs": [
    {
     "data": {
      "text/plain": [
       "market_segment_type\n",
       "Aviation           125\n",
       "Complementary      390\n",
       "Corporate         2011\n",
       "Offline          10518\n",
       "Online           23194\n",
       "Name: booking_status, dtype: int64"
      ]
     },
     "execution_count": 9,
     "metadata": {},
     "output_type": "execute_result"
    }
   ],
   "execution_count": 9
  },
  {
   "cell_type": "code",
   "metadata": {
    "ExecuteTime": {
     "end_time": "2025-07-31T20:15:38.558545Z",
     "start_time": "2025-07-31T20:15:38.542677Z"
    }
   },
   "source": [
    "df = df.sort_values(by='date')\n"
   ],
   "outputs": [],
   "execution_count": 10
  },
  {
   "cell_type": "markdown",
   "metadata": {},
   "source": [
    "# ML"
   ]
  },
  {
   "cell_type": "markdown",
   "metadata": {},
   "source": [
    "There are ~2500 corporate, aviation and complementary orders. We will not use overbooking among them"
   ]
  },
  {
   "cell_type": "code",
   "metadata": {
    "ExecuteTime": {
     "end_time": "2025-07-31T20:23:15.298654Z",
     "start_time": "2025-07-31T20:23:15.238831Z"
    }
   },
   "source": [
    "df_not_commercial = df[(df[\"market_segment_type\"]== \"Offline\") | (df[\"market_segment_type\"]== \"Online\")]\n",
    "\n",
    "df_ml = df_not_commercial.drop(columns=[\"date\", \"Booking_ID\"], axis=1)\n",
    "df_ml = market_to_int(df_ml)\n",
    "\n",
    "X = df_ml.drop(columns=[\"booking_status\"], axis=1)\n",
    "y = df_ml[\"booking_status\"]\n",
    "\n",
    "X_train, X_test, y_train, y_test = train_test_split(\n",
    "    X, y, test_size=0.2, random_state=239, shuffle=False\n",
    ")"
   ],
   "outputs": [],
   "execution_count": 19
  },
  {
   "cell_type": "code",
   "metadata": {
    "ExecuteTime": {
     "end_time": "2025-07-31T20:23:15.936719Z",
     "start_time": "2025-07-31T20:23:15.929916Z"
    }
   },
   "source": [
    "\n",
    "model = RandomForestClassifier(random_state=239)"
   ],
   "outputs": [],
   "execution_count": 20
  },
  {
   "cell_type": "code",
   "metadata": {
    "ExecuteTime": {
     "end_time": "2025-07-31T20:23:18.967244Z",
     "start_time": "2025-07-31T20:23:16.889257Z"
    }
   },
   "source": [
    "model.fit(X_train, y_train)\n",
    "\n",
    "y_pred = model.predict(X_test)"
   ],
   "outputs": [],
   "execution_count": 21
  },
  {
   "metadata": {
    "ExecuteTime": {
     "end_time": "2025-07-31T20:23:22.227807Z",
     "start_time": "2025-07-31T20:23:22.220427Z"
    }
   },
   "cell_type": "code",
   "source": [
    "import catboost\n",
    "\n",
    "def objective(trial):\n",
    "    model = catboost.CatBoostClassifier(\n",
    "        iterations=trial.suggest_int(\"iterations\", 100, 3000),\n",
    "        learning_rate=trial.suggest_float(\"learning_rate\", 1e-3, 1e-1, log=True),\n",
    "        depth=trial.suggest_int(\"depth\", 4, 15),\n",
    "        l2_leaf_reg=trial.suggest_float(\"l2_leaf_reg\", 1e-8, 100.0, log=True),\n",
    "        bootstrap_type=trial.suggest_categorical(\"bootstrap_type\", [\"Bayesian\"]),\n",
    "        random_strength=trial.suggest_float(\"random_strength\", 1e-8, 10.0, log=True),\n",
    "        bagging_temperature=trial.suggest_float(\"bagging_temperature\", 0.0, 10.0),\n",
    "        od_type=trial.suggest_categorical(\"od_type\", [\"IncToDec\", \"Iter\"]),\n",
    "        od_wait=trial.suggest_int(\"od_wait\", 10, 50),\n",
    "        verbose=False\n",
    "    )\n",
    "    model.fit(X_train, y_train)\n",
    "    y_pred = model.predict(X_test)\n",
    "    return accuracy_score(y_test, y_pred)"
   ],
   "outputs": [],
   "execution_count": 22
  },
  {
   "metadata": {
    "ExecuteTime": {
     "end_time": "2025-07-31T20:23:25.403488Z",
     "start_time": "2025-07-31T20:23:25.389256Z"
    }
   },
   "cell_type": "code",
   "source": [
    "from optuna.samplers import TPESampler\n",
    "import optuna\n",
    "import catboost\n",
    "\n",
    "sampler = TPESampler(seed=1)"
   ],
   "outputs": [],
   "execution_count": 23
  },
  {
   "metadata": {
    "ExecuteTime": {
     "end_time": "2025-07-31T20:24:31.596Z",
     "start_time": "2025-07-31T20:23:28.144119Z"
    }
   },
   "cell_type": "code",
   "source": [
    "study = optuna.create_study(study_name=\"catboost\", direction=\"maximize\", sampler=sampler)\n",
    "study.optimize(objective, n_trials=100)"
   ],
   "outputs": [
    {
     "name": "stderr",
     "output_type": "stream",
     "text": [
      "[I 2025-07-31 22:23:28,147] A new study created in memory with name: catboost\n",
      "[I 2025-07-31 22:23:34,065] Trial 0 finished with value: 0.8220376686934598 and parameters: {'iterations': 1309, 'learning_rate': 0.027583475549166746, 'depth': 4, 'l2_leaf_reg': 1.0551779964424746e-05, 'bootstrap_type': 'Bayesian', 'random_strength': 2.0931628460945333e-07, 'bagging_temperature': 0.923385947687978, 'od_type': 'Iter', 'od_wait': 26}. Best is trial 0 with value: 0.8220376686934598.\n",
      "[I 2025-07-31 22:24:13,746] Trial 1 finished with value: 0.8202580453803945 and parameters: {'iterations': 1663, 'learning_rate': 0.006892694481137703, 'depth': 12, 'l2_leaf_reg': 1.10795595820296e-06, 'bootstrap_type': 'Bayesian', 'random_strength': 0.79993910451721, 'bagging_temperature': 0.27387593197926163, 'od_type': 'IncToDec', 'od_wait': 32}. Best is trial 0 with value: 0.8220376686934598.\n",
      "[W 2025-07-31 22:24:31,436] Trial 2 failed with parameters: {'iterations': 507, 'learning_rate': 0.002490020818620744, 'depth': 13, 'l2_leaf_reg': 48.152158203957725, 'bootstrap_type': 'Bayesian', 'random_strength': 6.6193844201488376e-06, 'bagging_temperature': 6.923226156693141, 'od_type': 'Iter', 'od_wait': 13} because of the following error: KeyboardInterrupt('').\n",
      "Traceback (most recent call last):\n",
      "  File \"/Users/domager73/PycharmProjects/Hoter_reser_harbour/.venv/lib/python3.12/site-packages/optuna/study/_optimize.py\", line 201, in _run_trial\n",
      "    value_or_values = func(trial)\n",
      "                      ^^^^^^^^^^^\n",
      "  File \"/var/folders/5b/ybrxv5q135s3z4n4538x1kpw0000gn/T/ipykernel_91369/2470689620.py\", line 16, in objective\n",
      "    model.fit(X_train, y_train)\n",
      "  File \"/Users/domager73/PycharmProjects/Hoter_reser_harbour/.venv/lib/python3.12/site-packages/catboost/core.py\", line 5245, in fit\n",
      "    self._fit(X, y, cat_features, text_features, embedding_features, None, graph, sample_weight, None, None, None, None, baseline, use_best_model,\n",
      "  File \"/Users/domager73/PycharmProjects/Hoter_reser_harbour/.venv/lib/python3.12/site-packages/catboost/core.py\", line 2410, in _fit\n",
      "    self._train(\n",
      "  File \"/Users/domager73/PycharmProjects/Hoter_reser_harbour/.venv/lib/python3.12/site-packages/catboost/core.py\", line 1790, in _train\n",
      "    self._object._train(train_pool, test_pool, params, allow_clear_pool, init_model._object if init_model else None)\n",
      "  File \"_catboost.pyx\", line 5023, in _catboost._CatBoost._train\n",
      "  File \"_catboost.pyx\", line 5072, in _catboost._CatBoost._train\n",
      "KeyboardInterrupt\n",
      "[W 2025-07-31 22:24:31,442] Trial 2 failed with value None.\n"
     ]
    },
    {
     "ename": "KeyboardInterrupt",
     "evalue": "",
     "output_type": "error",
     "traceback": [
      "\u001B[31m---------------------------------------------------------------------------\u001B[39m",
      "\u001B[31mKeyboardInterrupt\u001B[39m                         Traceback (most recent call last)",
      "\u001B[36mCell\u001B[39m\u001B[36m \u001B[39m\u001B[32mIn[24]\u001B[39m\u001B[32m, line 2\u001B[39m\n\u001B[32m      1\u001B[39m study = optuna.create_study(study_name=\u001B[33m\"\u001B[39m\u001B[33mcatboost\u001B[39m\u001B[33m\"\u001B[39m, direction=\u001B[33m\"\u001B[39m\u001B[33mmaximize\u001B[39m\u001B[33m\"\u001B[39m, sampler=sampler)\n\u001B[32m----> \u001B[39m\u001B[32m2\u001B[39m \u001B[43mstudy\u001B[49m\u001B[43m.\u001B[49m\u001B[43moptimize\u001B[49m\u001B[43m(\u001B[49m\u001B[43mobjective\u001B[49m\u001B[43m,\u001B[49m\u001B[43m \u001B[49m\u001B[43mn_trials\u001B[49m\u001B[43m=\u001B[49m\u001B[32;43m100\u001B[39;49m\u001B[43m)\u001B[49m\n",
      "\u001B[36mFile \u001B[39m\u001B[32m~/PycharmProjects/Hoter_reser_harbour/.venv/lib/python3.12/site-packages/optuna/study/study.py:489\u001B[39m, in \u001B[36mStudy.optimize\u001B[39m\u001B[34m(self, func, n_trials, timeout, n_jobs, catch, callbacks, gc_after_trial, show_progress_bar)\u001B[39m\n\u001B[32m    387\u001B[39m \u001B[38;5;28;01mdef\u001B[39;00m\u001B[38;5;250m \u001B[39m\u001B[34moptimize\u001B[39m(\n\u001B[32m    388\u001B[39m     \u001B[38;5;28mself\u001B[39m,\n\u001B[32m    389\u001B[39m     func: ObjectiveFuncType,\n\u001B[32m   (...)\u001B[39m\u001B[32m    396\u001B[39m     show_progress_bar: \u001B[38;5;28mbool\u001B[39m = \u001B[38;5;28;01mFalse\u001B[39;00m,\n\u001B[32m    397\u001B[39m ) -> \u001B[38;5;28;01mNone\u001B[39;00m:\n\u001B[32m    398\u001B[39m \u001B[38;5;250m    \u001B[39m\u001B[33;03m\"\"\"Optimize an objective function.\u001B[39;00m\n\u001B[32m    399\u001B[39m \n\u001B[32m    400\u001B[39m \u001B[33;03m    Optimization is done by choosing a suitable set of hyperparameter values from a given\u001B[39;00m\n\u001B[32m   (...)\u001B[39m\u001B[32m    487\u001B[39m \u001B[33;03m            If nested invocation of this method occurs.\u001B[39;00m\n\u001B[32m    488\u001B[39m \u001B[33;03m    \"\"\"\u001B[39;00m\n\u001B[32m--> \u001B[39m\u001B[32m489\u001B[39m     \u001B[43m_optimize\u001B[49m\u001B[43m(\u001B[49m\n\u001B[32m    490\u001B[39m \u001B[43m        \u001B[49m\u001B[43mstudy\u001B[49m\u001B[43m=\u001B[49m\u001B[38;5;28;43mself\u001B[39;49m\u001B[43m,\u001B[49m\n\u001B[32m    491\u001B[39m \u001B[43m        \u001B[49m\u001B[43mfunc\u001B[49m\u001B[43m=\u001B[49m\u001B[43mfunc\u001B[49m\u001B[43m,\u001B[49m\n\u001B[32m    492\u001B[39m \u001B[43m        \u001B[49m\u001B[43mn_trials\u001B[49m\u001B[43m=\u001B[49m\u001B[43mn_trials\u001B[49m\u001B[43m,\u001B[49m\n\u001B[32m    493\u001B[39m \u001B[43m        \u001B[49m\u001B[43mtimeout\u001B[49m\u001B[43m=\u001B[49m\u001B[43mtimeout\u001B[49m\u001B[43m,\u001B[49m\n\u001B[32m    494\u001B[39m \u001B[43m        \u001B[49m\u001B[43mn_jobs\u001B[49m\u001B[43m=\u001B[49m\u001B[43mn_jobs\u001B[49m\u001B[43m,\u001B[49m\n\u001B[32m    495\u001B[39m \u001B[43m        \u001B[49m\u001B[43mcatch\u001B[49m\u001B[43m=\u001B[49m\u001B[38;5;28;43mtuple\u001B[39;49m\u001B[43m(\u001B[49m\u001B[43mcatch\u001B[49m\u001B[43m)\u001B[49m\u001B[43m \u001B[49m\u001B[38;5;28;43;01mif\u001B[39;49;00m\u001B[43m \u001B[49m\u001B[38;5;28;43misinstance\u001B[39;49m\u001B[43m(\u001B[49m\u001B[43mcatch\u001B[49m\u001B[43m,\u001B[49m\u001B[43m \u001B[49m\u001B[43mIterable\u001B[49m\u001B[43m)\u001B[49m\u001B[43m \u001B[49m\u001B[38;5;28;43;01melse\u001B[39;49;00m\u001B[43m \u001B[49m\u001B[43m(\u001B[49m\u001B[43mcatch\u001B[49m\u001B[43m,\u001B[49m\u001B[43m)\u001B[49m\u001B[43m,\u001B[49m\n\u001B[32m    496\u001B[39m \u001B[43m        \u001B[49m\u001B[43mcallbacks\u001B[49m\u001B[43m=\u001B[49m\u001B[43mcallbacks\u001B[49m\u001B[43m,\u001B[49m\n\u001B[32m    497\u001B[39m \u001B[43m        \u001B[49m\u001B[43mgc_after_trial\u001B[49m\u001B[43m=\u001B[49m\u001B[43mgc_after_trial\u001B[49m\u001B[43m,\u001B[49m\n\u001B[32m    498\u001B[39m \u001B[43m        \u001B[49m\u001B[43mshow_progress_bar\u001B[49m\u001B[43m=\u001B[49m\u001B[43mshow_progress_bar\u001B[49m\u001B[43m,\u001B[49m\n\u001B[32m    499\u001B[39m \u001B[43m    \u001B[49m\u001B[43m)\u001B[49m\n",
      "\u001B[36mFile \u001B[39m\u001B[32m~/PycharmProjects/Hoter_reser_harbour/.venv/lib/python3.12/site-packages/optuna/study/_optimize.py:64\u001B[39m, in \u001B[36m_optimize\u001B[39m\u001B[34m(study, func, n_trials, timeout, n_jobs, catch, callbacks, gc_after_trial, show_progress_bar)\u001B[39m\n\u001B[32m     62\u001B[39m \u001B[38;5;28;01mtry\u001B[39;00m:\n\u001B[32m     63\u001B[39m     \u001B[38;5;28;01mif\u001B[39;00m n_jobs == \u001B[32m1\u001B[39m:\n\u001B[32m---> \u001B[39m\u001B[32m64\u001B[39m         \u001B[43m_optimize_sequential\u001B[49m\u001B[43m(\u001B[49m\n\u001B[32m     65\u001B[39m \u001B[43m            \u001B[49m\u001B[43mstudy\u001B[49m\u001B[43m,\u001B[49m\n\u001B[32m     66\u001B[39m \u001B[43m            \u001B[49m\u001B[43mfunc\u001B[49m\u001B[43m,\u001B[49m\n\u001B[32m     67\u001B[39m \u001B[43m            \u001B[49m\u001B[43mn_trials\u001B[49m\u001B[43m,\u001B[49m\n\u001B[32m     68\u001B[39m \u001B[43m            \u001B[49m\u001B[43mtimeout\u001B[49m\u001B[43m,\u001B[49m\n\u001B[32m     69\u001B[39m \u001B[43m            \u001B[49m\u001B[43mcatch\u001B[49m\u001B[43m,\u001B[49m\n\u001B[32m     70\u001B[39m \u001B[43m            \u001B[49m\u001B[43mcallbacks\u001B[49m\u001B[43m,\u001B[49m\n\u001B[32m     71\u001B[39m \u001B[43m            \u001B[49m\u001B[43mgc_after_trial\u001B[49m\u001B[43m,\u001B[49m\n\u001B[32m     72\u001B[39m \u001B[43m            \u001B[49m\u001B[43mreseed_sampler_rng\u001B[49m\u001B[43m=\u001B[49m\u001B[38;5;28;43;01mFalse\u001B[39;49;00m\u001B[43m,\u001B[49m\n\u001B[32m     73\u001B[39m \u001B[43m            \u001B[49m\u001B[43mtime_start\u001B[49m\u001B[43m=\u001B[49m\u001B[38;5;28;43;01mNone\u001B[39;49;00m\u001B[43m,\u001B[49m\n\u001B[32m     74\u001B[39m \u001B[43m            \u001B[49m\u001B[43mprogress_bar\u001B[49m\u001B[43m=\u001B[49m\u001B[43mprogress_bar\u001B[49m\u001B[43m,\u001B[49m\n\u001B[32m     75\u001B[39m \u001B[43m        \u001B[49m\u001B[43m)\u001B[49m\n\u001B[32m     76\u001B[39m     \u001B[38;5;28;01melse\u001B[39;00m:\n\u001B[32m     77\u001B[39m         \u001B[38;5;28;01mif\u001B[39;00m n_jobs == -\u001B[32m1\u001B[39m:\n",
      "\u001B[36mFile \u001B[39m\u001B[32m~/PycharmProjects/Hoter_reser_harbour/.venv/lib/python3.12/site-packages/optuna/study/_optimize.py:161\u001B[39m, in \u001B[36m_optimize_sequential\u001B[39m\u001B[34m(study, func, n_trials, timeout, catch, callbacks, gc_after_trial, reseed_sampler_rng, time_start, progress_bar)\u001B[39m\n\u001B[32m    158\u001B[39m         \u001B[38;5;28;01mbreak\u001B[39;00m\n\u001B[32m    160\u001B[39m \u001B[38;5;28;01mtry\u001B[39;00m:\n\u001B[32m--> \u001B[39m\u001B[32m161\u001B[39m     frozen_trial = \u001B[43m_run_trial\u001B[49m\u001B[43m(\u001B[49m\u001B[43mstudy\u001B[49m\u001B[43m,\u001B[49m\u001B[43m \u001B[49m\u001B[43mfunc\u001B[49m\u001B[43m,\u001B[49m\u001B[43m \u001B[49m\u001B[43mcatch\u001B[49m\u001B[43m)\u001B[49m\n\u001B[32m    162\u001B[39m \u001B[38;5;28;01mfinally\u001B[39;00m:\n\u001B[32m    163\u001B[39m     \u001B[38;5;66;03m# The following line mitigates memory problems that can be occurred in some\u001B[39;00m\n\u001B[32m    164\u001B[39m     \u001B[38;5;66;03m# environments (e.g., services that use computing containers such as GitHub Actions).\u001B[39;00m\n\u001B[32m    165\u001B[39m     \u001B[38;5;66;03m# Please refer to the following PR for further details:\u001B[39;00m\n\u001B[32m    166\u001B[39m     \u001B[38;5;66;03m# https://github.com/optuna/optuna/pull/325.\u001B[39;00m\n\u001B[32m    167\u001B[39m     \u001B[38;5;28;01mif\u001B[39;00m gc_after_trial:\n",
      "\u001B[36mFile \u001B[39m\u001B[32m~/PycharmProjects/Hoter_reser_harbour/.venv/lib/python3.12/site-packages/optuna/study/_optimize.py:253\u001B[39m, in \u001B[36m_run_trial\u001B[39m\u001B[34m(study, func, catch)\u001B[39m\n\u001B[32m    246\u001B[39m         \u001B[38;5;28;01massert\u001B[39;00m \u001B[38;5;28;01mFalse\u001B[39;00m, \u001B[33m\"\u001B[39m\u001B[33mShould not reach.\u001B[39m\u001B[33m\"\u001B[39m\n\u001B[32m    248\u001B[39m \u001B[38;5;28;01mif\u001B[39;00m (\n\u001B[32m    249\u001B[39m     frozen_trial.state == TrialState.FAIL\n\u001B[32m    250\u001B[39m     \u001B[38;5;129;01mand\u001B[39;00m func_err \u001B[38;5;129;01mis\u001B[39;00m \u001B[38;5;129;01mnot\u001B[39;00m \u001B[38;5;28;01mNone\u001B[39;00m\n\u001B[32m    251\u001B[39m     \u001B[38;5;129;01mand\u001B[39;00m \u001B[38;5;129;01mnot\u001B[39;00m \u001B[38;5;28misinstance\u001B[39m(func_err, catch)\n\u001B[32m    252\u001B[39m ):\n\u001B[32m--> \u001B[39m\u001B[32m253\u001B[39m     \u001B[38;5;28;01mraise\u001B[39;00m func_err\n\u001B[32m    254\u001B[39m \u001B[38;5;28;01mreturn\u001B[39;00m frozen_trial\n",
      "\u001B[36mFile \u001B[39m\u001B[32m~/PycharmProjects/Hoter_reser_harbour/.venv/lib/python3.12/site-packages/optuna/study/_optimize.py:201\u001B[39m, in \u001B[36m_run_trial\u001B[39m\u001B[34m(study, func, catch)\u001B[39m\n\u001B[32m    199\u001B[39m \u001B[38;5;28;01mwith\u001B[39;00m get_heartbeat_thread(trial._trial_id, study._storage):\n\u001B[32m    200\u001B[39m     \u001B[38;5;28;01mtry\u001B[39;00m:\n\u001B[32m--> \u001B[39m\u001B[32m201\u001B[39m         value_or_values = \u001B[43mfunc\u001B[49m\u001B[43m(\u001B[49m\u001B[43mtrial\u001B[49m\u001B[43m)\u001B[49m\n\u001B[32m    202\u001B[39m     \u001B[38;5;28;01mexcept\u001B[39;00m exceptions.TrialPruned \u001B[38;5;28;01mas\u001B[39;00m e:\n\u001B[32m    203\u001B[39m         \u001B[38;5;66;03m# TODO(mamu): Handle multi-objective cases.\u001B[39;00m\n\u001B[32m    204\u001B[39m         state = TrialState.PRUNED\n",
      "\u001B[36mCell\u001B[39m\u001B[36m \u001B[39m\u001B[32mIn[22]\u001B[39m\u001B[32m, line 16\u001B[39m, in \u001B[36mobjective\u001B[39m\u001B[34m(trial)\u001B[39m\n\u001B[32m      3\u001B[39m \u001B[38;5;28;01mdef\u001B[39;00m\u001B[38;5;250m \u001B[39m\u001B[34mobjective\u001B[39m(trial):\n\u001B[32m      4\u001B[39m     model = catboost.CatBoostClassifier(\n\u001B[32m      5\u001B[39m         iterations=trial.suggest_int(\u001B[33m\"\u001B[39m\u001B[33miterations\u001B[39m\u001B[33m\"\u001B[39m, \u001B[32m100\u001B[39m, \u001B[32m3000\u001B[39m),\n\u001B[32m      6\u001B[39m         learning_rate=trial.suggest_float(\u001B[33m\"\u001B[39m\u001B[33mlearning_rate\u001B[39m\u001B[33m\"\u001B[39m, \u001B[32m1e-3\u001B[39m, \u001B[32m1e-1\u001B[39m, log=\u001B[38;5;28;01mTrue\u001B[39;00m),\n\u001B[32m   (...)\u001B[39m\u001B[32m     14\u001B[39m         verbose=\u001B[38;5;28;01mFalse\u001B[39;00m\n\u001B[32m     15\u001B[39m     )\n\u001B[32m---> \u001B[39m\u001B[32m16\u001B[39m     \u001B[43mmodel\u001B[49m\u001B[43m.\u001B[49m\u001B[43mfit\u001B[49m\u001B[43m(\u001B[49m\u001B[43mX_train\u001B[49m\u001B[43m,\u001B[49m\u001B[43m \u001B[49m\u001B[43my_train\u001B[49m\u001B[43m)\u001B[49m\n\u001B[32m     17\u001B[39m     y_pred = model.predict(X_test)\n\u001B[32m     18\u001B[39m     \u001B[38;5;28;01mreturn\u001B[39;00m accuracy_score(y_test, y_pred)\n",
      "\u001B[36mFile \u001B[39m\u001B[32m~/PycharmProjects/Hoter_reser_harbour/.venv/lib/python3.12/site-packages/catboost/core.py:5245\u001B[39m, in \u001B[36mCatBoostClassifier.fit\u001B[39m\u001B[34m(self, X, y, cat_features, text_features, embedding_features, graph, sample_weight, baseline, use_best_model, eval_set, verbose, logging_level, plot, plot_file, column_description, verbose_eval, metric_period, silent, early_stopping_rounds, save_snapshot, snapshot_file, snapshot_interval, init_model, callbacks, log_cout, log_cerr)\u001B[39m\n\u001B[32m   5242\u001B[39m \u001B[38;5;28;01mif\u001B[39;00m \u001B[33m'\u001B[39m\u001B[33mloss_function\u001B[39m\u001B[33m'\u001B[39m \u001B[38;5;129;01min\u001B[39;00m params:\n\u001B[32m   5243\u001B[39m     CatBoostClassifier._check_is_compatible_loss(params[\u001B[33m'\u001B[39m\u001B[33mloss_function\u001B[39m\u001B[33m'\u001B[39m])\n\u001B[32m-> \u001B[39m\u001B[32m5245\u001B[39m \u001B[38;5;28;43mself\u001B[39;49m\u001B[43m.\u001B[49m\u001B[43m_fit\u001B[49m\u001B[43m(\u001B[49m\u001B[43mX\u001B[49m\u001B[43m,\u001B[49m\u001B[43m \u001B[49m\u001B[43my\u001B[49m\u001B[43m,\u001B[49m\u001B[43m \u001B[49m\u001B[43mcat_features\u001B[49m\u001B[43m,\u001B[49m\u001B[43m \u001B[49m\u001B[43mtext_features\u001B[49m\u001B[43m,\u001B[49m\u001B[43m \u001B[49m\u001B[43membedding_features\u001B[49m\u001B[43m,\u001B[49m\u001B[43m \u001B[49m\u001B[38;5;28;43;01mNone\u001B[39;49;00m\u001B[43m,\u001B[49m\u001B[43m \u001B[49m\u001B[43mgraph\u001B[49m\u001B[43m,\u001B[49m\u001B[43m \u001B[49m\u001B[43msample_weight\u001B[49m\u001B[43m,\u001B[49m\u001B[43m \u001B[49m\u001B[38;5;28;43;01mNone\u001B[39;49;00m\u001B[43m,\u001B[49m\u001B[43m \u001B[49m\u001B[38;5;28;43;01mNone\u001B[39;49;00m\u001B[43m,\u001B[49m\u001B[43m \u001B[49m\u001B[38;5;28;43;01mNone\u001B[39;49;00m\u001B[43m,\u001B[49m\u001B[43m \u001B[49m\u001B[38;5;28;43;01mNone\u001B[39;49;00m\u001B[43m,\u001B[49m\u001B[43m \u001B[49m\u001B[43mbaseline\u001B[49m\u001B[43m,\u001B[49m\u001B[43m \u001B[49m\u001B[43muse_best_model\u001B[49m\u001B[43m,\u001B[49m\n\u001B[32m   5246\u001B[39m \u001B[43m          \u001B[49m\u001B[43meval_set\u001B[49m\u001B[43m,\u001B[49m\u001B[43m \u001B[49m\u001B[43mverbose\u001B[49m\u001B[43m,\u001B[49m\u001B[43m \u001B[49m\u001B[43mlogging_level\u001B[49m\u001B[43m,\u001B[49m\u001B[43m \u001B[49m\u001B[43mplot\u001B[49m\u001B[43m,\u001B[49m\u001B[43m \u001B[49m\u001B[43mplot_file\u001B[49m\u001B[43m,\u001B[49m\u001B[43m \u001B[49m\u001B[43mcolumn_description\u001B[49m\u001B[43m,\u001B[49m\u001B[43m \u001B[49m\u001B[43mverbose_eval\u001B[49m\u001B[43m,\u001B[49m\u001B[43m \u001B[49m\u001B[43mmetric_period\u001B[49m\u001B[43m,\u001B[49m\n\u001B[32m   5247\u001B[39m \u001B[43m          \u001B[49m\u001B[43msilent\u001B[49m\u001B[43m,\u001B[49m\u001B[43m \u001B[49m\u001B[43mearly_stopping_rounds\u001B[49m\u001B[43m,\u001B[49m\u001B[43m \u001B[49m\u001B[43msave_snapshot\u001B[49m\u001B[43m,\u001B[49m\u001B[43m \u001B[49m\u001B[43msnapshot_file\u001B[49m\u001B[43m,\u001B[49m\u001B[43m \u001B[49m\u001B[43msnapshot_interval\u001B[49m\u001B[43m,\u001B[49m\u001B[43m \u001B[49m\u001B[43minit_model\u001B[49m\u001B[43m,\u001B[49m\u001B[43m \u001B[49m\u001B[43mcallbacks\u001B[49m\u001B[43m,\u001B[49m\u001B[43m \u001B[49m\u001B[43mlog_cout\u001B[49m\u001B[43m,\u001B[49m\u001B[43m \u001B[49m\u001B[43mlog_cerr\u001B[49m\u001B[43m)\u001B[49m\n\u001B[32m   5248\u001B[39m \u001B[38;5;28;01mreturn\u001B[39;00m \u001B[38;5;28mself\u001B[39m\n",
      "\u001B[36mFile \u001B[39m\u001B[32m~/PycharmProjects/Hoter_reser_harbour/.venv/lib/python3.12/site-packages/catboost/core.py:2410\u001B[39m, in \u001B[36mCatBoost._fit\u001B[39m\u001B[34m(self, X, y, cat_features, text_features, embedding_features, pairs, graph, sample_weight, group_id, group_weight, subgroup_id, pairs_weight, baseline, use_best_model, eval_set, verbose, logging_level, plot, plot_file, column_description, verbose_eval, metric_period, silent, early_stopping_rounds, save_snapshot, snapshot_file, snapshot_interval, init_model, callbacks, log_cout, log_cerr)\u001B[39m\n\u001B[32m   2407\u001B[39m allow_clear_pool = train_params[\u001B[33m\"\u001B[39m\u001B[33mallow_clear_pool\u001B[39m\u001B[33m\"\u001B[39m]\n\u001B[32m   2409\u001B[39m \u001B[38;5;28;01mwith\u001B[39;00m plot_wrapper(plot, plot_file, \u001B[33m'\u001B[39m\u001B[33mTraining plots\u001B[39m\u001B[33m'\u001B[39m, [_get_train_dir(\u001B[38;5;28mself\u001B[39m.get_params())]):\n\u001B[32m-> \u001B[39m\u001B[32m2410\u001B[39m     \u001B[38;5;28;43mself\u001B[39;49m\u001B[43m.\u001B[49m\u001B[43m_train\u001B[49m\u001B[43m(\u001B[49m\n\u001B[32m   2411\u001B[39m \u001B[43m        \u001B[49m\u001B[43mtrain_pool\u001B[49m\u001B[43m,\u001B[49m\n\u001B[32m   2412\u001B[39m \u001B[43m        \u001B[49m\u001B[43mtrain_params\u001B[49m\u001B[43m[\u001B[49m\u001B[33;43m\"\u001B[39;49m\u001B[33;43meval_sets\u001B[39;49m\u001B[33;43m\"\u001B[39;49m\u001B[43m]\u001B[49m\u001B[43m,\u001B[49m\n\u001B[32m   2413\u001B[39m \u001B[43m        \u001B[49m\u001B[43mparams\u001B[49m\u001B[43m,\u001B[49m\n\u001B[32m   2414\u001B[39m \u001B[43m        \u001B[49m\u001B[43mallow_clear_pool\u001B[49m\u001B[43m,\u001B[49m\n\u001B[32m   2415\u001B[39m \u001B[43m        \u001B[49m\u001B[43mtrain_params\u001B[49m\u001B[43m[\u001B[49m\u001B[33;43m\"\u001B[39;49m\u001B[33;43minit_model\u001B[39;49m\u001B[33;43m\"\u001B[39;49m\u001B[43m]\u001B[49m\n\u001B[32m   2416\u001B[39m \u001B[43m    \u001B[49m\u001B[43m)\u001B[49m\n\u001B[32m   2418\u001B[39m \u001B[38;5;66;03m# Have property feature_importance possibly set\u001B[39;00m\n\u001B[32m   2419\u001B[39m loss = \u001B[38;5;28mself\u001B[39m._object._get_loss_function_name()\n",
      "\u001B[36mFile \u001B[39m\u001B[32m~/PycharmProjects/Hoter_reser_harbour/.venv/lib/python3.12/site-packages/catboost/core.py:1790\u001B[39m, in \u001B[36m_CatBoostBase._train\u001B[39m\u001B[34m(self, train_pool, test_pool, params, allow_clear_pool, init_model)\u001B[39m\n\u001B[32m   1789\u001B[39m \u001B[38;5;28;01mdef\u001B[39;00m\u001B[38;5;250m \u001B[39m\u001B[34m_train\u001B[39m(\u001B[38;5;28mself\u001B[39m, train_pool, test_pool, params, allow_clear_pool, init_model):\n\u001B[32m-> \u001B[39m\u001B[32m1790\u001B[39m     \u001B[38;5;28;43mself\u001B[39;49m\u001B[43m.\u001B[49m\u001B[43m_object\u001B[49m\u001B[43m.\u001B[49m\u001B[43m_train\u001B[49m\u001B[43m(\u001B[49m\u001B[43mtrain_pool\u001B[49m\u001B[43m,\u001B[49m\u001B[43m \u001B[49m\u001B[43mtest_pool\u001B[49m\u001B[43m,\u001B[49m\u001B[43m \u001B[49m\u001B[43mparams\u001B[49m\u001B[43m,\u001B[49m\u001B[43m \u001B[49m\u001B[43mallow_clear_pool\u001B[49m\u001B[43m,\u001B[49m\u001B[43m \u001B[49m\u001B[43minit_model\u001B[49m\u001B[43m.\u001B[49m\u001B[43m_object\u001B[49m\u001B[43m \u001B[49m\u001B[38;5;28;43;01mif\u001B[39;49;00m\u001B[43m \u001B[49m\u001B[43minit_model\u001B[49m\u001B[43m \u001B[49m\u001B[38;5;28;43;01melse\u001B[39;49;00m\u001B[43m \u001B[49m\u001B[38;5;28;43;01mNone\u001B[39;49;00m\u001B[43m)\u001B[49m\n\u001B[32m   1791\u001B[39m     \u001B[38;5;28mself\u001B[39m._set_trained_model_attributes()\n",
      "\u001B[36mFile \u001B[39m\u001B[32m_catboost.pyx:5023\u001B[39m, in \u001B[36m_catboost._CatBoost._train\u001B[39m\u001B[34m()\u001B[39m\n",
      "\u001B[36mFile \u001B[39m\u001B[32m_catboost.pyx:5072\u001B[39m, in \u001B[36m_catboost._CatBoost._train\u001B[39m\u001B[34m()\u001B[39m\n",
      "\u001B[31mKeyboardInterrupt\u001B[39m: "
     ]
    }
   ],
   "execution_count": 24
  },
  {
   "cell_type": "markdown",
   "metadata": {},
   "source": [
    "# Scoring model"
   ]
  },
  {
   "cell_type": "code",
   "metadata": {
    "ExecuteTime": {
     "end_time": "2025-07-31T20:16:14.649879Z",
     "start_time": "2025-07-31T20:16:14.628418Z"
    }
   },
   "source": [
    "def calculate_profit(TP, TN, FP, FN, AR):\n",
    "    CO = 1.2 * AR  # стоимость избыточного бронирования\n",
    "    PP = 0.4  # доля предоплаты\n",
    "    \n",
    "    profit = TP * PP * AR + TN * AR - FP * CO\n",
    "    return profit\n"
   ],
   "outputs": [],
   "execution_count": 14
  },
  {
   "cell_type": "code",
   "metadata": {
    "ExecuteTime": {
     "end_time": "2025-07-31T20:16:15.509200Z",
     "start_time": "2025-07-31T20:16:15.459479Z"
    }
   },
   "source": [
    "def score(y_test, y_pred):\n",
    "    accuracy = accuracy_score(y_test, y_pred)\n",
    "    print(f'Accuracy: {accuracy:.2f}')\n",
    "\n",
    "    cm = confusion_matrix(y_test, y_pred)\n",
    "    TN, FP, FN, TP = cm.ravel()\n",
    "    AR = X_train['avg_price_per_room'].mean()\n",
    "\n",
    "    profit = calculate_profit(TP, TN, FP, FN, AR)\n",
    "    print(f\"Profit: {profit:.0f}\")\n",
    "    return profit\n",
    "    \n",
    "\n",
    "print(\"Model evaluation:\")\n",
    "ml_profit = score(y_test, y_pred)\n",
    "\n",
    "print(\"\\nZero predictor baseline evaluation:\")\n",
    "y_pred[:] = 0\n",
    "score(y_test, y_pred)\n",
    "\n",
    "print(\"\\nOne predictor baseline evaluation:\")\n",
    "y_pred[:] = 1\n",
    "score(y_test, y_pred)\n",
    "\n",
    "print(\"\\nRandom predictor evaluation:\")\n",
    "y_pred[:] = np.random.randint(0, 2, size=len(y_test))\n",
    "score(y_test, y_pred)\n"
   ],
   "outputs": [
    {
     "name": "stdout",
     "output_type": "stream",
     "text": [
      "Model evaluation:\n",
      "Accuracy: 0.91\n",
      "Profit: 510987\n",
      "\n",
      "Zero predictor baseline evaluation:\n",
      "Accuracy: 0.66\n",
      "Profit: 543491\n",
      "\n",
      "One predictor baseline evaluation:\n",
      "Accuracy: 0.34\n",
      "Profit: -466896\n",
      "\n",
      "Random predictor evaluation:\n",
      "Accuracy: 0.50\n",
      "Profit: 28405\n"
     ]
    },
    {
     "data": {
      "text/plain": [
       "np.float64(28405.234640884002)"
      ]
     },
     "execution_count": 15,
     "metadata": {},
     "output_type": "execute_result"
    }
   ],
   "execution_count": 15
  },
  {
   "cell_type": "markdown",
   "metadata": {},
   "source": [
    "# Calculate historical data"
   ]
  },
  {
   "cell_type": "code",
   "execution_count": 413,
   "metadata": {},
   "outputs": [
    {
     "name": "stdout",
     "output_type": "stream",
     "text": [
      "Прибыль без овербукинга на test: 468566\n",
      "Прибыль с овербукингом на test: 510987.08266917575\n",
      "Мы увеличили прибыль на 42421.082669175754, те на 9.05% \n"
     ]
    }
   ],
   "source": [
    "def score_losses(df):\n",
    "    return int(df['avg_price_per_room'].mean() * len(df) * df[\"booking_status\"].mean())\n",
    "\n",
    "losses = score_losses(pd.concat([X_test, y_test], axis=1))\n",
    "\n",
    "usual_profit = int(X_test['avg_price_per_room'].sum()) - losses\n",
    "print(f\"Прибыль без овербукинга на test: {usual_profit}\")\n",
    "print(f\"Прибыль с овербукингом на test: {ml_profit}\")\n",
    "print(f\"Мы увеличили прибыль на {ml_profit - usual_profit}, те на {round((ml_profit / usual_profit - 1) * 100, 2)}% \")"
   ]
  },
  {
   "cell_type": "code",
   "execution_count": 401,
   "metadata": {
    "execution": {
     "iopub.execute_input": "2025-07-24T10:14:03.838177Z",
     "iopub.status.busy": "2025-07-24T10:14:03.837834Z",
     "iopub.status.idle": "2025-07-24T10:14:03.842878Z",
     "shell.execute_reply": "2025-07-24T10:14:03.842048Z",
     "shell.execute_reply.started": "2025-07-24T10:14:03.838153Z"
    },
    "trusted": true
   },
   "outputs": [],
   "source": [
    "T = 10000\n",
    "his_df = df[:T]"
   ]
  },
  {
   "cell_type": "code",
   "execution_count": 402,
   "metadata": {
    "execution": {
     "iopub.execute_input": "2025-07-24T10:14:04.165512Z",
     "iopub.status.busy": "2025-07-24T10:14:04.165226Z",
     "iopub.status.idle": "2025-07-24T10:14:04.171650Z",
     "shell.execute_reply": "2025-07-24T10:14:04.171046Z",
     "shell.execute_reply.started": "2025-07-24T10:14:04.165492Z"
    },
    "trusted": true
   },
   "outputs": [
    {
     "data": {
      "text/plain": [
       "np.float64(0.1615)"
      ]
     },
     "execution_count": 402,
     "metadata": {},
     "output_type": "execute_result"
    }
   ],
   "source": [
    "P_his = his_df['booking_status'].sum() / T\n",
    "P_his"
   ]
  },
  {
   "cell_type": "code",
   "execution_count": 403,
   "metadata": {
    "execution": {
     "iopub.execute_input": "2025-07-24T10:14:28.281524Z",
     "iopub.status.busy": "2025-07-24T10:14:28.281238Z",
     "iopub.status.idle": "2025-07-24T10:14:28.287355Z",
     "shell.execute_reply": "2025-07-24T10:14:28.286521Z",
     "shell.execute_reply.started": "2025-07-24T10:14:28.281504Z"
    },
    "trusted": true
   },
   "outputs": [
    {
     "data": {
      "text/plain": [
       "np.float64(86.25557)"
      ]
     },
     "execution_count": 403,
     "metadata": {},
     "output_type": "execute_result"
    }
   ],
   "source": [
    "Avg_rev_his = his_df['avg_price_per_room'].sum() / T\n",
    "Avg_rev_his"
   ]
  },
  {
   "cell_type": "code",
   "execution_count": 404,
   "metadata": {
    "execution": {
     "iopub.execute_input": "2025-07-24T10:15:02.885052Z",
     "iopub.status.busy": "2025-07-24T10:15:02.884759Z",
     "iopub.status.idle": "2025-07-24T10:15:02.890798Z",
     "shell.execute_reply": "2025-07-24T10:15:02.889874Z",
     "shell.execute_reply.started": "2025-07-24T10:15:02.885027Z"
    },
    "trusted": true
   },
   "outputs": [
    {
     "data": {
      "text/plain": [
       "np.float64(139302.74555000002)"
      ]
     },
     "execution_count": 404,
     "metadata": {},
     "output_type": "execute_result"
    }
   ],
   "source": [
    "Loss = P_his * T * Avg_rev_his\n",
    "Loss"
   ]
  }
 ],
 "metadata": {
  "kaggle": {
   "accelerator": "none",
   "dataSources": [
    {
     "datasetId": 2783627,
     "sourceId": 4807272,
     "sourceType": "datasetVersion"
    }
   ],
   "dockerImageVersionId": 31089,
   "isGpuEnabled": false,
   "isInternetEnabled": true,
   "language": "python",
   "sourceType": "notebook"
  },
  "kernelspec": {
   "display_name": ".venv",
   "language": "python",
   "name": "python3"
  },
  "language_info": {
   "codemirror_mode": {
    "name": "ipython",
    "version": 3
   },
   "file_extension": ".py",
   "mimetype": "text/x-python",
   "name": "python",
   "nbconvert_exporter": "python",
   "pygments_lexer": "ipython3",
   "version": "3.13.5"
  }
 },
 "nbformat": 4,
 "nbformat_minor": 4
}
