{
 "cells": [
  {
   "cell_type": "markdown",
   "metadata": {},
   "source": [
    "# Import Libraris"
   ]
  },
  {
   "cell_type": "code",
   "execution_count": 333,
   "metadata": {
    "ExecuteTime": {
     "end_time": "2025-07-31T08:05:37.874025Z",
     "start_time": "2025-07-31T08:05:36.738065Z"
    }
   },
   "outputs": [],
   "source": [
    "# !pip install evidently\n",
    "# !pip install ydata_profiling\n",
    "# !pip install facets-overview\n",
    "# !pip install holidays"
   ]
  },
  {
   "cell_type": "code",
   "execution_count": 316,
   "metadata": {
    "ExecuteTime": {
     "end_time": "2025-07-31T08:08:02.895018Z",
     "start_time": "2025-07-31T08:07:47.923308Z"
    },
    "execution": {
     "iopub.execute_input": "2025-07-24T09:50:36.213529Z",
     "iopub.status.busy": "2025-07-24T09:50:36.213244Z",
     "iopub.status.idle": "2025-07-24T09:50:38.995194Z",
     "shell.execute_reply": "2025-07-24T09:50:38.994297Z",
     "shell.execute_reply.started": "2025-07-24T09:50:36.213508Z"
    },
    "trusted": true
   },
   "outputs": [],
   "source": [
    "import pandas as pd\n",
    "import holidays\n",
    "import numpy as np\n",
    "\n",
    "from sklearn.model_selection import train_test_split\n",
    "from sklearn.ensemble import RandomForestClassifier  # пример модели\n",
    "from sklearn.metrics import accuracy_score, confusion_matrix, f1_score, roc_auc_score\n",
    "\n",
    "\n",
    "from IPython.core.display import HTML, display_html\n",
    "import base64\n",
    "from facets_overview.generic_feature_statistics_generator import GenericFeatureStatisticsGenerator\n",
    "\n",
    "from ydata_profiling import ProfileReport\n",
    "\n",
    "from evidently import Dataset, DataDefinition, Report\n",
    "from evidently.presets import DataDriftPreset, DataSummaryPreset"
   ]
  },
  {
   "cell_type": "markdown",
   "metadata": {},
   "source": [
    "# Load data and EDA"
   ]
  },
  {
   "cell_type": "code",
   "execution_count": 317,
   "metadata": {
    "ExecuteTime": {
     "end_time": "2025-07-31T07:59:48.961873Z",
     "start_time": "2025-07-31T07:59:48.905380Z"
    },
    "execution": {
     "iopub.execute_input": "2025-07-24T09:59:02.901212Z",
     "iopub.status.busy": "2025-07-24T09:59:02.900935Z",
     "iopub.status.idle": "2025-07-24T09:59:03.002333Z",
     "shell.execute_reply": "2025-07-24T09:59:03.001560Z",
     "shell.execute_reply.started": "2025-07-24T09:59:02.901191Z"
    },
    "trusted": true
   },
   "outputs": [
    {
     "data": {
      "text/html": [
       "<div>\n",
       "<style scoped>\n",
       "    .dataframe tbody tr th:only-of-type {\n",
       "        vertical-align: middle;\n",
       "    }\n",
       "\n",
       "    .dataframe tbody tr th {\n",
       "        vertical-align: top;\n",
       "    }\n",
       "\n",
       "    .dataframe thead th {\n",
       "        text-align: right;\n",
       "    }\n",
       "</style>\n",
       "<table border=\"1\" class=\"dataframe\">\n",
       "  <thead>\n",
       "    <tr style=\"text-align: right;\">\n",
       "      <th></th>\n",
       "      <th>Booking_ID</th>\n",
       "      <th>no_of_adults</th>\n",
       "      <th>no_of_children</th>\n",
       "      <th>no_of_weekend_nights</th>\n",
       "      <th>no_of_week_nights</th>\n",
       "      <th>type_of_meal_plan</th>\n",
       "      <th>required_car_parking_space</th>\n",
       "      <th>room_type_reserved</th>\n",
       "      <th>lead_time</th>\n",
       "      <th>arrival_year</th>\n",
       "      <th>arrival_month</th>\n",
       "      <th>arrival_date</th>\n",
       "      <th>market_segment_type</th>\n",
       "      <th>repeated_guest</th>\n",
       "      <th>no_of_previous_cancellations</th>\n",
       "      <th>no_of_previous_bookings_not_canceled</th>\n",
       "      <th>avg_price_per_room</th>\n",
       "      <th>no_of_special_requests</th>\n",
       "      <th>booking_status</th>\n",
       "    </tr>\n",
       "  </thead>\n",
       "  <tbody>\n",
       "    <tr>\n",
       "      <th>0</th>\n",
       "      <td>INN00001</td>\n",
       "      <td>2</td>\n",
       "      <td>0</td>\n",
       "      <td>1</td>\n",
       "      <td>2</td>\n",
       "      <td>Meal Plan 1</td>\n",
       "      <td>0</td>\n",
       "      <td>Room_Type 1</td>\n",
       "      <td>224</td>\n",
       "      <td>2017</td>\n",
       "      <td>10</td>\n",
       "      <td>2</td>\n",
       "      <td>Offline</td>\n",
       "      <td>0</td>\n",
       "      <td>0</td>\n",
       "      <td>0</td>\n",
       "      <td>65.00</td>\n",
       "      <td>0</td>\n",
       "      <td>Not_Canceled</td>\n",
       "    </tr>\n",
       "    <tr>\n",
       "      <th>1</th>\n",
       "      <td>INN00002</td>\n",
       "      <td>2</td>\n",
       "      <td>0</td>\n",
       "      <td>2</td>\n",
       "      <td>3</td>\n",
       "      <td>Not Selected</td>\n",
       "      <td>0</td>\n",
       "      <td>Room_Type 1</td>\n",
       "      <td>5</td>\n",
       "      <td>2018</td>\n",
       "      <td>11</td>\n",
       "      <td>6</td>\n",
       "      <td>Online</td>\n",
       "      <td>0</td>\n",
       "      <td>0</td>\n",
       "      <td>0</td>\n",
       "      <td>106.68</td>\n",
       "      <td>1</td>\n",
       "      <td>Not_Canceled</td>\n",
       "    </tr>\n",
       "    <tr>\n",
       "      <th>2</th>\n",
       "      <td>INN00003</td>\n",
       "      <td>1</td>\n",
       "      <td>0</td>\n",
       "      <td>2</td>\n",
       "      <td>1</td>\n",
       "      <td>Meal Plan 1</td>\n",
       "      <td>0</td>\n",
       "      <td>Room_Type 1</td>\n",
       "      <td>1</td>\n",
       "      <td>2018</td>\n",
       "      <td>2</td>\n",
       "      <td>28</td>\n",
       "      <td>Online</td>\n",
       "      <td>0</td>\n",
       "      <td>0</td>\n",
       "      <td>0</td>\n",
       "      <td>60.00</td>\n",
       "      <td>0</td>\n",
       "      <td>Canceled</td>\n",
       "    </tr>\n",
       "  </tbody>\n",
       "</table>\n",
       "</div>"
      ],
      "text/plain": [
       "  Booking_ID  no_of_adults  no_of_children  no_of_weekend_nights  \\\n",
       "0   INN00001             2               0                     1   \n",
       "1   INN00002             2               0                     2   \n",
       "2   INN00003             1               0                     2   \n",
       "\n",
       "   no_of_week_nights type_of_meal_plan  required_car_parking_space  \\\n",
       "0                  2       Meal Plan 1                           0   \n",
       "1                  3      Not Selected                           0   \n",
       "2                  1       Meal Plan 1                           0   \n",
       "\n",
       "  room_type_reserved  lead_time  arrival_year  arrival_month  arrival_date  \\\n",
       "0        Room_Type 1        224          2017             10             2   \n",
       "1        Room_Type 1          5          2018             11             6   \n",
       "2        Room_Type 1          1          2018              2            28   \n",
       "\n",
       "  market_segment_type  repeated_guest  no_of_previous_cancellations  \\\n",
       "0             Offline               0                             0   \n",
       "1              Online               0                             0   \n",
       "2              Online               0                             0   \n",
       "\n",
       "   no_of_previous_bookings_not_canceled  avg_price_per_room  \\\n",
       "0                                     0               65.00   \n",
       "1                                     0              106.68   \n",
       "2                                     0               60.00   \n",
       "\n",
       "   no_of_special_requests booking_status  \n",
       "0                       0   Not_Canceled  \n",
       "1                       1   Not_Canceled  \n",
       "2                       0       Canceled  "
      ]
     },
     "execution_count": 317,
     "metadata": {},
     "output_type": "execute_result"
    }
   ],
   "source": [
    "df = pd.read_csv('Hotel Reservations.csv')\n",
    "df.head(3)"
   ]
  },
  {
   "cell_type": "code",
   "execution_count": 318,
   "metadata": {
    "ExecuteTime": {
     "end_time": "2025-07-31T07:59:53.652986Z",
     "start_time": "2025-07-31T07:59:50.786034Z"
    },
    "execution": {
     "iopub.execute_input": "2025-07-24T09:00:04.707016Z",
     "iopub.status.busy": "2025-07-24T09:00:04.706725Z",
     "iopub.status.idle": "2025-07-24T09:00:14.576312Z",
     "shell.execute_reply": "2025-07-24T09:00:14.574939Z",
     "shell.execute_reply.started": "2025-07-24T09:00:04.706991Z"
    },
    "trusted": true
   },
   "outputs": [
    {
     "data": {
      "application/vnd.jupyter.widget-view+json": {
       "model_id": "84b2b0ce1c8a48109d456487780876bc",
       "version_major": 2,
       "version_minor": 0
      },
      "text/plain": [
       "Summarize dataset:   0%|          | 0/5 [00:00<?, ?it/s]"
      ]
     },
     "metadata": {},
     "output_type": "display_data"
    },
    {
     "name": "stderr",
     "output_type": "stream",
     "text": [
      "100%|██████████| 19/19 [00:00<00:00, 8038.31it/s]\n"
     ]
    },
    {
     "data": {
      "application/vnd.jupyter.widget-view+json": {
       "model_id": "526e45111c694c99b68669e027b7f9e0",
       "version_major": 2,
       "version_minor": 0
      },
      "text/plain": [
       "Generate report structure:   0%|          | 0/1 [00:00<?, ?it/s]"
      ]
     },
     "metadata": {},
     "output_type": "display_data"
    },
    {
     "data": {
      "application/vnd.jupyter.widget-view+json": {
       "model_id": "dd8258dc149045608b595bef2398c4a5",
       "version_major": 2,
       "version_minor": 0
      },
      "text/plain": [
       "Render HTML:   0%|          | 0/1 [00:00<?, ?it/s]"
      ]
     },
     "metadata": {},
     "output_type": "display_data"
    },
    {
     "data": {
      "application/vnd.jupyter.widget-view+json": {
       "model_id": "d00b0372c01142cb9422567435a6a3f2",
       "version_major": 2,
       "version_minor": 0
      },
      "text/plain": [
       "Export report to file:   0%|          | 0/1 [00:00<?, ?it/s]"
      ]
     },
     "metadata": {},
     "output_type": "display_data"
    }
   ],
   "source": [
    "profile = ProfileReport(df, title=\"Hotel Bookings Profiling\", minimal=True)\n",
    "\n",
    "profile.to_file(\"report.html\")"
   ]
  },
  {
   "cell_type": "code",
   "execution_count": 319,
   "metadata": {
    "ExecuteTime": {
     "end_time": "2025-07-31T07:59:55.783427Z",
     "start_time": "2025-07-31T07:59:55.769743Z"
    },
    "execution": {
     "iopub.execute_input": "2025-07-24T09:00:14.579023Z",
     "iopub.status.busy": "2025-07-24T09:00:14.578628Z",
     "iopub.status.idle": "2025-07-24T09:00:14.602149Z",
     "shell.execute_reply": "2025-07-24T09:00:14.601236Z",
     "shell.execute_reply.started": "2025-07-24T09:00:14.578993Z"
    },
    "trusted": true
   },
   "outputs": [
    {
     "data": {
      "text/html": [
       "<div>\n",
       "<style scoped>\n",
       "    .dataframe tbody tr th:only-of-type {\n",
       "        vertical-align: middle;\n",
       "    }\n",
       "\n",
       "    .dataframe tbody tr th {\n",
       "        vertical-align: top;\n",
       "    }\n",
       "\n",
       "    .dataframe thead th {\n",
       "        text-align: right;\n",
       "    }\n",
       "</style>\n",
       "<table border=\"1\" class=\"dataframe\">\n",
       "  <thead>\n",
       "    <tr style=\"text-align: right;\">\n",
       "      <th></th>\n",
       "      <th>avg_price_per_room</th>\n",
       "      <th>no_of_weekend_nights</th>\n",
       "      <th>no_of_week_nights</th>\n",
       "    </tr>\n",
       "  </thead>\n",
       "  <tbody>\n",
       "    <tr>\n",
       "      <th>avg_price_per_room</th>\n",
       "      <td>1.000000</td>\n",
       "      <td>-0.004525</td>\n",
       "      <td>0.022753</td>\n",
       "    </tr>\n",
       "    <tr>\n",
       "      <th>no_of_weekend_nights</th>\n",
       "      <td>-0.004525</td>\n",
       "      <td>1.000000</td>\n",
       "      <td>0.179577</td>\n",
       "    </tr>\n",
       "    <tr>\n",
       "      <th>no_of_week_nights</th>\n",
       "      <td>0.022753</td>\n",
       "      <td>0.179577</td>\n",
       "      <td>1.000000</td>\n",
       "    </tr>\n",
       "  </tbody>\n",
       "</table>\n",
       "</div>"
      ],
      "text/plain": [
       "                      avg_price_per_room  no_of_weekend_nights  \\\n",
       "avg_price_per_room              1.000000             -0.004525   \n",
       "no_of_weekend_nights           -0.004525              1.000000   \n",
       "no_of_week_nights               0.022753              0.179577   \n",
       "\n",
       "                      no_of_week_nights  \n",
       "avg_price_per_room             0.022753  \n",
       "no_of_weekend_nights           0.179577  \n",
       "no_of_week_nights              1.000000  "
      ]
     },
     "execution_count": 319,
     "metadata": {},
     "output_type": "execute_result"
    }
   ],
   "source": [
    "df[[\"avg_price_per_room\", \"no_of_weekend_nights\", \"no_of_week_nights\"]].corr()"
   ]
  },
  {
   "cell_type": "markdown",
   "metadata": {},
   "source": [
    "# Feature Genering"
   ]
  },
  {
   "cell_type": "code",
   "execution_count": 320,
   "metadata": {},
   "outputs": [],
   "source": [
    "ru_holidays = holidays.RU()\n",
    "\n",
    "meal_codes = {\n",
    "    'Not Selected': 0,\n",
    "    'Meal Plan 1': 1,\n",
    "    'Meal Plan 2': 2,\n",
    "    'Meal Plan 3': 3\n",
    "}\n",
    "\n",
    "def target_to_int(df):\n",
    "    df['booking_status'] = (df['booking_status'] == 'Canceled').astype('int64')\n",
    "    return df\n",
    "\n",
    "def market_to_int(df):\n",
    "    df['market_segment_type'] = (df['market_segment_type'] == 'Offline').astype('int64')\n",
    "    return df\n",
    "\n",
    "def set_meal_codes(x):\n",
    "    return meal_codes.get(x, 0)\n"
   ]
  },
  {
   "cell_type": "code",
   "execution_count": 321,
   "metadata": {},
   "outputs": [],
   "source": [
    "df = target_to_int(df)\n",
    "\n",
    "df['date'] = pd.to_datetime({\n",
    "    'year': df['arrival_year'].astype(int),\n",
    "    'month': df['arrival_month'].astype(int),\n",
    "    'day': df['arrival_date'].astype(int)\n",
    "}, errors='coerce')\n",
    "\n",
    "df = df[df['date'].notna()]\n",
    "\n",
    "df['is_holiday'] = df['date'].isin(ru_holidays).astype(int)\n",
    "df['is_weekend'] = (df['date'].dt.weekday >= 5).astype(int)\n",
    "\n",
    "df[\"type_of_meal_plan\"] = df[\"type_of_meal_plan\"].apply(set_meal_codes)\n",
    "df[\"room_type_reserved\"] = df[\"room_type_reserved\"].apply(lambda x: int(x.split()[-1]))\n"
   ]
  },
  {
   "cell_type": "code",
   "execution_count": 322,
   "metadata": {},
   "outputs": [
    {
     "data": {
      "text/plain": [
       "market_segment_type\n",
       "Aviation         0.296000\n",
       "Complementary    0.000000\n",
       "Corporate        0.109398\n",
       "Offline          0.299677\n",
       "Online           0.365138\n",
       "Name: booking_status, dtype: float64"
      ]
     },
     "execution_count": 322,
     "metadata": {},
     "output_type": "execute_result"
    }
   ],
   "source": [
    "df.groupby('market_segment_type')['booking_status'].mean()"
   ]
  },
  {
   "cell_type": "code",
   "execution_count": 323,
   "metadata": {},
   "outputs": [
    {
     "data": {
      "text/plain": [
       "market_segment_type\n",
       "Aviation           125\n",
       "Complementary      390\n",
       "Corporate         2011\n",
       "Offline          10518\n",
       "Online           23194\n",
       "Name: booking_status, dtype: int64"
      ]
     },
     "execution_count": 323,
     "metadata": {},
     "output_type": "execute_result"
    }
   ],
   "source": [
    "df.groupby('market_segment_type')['booking_status'].count()"
   ]
  },
  {
   "cell_type": "code",
   "execution_count": 324,
   "metadata": {},
   "outputs": [],
   "source": [
    "df = df.sort_values(by='date')\n"
   ]
  },
  {
   "cell_type": "markdown",
   "metadata": {},
   "source": [
    "# ML"
   ]
  },
  {
   "cell_type": "markdown",
   "metadata": {},
   "source": [
    "There are ~2500 corporate, aviation and complementary orders. We will not use overbooking among them"
   ]
  },
  {
   "cell_type": "code",
   "execution_count": 325,
   "metadata": {},
   "outputs": [],
   "source": [
    "df_not_commercial = df[(df[\"market_segment_type\"]== \"Offline\") | (df[\"market_segment_type\"]== \"Online\")]\n",
    "\n",
    "df_ml = df_not_commercial.drop(columns=[\"date\", \"Booking_ID\"], axis=1)\n",
    "df_ml = market_to_int(df_ml)\n",
    "\n",
    "X = df_ml.drop(columns=[\"booking_status\"], axis=1)\n",
    "y = df_ml[\"booking_status\"]\n",
    "\n",
    "X_train, X_test, y_train, y_test = train_test_split(\n",
    "    X, y, test_size=0.2, random_state=239\n",
    ")"
   ]
  },
  {
   "cell_type": "code",
   "execution_count": null,
   "metadata": {},
   "outputs": [],
   "source": [
    "\n",
    "model = RandomForestClassifier(random_state=239)"
   ]
  },
  {
   "cell_type": "code",
   "execution_count": 326,
   "metadata": {},
   "outputs": [],
   "source": [
    "model.fit(X_train, y_train)\n",
    "\n",
    "y_pred = model.predict(X_test)"
   ]
  },
  {
   "cell_type": "markdown",
   "metadata": {},
   "source": [
    "# Scoring model"
   ]
  },
  {
   "cell_type": "code",
   "execution_count": 327,
   "metadata": {},
   "outputs": [],
   "source": [
    "def calculate_profit(TP, TN, FP, FN, AR):\n",
    "    CO = 0.8 * AR  # стоимость избыточного бронирования\n",
    "    PC = 1.2 * AR  # штрафные издержки\n",
    "    PP = 0.4  # доля предоплаты\n",
    "    \n",
    "    profit = TP * PP * AR + TN * AR - FP * CO - FN * PC\n",
    "    return profit\n"
   ]
  },
  {
   "cell_type": "code",
   "execution_count": 328,
   "metadata": {},
   "outputs": [
    {
     "name": "stdout",
     "output_type": "stream",
     "text": [
      "Model evaluation:\n",
      "Accuracy: 0.91\n",
      "Profit: 457174\n",
      "\n",
      "Zero predictor baseline evaluation:\n",
      "Accuracy: 0.66\n",
      "Profit: 177782\n",
      "\n",
      "One predictor baseline evaluation:\n",
      "Accuracy: 0.34\n",
      "Profit: -278757\n",
      "\n",
      "Random predictor evaluation:\n",
      "Accuracy: 0.49\n",
      "Profit: -59246\n"
     ]
    }
   ],
   "source": [
    "def score(y_test, y_pred):\n",
    "    accuracy = accuracy_score(y_test, y_pred)\n",
    "    print(f'Accuracy: {accuracy:.2f}')\n",
    "\n",
    "    cm = confusion_matrix(y_test, y_pred)\n",
    "    TN, FP, FN, TP = cm.ravel()\n",
    "    AR = X_train['avg_price_per_room'].mean()\n",
    "\n",
    "    profit = calculate_profit(TP, TN, FP, FN, AR)\n",
    "    print(f\"Profit: {profit:.0f}\")\n",
    "    \n",
    "\n",
    "print(\"Model evaluation:\")\n",
    "score(y_test, y_pred)\n",
    "\n",
    "print(\"\\nZero predictor baseline evaluation:\")\n",
    "y_pred[:] = 0\n",
    "score(y_test, y_pred)\n",
    "\n",
    "print(\"\\nOne predictor baseline evaluation:\")\n",
    "y_pred[:] = 1\n",
    "score(y_test, y_pred)\n",
    "\n",
    "print(\"\\nRandom predictor evaluation:\")\n",
    "y_pred[:] = np.random.randint(0, 2, size=len(y_test))\n",
    "score(y_test, y_pred)\n"
   ]
  },
  {
   "cell_type": "markdown",
   "metadata": {},
   "source": [
    "# Calculate historical data"
   ]
  },
  {
   "cell_type": "code",
   "execution_count": 329,
   "metadata": {
    "execution": {
     "iopub.execute_input": "2025-07-24T10:14:03.838177Z",
     "iopub.status.busy": "2025-07-24T10:14:03.837834Z",
     "iopub.status.idle": "2025-07-24T10:14:03.842878Z",
     "shell.execute_reply": "2025-07-24T10:14:03.842048Z",
     "shell.execute_reply.started": "2025-07-24T10:14:03.838153Z"
    },
    "trusted": true
   },
   "outputs": [],
   "source": [
    "T = 10000\n",
    "his_df = df[:T]"
   ]
  },
  {
   "cell_type": "code",
   "execution_count": 330,
   "metadata": {
    "execution": {
     "iopub.execute_input": "2025-07-24T10:14:04.165512Z",
     "iopub.status.busy": "2025-07-24T10:14:04.165226Z",
     "iopub.status.idle": "2025-07-24T10:14:04.171650Z",
     "shell.execute_reply": "2025-07-24T10:14:04.171046Z",
     "shell.execute_reply.started": "2025-07-24T10:14:04.165492Z"
    },
    "trusted": true
   },
   "outputs": [
    {
     "data": {
      "text/plain": [
       "np.float64(0.1615)"
      ]
     },
     "execution_count": 330,
     "metadata": {},
     "output_type": "execute_result"
    }
   ],
   "source": [
    "P_his = his_df['booking_status'].sum() / T\n",
    "P_his"
   ]
  },
  {
   "cell_type": "code",
   "execution_count": 331,
   "metadata": {
    "execution": {
     "iopub.execute_input": "2025-07-24T10:14:28.281524Z",
     "iopub.status.busy": "2025-07-24T10:14:28.281238Z",
     "iopub.status.idle": "2025-07-24T10:14:28.287355Z",
     "shell.execute_reply": "2025-07-24T10:14:28.286521Z",
     "shell.execute_reply.started": "2025-07-24T10:14:28.281504Z"
    },
    "trusted": true
   },
   "outputs": [
    {
     "data": {
      "text/plain": [
       "np.float64(86.25557)"
      ]
     },
     "execution_count": 331,
     "metadata": {},
     "output_type": "execute_result"
    }
   ],
   "source": [
    "Avg_rev_his = his_df['avg_price_per_room'].sum() / T\n",
    "Avg_rev_his"
   ]
  },
  {
   "cell_type": "code",
   "execution_count": 332,
   "metadata": {
    "execution": {
     "iopub.execute_input": "2025-07-24T10:15:02.885052Z",
     "iopub.status.busy": "2025-07-24T10:15:02.884759Z",
     "iopub.status.idle": "2025-07-24T10:15:02.890798Z",
     "shell.execute_reply": "2025-07-24T10:15:02.889874Z",
     "shell.execute_reply.started": "2025-07-24T10:15:02.885027Z"
    },
    "trusted": true
   },
   "outputs": [
    {
     "data": {
      "text/plain": [
       "np.float64(139302.74555000002)"
      ]
     },
     "execution_count": 332,
     "metadata": {},
     "output_type": "execute_result"
    }
   ],
   "source": [
    "Loss = P_his * T * Avg_rev_his\n",
    "Loss"
   ]
  }
 ],
 "metadata": {
  "kaggle": {
   "accelerator": "none",
   "dataSources": [
    {
     "datasetId": 2783627,
     "sourceId": 4807272,
     "sourceType": "datasetVersion"
    }
   ],
   "dockerImageVersionId": 31089,
   "isGpuEnabled": false,
   "isInternetEnabled": true,
   "language": "python",
   "sourceType": "notebook"
  },
  "kernelspec": {
   "display_name": ".venv",
   "language": "python",
   "name": "python3"
  },
  "language_info": {
   "codemirror_mode": {
    "name": "ipython",
    "version": 3
   },
   "file_extension": ".py",
   "mimetype": "text/x-python",
   "name": "python",
   "nbconvert_exporter": "python",
   "pygments_lexer": "ipython3",
   "version": "3.13.5"
  }
 },
 "nbformat": 4,
 "nbformat_minor": 4
}
