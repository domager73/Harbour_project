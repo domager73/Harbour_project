{
 "cells": [
  {
   "cell_type": "markdown",
   "metadata": {},
   "source": [
    "# Import Libraris"
   ]
  },
  {
   "cell_type": "code",
   "execution_count": 185,
   "metadata": {
    "ExecuteTime": {
     "end_time": "2025-07-31T08:05:37.874025Z",
     "start_time": "2025-07-31T08:05:36.738065Z"
    }
   },
   "outputs": [
    {
     "name": "stdout",
     "output_type": "stream",
     "text": [
      "Requirement already satisfied: evidently in ./.venv/lib/python3.9/site-packages (0.7.11)\n",
      "Requirement already satisfied: plotly<6,>=5.10.0 in ./.venv/lib/python3.9/site-packages (from evidently) (5.24.1)\n",
      "Requirement already satisfied: statsmodels>=0.12.2 in ./.venv/lib/python3.9/site-packages (from evidently) (0.14.5)\n",
      "Requirement already satisfied: scikit-learn>=1.0.1 in ./.venv/lib/python3.9/site-packages (from evidently) (1.6.1)\n",
      "Requirement already satisfied: pandas>=1.3.5 in ./.venv/lib/python3.9/site-packages (from pandas[parquet]>=1.3.5->evidently) (2.3.1)\n",
      "Requirement already satisfied: numpy>=1.22.0 in ./.venv/lib/python3.9/site-packages (from evidently) (2.0.2)\n",
      "Requirement already satisfied: nltk>=3.6.7 in ./.venv/lib/python3.9/site-packages (from evidently) (3.9.1)\n",
      "Requirement already satisfied: scipy>=1.10.0 in ./.venv/lib/python3.9/site-packages (from evidently) (1.13.1)\n",
      "Requirement already satisfied: requests>=2.32.0 in ./.venv/lib/python3.9/site-packages (from evidently) (2.32.4)\n",
      "Requirement already satisfied: PyYAML>=5.4 in ./.venv/lib/python3.9/site-packages (from evidently) (6.0.2)\n",
      "Requirement already satisfied: pydantic>=1.10.16 in ./.venv/lib/python3.9/site-packages (from evidently) (2.11.7)\n",
      "Requirement already satisfied: litestar>=2.8.3 in ./.venv/lib/python3.9/site-packages (from evidently) (2.16.0)\n",
      "Requirement already satisfied: typing-inspect>=0.9.0 in ./.venv/lib/python3.9/site-packages (from evidently) (0.9.0)\n",
      "Requirement already satisfied: uvicorn>=0.22.0 in ./.venv/lib/python3.9/site-packages (from uvicorn[standard]>=0.22.0->evidently) (0.35.0)\n",
      "Requirement already satisfied: watchdog>=3.0.0 in ./.venv/lib/python3.9/site-packages (from evidently) (6.0.0)\n",
      "Requirement already satisfied: typer>=0.3 in ./.venv/lib/python3.9/site-packages (from evidently) (0.16.0)\n",
      "Requirement already satisfied: rich>=13 in ./.venv/lib/python3.9/site-packages (from evidently) (14.1.0)\n",
      "Requirement already satisfied: iterative-telemetry>=0.0.5 in ./.venv/lib/python3.9/site-packages (from evidently) (0.0.10)\n",
      "Requirement already satisfied: dynaconf>=3.2.4 in ./.venv/lib/python3.9/site-packages (from evidently) (3.2.11)\n",
      "Requirement already satisfied: certifi>=2024.7.4 in ./.venv/lib/python3.9/site-packages (from evidently) (2025.7.14)\n",
      "Requirement already satisfied: urllib3>=1.26.19 in ./.venv/lib/python3.9/site-packages (from evidently) (2.5.0)\n",
      "Requirement already satisfied: fsspec>=2024.6.1 in ./.venv/lib/python3.9/site-packages (from evidently) (2025.7.0)\n",
      "Requirement already satisfied: ujson>=5.4.0 in ./.venv/lib/python3.9/site-packages (from evidently) (5.10.0)\n",
      "Requirement already satisfied: deprecation>=2.1.0 in ./.venv/lib/python3.9/site-packages (from evidently) (2.1.0)\n",
      "Requirement already satisfied: uuid6>=2024.7.10 in ./.venv/lib/python3.9/site-packages (from evidently) (2025.0.1)\n",
      "Requirement already satisfied: cryptography>=43.0.1 in ./.venv/lib/python3.9/site-packages (from evidently) (45.0.5)\n",
      "Requirement already satisfied: tenacity>=6.2.0 in ./.venv/lib/python3.9/site-packages (from plotly<6,>=5.10.0->evidently) (9.1.2)\n",
      "Requirement already satisfied: packaging in ./.venv/lib/python3.9/site-packages (from plotly<6,>=5.10.0->evidently) (25.0)\n",
      "Requirement already satisfied: cffi>=1.14 in ./.venv/lib/python3.9/site-packages (from cryptography>=43.0.1->evidently) (1.17.1)\n",
      "Requirement already satisfied: pycparser in ./.venv/lib/python3.9/site-packages (from cffi>=1.14->cryptography>=43.0.1->evidently) (2.22)\n",
      "Requirement already satisfied: appdirs in ./.venv/lib/python3.9/site-packages (from iterative-telemetry>=0.0.5->evidently) (1.4.4)\n",
      "Requirement already satisfied: filelock in ./.venv/lib/python3.9/site-packages (from iterative-telemetry>=0.0.5->evidently) (3.18.0)\n",
      "Requirement already satisfied: distro in ./.venv/lib/python3.9/site-packages (from iterative-telemetry>=0.0.5->evidently) (1.9.0)\n",
      "Requirement already satisfied: anyio>=3 in ./.venv/lib/python3.9/site-packages (from litestar>=2.8.3->evidently) (4.9.0)\n",
      "Requirement already satisfied: click in ./.venv/lib/python3.9/site-packages (from litestar>=2.8.3->evidently) (8.1.8)\n",
      "Requirement already satisfied: exceptiongroup in ./.venv/lib/python3.9/site-packages (from litestar>=2.8.3->evidently) (1.3.0)\n",
      "Requirement already satisfied: httpx>=0.22 in ./.venv/lib/python3.9/site-packages (from litestar>=2.8.3->evidently) (0.28.1)\n",
      "Requirement already satisfied: importlib-metadata in ./.venv/lib/python3.9/site-packages (from litestar>=2.8.3->evidently) (8.7.0)\n",
      "Requirement already satisfied: litestar-htmx>=0.4.0 in ./.venv/lib/python3.9/site-packages (from litestar>=2.8.3->evidently) (0.5.0)\n",
      "Requirement already satisfied: msgspec>=0.18.2 in ./.venv/lib/python3.9/site-packages (from litestar>=2.8.3->evidently) (0.19.0)\n",
      "Requirement already satisfied: multidict>=6.0.2 in ./.venv/lib/python3.9/site-packages (from litestar>=2.8.3->evidently) (6.6.3)\n",
      "Requirement already satisfied: multipart>=1.2.0 in ./.venv/lib/python3.9/site-packages (from litestar>=2.8.3->evidently) (1.3.0)\n",
      "Requirement already satisfied: polyfactory>=2.6.3 in ./.venv/lib/python3.9/site-packages (from litestar>=2.8.3->evidently) (2.22.1)\n",
      "Requirement already satisfied: rich-click in ./.venv/lib/python3.9/site-packages (from litestar>=2.8.3->evidently) (1.8.9)\n",
      "Requirement already satisfied: typing-extensions in ./.venv/lib/python3.9/site-packages (from litestar>=2.8.3->evidently) (4.14.1)\n",
      "Requirement already satisfied: idna>=2.8 in ./.venv/lib/python3.9/site-packages (from anyio>=3->litestar>=2.8.3->evidently) (3.10)\n",
      "Requirement already satisfied: sniffio>=1.1 in ./.venv/lib/python3.9/site-packages (from anyio>=3->litestar>=2.8.3->evidently) (1.3.1)\n",
      "Requirement already satisfied: httpcore==1.* in ./.venv/lib/python3.9/site-packages (from httpx>=0.22->litestar>=2.8.3->evidently) (1.0.9)\n",
      "Requirement already satisfied: h11>=0.16 in ./.venv/lib/python3.9/site-packages (from httpcore==1.*->httpx>=0.22->litestar>=2.8.3->evidently) (0.16.0)\n",
      "Requirement already satisfied: joblib in ./.venv/lib/python3.9/site-packages (from nltk>=3.6.7->evidently) (1.5.1)\n",
      "Requirement already satisfied: regex>=2021.8.3 in ./.venv/lib/python3.9/site-packages (from nltk>=3.6.7->evidently) (2025.7.34)\n",
      "Requirement already satisfied: tqdm in ./.venv/lib/python3.9/site-packages (from nltk>=3.6.7->evidently) (4.67.1)\n",
      "Requirement already satisfied: python-dateutil>=2.8.2 in ./.venv/lib/python3.9/site-packages (from pandas>=1.3.5->pandas[parquet]>=1.3.5->evidently) (2.9.0.post0)\n",
      "Requirement already satisfied: pytz>=2020.1 in ./.venv/lib/python3.9/site-packages (from pandas>=1.3.5->pandas[parquet]>=1.3.5->evidently) (2025.2)\n",
      "Requirement already satisfied: tzdata>=2022.7 in ./.venv/lib/python3.9/site-packages (from pandas>=1.3.5->pandas[parquet]>=1.3.5->evidently) (2025.2)\n",
      "Requirement already satisfied: pyarrow>=10.0.1 in ./.venv/lib/python3.9/site-packages (from pandas[parquet]>=1.3.5->evidently) (20.0.0)\n",
      "Requirement already satisfied: faker>=5.0.0 in ./.venv/lib/python3.9/site-packages (from polyfactory>=2.6.3->litestar>=2.8.3->evidently) (37.5.3)\n",
      "Requirement already satisfied: annotated-types>=0.6.0 in ./.venv/lib/python3.9/site-packages (from pydantic>=1.10.16->evidently) (0.7.0)\n",
      "Requirement already satisfied: pydantic-core==2.33.2 in ./.venv/lib/python3.9/site-packages (from pydantic>=1.10.16->evidently) (2.33.2)\n",
      "Requirement already satisfied: typing-inspection>=0.4.0 in ./.venv/lib/python3.9/site-packages (from pydantic>=1.10.16->evidently) (0.4.1)\n",
      "Requirement already satisfied: six>=1.5 in ./.venv/lib/python3.9/site-packages (from python-dateutil>=2.8.2->pandas>=1.3.5->pandas[parquet]>=1.3.5->evidently) (1.17.0)\n",
      "Requirement already satisfied: charset_normalizer<4,>=2 in ./.venv/lib/python3.9/site-packages (from requests>=2.32.0->evidently) (3.4.2)\n",
      "Requirement already satisfied: markdown-it-py>=2.2.0 in ./.venv/lib/python3.9/site-packages (from rich>=13->evidently) (3.0.0)\n",
      "Requirement already satisfied: pygments<3.0.0,>=2.13.0 in ./.venv/lib/python3.9/site-packages (from rich>=13->evidently) (2.19.2)\n",
      "Requirement already satisfied: mdurl~=0.1 in ./.venv/lib/python3.9/site-packages (from markdown-it-py>=2.2.0->rich>=13->evidently) (0.1.2)\n",
      "Requirement already satisfied: threadpoolctl>=3.1.0 in ./.venv/lib/python3.9/site-packages (from scikit-learn>=1.0.1->evidently) (3.6.0)\n",
      "Requirement already satisfied: patsy>=0.5.6 in ./.venv/lib/python3.9/site-packages (from statsmodels>=0.12.2->evidently) (1.0.1)\n",
      "Requirement already satisfied: shellingham>=1.3.0 in ./.venv/lib/python3.9/site-packages (from typer>=0.3->evidently) (1.5.4)\n",
      "Requirement already satisfied: mypy-extensions>=0.3.0 in ./.venv/lib/python3.9/site-packages (from typing-inspect>=0.9.0->evidently) (1.1.0)\n",
      "Requirement already satisfied: httptools>=0.6.3 in ./.venv/lib/python3.9/site-packages (from uvicorn[standard]>=0.22.0->evidently) (0.6.4)\n",
      "Requirement already satisfied: python-dotenv>=0.13 in ./.venv/lib/python3.9/site-packages (from uvicorn[standard]>=0.22.0->evidently) (1.1.1)\n",
      "Requirement already satisfied: uvloop>=0.15.1 in ./.venv/lib/python3.9/site-packages (from uvicorn[standard]>=0.22.0->evidently) (0.21.0)\n",
      "Requirement already satisfied: watchfiles>=0.13 in ./.venv/lib/python3.9/site-packages (from uvicorn[standard]>=0.22.0->evidently) (1.1.0)\n",
      "Requirement already satisfied: websockets>=10.4 in ./.venv/lib/python3.9/site-packages (from uvicorn[standard]>=0.22.0->evidently) (15.0.1)\n",
      "Requirement already satisfied: zipp>=3.20 in ./.venv/lib/python3.9/site-packages (from importlib-metadata->litestar>=2.8.3->evidently) (3.23.0)\n",
      "Requirement already satisfied: ydata_profiling in ./.venv/lib/python3.9/site-packages (4.16.1)\n",
      "Requirement already satisfied: scipy<1.16,>=1.4.1 in ./.venv/lib/python3.9/site-packages (from ydata_profiling) (1.13.1)\n",
      "Requirement already satisfied: pandas!=1.4.0,<3.0,>1.1 in ./.venv/lib/python3.9/site-packages (from ydata_profiling) (2.3.1)\n",
      "Requirement already satisfied: matplotlib<=3.10,>=3.5 in ./.venv/lib/python3.9/site-packages (from ydata_profiling) (3.9.4)\n",
      "Requirement already satisfied: pydantic>=2 in ./.venv/lib/python3.9/site-packages (from ydata_profiling) (2.11.7)\n",
      "Requirement already satisfied: PyYAML<6.1,>=5.0.0 in ./.venv/lib/python3.9/site-packages (from ydata_profiling) (6.0.2)\n",
      "Requirement already satisfied: jinja2<3.2,>=2.11.1 in ./.venv/lib/python3.9/site-packages (from ydata_profiling) (3.1.6)\n",
      "Requirement already satisfied: visions<0.8.2,>=0.7.5 in ./.venv/lib/python3.9/site-packages (from visions[type_image_path]<0.8.2,>=0.7.5->ydata_profiling) (0.8.1)\n",
      "Requirement already satisfied: numpy<2.2,>=1.16.0 in ./.venv/lib/python3.9/site-packages (from ydata_profiling) (2.0.2)\n",
      "Requirement already satisfied: htmlmin==0.1.12 in ./.venv/lib/python3.9/site-packages (from ydata_profiling) (0.1.12)\n",
      "Requirement already satisfied: phik<0.13,>=0.11.1 in ./.venv/lib/python3.9/site-packages (from ydata_profiling) (0.12.5)\n",
      "Requirement already satisfied: requests<3,>=2.24.0 in ./.venv/lib/python3.9/site-packages (from ydata_profiling) (2.32.4)\n",
      "Requirement already satisfied: tqdm<5,>=4.48.2 in ./.venv/lib/python3.9/site-packages (from ydata_profiling) (4.67.1)\n",
      "Requirement already satisfied: seaborn<0.14,>=0.10.1 in ./.venv/lib/python3.9/site-packages (from ydata_profiling) (0.13.2)\n",
      "Requirement already satisfied: multimethod<2,>=1.4 in ./.venv/lib/python3.9/site-packages (from ydata_profiling) (1.12)\n",
      "Requirement already satisfied: statsmodels<1,>=0.13.2 in ./.venv/lib/python3.9/site-packages (from ydata_profiling) (0.14.5)\n",
      "Requirement already satisfied: typeguard<5,>=3 in ./.venv/lib/python3.9/site-packages (from ydata_profiling) (4.4.4)\n",
      "Requirement already satisfied: imagehash==4.3.1 in ./.venv/lib/python3.9/site-packages (from ydata_profiling) (4.3.1)\n",
      "Requirement already satisfied: wordcloud>=1.9.3 in ./.venv/lib/python3.9/site-packages (from ydata_profiling) (1.9.4)\n",
      "Requirement already satisfied: dacite>=1.8 in ./.venv/lib/python3.9/site-packages (from ydata_profiling) (1.9.2)\n",
      "Requirement already satisfied: numba<=0.61,>=0.56.0 in ./.venv/lib/python3.9/site-packages (from ydata_profiling) (0.60.0)\n",
      "Requirement already satisfied: PyWavelets in ./.venv/lib/python3.9/site-packages (from imagehash==4.3.1->ydata_profiling) (1.6.0)\n",
      "Requirement already satisfied: pillow in ./.venv/lib/python3.9/site-packages (from imagehash==4.3.1->ydata_profiling) (11.3.0)\n",
      "Requirement already satisfied: MarkupSafe>=2.0 in ./.venv/lib/python3.9/site-packages (from jinja2<3.2,>=2.11.1->ydata_profiling) (3.0.2)\n",
      "Requirement already satisfied: contourpy>=1.0.1 in ./.venv/lib/python3.9/site-packages (from matplotlib<=3.10,>=3.5->ydata_profiling) (1.3.0)\n",
      "Requirement already satisfied: cycler>=0.10 in ./.venv/lib/python3.9/site-packages (from matplotlib<=3.10,>=3.5->ydata_profiling) (0.12.1)\n",
      "Requirement already satisfied: fonttools>=4.22.0 in ./.venv/lib/python3.9/site-packages (from matplotlib<=3.10,>=3.5->ydata_profiling) (4.59.0)\n",
      "Requirement already satisfied: kiwisolver>=1.3.1 in ./.venv/lib/python3.9/site-packages (from matplotlib<=3.10,>=3.5->ydata_profiling) (1.4.7)\n",
      "Requirement already satisfied: packaging>=20.0 in ./.venv/lib/python3.9/site-packages (from matplotlib<=3.10,>=3.5->ydata_profiling) (25.0)\n",
      "Requirement already satisfied: pyparsing>=2.3.1 in ./.venv/lib/python3.9/site-packages (from matplotlib<=3.10,>=3.5->ydata_profiling) (3.2.3)\n",
      "Requirement already satisfied: python-dateutil>=2.7 in ./.venv/lib/python3.9/site-packages (from matplotlib<=3.10,>=3.5->ydata_profiling) (2.9.0.post0)\n",
      "Requirement already satisfied: importlib-resources>=3.2.0 in ./.venv/lib/python3.9/site-packages (from matplotlib<=3.10,>=3.5->ydata_profiling) (6.5.2)\n",
      "Requirement already satisfied: llvmlite<0.44,>=0.43.0dev0 in ./.venv/lib/python3.9/site-packages (from numba<=0.61,>=0.56.0->ydata_profiling) (0.43.0)\n",
      "Requirement already satisfied: pytz>=2020.1 in ./.venv/lib/python3.9/site-packages (from pandas!=1.4.0,<3.0,>1.1->ydata_profiling) (2025.2)\n",
      "Requirement already satisfied: tzdata>=2022.7 in ./.venv/lib/python3.9/site-packages (from pandas!=1.4.0,<3.0,>1.1->ydata_profiling) (2025.2)\n",
      "Requirement already satisfied: joblib>=0.14.1 in ./.venv/lib/python3.9/site-packages (from phik<0.13,>=0.11.1->ydata_profiling) (1.5.1)\n",
      "Requirement already satisfied: charset_normalizer<4,>=2 in ./.venv/lib/python3.9/site-packages (from requests<3,>=2.24.0->ydata_profiling) (3.4.2)\n",
      "Requirement already satisfied: idna<4,>=2.5 in ./.venv/lib/python3.9/site-packages (from requests<3,>=2.24.0->ydata_profiling) (3.10)\n",
      "Requirement already satisfied: urllib3<3,>=1.21.1 in ./.venv/lib/python3.9/site-packages (from requests<3,>=2.24.0->ydata_profiling) (2.5.0)\n",
      "Requirement already satisfied: certifi>=2017.4.17 in ./.venv/lib/python3.9/site-packages (from requests<3,>=2.24.0->ydata_profiling) (2025.7.14)\n",
      "Requirement already satisfied: patsy>=0.5.6 in ./.venv/lib/python3.9/site-packages (from statsmodels<1,>=0.13.2->ydata_profiling) (1.0.1)\n",
      "Requirement already satisfied: importlib_metadata>=3.6 in ./.venv/lib/python3.9/site-packages (from typeguard<5,>=3->ydata_profiling) (8.7.0)\n",
      "Requirement already satisfied: typing_extensions>=4.14.0 in ./.venv/lib/python3.9/site-packages (from typeguard<5,>=3->ydata_profiling) (4.14.1)\n",
      "Requirement already satisfied: attrs>=19.3.0 in ./.venv/lib/python3.9/site-packages (from visions<0.8.2,>=0.7.5->visions[type_image_path]<0.8.2,>=0.7.5->ydata_profiling) (25.3.0)\n",
      "Requirement already satisfied: networkx>=2.4 in ./.venv/lib/python3.9/site-packages (from visions<0.8.2,>=0.7.5->visions[type_image_path]<0.8.2,>=0.7.5->ydata_profiling) (3.2.1)\n",
      "Requirement already satisfied: puremagic in ./.venv/lib/python3.9/site-packages (from visions<0.8.2,>=0.7.5->visions[type_image_path]<0.8.2,>=0.7.5->ydata_profiling) (1.30)\n",
      "Requirement already satisfied: zipp>=3.20 in ./.venv/lib/python3.9/site-packages (from importlib_metadata>=3.6->typeguard<5,>=3->ydata_profiling) (3.23.0)\n",
      "Requirement already satisfied: annotated-types>=0.6.0 in ./.venv/lib/python3.9/site-packages (from pydantic>=2->ydata_profiling) (0.7.0)\n",
      "Requirement already satisfied: pydantic-core==2.33.2 in ./.venv/lib/python3.9/site-packages (from pydantic>=2->ydata_profiling) (2.33.2)\n",
      "Requirement already satisfied: typing-inspection>=0.4.0 in ./.venv/lib/python3.9/site-packages (from pydantic>=2->ydata_profiling) (0.4.1)\n",
      "Requirement already satisfied: six>=1.5 in ./.venv/lib/python3.9/site-packages (from python-dateutil>=2.7->matplotlib<=3.10,>=3.5->ydata_profiling) (1.17.0)\n",
      "Requirement already satisfied: facets-overview in ./.venv/lib/python3.9/site-packages (1.1.1)\n",
      "Requirement already satisfied: numpy>=1.16.0 in ./.venv/lib/python3.9/site-packages (from facets-overview) (2.0.2)\n",
      "Requirement already satisfied: pandas>=0.22.0 in ./.venv/lib/python3.9/site-packages (from facets-overview) (2.3.1)\n",
      "Requirement already satisfied: protobuf>=3.20.0 in ./.venv/lib/python3.9/site-packages (from facets-overview) (6.31.1)\n",
      "Requirement already satisfied: python-dateutil>=2.8.2 in ./.venv/lib/python3.9/site-packages (from pandas>=0.22.0->facets-overview) (2.9.0.post0)\n",
      "Requirement already satisfied: pytz>=2020.1 in ./.venv/lib/python3.9/site-packages (from pandas>=0.22.0->facets-overview) (2025.2)\n",
      "Requirement already satisfied: tzdata>=2022.7 in ./.venv/lib/python3.9/site-packages (from pandas>=0.22.0->facets-overview) (2025.2)\n",
      "Requirement already satisfied: six>=1.5 in ./.venv/lib/python3.9/site-packages (from python-dateutil>=2.8.2->pandas>=0.22.0->facets-overview) (1.17.0)\n",
      "Requirement already satisfied: holidays in ./.venv/lib/python3.9/site-packages (0.77)\n",
      "Requirement already satisfied: python-dateutil in ./.venv/lib/python3.9/site-packages (from holidays) (2.9.0.post0)\n",
      "Requirement already satisfied: six>=1.5 in ./.venv/lib/python3.9/site-packages (from python-dateutil->holidays) (1.17.0)\n"
     ]
    }
   ],
   "source": [
    "!pip install evidently\n",
    "!pip install ydata_profiling\n",
    "!pip install facets-overview\n",
    "!pip install holidays"
   ]
  },
  {
   "cell_type": "code",
   "execution_count": 186,
   "metadata": {
    "ExecuteTime": {
     "end_time": "2025-07-31T08:08:02.895018Z",
     "start_time": "2025-07-31T08:07:47.923308Z"
    },
    "execution": {
     "iopub.execute_input": "2025-07-24T09:50:36.213529Z",
     "iopub.status.busy": "2025-07-24T09:50:36.213244Z",
     "iopub.status.idle": "2025-07-24T09:50:38.995194Z",
     "shell.execute_reply": "2025-07-24T09:50:38.994297Z",
     "shell.execute_reply.started": "2025-07-24T09:50:36.213508Z"
    },
    "trusted": true
   },
   "outputs": [],
   "source": [
    "import pandas as pd\n",
    "import holidays\n",
    "import numpy as np\n",
    "\n",
    "from sklearn.model_selection import train_test_split\n",
    "from sklearn.ensemble import RandomForestClassifier  # пример модели\n",
    "from sklearn.metrics import accuracy_score\n",
    "\n",
    "from IPython.core.display import HTML, display_html\n",
    "import base64\n",
    "from facets_overview.generic_feature_statistics_generator import GenericFeatureStatisticsGenerator\n",
    "\n",
    "from ydata_profiling import ProfileReport\n",
    "\n",
    "from evidently import Dataset, DataDefinition, Report\n",
    "from evidently.presets import DataDriftPreset, DataSummaryPreset"
   ]
  },
  {
   "cell_type": "markdown",
   "metadata": {},
   "source": [
    "# Load data and EDA"
   ]
  },
  {
   "cell_type": "code",
   "execution_count": 187,
   "metadata": {
    "ExecuteTime": {
     "end_time": "2025-07-31T07:59:48.961873Z",
     "start_time": "2025-07-31T07:59:48.905380Z"
    },
    "execution": {
     "iopub.execute_input": "2025-07-24T09:59:02.901212Z",
     "iopub.status.busy": "2025-07-24T09:59:02.900935Z",
     "iopub.status.idle": "2025-07-24T09:59:03.002333Z",
     "shell.execute_reply": "2025-07-24T09:59:03.001560Z",
     "shell.execute_reply.started": "2025-07-24T09:59:02.901191Z"
    },
    "trusted": true
   },
   "outputs": [
    {
     "data": {
      "text/html": [
       "<div>\n",
       "<style scoped>\n",
       "    .dataframe tbody tr th:only-of-type {\n",
       "        vertical-align: middle;\n",
       "    }\n",
       "\n",
       "    .dataframe tbody tr th {\n",
       "        vertical-align: top;\n",
       "    }\n",
       "\n",
       "    .dataframe thead th {\n",
       "        text-align: right;\n",
       "    }\n",
       "</style>\n",
       "<table border=\"1\" class=\"dataframe\">\n",
       "  <thead>\n",
       "    <tr style=\"text-align: right;\">\n",
       "      <th></th>\n",
       "      <th>Booking_ID</th>\n",
       "      <th>no_of_adults</th>\n",
       "      <th>no_of_children</th>\n",
       "      <th>no_of_weekend_nights</th>\n",
       "      <th>no_of_week_nights</th>\n",
       "      <th>type_of_meal_plan</th>\n",
       "      <th>required_car_parking_space</th>\n",
       "      <th>room_type_reserved</th>\n",
       "      <th>lead_time</th>\n",
       "      <th>arrival_year</th>\n",
       "      <th>arrival_month</th>\n",
       "      <th>arrival_date</th>\n",
       "      <th>market_segment_type</th>\n",
       "      <th>repeated_guest</th>\n",
       "      <th>no_of_previous_cancellations</th>\n",
       "      <th>no_of_previous_bookings_not_canceled</th>\n",
       "      <th>avg_price_per_room</th>\n",
       "      <th>no_of_special_requests</th>\n",
       "      <th>booking_status</th>\n",
       "    </tr>\n",
       "  </thead>\n",
       "  <tbody>\n",
       "    <tr>\n",
       "      <th>0</th>\n",
       "      <td>INN00001</td>\n",
       "      <td>2</td>\n",
       "      <td>0</td>\n",
       "      <td>1</td>\n",
       "      <td>2</td>\n",
       "      <td>Meal Plan 1</td>\n",
       "      <td>0</td>\n",
       "      <td>Room_Type 1</td>\n",
       "      <td>224</td>\n",
       "      <td>2017</td>\n",
       "      <td>10</td>\n",
       "      <td>2</td>\n",
       "      <td>Offline</td>\n",
       "      <td>0</td>\n",
       "      <td>0</td>\n",
       "      <td>0</td>\n",
       "      <td>65.00</td>\n",
       "      <td>0</td>\n",
       "      <td>Not_Canceled</td>\n",
       "    </tr>\n",
       "    <tr>\n",
       "      <th>1</th>\n",
       "      <td>INN00002</td>\n",
       "      <td>2</td>\n",
       "      <td>0</td>\n",
       "      <td>2</td>\n",
       "      <td>3</td>\n",
       "      <td>Not Selected</td>\n",
       "      <td>0</td>\n",
       "      <td>Room_Type 1</td>\n",
       "      <td>5</td>\n",
       "      <td>2018</td>\n",
       "      <td>11</td>\n",
       "      <td>6</td>\n",
       "      <td>Online</td>\n",
       "      <td>0</td>\n",
       "      <td>0</td>\n",
       "      <td>0</td>\n",
       "      <td>106.68</td>\n",
       "      <td>1</td>\n",
       "      <td>Not_Canceled</td>\n",
       "    </tr>\n",
       "    <tr>\n",
       "      <th>2</th>\n",
       "      <td>INN00003</td>\n",
       "      <td>1</td>\n",
       "      <td>0</td>\n",
       "      <td>2</td>\n",
       "      <td>1</td>\n",
       "      <td>Meal Plan 1</td>\n",
       "      <td>0</td>\n",
       "      <td>Room_Type 1</td>\n",
       "      <td>1</td>\n",
       "      <td>2018</td>\n",
       "      <td>2</td>\n",
       "      <td>28</td>\n",
       "      <td>Online</td>\n",
       "      <td>0</td>\n",
       "      <td>0</td>\n",
       "      <td>0</td>\n",
       "      <td>60.00</td>\n",
       "      <td>0</td>\n",
       "      <td>Canceled</td>\n",
       "    </tr>\n",
       "  </tbody>\n",
       "</table>\n",
       "</div>"
      ],
      "text/plain": [
       "  Booking_ID  no_of_adults  no_of_children  no_of_weekend_nights  \\\n",
       "0   INN00001             2               0                     1   \n",
       "1   INN00002             2               0                     2   \n",
       "2   INN00003             1               0                     2   \n",
       "\n",
       "   no_of_week_nights type_of_meal_plan  required_car_parking_space  \\\n",
       "0                  2       Meal Plan 1                           0   \n",
       "1                  3      Not Selected                           0   \n",
       "2                  1       Meal Plan 1                           0   \n",
       "\n",
       "  room_type_reserved  lead_time  arrival_year  arrival_month  arrival_date  \\\n",
       "0        Room_Type 1        224          2017             10             2   \n",
       "1        Room_Type 1          5          2018             11             6   \n",
       "2        Room_Type 1          1          2018              2            28   \n",
       "\n",
       "  market_segment_type  repeated_guest  no_of_previous_cancellations  \\\n",
       "0             Offline               0                             0   \n",
       "1              Online               0                             0   \n",
       "2              Online               0                             0   \n",
       "\n",
       "   no_of_previous_bookings_not_canceled  avg_price_per_room  \\\n",
       "0                                     0               65.00   \n",
       "1                                     0              106.68   \n",
       "2                                     0               60.00   \n",
       "\n",
       "   no_of_special_requests booking_status  \n",
       "0                       0   Not_Canceled  \n",
       "1                       1   Not_Canceled  \n",
       "2                       0       Canceled  "
      ]
     },
     "execution_count": 187,
     "metadata": {},
     "output_type": "execute_result"
    }
   ],
   "source": [
    "df = pd.read_csv('Hotel Reservations.csv')\n",
    "df.head(3)"
   ]
  },
  {
   "cell_type": "code",
   "execution_count": 188,
   "metadata": {
    "ExecuteTime": {
     "end_time": "2025-07-31T07:59:53.652986Z",
     "start_time": "2025-07-31T07:59:50.786034Z"
    },
    "execution": {
     "iopub.execute_input": "2025-07-24T09:00:04.707016Z",
     "iopub.status.busy": "2025-07-24T09:00:04.706725Z",
     "iopub.status.idle": "2025-07-24T09:00:14.576312Z",
     "shell.execute_reply": "2025-07-24T09:00:14.574939Z",
     "shell.execute_reply.started": "2025-07-24T09:00:04.706991Z"
    },
    "trusted": true
   },
   "outputs": [
    {
     "data": {
      "application/vnd.jupyter.widget-view+json": {
       "model_id": "36cf8676928344d2a819857de3d28b8a",
       "version_major": 2,
       "version_minor": 0
      },
      "text/plain": [
       "Summarize dataset:   0%|          | 0/5 [00:00<?, ?it/s]"
      ]
     },
     "metadata": {},
     "output_type": "display_data"
    },
    {
     "name": "stderr",
     "output_type": "stream",
     "text": [
      "100%|██████████| 19/19 [00:00<00:00, 276.14it/s]\n"
     ]
    },
    {
     "data": {
      "application/vnd.jupyter.widget-view+json": {
       "model_id": "48a5f11c939f4fc88dd89e3b3606e20c",
       "version_major": 2,
       "version_minor": 0
      },
      "text/plain": [
       "Generate report structure:   0%|          | 0/1 [00:00<?, ?it/s]"
      ]
     },
     "metadata": {},
     "output_type": "display_data"
    },
    {
     "data": {
      "application/vnd.jupyter.widget-view+json": {
       "model_id": "8f0aaf3133da4f0c834c0a6f0509012c",
       "version_major": 2,
       "version_minor": 0
      },
      "text/plain": [
       "Render HTML:   0%|          | 0/1 [00:00<?, ?it/s]"
      ]
     },
     "metadata": {},
     "output_type": "display_data"
    },
    {
     "data": {
      "application/vnd.jupyter.widget-view+json": {
       "model_id": "cabdb1aa39664a8caff2e792b3363678",
       "version_major": 2,
       "version_minor": 0
      },
      "text/plain": [
       "Export report to file:   0%|          | 0/1 [00:00<?, ?it/s]"
      ]
     },
     "metadata": {},
     "output_type": "display_data"
    }
   ],
   "source": [
    "profile = ProfileReport(df, title=\"Hotel Bookings Profiling\", minimal=True)\n",
    "\n",
    "profile.to_file(\"report.html\")"
   ]
  },
  {
   "cell_type": "code",
   "execution_count": 189,
   "metadata": {
    "ExecuteTime": {
     "end_time": "2025-07-31T07:59:55.783427Z",
     "start_time": "2025-07-31T07:59:55.769743Z"
    },
    "execution": {
     "iopub.execute_input": "2025-07-24T09:00:14.579023Z",
     "iopub.status.busy": "2025-07-24T09:00:14.578628Z",
     "iopub.status.idle": "2025-07-24T09:00:14.602149Z",
     "shell.execute_reply": "2025-07-24T09:00:14.601236Z",
     "shell.execute_reply.started": "2025-07-24T09:00:14.578993Z"
    },
    "trusted": true
   },
   "outputs": [
    {
     "name": "stdout",
     "output_type": "stream",
     "text": [
      "<class 'pandas.core.frame.DataFrame'>\n",
      "RangeIndex: 36275 entries, 0 to 36274\n",
      "Data columns (total 19 columns):\n",
      " #   Column                                Non-Null Count  Dtype  \n",
      "---  ------                                --------------  -----  \n",
      " 0   Booking_ID                            36275 non-null  object \n",
      " 1   no_of_adults                          36275 non-null  int64  \n",
      " 2   no_of_children                        36275 non-null  int64  \n",
      " 3   no_of_weekend_nights                  36275 non-null  int64  \n",
      " 4   no_of_week_nights                     36275 non-null  int64  \n",
      " 5   type_of_meal_plan                     36275 non-null  object \n",
      " 6   required_car_parking_space            36275 non-null  int64  \n",
      " 7   room_type_reserved                    36275 non-null  object \n",
      " 8   lead_time                             36275 non-null  int64  \n",
      " 9   arrival_year                          36275 non-null  int64  \n",
      " 10  arrival_month                         36275 non-null  int64  \n",
      " 11  arrival_date                          36275 non-null  int64  \n",
      " 12  market_segment_type                   36275 non-null  object \n",
      " 13  repeated_guest                        36275 non-null  int64  \n",
      " 14  no_of_previous_cancellations          36275 non-null  int64  \n",
      " 15  no_of_previous_bookings_not_canceled  36275 non-null  int64  \n",
      " 16  avg_price_per_room                    36275 non-null  float64\n",
      " 17  no_of_special_requests                36275 non-null  int64  \n",
      " 18  booking_status                        36275 non-null  object \n",
      "dtypes: float64(1), int64(13), object(5)\n",
      "memory usage: 5.3+ MB\n"
     ]
    }
   ],
   "source": [
    "df.info()"
   ]
  },
  {
   "cell_type": "markdown",
   "metadata": {},
   "source": [
    "# Feature Genering"
   ]
  },
  {
   "cell_type": "code",
   "execution_count": 190,
   "metadata": {},
   "outputs": [],
   "source": [
    "ru_holidays = holidays.RU()\n",
    "\n",
    "meal_codes = {\n",
    "    'Not Selected': 0,\n",
    "    'Meal Plan 1': 1,\n",
    "    'Meal Plan 2': 2,\n",
    "    'Meal Plan 3': 3\n",
    "}\n",
    "\n",
    "def target_to_int(df):\n",
    "    df['booking_status'] = (df['booking_status'] == 'Canceled').astype('int64')\n",
    "    return df\n",
    "\n",
    "def market_to_int(df):\n",
    "    df['market_segment_type'] = (df['market_segment_type'] == 'Offline').astype('int64')\n",
    "    return df\n",
    "\n",
    "def set_meal_codes(x):\n",
    "    return meal_codes.get(x, 0)\n"
   ]
  },
  {
   "cell_type": "code",
   "execution_count": 192,
   "metadata": {},
   "outputs": [],
   "source": [
    "df = target_to_int(df)\n",
    "\n",
    "df['date'] = pd.to_datetime({\n",
    "    'year': df['arrival_year'].astype(int),\n",
    "    'month': df['arrival_month'].astype(int),\n",
    "    'day': df['arrival_date'].astype(int)\n",
    "}, errors='coerce')\n",
    "\n",
    "df['is_holiday'] = df['date'].isin(ru_holidays).astype(int)\n",
    "df['is_weekend'] = (df['date'].dt.weekday >= 5).astype(int)\n",
    "\n",
    "df[\"type_of_meal_plan\"] = df[\"type_of_meal_plan\"].apply(set_meal_codes)\n",
    "df[\"room_type_reserved\"] = df[\"room_type_reserved\"].apply(lambda x: int(x.split()[-1]))\n"
   ]
  },
  {
   "cell_type": "code",
   "execution_count": 193,
   "metadata": {},
   "outputs": [
    {
     "data": {
      "text/plain": [
       "market_segment_type\n",
       "Aviation         0.0\n",
       "Complementary    0.0\n",
       "Corporate        0.0\n",
       "Offline          0.0\n",
       "Online           0.0\n",
       "Name: booking_status, dtype: float64"
      ]
     },
     "execution_count": 193,
     "metadata": {},
     "output_type": "execute_result"
    }
   ],
   "source": [
    "df.groupby('market_segment_type')['booking_status'].mean()"
   ]
  },
  {
   "cell_type": "code",
   "execution_count": 194,
   "metadata": {},
   "outputs": [
    {
     "data": {
      "text/plain": [
       "market_segment_type\n",
       "Aviation           125\n",
       "Complementary      391\n",
       "Corporate         2017\n",
       "Offline          10528\n",
       "Online           23214\n",
       "Name: booking_status, dtype: int64"
      ]
     },
     "execution_count": 194,
     "metadata": {},
     "output_type": "execute_result"
    }
   ],
   "source": [
    "df.groupby('market_segment_type')['booking_status'].count()"
   ]
  },
  {
   "cell_type": "code",
   "execution_count": null,
   "metadata": {},
   "outputs": [
    {
     "data": {
      "text/html": [
       "<div>\n",
       "<style scoped>\n",
       "    .dataframe tbody tr th:only-of-type {\n",
       "        vertical-align: middle;\n",
       "    }\n",
       "\n",
       "    .dataframe tbody tr th {\n",
       "        vertical-align: top;\n",
       "    }\n",
       "\n",
       "    .dataframe thead th {\n",
       "        text-align: right;\n",
       "    }\n",
       "</style>\n",
       "<table border=\"1\" class=\"dataframe\">\n",
       "  <thead>\n",
       "    <tr style=\"text-align: right;\">\n",
       "      <th></th>\n",
       "      <th>arrival_year</th>\n",
       "      <th>arrival_month</th>\n",
       "      <th>arrival_date</th>\n",
       "    </tr>\n",
       "  </thead>\n",
       "  <tbody>\n",
       "    <tr>\n",
       "      <th>9388</th>\n",
       "      <td>2018</td>\n",
       "      <td>12</td>\n",
       "      <td>31</td>\n",
       "    </tr>\n",
       "    <tr>\n",
       "      <th>10759</th>\n",
       "      <td>2018</td>\n",
       "      <td>12</td>\n",
       "      <td>31</td>\n",
       "    </tr>\n",
       "    <tr>\n",
       "      <th>10345</th>\n",
       "      <td>2018</td>\n",
       "      <td>12</td>\n",
       "      <td>31</td>\n",
       "    </tr>\n",
       "    <tr>\n",
       "      <th>2626</th>\n",
       "      <td>2018</td>\n",
       "      <td>2</td>\n",
       "      <td>29</td>\n",
       "    </tr>\n",
       "    <tr>\n",
       "      <th>3677</th>\n",
       "      <td>2018</td>\n",
       "      <td>2</td>\n",
       "      <td>29</td>\n",
       "    </tr>\n",
       "    <tr>\n",
       "      <th>5600</th>\n",
       "      <td>2018</td>\n",
       "      <td>2</td>\n",
       "      <td>29</td>\n",
       "    </tr>\n",
       "    <tr>\n",
       "      <th>6343</th>\n",
       "      <td>2018</td>\n",
       "      <td>2</td>\n",
       "      <td>29</td>\n",
       "    </tr>\n",
       "    <tr>\n",
       "      <th>7648</th>\n",
       "      <td>2018</td>\n",
       "      <td>2</td>\n",
       "      <td>29</td>\n",
       "    </tr>\n",
       "    <tr>\n",
       "      <th>8000</th>\n",
       "      <td>2018</td>\n",
       "      <td>2</td>\n",
       "      <td>29</td>\n",
       "    </tr>\n",
       "    <tr>\n",
       "      <th>8989</th>\n",
       "      <td>2018</td>\n",
       "      <td>2</td>\n",
       "      <td>29</td>\n",
       "    </tr>\n",
       "    <tr>\n",
       "      <th>9153</th>\n",
       "      <td>2018</td>\n",
       "      <td>2</td>\n",
       "      <td>29</td>\n",
       "    </tr>\n",
       "    <tr>\n",
       "      <th>9245</th>\n",
       "      <td>2018</td>\n",
       "      <td>2</td>\n",
       "      <td>29</td>\n",
       "    </tr>\n",
       "    <tr>\n",
       "      <th>9664</th>\n",
       "      <td>2018</td>\n",
       "      <td>2</td>\n",
       "      <td>29</td>\n",
       "    </tr>\n",
       "    <tr>\n",
       "      <th>9934</th>\n",
       "      <td>2018</td>\n",
       "      <td>2</td>\n",
       "      <td>29</td>\n",
       "    </tr>\n",
       "    <tr>\n",
       "      <th>10593</th>\n",
       "      <td>2018</td>\n",
       "      <td>2</td>\n",
       "      <td>29</td>\n",
       "    </tr>\n",
       "    <tr>\n",
       "      <th>10652</th>\n",
       "      <td>2018</td>\n",
       "      <td>2</td>\n",
       "      <td>29</td>\n",
       "    </tr>\n",
       "    <tr>\n",
       "      <th>10747</th>\n",
       "      <td>2018</td>\n",
       "      <td>2</td>\n",
       "      <td>29</td>\n",
       "    </tr>\n",
       "    <tr>\n",
       "      <th>11881</th>\n",
       "      <td>2018</td>\n",
       "      <td>2</td>\n",
       "      <td>29</td>\n",
       "    </tr>\n",
       "    <tr>\n",
       "      <th>13958</th>\n",
       "      <td>2018</td>\n",
       "      <td>2</td>\n",
       "      <td>29</td>\n",
       "    </tr>\n",
       "    <tr>\n",
       "      <th>14304</th>\n",
       "      <td>2018</td>\n",
       "      <td>2</td>\n",
       "      <td>29</td>\n",
       "    </tr>\n",
       "    <tr>\n",
       "      <th>15363</th>\n",
       "      <td>2018</td>\n",
       "      <td>2</td>\n",
       "      <td>29</td>\n",
       "    </tr>\n",
       "    <tr>\n",
       "      <th>15438</th>\n",
       "      <td>2018</td>\n",
       "      <td>2</td>\n",
       "      <td>29</td>\n",
       "    </tr>\n",
       "    <tr>\n",
       "      <th>17202</th>\n",
       "      <td>2018</td>\n",
       "      <td>2</td>\n",
       "      <td>29</td>\n",
       "    </tr>\n",
       "    <tr>\n",
       "      <th>18380</th>\n",
       "      <td>2018</td>\n",
       "      <td>2</td>\n",
       "      <td>29</td>\n",
       "    </tr>\n",
       "    <tr>\n",
       "      <th>18534</th>\n",
       "      <td>2018</td>\n",
       "      <td>2</td>\n",
       "      <td>29</td>\n",
       "    </tr>\n",
       "    <tr>\n",
       "      <th>18680</th>\n",
       "      <td>2018</td>\n",
       "      <td>2</td>\n",
       "      <td>29</td>\n",
       "    </tr>\n",
       "    <tr>\n",
       "      <th>19013</th>\n",
       "      <td>2018</td>\n",
       "      <td>2</td>\n",
       "      <td>29</td>\n",
       "    </tr>\n",
       "    <tr>\n",
       "      <th>20419</th>\n",
       "      <td>2018</td>\n",
       "      <td>2</td>\n",
       "      <td>29</td>\n",
       "    </tr>\n",
       "    <tr>\n",
       "      <th>21674</th>\n",
       "      <td>2018</td>\n",
       "      <td>2</td>\n",
       "      <td>29</td>\n",
       "    </tr>\n",
       "    <tr>\n",
       "      <th>21688</th>\n",
       "      <td>2018</td>\n",
       "      <td>2</td>\n",
       "      <td>29</td>\n",
       "    </tr>\n",
       "    <tr>\n",
       "      <th>26108</th>\n",
       "      <td>2018</td>\n",
       "      <td>2</td>\n",
       "      <td>29</td>\n",
       "    </tr>\n",
       "    <tr>\n",
       "      <th>27559</th>\n",
       "      <td>2018</td>\n",
       "      <td>2</td>\n",
       "      <td>29</td>\n",
       "    </tr>\n",
       "    <tr>\n",
       "      <th>27928</th>\n",
       "      <td>2018</td>\n",
       "      <td>2</td>\n",
       "      <td>29</td>\n",
       "    </tr>\n",
       "    <tr>\n",
       "      <th>30552</th>\n",
       "      <td>2018</td>\n",
       "      <td>2</td>\n",
       "      <td>29</td>\n",
       "    </tr>\n",
       "    <tr>\n",
       "      <th>30616</th>\n",
       "      <td>2018</td>\n",
       "      <td>2</td>\n",
       "      <td>29</td>\n",
       "    </tr>\n",
       "    <tr>\n",
       "      <th>30632</th>\n",
       "      <td>2018</td>\n",
       "      <td>2</td>\n",
       "      <td>29</td>\n",
       "    </tr>\n",
       "    <tr>\n",
       "      <th>30839</th>\n",
       "      <td>2018</td>\n",
       "      <td>2</td>\n",
       "      <td>29</td>\n",
       "    </tr>\n",
       "    <tr>\n",
       "      <th>32041</th>\n",
       "      <td>2018</td>\n",
       "      <td>2</td>\n",
       "      <td>29</td>\n",
       "    </tr>\n",
       "    <tr>\n",
       "      <th>34638</th>\n",
       "      <td>2018</td>\n",
       "      <td>2</td>\n",
       "      <td>29</td>\n",
       "    </tr>\n",
       "    <tr>\n",
       "      <th>35481</th>\n",
       "      <td>2018</td>\n",
       "      <td>2</td>\n",
       "      <td>29</td>\n",
       "    </tr>\n",
       "  </tbody>\n",
       "</table>\n",
       "</div>"
      ],
      "text/plain": [
       "       arrival_year  arrival_month  arrival_date\n",
       "9388           2018             12            31\n",
       "10759          2018             12            31\n",
       "10345          2018             12            31\n",
       "2626           2018              2            29\n",
       "3677           2018              2            29\n",
       "5600           2018              2            29\n",
       "6343           2018              2            29\n",
       "7648           2018              2            29\n",
       "8000           2018              2            29\n",
       "8989           2018              2            29\n",
       "9153           2018              2            29\n",
       "9245           2018              2            29\n",
       "9664           2018              2            29\n",
       "9934           2018              2            29\n",
       "10593          2018              2            29\n",
       "10652          2018              2            29\n",
       "10747          2018              2            29\n",
       "11881          2018              2            29\n",
       "13958          2018              2            29\n",
       "14304          2018              2            29\n",
       "15363          2018              2            29\n",
       "15438          2018              2            29\n",
       "17202          2018              2            29\n",
       "18380          2018              2            29\n",
       "18534          2018              2            29\n",
       "18680          2018              2            29\n",
       "19013          2018              2            29\n",
       "20419          2018              2            29\n",
       "21674          2018              2            29\n",
       "21688          2018              2            29\n",
       "26108          2018              2            29\n",
       "27559          2018              2            29\n",
       "27928          2018              2            29\n",
       "30552          2018              2            29\n",
       "30616          2018              2            29\n",
       "30632          2018              2            29\n",
       "30839          2018              2            29\n",
       "32041          2018              2            29\n",
       "34638          2018              2            29\n",
       "35481          2018              2            29"
      ]
     },
     "execution_count": 206,
     "metadata": {},
     "output_type": "execute_result"
    }
   ],
   "source": [
    "df = df.sort_values(by='date')\n"
   ]
  },
  {
   "cell_type": "markdown",
   "metadata": {},
   "source": [
    "# prepare df for ML"
   ]
  },
  {
   "cell_type": "markdown",
   "metadata": {},
   "source": [
    "There are ~2500 corporate, aviation and complementary orders. We will not use overbooking among them"
   ]
  },
  {
   "cell_type": "code",
   "execution_count": 176,
   "metadata": {},
   "outputs": [],
   "source": [
    "df_not_commercial = df[(df[\"market_segment_type\"]== \"Offline\") | (df[\"market_segment_type\"]== \"Online\")]\n",
    "\n",
    "df_ml = df_not_commercial.drop(columns=[\"date\", \"Booking_ID\"], axis=1)\n",
    "df_ml = market_to_int(df_ml)\n",
    "\n",
    "X = df_ml.drop(columns=[\"booking_status\"], axis=1)\n",
    "y = df_ml[\"booking_status\"]\n",
    "\n",
    "X_train, X_test, y_train, y_test = train_test_split(\n",
    "    X, y, test_size=0.2, random_state=239\n",
    ")\n",
    "\n",
    "model = RandomForestClassifier(random_state=239)"
   ]
  },
  {
   "cell_type": "code",
   "execution_count": null,
   "metadata": {},
   "outputs": [
    {
     "name": "stdout",
     "output_type": "stream",
     "text": [
      "Точность модели на тестовых данных: 0.90\n"
     ]
    }
   ],
   "source": [
    "model.fit(X_train, y_train)\n",
    "\n",
    "y_pred = model.predict(X_test)\n",
    "accuracy = accuracy_score(y_test, y_pred)\n",
    "print(f'Точность модели на тестовых данных: {accuracy:.2f}')"
   ]
  },
  {
   "cell_type": "markdown",
   "metadata": {},
   "source": [
    "# Calculate historical data"
   ]
  },
  {
   "cell_type": "code",
   "execution_count": 178,
   "metadata": {
    "execution": {
     "iopub.execute_input": "2025-07-24T10:14:03.838177Z",
     "iopub.status.busy": "2025-07-24T10:14:03.837834Z",
     "iopub.status.idle": "2025-07-24T10:14:03.842878Z",
     "shell.execute_reply": "2025-07-24T10:14:03.842048Z",
     "shell.execute_reply.started": "2025-07-24T10:14:03.838153Z"
    },
    "trusted": true
   },
   "outputs": [],
   "source": [
    "T = 10000\n",
    "his_df = df[:T]"
   ]
  },
  {
   "cell_type": "code",
   "execution_count": 179,
   "metadata": {
    "execution": {
     "iopub.execute_input": "2025-07-24T10:14:04.165512Z",
     "iopub.status.busy": "2025-07-24T10:14:04.165226Z",
     "iopub.status.idle": "2025-07-24T10:14:04.171650Z",
     "shell.execute_reply": "2025-07-24T10:14:04.171046Z",
     "shell.execute_reply.started": "2025-07-24T10:14:04.165492Z"
    },
    "trusted": true
   },
   "outputs": [
    {
     "data": {
      "text/plain": [
       "np.float64(0.3245)"
      ]
     },
     "execution_count": 179,
     "metadata": {},
     "output_type": "execute_result"
    }
   ],
   "source": [
    "P_his = his_df['booking_status'].sum() / T\n",
    "P_his"
   ]
  },
  {
   "cell_type": "code",
   "execution_count": 180,
   "metadata": {
    "execution": {
     "iopub.execute_input": "2025-07-24T10:14:28.281524Z",
     "iopub.status.busy": "2025-07-24T10:14:28.281238Z",
     "iopub.status.idle": "2025-07-24T10:14:28.287355Z",
     "shell.execute_reply": "2025-07-24T10:14:28.286521Z",
     "shell.execute_reply.started": "2025-07-24T10:14:28.281504Z"
    },
    "trusted": true
   },
   "outputs": [
    {
     "data": {
      "text/plain": [
       "np.float64(103.48248799999999)"
      ]
     },
     "execution_count": 180,
     "metadata": {},
     "output_type": "execute_result"
    }
   ],
   "source": [
    "Avg_rev_his = his_df['avg_price_per_room'].sum() / T\n",
    "Avg_rev_his"
   ]
  },
  {
   "cell_type": "code",
   "execution_count": 181,
   "metadata": {
    "execution": {
     "iopub.execute_input": "2025-07-24T10:15:02.885052Z",
     "iopub.status.busy": "2025-07-24T10:15:02.884759Z",
     "iopub.status.idle": "2025-07-24T10:15:02.890798Z",
     "shell.execute_reply": "2025-07-24T10:15:02.889874Z",
     "shell.execute_reply.started": "2025-07-24T10:15:02.885027Z"
    },
    "trusted": true
   },
   "outputs": [
    {
     "data": {
      "text/plain": [
       "np.float64(335800.67355999997)"
      ]
     },
     "execution_count": 181,
     "metadata": {},
     "output_type": "execute_result"
    }
   ],
   "source": [
    "Loss = P_his * T * Avg_rev_his\n",
    "Loss"
   ]
  },
  {
   "cell_type": "code",
   "execution_count": null,
   "metadata": {
    "trusted": true
   },
   "outputs": [],
   "source": []
  }
 ],
 "metadata": {
  "kaggle": {
   "accelerator": "none",
   "dataSources": [
    {
     "datasetId": 2783627,
     "sourceId": 4807272,
     "sourceType": "datasetVersion"
    }
   ],
   "dockerImageVersionId": 31089,
   "isGpuEnabled": false,
   "isInternetEnabled": true,
   "language": "python",
   "sourceType": "notebook"
  },
  "kernelspec": {
   "display_name": ".venv",
   "language": "python",
   "name": "python3"
  },
  "language_info": {
   "codemirror_mode": {
    "name": "ipython",
    "version": 3
   },
   "file_extension": ".py",
   "mimetype": "text/x-python",
   "name": "python",
   "nbconvert_exporter": "python",
   "pygments_lexer": "ipython3",
   "version": "3.13.5"
  }
 },
 "nbformat": 4,
 "nbformat_minor": 4
}
