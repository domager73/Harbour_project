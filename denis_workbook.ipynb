{
 "cells": [
  {
   "cell_type": "markdown",
   "metadata": {},
   "source": [
    "# Import Libraris"
   ]
  },
  {
   "cell_type": "code",
   "execution_count": 160,
   "metadata": {
    "ExecuteTime": {
     "end_time": "2025-07-31T08:05:37.874025Z",
     "start_time": "2025-07-31T08:05:36.738065Z"
    }
   },
   "outputs": [
    {
     "name": "stdout",
     "output_type": "stream",
     "text": [
      "Requirement already satisfied: catboost in ./.venv/lib/python3.9/site-packages (1.2.8)\n",
      "Requirement already satisfied: graphviz in ./.venv/lib/python3.9/site-packages (from catboost) (0.21)\n",
      "Requirement already satisfied: matplotlib in ./.venv/lib/python3.9/site-packages (from catboost) (3.9.4)\n",
      "Requirement already satisfied: numpy<3.0,>=1.16.0 in ./.venv/lib/python3.9/site-packages (from catboost) (2.0.2)\n",
      "Requirement already satisfied: pandas>=0.24 in ./.venv/lib/python3.9/site-packages (from catboost) (2.3.1)\n",
      "Requirement already satisfied: scipy in ./.venv/lib/python3.9/site-packages (from catboost) (1.13.1)\n",
      "Requirement already satisfied: plotly in ./.venv/lib/python3.9/site-packages (from catboost) (5.24.1)\n",
      "Requirement already satisfied: six in ./.venv/lib/python3.9/site-packages (from catboost) (1.17.0)\n",
      "Requirement already satisfied: python-dateutil>=2.8.2 in ./.venv/lib/python3.9/site-packages (from pandas>=0.24->catboost) (2.9.0.post0)\n",
      "Requirement already satisfied: pytz>=2020.1 in ./.venv/lib/python3.9/site-packages (from pandas>=0.24->catboost) (2025.2)\n",
      "Requirement already satisfied: tzdata>=2022.7 in ./.venv/lib/python3.9/site-packages (from pandas>=0.24->catboost) (2025.2)\n",
      "Requirement already satisfied: contourpy>=1.0.1 in ./.venv/lib/python3.9/site-packages (from matplotlib->catboost) (1.3.0)\n",
      "Requirement already satisfied: cycler>=0.10 in ./.venv/lib/python3.9/site-packages (from matplotlib->catboost) (0.12.1)\n",
      "Requirement already satisfied: fonttools>=4.22.0 in ./.venv/lib/python3.9/site-packages (from matplotlib->catboost) (4.59.0)\n",
      "Requirement already satisfied: kiwisolver>=1.3.1 in ./.venv/lib/python3.9/site-packages (from matplotlib->catboost) (1.4.7)\n",
      "Requirement already satisfied: packaging>=20.0 in ./.venv/lib/python3.9/site-packages (from matplotlib->catboost) (25.0)\n",
      "Requirement already satisfied: pillow>=8 in ./.venv/lib/python3.9/site-packages (from matplotlib->catboost) (11.3.0)\n",
      "Requirement already satisfied: pyparsing>=2.3.1 in ./.venv/lib/python3.9/site-packages (from matplotlib->catboost) (3.2.3)\n",
      "Requirement already satisfied: importlib-resources>=3.2.0 in ./.venv/lib/python3.9/site-packages (from matplotlib->catboost) (6.5.2)\n",
      "Requirement already satisfied: zipp>=3.1.0 in ./.venv/lib/python3.9/site-packages (from importlib-resources>=3.2.0->matplotlib->catboost) (3.23.0)\n",
      "Requirement already satisfied: tenacity>=6.2.0 in ./.venv/lib/python3.9/site-packages (from plotly->catboost) (9.1.2)\n"
     ]
    }
   ],
   "source": [
    "# !pip install evidently\n",
    "# !pip install ydata_profiling\n",
    "# !pip install facets-overview\n",
    "# !pip install holidays\n",
    "!pip install catboost"
   ]
  },
  {
   "cell_type": "code",
   "execution_count": 161,
   "metadata": {
    "ExecuteTime": {
     "end_time": "2025-07-31T20:15:16.822568Z",
     "start_time": "2025-07-31T20:15:08.886299Z"
    },
    "execution": {
     "iopub.execute_input": "2025-07-24T09:50:36.213529Z",
     "iopub.status.busy": "2025-07-24T09:50:36.213244Z",
     "iopub.status.idle": "2025-07-24T09:50:38.995194Z",
     "shell.execute_reply": "2025-07-24T09:50:38.994297Z",
     "shell.execute_reply.started": "2025-07-24T09:50:36.213508Z"
    },
    "trusted": true
   },
   "outputs": [],
   "source": [
    "import pandas as pd\n",
    "import holidays\n",
    "import numpy as np\n",
    "import mlflow\n",
    "from mlflow import catboost\n",
    "\n",
    "from sklearn.model_selection import train_test_split\n",
    "from sklearn.ensemble import RandomForestClassifier\n",
    "from sklearn.metrics import accuracy_score, confusion_matrix, f1_score, roc_auc_score\n",
    "\n",
    "\n",
    "from IPython.core.display import HTML, display_html\n",
    "import base64\n",
    "from facets_overview.generic_feature_statistics_generator import GenericFeatureStatisticsGenerator\n",
    "\n",
    "from ydata_profiling import ProfileReport\n",
    "\n",
    "from evidently import Dataset, DataDefinition, Report\n",
    "from evidently.presets import DataDriftPreset, DataSummaryPreset"
   ]
  },
  {
   "cell_type": "markdown",
   "metadata": {},
   "source": [
    "# Load data and EDA"
   ]
  },
  {
   "cell_type": "code",
   "execution_count": 162,
   "metadata": {
    "ExecuteTime": {
     "end_time": "2025-07-31T20:15:16.884467Z",
     "start_time": "2025-07-31T20:15:16.835375Z"
    },
    "execution": {
     "iopub.execute_input": "2025-07-24T09:59:02.901212Z",
     "iopub.status.busy": "2025-07-24T09:59:02.900935Z",
     "iopub.status.idle": "2025-07-24T09:59:03.002333Z",
     "shell.execute_reply": "2025-07-24T09:59:03.001560Z",
     "shell.execute_reply.started": "2025-07-24T09:59:02.901191Z"
    },
    "trusted": true
   },
   "outputs": [
    {
     "data": {
      "text/html": [
       "<div>\n",
       "<style scoped>\n",
       "    .dataframe tbody tr th:only-of-type {\n",
       "        vertical-align: middle;\n",
       "    }\n",
       "\n",
       "    .dataframe tbody tr th {\n",
       "        vertical-align: top;\n",
       "    }\n",
       "\n",
       "    .dataframe thead th {\n",
       "        text-align: right;\n",
       "    }\n",
       "</style>\n",
       "<table border=\"1\" class=\"dataframe\">\n",
       "  <thead>\n",
       "    <tr style=\"text-align: right;\">\n",
       "      <th></th>\n",
       "      <th>Booking_ID</th>\n",
       "      <th>no_of_adults</th>\n",
       "      <th>no_of_children</th>\n",
       "      <th>no_of_weekend_nights</th>\n",
       "      <th>no_of_week_nights</th>\n",
       "      <th>type_of_meal_plan</th>\n",
       "      <th>required_car_parking_space</th>\n",
       "      <th>room_type_reserved</th>\n",
       "      <th>lead_time</th>\n",
       "      <th>arrival_year</th>\n",
       "      <th>arrival_month</th>\n",
       "      <th>arrival_date</th>\n",
       "      <th>market_segment_type</th>\n",
       "      <th>repeated_guest</th>\n",
       "      <th>no_of_previous_cancellations</th>\n",
       "      <th>no_of_previous_bookings_not_canceled</th>\n",
       "      <th>avg_price_per_room</th>\n",
       "      <th>no_of_special_requests</th>\n",
       "      <th>booking_status</th>\n",
       "    </tr>\n",
       "  </thead>\n",
       "  <tbody>\n",
       "    <tr>\n",
       "      <th>0</th>\n",
       "      <td>INN00001</td>\n",
       "      <td>2</td>\n",
       "      <td>0</td>\n",
       "      <td>1</td>\n",
       "      <td>2</td>\n",
       "      <td>Meal Plan 1</td>\n",
       "      <td>0</td>\n",
       "      <td>Room_Type 1</td>\n",
       "      <td>224</td>\n",
       "      <td>2017</td>\n",
       "      <td>10</td>\n",
       "      <td>2</td>\n",
       "      <td>Offline</td>\n",
       "      <td>0</td>\n",
       "      <td>0</td>\n",
       "      <td>0</td>\n",
       "      <td>65.00</td>\n",
       "      <td>0</td>\n",
       "      <td>Not_Canceled</td>\n",
       "    </tr>\n",
       "    <tr>\n",
       "      <th>1</th>\n",
       "      <td>INN00002</td>\n",
       "      <td>2</td>\n",
       "      <td>0</td>\n",
       "      <td>2</td>\n",
       "      <td>3</td>\n",
       "      <td>Not Selected</td>\n",
       "      <td>0</td>\n",
       "      <td>Room_Type 1</td>\n",
       "      <td>5</td>\n",
       "      <td>2018</td>\n",
       "      <td>11</td>\n",
       "      <td>6</td>\n",
       "      <td>Online</td>\n",
       "      <td>0</td>\n",
       "      <td>0</td>\n",
       "      <td>0</td>\n",
       "      <td>106.68</td>\n",
       "      <td>1</td>\n",
       "      <td>Not_Canceled</td>\n",
       "    </tr>\n",
       "    <tr>\n",
       "      <th>2</th>\n",
       "      <td>INN00003</td>\n",
       "      <td>1</td>\n",
       "      <td>0</td>\n",
       "      <td>2</td>\n",
       "      <td>1</td>\n",
       "      <td>Meal Plan 1</td>\n",
       "      <td>0</td>\n",
       "      <td>Room_Type 1</td>\n",
       "      <td>1</td>\n",
       "      <td>2018</td>\n",
       "      <td>2</td>\n",
       "      <td>28</td>\n",
       "      <td>Online</td>\n",
       "      <td>0</td>\n",
       "      <td>0</td>\n",
       "      <td>0</td>\n",
       "      <td>60.00</td>\n",
       "      <td>0</td>\n",
       "      <td>Canceled</td>\n",
       "    </tr>\n",
       "  </tbody>\n",
       "</table>\n",
       "</div>"
      ],
      "text/plain": [
       "  Booking_ID  no_of_adults  no_of_children  no_of_weekend_nights  \\\n",
       "0   INN00001             2               0                     1   \n",
       "1   INN00002             2               0                     2   \n",
       "2   INN00003             1               0                     2   \n",
       "\n",
       "   no_of_week_nights type_of_meal_plan  required_car_parking_space  \\\n",
       "0                  2       Meal Plan 1                           0   \n",
       "1                  3      Not Selected                           0   \n",
       "2                  1       Meal Plan 1                           0   \n",
       "\n",
       "  room_type_reserved  lead_time  arrival_year  arrival_month  arrival_date  \\\n",
       "0        Room_Type 1        224          2017             10             2   \n",
       "1        Room_Type 1          5          2018             11             6   \n",
       "2        Room_Type 1          1          2018              2            28   \n",
       "\n",
       "  market_segment_type  repeated_guest  no_of_previous_cancellations  \\\n",
       "0             Offline               0                             0   \n",
       "1              Online               0                             0   \n",
       "2              Online               0                             0   \n",
       "\n",
       "   no_of_previous_bookings_not_canceled  avg_price_per_room  \\\n",
       "0                                     0               65.00   \n",
       "1                                     0              106.68   \n",
       "2                                     0               60.00   \n",
       "\n",
       "   no_of_special_requests booking_status  \n",
       "0                       0   Not_Canceled  \n",
       "1                       1   Not_Canceled  \n",
       "2                       0       Canceled  "
      ]
     },
     "execution_count": 162,
     "metadata": {},
     "output_type": "execute_result"
    }
   ],
   "source": [
    "df = pd.read_csv('Hotel Reservations.csv')\n",
    "df.head(3)"
   ]
  },
  {
   "cell_type": "code",
   "execution_count": 163,
   "metadata": {
    "ExecuteTime": {
     "end_time": "2025-07-31T20:15:20.566266Z",
     "start_time": "2025-07-31T20:15:16.917817Z"
    },
    "execution": {
     "iopub.execute_input": "2025-07-24T09:00:04.707016Z",
     "iopub.status.busy": "2025-07-24T09:00:04.706725Z",
     "iopub.status.idle": "2025-07-24T09:00:14.576312Z",
     "shell.execute_reply": "2025-07-24T09:00:14.574939Z",
     "shell.execute_reply.started": "2025-07-24T09:00:04.706991Z"
    },
    "trusted": true
   },
   "outputs": [
    {
     "data": {
      "application/vnd.jupyter.widget-view+json": {
       "model_id": "7bd13d8ebc794ef3b9a4914c2fb919a8",
       "version_major": 2,
       "version_minor": 0
      },
      "text/plain": [
       "Summarize dataset:   0%|          | 0/5 [00:00<?, ?it/s]"
      ]
     },
     "metadata": {},
     "output_type": "display_data"
    },
    {
     "name": "stderr",
     "output_type": "stream",
     "text": [
      "100%|██████████| 19/19 [00:00<00:00, 63.61it/s]\n"
     ]
    },
    {
     "data": {
      "application/vnd.jupyter.widget-view+json": {
       "model_id": "d21c684601af4c6cb618e3c04843c7f1",
       "version_major": 2,
       "version_minor": 0
      },
      "text/plain": [
       "Generate report structure:   0%|          | 0/1 [00:00<?, ?it/s]"
      ]
     },
     "metadata": {},
     "output_type": "display_data"
    },
    {
     "data": {
      "application/vnd.jupyter.widget-view+json": {
       "model_id": "861b60c59c1345d88bdbe62cdc873d00",
       "version_major": 2,
       "version_minor": 0
      },
      "text/plain": [
       "Render HTML:   0%|          | 0/1 [00:00<?, ?it/s]"
      ]
     },
     "metadata": {},
     "output_type": "display_data"
    },
    {
     "data": {
      "application/vnd.jupyter.widget-view+json": {
       "model_id": "37099b71924a4cb18d0d846c1a803228",
       "version_major": 2,
       "version_minor": 0
      },
      "text/plain": [
       "Export report to file:   0%|          | 0/1 [00:00<?, ?it/s]"
      ]
     },
     "metadata": {},
     "output_type": "display_data"
    }
   ],
   "source": [
    "profile = ProfileReport(df, title=\"Hotel Bookings Profiling\", minimal=True)\n",
    "\n",
    "profile.to_file(\"report.html\")"
   ]
  },
  {
   "cell_type": "code",
   "execution_count": 164,
   "metadata": {
    "ExecuteTime": {
     "end_time": "2025-07-31T20:15:20.608907Z",
     "start_time": "2025-07-31T20:15:20.601609Z"
    },
    "execution": {
     "iopub.execute_input": "2025-07-24T09:00:14.579023Z",
     "iopub.status.busy": "2025-07-24T09:00:14.578628Z",
     "iopub.status.idle": "2025-07-24T09:00:14.602149Z",
     "shell.execute_reply": "2025-07-24T09:00:14.601236Z",
     "shell.execute_reply.started": "2025-07-24T09:00:14.578993Z"
    },
    "trusted": true
   },
   "outputs": [
    {
     "data": {
      "text/html": [
       "<div>\n",
       "<style scoped>\n",
       "    .dataframe tbody tr th:only-of-type {\n",
       "        vertical-align: middle;\n",
       "    }\n",
       "\n",
       "    .dataframe tbody tr th {\n",
       "        vertical-align: top;\n",
       "    }\n",
       "\n",
       "    .dataframe thead th {\n",
       "        text-align: right;\n",
       "    }\n",
       "</style>\n",
       "<table border=\"1\" class=\"dataframe\">\n",
       "  <thead>\n",
       "    <tr style=\"text-align: right;\">\n",
       "      <th></th>\n",
       "      <th>avg_price_per_room</th>\n",
       "      <th>no_of_weekend_nights</th>\n",
       "      <th>no_of_week_nights</th>\n",
       "    </tr>\n",
       "  </thead>\n",
       "  <tbody>\n",
       "    <tr>\n",
       "      <th>avg_price_per_room</th>\n",
       "      <td>1.000000</td>\n",
       "      <td>-0.004525</td>\n",
       "      <td>0.022753</td>\n",
       "    </tr>\n",
       "    <tr>\n",
       "      <th>no_of_weekend_nights</th>\n",
       "      <td>-0.004525</td>\n",
       "      <td>1.000000</td>\n",
       "      <td>0.179577</td>\n",
       "    </tr>\n",
       "    <tr>\n",
       "      <th>no_of_week_nights</th>\n",
       "      <td>0.022753</td>\n",
       "      <td>0.179577</td>\n",
       "      <td>1.000000</td>\n",
       "    </tr>\n",
       "  </tbody>\n",
       "</table>\n",
       "</div>"
      ],
      "text/plain": [
       "                      avg_price_per_room  no_of_weekend_nights  \\\n",
       "avg_price_per_room              1.000000             -0.004525   \n",
       "no_of_weekend_nights           -0.004525              1.000000   \n",
       "no_of_week_nights               0.022753              0.179577   \n",
       "\n",
       "                      no_of_week_nights  \n",
       "avg_price_per_room             0.022753  \n",
       "no_of_weekend_nights           0.179577  \n",
       "no_of_week_nights              1.000000  "
      ]
     },
     "execution_count": 164,
     "metadata": {},
     "output_type": "execute_result"
    }
   ],
   "source": [
    "df[[\"avg_price_per_room\", \"no_of_weekend_nights\", \"no_of_week_nights\"]].corr()"
   ]
  },
  {
   "cell_type": "markdown",
   "metadata": {},
   "source": [
    "# Feature Genering"
   ]
  },
  {
   "cell_type": "code",
   "execution_count": 165,
   "metadata": {
    "ExecuteTime": {
     "end_time": "2025-07-31T20:15:33.598209Z",
     "start_time": "2025-07-31T20:15:33.504854Z"
    }
   },
   "outputs": [],
   "source": [
    "ru_holidays = holidays.RU()\n",
    "\n",
    "meal_codes = {\n",
    "    'Not Selected': 0,\n",
    "    'Meal Plan 1': 1,\n",
    "    'Meal Plan 2': 2,\n",
    "    'Meal Plan 3': 3\n",
    "}\n",
    "\n",
    "def target_to_int(df):\n",
    "    df['booking_status'] = (df['booking_status'] == 'Canceled').astype('int64')\n",
    "    return df\n",
    "\n",
    "def market_to_int(df):\n",
    "    df['market_segment_type'] = (df['market_segment_type'] == 'Offline').astype('int64')\n",
    "    return df\n",
    "\n",
    "def set_meal_codes(x):\n",
    "    return meal_codes.get(x, 0)"
   ]
  },
  {
   "cell_type": "code",
   "execution_count": 166,
   "metadata": {
    "ExecuteTime": {
     "end_time": "2025-07-31T20:15:34.848363Z",
     "start_time": "2025-07-31T20:15:34.794084Z"
    }
   },
   "outputs": [],
   "source": [
    "df = target_to_int(df)\n",
    "\n",
    "df['date'] = pd.to_datetime({\n",
    "    'year': df['arrival_year'].astype(int),\n",
    "    'month': df['arrival_month'].astype(int),\n",
    "    'day': df['arrival_date'].astype(int)\n",
    "}, errors='coerce')\n",
    "\n",
    "df = df[df['date'].notna()]\n",
    "\n",
    "df['is_holiday'] = df['date'].isin(ru_holidays).astype(int)\n",
    "df['is_weekend'] = (df['date'].dt.weekday >= 5).astype(int)\n",
    "\n",
    "df[\"type_of_meal_plan\"] = df[\"type_of_meal_plan\"].apply(set_meal_codes)\n",
    "df[\"room_type_reserved\"] = df[\"room_type_reserved\"].apply(lambda x: int(x.split()[-1]))\n"
   ]
  },
  {
   "cell_type": "code",
   "execution_count": 167,
   "metadata": {
    "ExecuteTime": {
     "end_time": "2025-07-31T20:15:35.908731Z",
     "start_time": "2025-07-31T20:15:35.877677Z"
    }
   },
   "outputs": [
    {
     "data": {
      "text/plain": [
       "market_segment_type\n",
       "Aviation         0.296000\n",
       "Complementary    0.000000\n",
       "Corporate        0.109398\n",
       "Offline          0.299677\n",
       "Online           0.365138\n",
       "Name: booking_status, dtype: float64"
      ]
     },
     "execution_count": 167,
     "metadata": {},
     "output_type": "execute_result"
    }
   ],
   "source": [
    "df.groupby('market_segment_type')['booking_status'].mean()"
   ]
  },
  {
   "cell_type": "code",
   "execution_count": 168,
   "metadata": {
    "ExecuteTime": {
     "end_time": "2025-07-31T20:15:36.677004Z",
     "start_time": "2025-07-31T20:15:36.643201Z"
    }
   },
   "outputs": [
    {
     "data": {
      "text/plain": [
       "market_segment_type\n",
       "Aviation           125\n",
       "Complementary      390\n",
       "Corporate         2011\n",
       "Offline          10518\n",
       "Online           23194\n",
       "Name: booking_status, dtype: int64"
      ]
     },
     "execution_count": 168,
     "metadata": {},
     "output_type": "execute_result"
    }
   ],
   "source": [
    "df.groupby('market_segment_type')['booking_status'].count()"
   ]
  },
  {
   "cell_type": "code",
   "execution_count": 169,
   "metadata": {
    "ExecuteTime": {
     "end_time": "2025-07-31T20:15:38.558545Z",
     "start_time": "2025-07-31T20:15:38.542677Z"
    }
   },
   "outputs": [],
   "source": [
    "df = df.sort_values(by='date')"
   ]
  },
  {
   "cell_type": "markdown",
   "metadata": {},
   "source": [
    "# ML"
   ]
  },
  {
   "cell_type": "markdown",
   "metadata": {},
   "source": [
    "There are ~2500 corporate, aviation and complementary orders. We will not use overbooking among them"
   ]
  },
  {
   "cell_type": "code",
   "execution_count": 170,
   "metadata": {
    "ExecuteTime": {
     "end_time": "2025-07-31T20:23:15.298654Z",
     "start_time": "2025-07-31T20:23:15.238831Z"
    }
   },
   "outputs": [],
   "source": [
    "df_not_commercial = df[(df[\"market_segment_type\"]== \"Offline\") | (df[\"market_segment_type\"]== \"Online\")]\n",
    "\n",
    "df_ml = df_not_commercial.drop(columns=[\"date\", \"Booking_ID\"], axis=1)\n",
    "df_ml = market_to_int(df_ml)\n",
    "\n",
    "X = df_ml.drop(columns=[\"booking_status\"], axis=1)\n",
    "y = df_ml[\"booking_status\"]\n",
    "\n",
    "X_train, X_test, y_train, y_test = train_test_split(\n",
    "    X, y, test_size=0.2, random_state=239, shuffle=False\n",
    ")"
   ]
  },
  {
   "cell_type": "code",
   "execution_count": 171,
   "metadata": {
    "ExecuteTime": {
     "end_time": "2025-07-31T20:23:15.936719Z",
     "start_time": "2025-07-31T20:23:15.929916Z"
    }
   },
   "outputs": [],
   "source": [
    "from catboost import CatBoostClassifier \n",
    "\n",
    "params = {'iterations': 162,\n",
    " 'learning_rate': 0.020659576807258582,\n",
    " 'depth': 8,\n",
    " 'l2_leaf_reg': 0.8679838253640907,\n",
    " 'bootstrap_type': 'Bayesian',\n",
    " 'random_strength': 1.5305950013403581e-06,\n",
    " 'bagging_temperature': 0.5829113245739789,\n",
    " 'od_type': 'IncToDec',\n",
    " 'od_wait': 40}\n",
    "\n",
    "\n",
    "# model = CatBoostClassifier(**params)\n",
    "model = RandomForestClassifier(n_estimators=100, random_state=239)"
   ]
  },
  {
   "cell_type": "code",
   "execution_count": 172,
   "metadata": {
    "ExecuteTime": {
     "end_time": "2025-07-31T20:23:18.967244Z",
     "start_time": "2025-07-31T20:23:16.889257Z"
    }
   },
   "outputs": [
    {
     "name": "stdout",
     "output_type": "stream",
     "text": [
      "Accuracy: 0.83\n"
     ]
    }
   ],
   "source": [
    "model.fit(X_train, y_train)\n",
    "\n",
    "y_pred = model.predict(X_test)\n",
    "\n",
    "accuracy = accuracy_score(y_test, y_pred)\n",
    "print(f'Accuracy: {accuracy:.2f}')"
   ]
  },
  {
   "cell_type": "markdown",
   "metadata": {},
   "source": [
    "# Scoring model"
   ]
  },
  {
   "cell_type": "code",
   "execution_count": 173,
   "metadata": {
    "ExecuteTime": {
     "end_time": "2025-07-31T20:16:14.649879Z",
     "start_time": "2025-07-31T20:16:14.628418Z"
    }
   },
   "outputs": [],
   "source": [
    "def calculate_profit(TP, TN, FP, FN, AR):\n",
    "    CO = 1.2 * AR  # стоимость избыточного бронирования\n",
    "    PP = 0.8  # доля предоплаты\n",
    "    \n",
    "    profit = TP * PP * AR + TN * AR - FP * CO\n",
    "    return profit\n"
   ]
  },
  {
   "cell_type": "code",
   "execution_count": 174,
   "metadata": {
    "ExecuteTime": {
     "end_time": "2025-07-31T20:16:15.509200Z",
     "start_time": "2025-07-31T20:16:15.459479Z"
    }
   },
   "outputs": [
    {
     "name": "stdout",
     "output_type": "stream",
     "text": [
      "Model evaluation:\n",
      "Accuracy: 0.83\n",
      "[[4010  275]\n",
      " [ 903 1555]]\n",
      "Profit: 523782\n",
      "\n",
      "One predictor baseline evaluation:\n",
      "Accuracy: 0.36\n",
      "[[   0 4285]\n",
      " [   0 2458]]\n",
      "Profit: -337799\n",
      "\n",
      "Random predictor evaluation:\n",
      "Accuracy: 0.50\n",
      "[[2104 2181]\n",
      " [1203 1255]]\n",
      "Profit: 52208\n"
     ]
    },
    {
     "data": {
      "text/plain": [
       "np.float64(52207.96053987916)"
      ]
     },
     "execution_count": 174,
     "metadata": {},
     "output_type": "execute_result"
    }
   ],
   "source": [
    "def score(y_test, y_pred):\n",
    "    accuracy = accuracy_score(y_test, y_pred)\n",
    "    print(f'Accuracy: {accuracy:.2f}')\n",
    "\n",
    "    cm = confusion_matrix(y_test, y_pred)\n",
    "    print(cm)\n",
    "    TN, FP, FN, TP = cm.ravel()\n",
    "    AR = X_train['avg_price_per_room'].mean()\n",
    "\n",
    "    profit = calculate_profit(TP, TN, FP, FN, AR)\n",
    "    print(f\"Profit: {profit:.0f}\")\n",
    "    return profit\n",
    "    \n",
    "\n",
    "print(\"Model evaluation:\")\n",
    "ml_profit = score(y_test, y_pred)\n",
    "\n",
    "print(\"\\nOne predictor baseline evaluation:\")\n",
    "y_pred[:] = 1\n",
    "score(y_test, y_pred)\n",
    "\n",
    "print(\"\\nRandom predictor evaluation:\")\n",
    "y_pred[:] = np.random.randint(0, 2, size=len(y_test))\n",
    "score(y_test, y_pred)\n"
   ]
  },
  {
   "cell_type": "markdown",
   "metadata": {},
   "source": [
    "# Calculate historical data"
   ]
  },
  {
   "cell_type": "code",
   "execution_count": 175,
   "metadata": {},
   "outputs": [
    {
     "name": "stdout",
     "output_type": "stream",
     "text": [
      "Прибыль без овербукинга на test: 444180\n",
      "Прибыль с овербукингом на test: 523781\n",
      "Мы увеличили прибыль на 79601, те на 17.92% \n"
     ]
    }
   ],
   "source": [
    "def score_losses(df):\n",
    "    return int(df['avg_price_per_room'].sum() * df[\"booking_status\"].mean())\n",
    "\n",
    "losses = score_losses(pd.concat([X_test, y_test], axis=1))\n",
    "\n",
    "usual_profit = int(X_test['avg_price_per_room'].sum()) - losses\n",
    "print(f\"Прибыль без овербукинга на test: {int(usual_profit)}\")\n",
    "print(f\"Прибыль с овербукингом на test: {int(ml_profit)}\")\n",
    "print(f\"Мы увеличили прибыль на {int(ml_profit - usual_profit)}, те на {round((ml_profit / usual_profit - 1) * 100, 2)}% \")"
   ]
  },
  {
   "cell_type": "code",
   "execution_count": null,
   "metadata": {},
   "outputs": [],
   "source": []
  }
 ],
 "metadata": {
  "kaggle": {
   "accelerator": "none",
   "dataSources": [
    {
     "datasetId": 2783627,
     "sourceId": 4807272,
     "sourceType": "datasetVersion"
    }
   ],
   "dockerImageVersionId": 31089,
   "isGpuEnabled": false,
   "isInternetEnabled": true,
   "language": "python",
   "sourceType": "notebook"
  },
  "kernelspec": {
   "display_name": ".venv",
   "language": "python",
   "name": "python3"
  },
  "language_info": {
   "codemirror_mode": {
    "name": "ipython",
    "version": 3
   },
   "file_extension": ".py",
   "mimetype": "text/x-python",
   "name": "python",
   "nbconvert_exporter": "python",
   "pygments_lexer": "ipython3",
   "version": "3.9.6"
  }
 },
 "nbformat": 4,
 "nbformat_minor": 4
}
