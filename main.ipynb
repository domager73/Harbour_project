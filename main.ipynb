{
 "cells": [
  {
   "cell_type": "markdown",
   "metadata": {},
   "source": [
    "# Import Libraris"
   ]
  },
  {
   "metadata": {
    "ExecuteTime": {
     "end_time": "2025-07-31T19:57:39.902063Z",
     "start_time": "2025-07-31T19:57:38.972154Z"
    }
   },
   "cell_type": "code",
   "source": [
    "import mlflow\n",
    "from mlflow import catboost\n",
    "!pip install evidently"
   ],
   "outputs": [
    {
     "name": "stdout",
     "output_type": "stream",
     "text": [
      "Requirement already satisfied: evidently in /Users/domager73/PycharmProjects/Hoter_reser_harbour/.venv/lib/python3.12/site-packages (0.7.11)\r\n",
      "Requirement already satisfied: plotly<6,>=5.10.0 in /Users/domager73/PycharmProjects/Hoter_reser_harbour/.venv/lib/python3.12/site-packages (from evidently) (5.24.1)\r\n",
      "Requirement already satisfied: statsmodels>=0.12.2 in /Users/domager73/PycharmProjects/Hoter_reser_harbour/.venv/lib/python3.12/site-packages (from evidently) (0.14.5)\r\n",
      "Requirement already satisfied: scikit-learn>=1.0.1 in /Users/domager73/PycharmProjects/Hoter_reser_harbour/.venv/lib/python3.12/site-packages (from evidently) (1.7.1)\r\n",
      "Requirement already satisfied: pandas>=1.3.5 in /Users/domager73/PycharmProjects/Hoter_reser_harbour/.venv/lib/python3.12/site-packages (from pandas[parquet]>=1.3.5->evidently) (2.3.1)\r\n",
      "Requirement already satisfied: numpy>=1.22.0 in /Users/domager73/PycharmProjects/Hoter_reser_harbour/.venv/lib/python3.12/site-packages (from evidently) (2.1.3)\r\n",
      "Requirement already satisfied: nltk>=3.6.7 in /Users/domager73/PycharmProjects/Hoter_reser_harbour/.venv/lib/python3.12/site-packages (from evidently) (3.9.1)\r\n",
      "Requirement already satisfied: scipy>=1.10.0 in /Users/domager73/PycharmProjects/Hoter_reser_harbour/.venv/lib/python3.12/site-packages (from evidently) (1.15.3)\r\n",
      "Requirement already satisfied: requests>=2.32.0 in /Users/domager73/PycharmProjects/Hoter_reser_harbour/.venv/lib/python3.12/site-packages (from evidently) (2.32.4)\r\n",
      "Requirement already satisfied: PyYAML>=5.4 in /Users/domager73/PycharmProjects/Hoter_reser_harbour/.venv/lib/python3.12/site-packages (from evidently) (6.0.2)\r\n",
      "Requirement already satisfied: pydantic>=1.10.16 in /Users/domager73/PycharmProjects/Hoter_reser_harbour/.venv/lib/python3.12/site-packages (from evidently) (2.11.7)\r\n",
      "Requirement already satisfied: litestar>=2.8.3 in /Users/domager73/PycharmProjects/Hoter_reser_harbour/.venv/lib/python3.12/site-packages (from evidently) (2.16.0)\r\n",
      "Requirement already satisfied: typing-inspect>=0.9.0 in /Users/domager73/PycharmProjects/Hoter_reser_harbour/.venv/lib/python3.12/site-packages (from evidently) (0.9.0)\r\n",
      "Requirement already satisfied: uvicorn>=0.22.0 in /Users/domager73/PycharmProjects/Hoter_reser_harbour/.venv/lib/python3.12/site-packages (from uvicorn[standard]>=0.22.0->evidently) (0.35.0)\r\n",
      "Requirement already satisfied: watchdog>=3.0.0 in /Users/domager73/PycharmProjects/Hoter_reser_harbour/.venv/lib/python3.12/site-packages (from evidently) (6.0.0)\r\n",
      "Requirement already satisfied: typer>=0.3 in /Users/domager73/PycharmProjects/Hoter_reser_harbour/.venv/lib/python3.12/site-packages (from evidently) (0.16.0)\r\n",
      "Requirement already satisfied: rich>=13 in /Users/domager73/PycharmProjects/Hoter_reser_harbour/.venv/lib/python3.12/site-packages (from evidently) (14.1.0)\r\n",
      "Requirement already satisfied: iterative-telemetry>=0.0.5 in /Users/domager73/PycharmProjects/Hoter_reser_harbour/.venv/lib/python3.12/site-packages (from evidently) (0.0.10)\r\n",
      "Requirement already satisfied: dynaconf>=3.2.4 in /Users/domager73/PycharmProjects/Hoter_reser_harbour/.venv/lib/python3.12/site-packages (from evidently) (3.2.11)\r\n",
      "Requirement already satisfied: certifi>=2024.7.4 in /Users/domager73/PycharmProjects/Hoter_reser_harbour/.venv/lib/python3.12/site-packages (from evidently) (2025.7.14)\r\n",
      "Requirement already satisfied: urllib3>=1.26.19 in /Users/domager73/PycharmProjects/Hoter_reser_harbour/.venv/lib/python3.12/site-packages (from evidently) (2.5.0)\r\n",
      "Requirement already satisfied: fsspec>=2024.6.1 in /Users/domager73/PycharmProjects/Hoter_reser_harbour/.venv/lib/python3.12/site-packages (from evidently) (2025.7.0)\r\n",
      "Requirement already satisfied: ujson>=5.4.0 in /Users/domager73/PycharmProjects/Hoter_reser_harbour/.venv/lib/python3.12/site-packages (from evidently) (5.10.0)\r\n",
      "Requirement already satisfied: deprecation>=2.1.0 in /Users/domager73/PycharmProjects/Hoter_reser_harbour/.venv/lib/python3.12/site-packages (from evidently) (2.1.0)\r\n",
      "Requirement already satisfied: uuid6>=2024.7.10 in /Users/domager73/PycharmProjects/Hoter_reser_harbour/.venv/lib/python3.12/site-packages (from evidently) (2025.0.1)\r\n",
      "Requirement already satisfied: cryptography>=43.0.1 in /Users/domager73/PycharmProjects/Hoter_reser_harbour/.venv/lib/python3.12/site-packages (from evidently) (45.0.5)\r\n",
      "Requirement already satisfied: tenacity>=6.2.0 in /Users/domager73/PycharmProjects/Hoter_reser_harbour/.venv/lib/python3.12/site-packages (from plotly<6,>=5.10.0->evidently) (9.1.2)\r\n",
      "Requirement already satisfied: packaging in /Users/domager73/PycharmProjects/Hoter_reser_harbour/.venv/lib/python3.12/site-packages (from plotly<6,>=5.10.0->evidently) (25.0)\r\n",
      "Requirement already satisfied: cffi>=1.14 in /Users/domager73/PycharmProjects/Hoter_reser_harbour/.venv/lib/python3.12/site-packages (from cryptography>=43.0.1->evidently) (1.17.1)\r\n",
      "Requirement already satisfied: pycparser in /Users/domager73/PycharmProjects/Hoter_reser_harbour/.venv/lib/python3.12/site-packages (from cffi>=1.14->cryptography>=43.0.1->evidently) (2.22)\r\n",
      "Requirement already satisfied: appdirs in /Users/domager73/PycharmProjects/Hoter_reser_harbour/.venv/lib/python3.12/site-packages (from iterative-telemetry>=0.0.5->evidently) (1.4.4)\r\n",
      "Requirement already satisfied: filelock in /Users/domager73/PycharmProjects/Hoter_reser_harbour/.venv/lib/python3.12/site-packages (from iterative-telemetry>=0.0.5->evidently) (3.18.0)\r\n",
      "Requirement already satisfied: distro in /Users/domager73/PycharmProjects/Hoter_reser_harbour/.venv/lib/python3.12/site-packages (from iterative-telemetry>=0.0.5->evidently) (1.9.0)\r\n",
      "Requirement already satisfied: anyio>=3 in /Users/domager73/PycharmProjects/Hoter_reser_harbour/.venv/lib/python3.12/site-packages (from litestar>=2.8.3->evidently) (4.9.0)\r\n",
      "Requirement already satisfied: click in /Users/domager73/PycharmProjects/Hoter_reser_harbour/.venv/lib/python3.12/site-packages (from litestar>=2.8.3->evidently) (8.2.1)\r\n",
      "Requirement already satisfied: httpx>=0.22 in /Users/domager73/PycharmProjects/Hoter_reser_harbour/.venv/lib/python3.12/site-packages (from litestar>=2.8.3->evidently) (0.28.1)\r\n",
      "Requirement already satisfied: litestar-htmx>=0.4.0 in /Users/domager73/PycharmProjects/Hoter_reser_harbour/.venv/lib/python3.12/site-packages (from litestar>=2.8.3->evidently) (0.5.0)\r\n",
      "Requirement already satisfied: msgspec>=0.18.2 in /Users/domager73/PycharmProjects/Hoter_reser_harbour/.venv/lib/python3.12/site-packages (from litestar>=2.8.3->evidently) (0.19.0)\r\n",
      "Requirement already satisfied: multidict>=6.0.2 in /Users/domager73/PycharmProjects/Hoter_reser_harbour/.venv/lib/python3.12/site-packages (from litestar>=2.8.3->evidently) (6.6.3)\r\n",
      "Requirement already satisfied: multipart>=1.2.0 in /Users/domager73/PycharmProjects/Hoter_reser_harbour/.venv/lib/python3.12/site-packages (from litestar>=2.8.3->evidently) (1.3.0)\r\n",
      "Requirement already satisfied: polyfactory>=2.6.3 in /Users/domager73/PycharmProjects/Hoter_reser_harbour/.venv/lib/python3.12/site-packages (from litestar>=2.8.3->evidently) (2.22.1)\r\n",
      "Requirement already satisfied: rich-click in /Users/domager73/PycharmProjects/Hoter_reser_harbour/.venv/lib/python3.12/site-packages (from litestar>=2.8.3->evidently) (1.8.9)\r\n",
      "Requirement already satisfied: typing-extensions in /Users/domager73/PycharmProjects/Hoter_reser_harbour/.venv/lib/python3.12/site-packages (from litestar>=2.8.3->evidently) (4.14.1)\r\n",
      "Requirement already satisfied: idna>=2.8 in /Users/domager73/PycharmProjects/Hoter_reser_harbour/.venv/lib/python3.12/site-packages (from anyio>=3->litestar>=2.8.3->evidently) (3.10)\r\n",
      "Requirement already satisfied: sniffio>=1.1 in /Users/domager73/PycharmProjects/Hoter_reser_harbour/.venv/lib/python3.12/site-packages (from anyio>=3->litestar>=2.8.3->evidently) (1.3.1)\r\n",
      "Requirement already satisfied: httpcore==1.* in /Users/domager73/PycharmProjects/Hoter_reser_harbour/.venv/lib/python3.12/site-packages (from httpx>=0.22->litestar>=2.8.3->evidently) (1.0.9)\r\n",
      "Requirement already satisfied: h11>=0.16 in /Users/domager73/PycharmProjects/Hoter_reser_harbour/.venv/lib/python3.12/site-packages (from httpcore==1.*->httpx>=0.22->litestar>=2.8.3->evidently) (0.16.0)\r\n",
      "Requirement already satisfied: joblib in /Users/domager73/PycharmProjects/Hoter_reser_harbour/.venv/lib/python3.12/site-packages (from nltk>=3.6.7->evidently) (1.5.1)\r\n",
      "Requirement already satisfied: regex>=2021.8.3 in /Users/domager73/PycharmProjects/Hoter_reser_harbour/.venv/lib/python3.12/site-packages (from nltk>=3.6.7->evidently) (2025.7.34)\r\n",
      "Requirement already satisfied: tqdm in /Users/domager73/PycharmProjects/Hoter_reser_harbour/.venv/lib/python3.12/site-packages (from nltk>=3.6.7->evidently) (4.67.1)\r\n",
      "Requirement already satisfied: python-dateutil>=2.8.2 in /Users/domager73/PycharmProjects/Hoter_reser_harbour/.venv/lib/python3.12/site-packages (from pandas>=1.3.5->pandas[parquet]>=1.3.5->evidently) (2.9.0.post0)\r\n",
      "Requirement already satisfied: pytz>=2020.1 in /Users/domager73/PycharmProjects/Hoter_reser_harbour/.venv/lib/python3.12/site-packages (from pandas>=1.3.5->pandas[parquet]>=1.3.5->evidently) (2025.2)\r\n",
      "Requirement already satisfied: tzdata>=2022.7 in /Users/domager73/PycharmProjects/Hoter_reser_harbour/.venv/lib/python3.12/site-packages (from pandas>=1.3.5->pandas[parquet]>=1.3.5->evidently) (2025.2)\r\n",
      "Requirement already satisfied: pyarrow>=10.0.1 in /Users/domager73/PycharmProjects/Hoter_reser_harbour/.venv/lib/python3.12/site-packages (from pandas[parquet]>=1.3.5->evidently) (21.0.0)\r\n",
      "Requirement already satisfied: faker>=5.0.0 in /Users/domager73/PycharmProjects/Hoter_reser_harbour/.venv/lib/python3.12/site-packages (from polyfactory>=2.6.3->litestar>=2.8.3->evidently) (37.5.3)\r\n",
      "Requirement already satisfied: annotated-types>=0.6.0 in /Users/domager73/PycharmProjects/Hoter_reser_harbour/.venv/lib/python3.12/site-packages (from pydantic>=1.10.16->evidently) (0.7.0)\r\n",
      "Requirement already satisfied: pydantic-core==2.33.2 in /Users/domager73/PycharmProjects/Hoter_reser_harbour/.venv/lib/python3.12/site-packages (from pydantic>=1.10.16->evidently) (2.33.2)\r\n",
      "Requirement already satisfied: typing-inspection>=0.4.0 in /Users/domager73/PycharmProjects/Hoter_reser_harbour/.venv/lib/python3.12/site-packages (from pydantic>=1.10.16->evidently) (0.4.1)\r\n",
      "Requirement already satisfied: six>=1.5 in /Users/domager73/PycharmProjects/Hoter_reser_harbour/.venv/lib/python3.12/site-packages (from python-dateutil>=2.8.2->pandas>=1.3.5->pandas[parquet]>=1.3.5->evidently) (1.17.0)\r\n",
      "Requirement already satisfied: charset_normalizer<4,>=2 in /Users/domager73/PycharmProjects/Hoter_reser_harbour/.venv/lib/python3.12/site-packages (from requests>=2.32.0->evidently) (3.4.2)\r\n",
      "Requirement already satisfied: markdown-it-py>=2.2.0 in /Users/domager73/PycharmProjects/Hoter_reser_harbour/.venv/lib/python3.12/site-packages (from rich>=13->evidently) (3.0.0)\r\n",
      "Requirement already satisfied: pygments<3.0.0,>=2.13.0 in /Users/domager73/PycharmProjects/Hoter_reser_harbour/.venv/lib/python3.12/site-packages (from rich>=13->evidently) (2.19.2)\r\n",
      "Requirement already satisfied: mdurl~=0.1 in /Users/domager73/PycharmProjects/Hoter_reser_harbour/.venv/lib/python3.12/site-packages (from markdown-it-py>=2.2.0->rich>=13->evidently) (0.1.2)\r\n",
      "Requirement already satisfied: threadpoolctl>=3.1.0 in /Users/domager73/PycharmProjects/Hoter_reser_harbour/.venv/lib/python3.12/site-packages (from scikit-learn>=1.0.1->evidently) (3.6.0)\r\n",
      "Requirement already satisfied: patsy>=0.5.6 in /Users/domager73/PycharmProjects/Hoter_reser_harbour/.venv/lib/python3.12/site-packages (from statsmodels>=0.12.2->evidently) (1.0.1)\r\n",
      "Requirement already satisfied: shellingham>=1.3.0 in /Users/domager73/PycharmProjects/Hoter_reser_harbour/.venv/lib/python3.12/site-packages (from typer>=0.3->evidently) (1.5.4)\r\n",
      "Requirement already satisfied: mypy-extensions>=0.3.0 in /Users/domager73/PycharmProjects/Hoter_reser_harbour/.venv/lib/python3.12/site-packages (from typing-inspect>=0.9.0->evidently) (1.1.0)\r\n",
      "Requirement already satisfied: httptools>=0.6.3 in /Users/domager73/PycharmProjects/Hoter_reser_harbour/.venv/lib/python3.12/site-packages (from uvicorn[standard]>=0.22.0->evidently) (0.6.4)\r\n",
      "Requirement already satisfied: python-dotenv>=0.13 in /Users/domager73/PycharmProjects/Hoter_reser_harbour/.venv/lib/python3.12/site-packages (from uvicorn[standard]>=0.22.0->evidently) (1.1.1)\r\n",
      "Requirement already satisfied: uvloop>=0.15.1 in /Users/domager73/PycharmProjects/Hoter_reser_harbour/.venv/lib/python3.12/site-packages (from uvicorn[standard]>=0.22.0->evidently) (0.21.0)\r\n",
      "Requirement already satisfied: watchfiles>=0.13 in /Users/domager73/PycharmProjects/Hoter_reser_harbour/.venv/lib/python3.12/site-packages (from uvicorn[standard]>=0.22.0->evidently) (1.1.0)\r\n",
      "Requirement already satisfied: websockets>=10.4 in /Users/domager73/PycharmProjects/Hoter_reser_harbour/.venv/lib/python3.12/site-packages (from uvicorn[standard]>=0.22.0->evidently) (15.0.1)\r\n"
     ]
    }
   ],
   "execution_count": 140
  },
  {
   "metadata": {
    "ExecuteTime": {
     "end_time": "2025-07-31T19:57:40.444862Z",
     "start_time": "2025-07-31T19:57:39.913633Z"
    }
   },
   "cell_type": "code",
   "source": "pip install ydata_profiling",
   "outputs": [
    {
     "name": "stdout",
     "output_type": "stream",
     "text": [
      "Requirement already satisfied: ydata_profiling in /Users/domager73/PycharmProjects/Hoter_reser_harbour/.venv/lib/python3.12/site-packages (4.16.1)\r\n",
      "Requirement already satisfied: scipy<1.16,>=1.4.1 in /Users/domager73/PycharmProjects/Hoter_reser_harbour/.venv/lib/python3.12/site-packages (from ydata_profiling) (1.15.3)\r\n",
      "Requirement already satisfied: pandas!=1.4.0,<3.0,>1.1 in /Users/domager73/PycharmProjects/Hoter_reser_harbour/.venv/lib/python3.12/site-packages (from ydata_profiling) (2.3.1)\r\n",
      "Requirement already satisfied: matplotlib<=3.10,>=3.5 in /Users/domager73/PycharmProjects/Hoter_reser_harbour/.venv/lib/python3.12/site-packages (from ydata_profiling) (3.10.0)\r\n",
      "Requirement already satisfied: pydantic>=2 in /Users/domager73/PycharmProjects/Hoter_reser_harbour/.venv/lib/python3.12/site-packages (from ydata_profiling) (2.11.7)\r\n",
      "Requirement already satisfied: PyYAML<6.1,>=5.0.0 in /Users/domager73/PycharmProjects/Hoter_reser_harbour/.venv/lib/python3.12/site-packages (from ydata_profiling) (6.0.2)\r\n",
      "Requirement already satisfied: jinja2<3.2,>=2.11.1 in /Users/domager73/PycharmProjects/Hoter_reser_harbour/.venv/lib/python3.12/site-packages (from ydata_profiling) (3.1.6)\r\n",
      "Requirement already satisfied: visions<0.8.2,>=0.7.5 in /Users/domager73/PycharmProjects/Hoter_reser_harbour/.venv/lib/python3.12/site-packages (from visions[type_image_path]<0.8.2,>=0.7.5->ydata_profiling) (0.8.1)\r\n",
      "Requirement already satisfied: numpy<2.2,>=1.16.0 in /Users/domager73/PycharmProjects/Hoter_reser_harbour/.venv/lib/python3.12/site-packages (from ydata_profiling) (2.1.3)\r\n",
      "Requirement already satisfied: htmlmin==0.1.12 in /Users/domager73/PycharmProjects/Hoter_reser_harbour/.venv/lib/python3.12/site-packages (from ydata_profiling) (0.1.12)\r\n",
      "Requirement already satisfied: phik<0.13,>=0.11.1 in /Users/domager73/PycharmProjects/Hoter_reser_harbour/.venv/lib/python3.12/site-packages (from ydata_profiling) (0.12.5)\r\n",
      "Requirement already satisfied: requests<3,>=2.24.0 in /Users/domager73/PycharmProjects/Hoter_reser_harbour/.venv/lib/python3.12/site-packages (from ydata_profiling) (2.32.4)\r\n",
      "Requirement already satisfied: tqdm<5,>=4.48.2 in /Users/domager73/PycharmProjects/Hoter_reser_harbour/.venv/lib/python3.12/site-packages (from ydata_profiling) (4.67.1)\r\n",
      "Requirement already satisfied: seaborn<0.14,>=0.10.1 in /Users/domager73/PycharmProjects/Hoter_reser_harbour/.venv/lib/python3.12/site-packages (from ydata_profiling) (0.13.2)\r\n",
      "Requirement already satisfied: multimethod<2,>=1.4 in /Users/domager73/PycharmProjects/Hoter_reser_harbour/.venv/lib/python3.12/site-packages (from ydata_profiling) (1.12)\r\n",
      "Requirement already satisfied: statsmodels<1,>=0.13.2 in /Users/domager73/PycharmProjects/Hoter_reser_harbour/.venv/lib/python3.12/site-packages (from ydata_profiling) (0.14.5)\r\n",
      "Requirement already satisfied: typeguard<5,>=3 in /Users/domager73/PycharmProjects/Hoter_reser_harbour/.venv/lib/python3.12/site-packages (from ydata_profiling) (4.4.4)\r\n",
      "Requirement already satisfied: imagehash==4.3.1 in /Users/domager73/PycharmProjects/Hoter_reser_harbour/.venv/lib/python3.12/site-packages (from ydata_profiling) (4.3.1)\r\n",
      "Requirement already satisfied: wordcloud>=1.9.3 in /Users/domager73/PycharmProjects/Hoter_reser_harbour/.venv/lib/python3.12/site-packages (from ydata_profiling) (1.9.4)\r\n",
      "Requirement already satisfied: dacite>=1.8 in /Users/domager73/PycharmProjects/Hoter_reser_harbour/.venv/lib/python3.12/site-packages (from ydata_profiling) (1.9.2)\r\n",
      "Requirement already satisfied: numba<=0.61,>=0.56.0 in /Users/domager73/PycharmProjects/Hoter_reser_harbour/.venv/lib/python3.12/site-packages (from ydata_profiling) (0.61.0)\r\n",
      "Requirement already satisfied: PyWavelets in /Users/domager73/PycharmProjects/Hoter_reser_harbour/.venv/lib/python3.12/site-packages (from imagehash==4.3.1->ydata_profiling) (1.8.0)\r\n",
      "Requirement already satisfied: pillow in /Users/domager73/PycharmProjects/Hoter_reser_harbour/.venv/lib/python3.12/site-packages (from imagehash==4.3.1->ydata_profiling) (11.3.0)\r\n",
      "Requirement already satisfied: MarkupSafe>=2.0 in /Users/domager73/PycharmProjects/Hoter_reser_harbour/.venv/lib/python3.12/site-packages (from jinja2<3.2,>=2.11.1->ydata_profiling) (3.0.2)\r\n",
      "Requirement already satisfied: contourpy>=1.0.1 in /Users/domager73/PycharmProjects/Hoter_reser_harbour/.venv/lib/python3.12/site-packages (from matplotlib<=3.10,>=3.5->ydata_profiling) (1.3.3)\r\n",
      "Requirement already satisfied: cycler>=0.10 in /Users/domager73/PycharmProjects/Hoter_reser_harbour/.venv/lib/python3.12/site-packages (from matplotlib<=3.10,>=3.5->ydata_profiling) (0.12.1)\r\n",
      "Requirement already satisfied: fonttools>=4.22.0 in /Users/domager73/PycharmProjects/Hoter_reser_harbour/.venv/lib/python3.12/site-packages (from matplotlib<=3.10,>=3.5->ydata_profiling) (4.59.0)\r\n",
      "Requirement already satisfied: kiwisolver>=1.3.1 in /Users/domager73/PycharmProjects/Hoter_reser_harbour/.venv/lib/python3.12/site-packages (from matplotlib<=3.10,>=3.5->ydata_profiling) (1.4.8)\r\n",
      "Requirement already satisfied: packaging>=20.0 in /Users/domager73/PycharmProjects/Hoter_reser_harbour/.venv/lib/python3.12/site-packages (from matplotlib<=3.10,>=3.5->ydata_profiling) (25.0)\r\n",
      "Requirement already satisfied: pyparsing>=2.3.1 in /Users/domager73/PycharmProjects/Hoter_reser_harbour/.venv/lib/python3.12/site-packages (from matplotlib<=3.10,>=3.5->ydata_profiling) (3.2.3)\r\n",
      "Requirement already satisfied: python-dateutil>=2.7 in /Users/domager73/PycharmProjects/Hoter_reser_harbour/.venv/lib/python3.12/site-packages (from matplotlib<=3.10,>=3.5->ydata_profiling) (2.9.0.post0)\r\n",
      "Requirement already satisfied: llvmlite<0.45,>=0.44.0dev0 in /Users/domager73/PycharmProjects/Hoter_reser_harbour/.venv/lib/python3.12/site-packages (from numba<=0.61,>=0.56.0->ydata_profiling) (0.44.0)\r\n",
      "Requirement already satisfied: pytz>=2020.1 in /Users/domager73/PycharmProjects/Hoter_reser_harbour/.venv/lib/python3.12/site-packages (from pandas!=1.4.0,<3.0,>1.1->ydata_profiling) (2025.2)\r\n",
      "Requirement already satisfied: tzdata>=2022.7 in /Users/domager73/PycharmProjects/Hoter_reser_harbour/.venv/lib/python3.12/site-packages (from pandas!=1.4.0,<3.0,>1.1->ydata_profiling) (2025.2)\r\n",
      "Requirement already satisfied: joblib>=0.14.1 in /Users/domager73/PycharmProjects/Hoter_reser_harbour/.venv/lib/python3.12/site-packages (from phik<0.13,>=0.11.1->ydata_profiling) (1.5.1)\r\n",
      "Requirement already satisfied: charset_normalizer<4,>=2 in /Users/domager73/PycharmProjects/Hoter_reser_harbour/.venv/lib/python3.12/site-packages (from requests<3,>=2.24.0->ydata_profiling) (3.4.2)\r\n",
      "Requirement already satisfied: idna<4,>=2.5 in /Users/domager73/PycharmProjects/Hoter_reser_harbour/.venv/lib/python3.12/site-packages (from requests<3,>=2.24.0->ydata_profiling) (3.10)\r\n",
      "Requirement already satisfied: urllib3<3,>=1.21.1 in /Users/domager73/PycharmProjects/Hoter_reser_harbour/.venv/lib/python3.12/site-packages (from requests<3,>=2.24.0->ydata_profiling) (2.5.0)\r\n",
      "Requirement already satisfied: certifi>=2017.4.17 in /Users/domager73/PycharmProjects/Hoter_reser_harbour/.venv/lib/python3.12/site-packages (from requests<3,>=2.24.0->ydata_profiling) (2025.7.14)\r\n",
      "Requirement already satisfied: patsy>=0.5.6 in /Users/domager73/PycharmProjects/Hoter_reser_harbour/.venv/lib/python3.12/site-packages (from statsmodels<1,>=0.13.2->ydata_profiling) (1.0.1)\r\n",
      "Requirement already satisfied: typing_extensions>=4.14.0 in /Users/domager73/PycharmProjects/Hoter_reser_harbour/.venv/lib/python3.12/site-packages (from typeguard<5,>=3->ydata_profiling) (4.14.1)\r\n",
      "Requirement already satisfied: attrs>=19.3.0 in /Users/domager73/PycharmProjects/Hoter_reser_harbour/.venv/lib/python3.12/site-packages (from visions<0.8.2,>=0.7.5->visions[type_image_path]<0.8.2,>=0.7.5->ydata_profiling) (25.3.0)\r\n",
      "Requirement already satisfied: networkx>=2.4 in /Users/domager73/PycharmProjects/Hoter_reser_harbour/.venv/lib/python3.12/site-packages (from visions<0.8.2,>=0.7.5->visions[type_image_path]<0.8.2,>=0.7.5->ydata_profiling) (3.5)\r\n",
      "Requirement already satisfied: puremagic in /Users/domager73/PycharmProjects/Hoter_reser_harbour/.venv/lib/python3.12/site-packages (from visions<0.8.2,>=0.7.5->visions[type_image_path]<0.8.2,>=0.7.5->ydata_profiling) (1.30)\r\n",
      "Requirement already satisfied: annotated-types>=0.6.0 in /Users/domager73/PycharmProjects/Hoter_reser_harbour/.venv/lib/python3.12/site-packages (from pydantic>=2->ydata_profiling) (0.7.0)\r\n",
      "Requirement already satisfied: pydantic-core==2.33.2 in /Users/domager73/PycharmProjects/Hoter_reser_harbour/.venv/lib/python3.12/site-packages (from pydantic>=2->ydata_profiling) (2.33.2)\r\n",
      "Requirement already satisfied: typing-inspection>=0.4.0 in /Users/domager73/PycharmProjects/Hoter_reser_harbour/.venv/lib/python3.12/site-packages (from pydantic>=2->ydata_profiling) (0.4.1)\r\n",
      "Requirement already satisfied: six>=1.5 in /Users/domager73/PycharmProjects/Hoter_reser_harbour/.venv/lib/python3.12/site-packages (from python-dateutil>=2.7->matplotlib<=3.10,>=3.5->ydata_profiling) (1.17.0)\r\n",
      "Note: you may need to restart the kernel to use updated packages.\n"
     ]
    }
   ],
   "execution_count": 141
  },
  {
   "metadata": {
    "ExecuteTime": {
     "end_time": "2025-07-31T19:57:48.031286Z",
     "start_time": "2025-07-31T19:57:47.537150Z"
    }
   },
   "cell_type": "code",
   "source": "pip install facets-overview",
   "outputs": [
    {
     "name": "stdout",
     "output_type": "stream",
     "text": [
      "Requirement already satisfied: facets-overview in /Users/domager73/PycharmProjects/Hoter_reser_harbour/.venv/lib/python3.12/site-packages (1.1.1)\r\n",
      "Requirement already satisfied: numpy>=1.16.0 in /Users/domager73/PycharmProjects/Hoter_reser_harbour/.venv/lib/python3.12/site-packages (from facets-overview) (2.1.3)\r\n",
      "Requirement already satisfied: pandas>=0.22.0 in /Users/domager73/PycharmProjects/Hoter_reser_harbour/.venv/lib/python3.12/site-packages (from facets-overview) (2.3.1)\r\n",
      "Requirement already satisfied: protobuf>=3.20.0 in /Users/domager73/PycharmProjects/Hoter_reser_harbour/.venv/lib/python3.12/site-packages (from facets-overview) (6.31.1)\r\n",
      "Requirement already satisfied: python-dateutil>=2.8.2 in /Users/domager73/PycharmProjects/Hoter_reser_harbour/.venv/lib/python3.12/site-packages (from pandas>=0.22.0->facets-overview) (2.9.0.post0)\r\n",
      "Requirement already satisfied: pytz>=2020.1 in /Users/domager73/PycharmProjects/Hoter_reser_harbour/.venv/lib/python3.12/site-packages (from pandas>=0.22.0->facets-overview) (2025.2)\r\n",
      "Requirement already satisfied: tzdata>=2022.7 in /Users/domager73/PycharmProjects/Hoter_reser_harbour/.venv/lib/python3.12/site-packages (from pandas>=0.22.0->facets-overview) (2025.2)\r\n",
      "Requirement already satisfied: six>=1.5 in /Users/domager73/PycharmProjects/Hoter_reser_harbour/.venv/lib/python3.12/site-packages (from python-dateutil>=2.8.2->pandas>=0.22.0->facets-overview) (1.17.0)\r\n",
      "Note: you may need to restart the kernel to use updated packages.\n"
     ]
    }
   ],
   "execution_count": 143
  },
  {
   "metadata": {
    "ExecuteTime": {
     "end_time": "2025-07-31T19:57:50.631434Z",
     "start_time": "2025-07-31T19:57:50.610956Z"
    }
   },
   "cell_type": "code",
   "source": [
    "import pandas as pd\n",
    "\n",
    "from IPython.core.display import HTML, display_html\n",
    "import base64\n",
    "from facets_overview.generic_feature_statistics_generator import GenericFeatureStatisticsGenerator\n",
    "\n",
    "from ydata_profiling import ProfileReport\n",
    "\n",
    "from evidently import Dataset, DataDefinition, Report\n",
    "from evidently.presets import DataDriftPreset, DataSummaryPreset\n",
    "\n",
    "import plotly.graph_objs as go\n",
    "import plotly.figure_factory as ff\n",
    "import plotly.offline as py"
   ],
   "outputs": [],
   "execution_count": 144
  },
  {
   "metadata": {},
   "cell_type": "markdown",
   "source": "# Load data and EDA"
  },
  {
   "metadata": {
    "ExecuteTime": {
     "end_time": "2025-07-31T19:59:14.977635Z",
     "start_time": "2025-07-31T19:59:14.917058Z"
    }
   },
   "cell_type": "code",
   "source": "df = pd.read_csv('Hotel Reservations.csv')",
   "outputs": [],
   "execution_count": 159
  },
  {
   "metadata": {
    "ExecuteTime": {
     "end_time": "2025-07-31T19:59:19.775039Z",
     "start_time": "2025-07-31T19:59:15.318095Z"
    }
   },
   "cell_type": "code",
   "source": [
    "profile = ProfileReport(df, title=\"Hotel Bookings Profiling\", minimal=True)\n",
    "\n",
    "profile.to_file(\"report.html\")"
   ],
   "outputs": [
    {
     "data": {
      "text/plain": [
       "Summarize dataset:   0%|          | 0/5 [00:00<?, ?it/s]"
      ],
      "application/vnd.jupyter.widget-view+json": {
       "version_major": 2,
       "version_minor": 0,
       "model_id": "4b12e411f24949aa99e70d384d1553ff"
      }
     },
     "metadata": {},
     "output_type": "display_data"
    },
    {
     "name": "stderr",
     "output_type": "stream",
     "text": [
      "\n",
      "  0%|          | 0/19 [00:00<?, ?it/s]\u001B[A\n",
      "100%|██████████| 19/19 [00:01<00:00, 12.44it/s][A\n"
     ]
    },
    {
     "data": {
      "text/plain": [
       "Generate report structure:   0%|          | 0/1 [00:00<?, ?it/s]"
      ],
      "application/vnd.jupyter.widget-view+json": {
       "version_major": 2,
       "version_minor": 0,
       "model_id": "4cce7b8d4c524c75b7a5abf32a159d52"
      }
     },
     "metadata": {},
     "output_type": "display_data"
    },
    {
     "data": {
      "text/plain": [
       "Render HTML:   0%|          | 0/1 [00:00<?, ?it/s]"
      ],
      "application/vnd.jupyter.widget-view+json": {
       "version_major": 2,
       "version_minor": 0,
       "model_id": "2b8f464d5f98493dab6bc6de5c202db2"
      }
     },
     "metadata": {},
     "output_type": "display_data"
    },
    {
     "data": {
      "text/plain": [
       "Export report to file:   0%|          | 0/1 [00:00<?, ?it/s]"
      ],
      "application/vnd.jupyter.widget-view+json": {
       "version_major": 2,
       "version_minor": 0,
       "model_id": "efc654a0c7f14a58918cf5f86c7965b9"
      }
     },
     "metadata": {},
     "output_type": "display_data"
    }
   ],
   "execution_count": 160
  },
  {
   "metadata": {
    "ExecuteTime": {
     "end_time": "2025-07-31T19:57:58.121328Z",
     "start_time": "2025-07-31T19:57:58.100266Z"
    }
   },
   "cell_type": "code",
   "source": "df.info()",
   "outputs": [
    {
     "name": "stdout",
     "output_type": "stream",
     "text": [
      "<class 'pandas.core.frame.DataFrame'>\n",
      "RangeIndex: 36275 entries, 0 to 36274\n",
      "Data columns (total 19 columns):\n",
      " #   Column                                Non-Null Count  Dtype  \n",
      "---  ------                                --------------  -----  \n",
      " 0   Booking_ID                            36275 non-null  object \n",
      " 1   no_of_adults                          36275 non-null  int64  \n",
      " 2   no_of_children                        36275 non-null  int64  \n",
      " 3   no_of_weekend_nights                  36275 non-null  int64  \n",
      " 4   no_of_week_nights                     36275 non-null  int64  \n",
      " 5   type_of_meal_plan                     36275 non-null  object \n",
      " 6   required_car_parking_space            36275 non-null  int64  \n",
      " 7   room_type_reserved                    36275 non-null  object \n",
      " 8   lead_time                             36275 non-null  int64  \n",
      " 9   arrival_year                          36275 non-null  int64  \n",
      " 10  arrival_month                         36275 non-null  int64  \n",
      " 11  arrival_date                          36275 non-null  int64  \n",
      " 12  market_segment_type                   36275 non-null  object \n",
      " 13  repeated_guest                        36275 non-null  int64  \n",
      " 14  no_of_previous_cancellations          36275 non-null  int64  \n",
      " 15  no_of_previous_bookings_not_canceled  36275 non-null  int64  \n",
      " 16  avg_price_per_room                    36275 non-null  float64\n",
      " 17  no_of_special_requests                36275 non-null  int64  \n",
      " 18  booking_status                        36275 non-null  object \n",
      "dtypes: float64(1), int64(13), object(5)\n",
      "memory usage: 5.3+ MB\n"
     ]
    }
   ],
   "execution_count": 147
  },
  {
   "metadata": {},
   "cell_type": "code",
   "outputs": [],
   "execution_count": null,
   "source": [
    "proto = GenericFeatureStatisticsGenerator().ProtoFromDataFrames([{'name': 'train', 'table': df}])\n",
    "\n",
    "protostr = base64.b64encode(proto.SerializeToString()).decode(\"utf-8\")\n",
    "HTML_TEMPLATE = \"\"\"\n",
    "<script src=\"https://cdnjs.cloudflare.com/ajax/libs/webcomponentsjs/1.3.3/webcomponents-lite.js\"></script>\n",
    "<link rel=\"import\" href=\"https://raw.githubusercontent.com/PAIR-code/facets/master/facets-dist/facets-jupyter.html\">\n",
    "<facets-overview id=\"elem\"></facets-overview>\n",
    "<script>\n",
    "document.querySelector(\"#elem\").protoInput = \"{protostr}\";\n",
    "</script>\"\"\"\n",
    "html = HTML_TEMPLATE.format(protostr=protostr)\n",
    "display_html(html)"
   ]
  },
  {
   "metadata": {},
   "cell_type": "code",
   "outputs": [],
   "execution_count": null,
   "source": [
    "evidently_report = Report(metrics=[\n",
    "    DataSummaryPreset(),\n",
    "], include_tests=True)\n",
    "\n",
    "run = evidently_report.run(current_data=df, reference_data=None)"
   ]
  },
  {
   "metadata": {},
   "cell_type": "code",
   "outputs": [],
   "execution_count": null,
   "source": "run"
  },
  {
   "metadata": {},
   "cell_type": "markdown",
   "source": "# Feature Genering and prepare data"
  },
  {
   "metadata": {
    "ExecuteTime": {
     "end_time": "2025-07-31T19:59:20.554151Z",
     "start_time": "2025-07-31T19:59:20.529544Z"
    }
   },
   "cell_type": "code",
   "source": "del df['Booking_ID']",
   "outputs": [],
   "execution_count": 161
  },
  {
   "metadata": {
    "ExecuteTime": {
     "end_time": "2025-07-31T19:59:20.832169Z",
     "start_time": "2025-07-31T19:59:20.826698Z"
    }
   },
   "cell_type": "code",
   "source": [
    "def target_to_int(df):\n",
    "    df['booking_status'] = (df['booking_status'] == 'Canceled').astype('int64')\n",
    "    return df"
   ],
   "outputs": [],
   "execution_count": 162
  },
  {
   "metadata": {
    "ExecuteTime": {
     "end_time": "2025-07-31T19:59:21.558598Z",
     "start_time": "2025-07-31T19:59:21.352221Z"
    }
   },
   "cell_type": "code",
   "source": [
    "df['date'] = df.apply(\n",
    "    lambda row: ''.join(map(str, [row['arrival_year'], row['arrival_month'], row['arrival_date']])),\n",
    "    axis=1\n",
    ")"
   ],
   "outputs": [],
   "execution_count": 163
  },
  {
   "metadata": {
    "ExecuteTime": {
     "end_time": "2025-07-31T19:59:21.803010Z",
     "start_time": "2025-07-31T19:59:21.782766Z"
    }
   },
   "cell_type": "code",
   "source": [
    "df = df.sort_values(by='date')\n",
    "del df['date']"
   ],
   "outputs": [],
   "execution_count": 164
  },
  {
   "metadata": {
    "ExecuteTime": {
     "end_time": "2025-07-31T19:59:22.186594Z",
     "start_time": "2025-07-31T19:59:22.182420Z"
    }
   },
   "cell_type": "code",
   "source": "df = target_to_int(df)",
   "outputs": [],
   "execution_count": 165
  },
  {
   "metadata": {
    "ExecuteTime": {
     "end_time": "2025-07-31T19:59:22.916504Z",
     "start_time": "2025-07-31T19:59:22.904246Z"
    }
   },
   "cell_type": "code",
   "source": "df",
   "outputs": [
    {
     "data": {
      "text/plain": [
       "       no_of_adults  no_of_children  no_of_weekend_nights  no_of_week_nights  \\\n",
       "21771             2               0                     2                  3   \n",
       "3866              1               0                     0                  1   \n",
       "34227             2               0                     0                  2   \n",
       "34104             1               0                     0                  2   \n",
       "6144              2               0                     1                  3   \n",
       "...             ...             ...                   ...                ...   \n",
       "13628             2               0                     1                  2   \n",
       "15109             2               0                     1                  2   \n",
       "31588             2               0                     0                  2   \n",
       "16462             2               0                     0                  2   \n",
       "28659             2               0                     1                  2   \n",
       "\n",
       "      type_of_meal_plan  required_car_parking_space room_type_reserved  \\\n",
       "21771       Meal Plan 1                           0        Room_Type 1   \n",
       "3866        Meal Plan 1                           0        Room_Type 1   \n",
       "34227       Meal Plan 1                           0        Room_Type 1   \n",
       "34104       Meal Plan 1                           0        Room_Type 1   \n",
       "6144        Meal Plan 1                           0        Room_Type 1   \n",
       "...                 ...                         ...                ...   \n",
       "13628       Meal Plan 1                           0        Room_Type 1   \n",
       "15109       Meal Plan 1                           0        Room_Type 1   \n",
       "31588       Meal Plan 1                           0        Room_Type 1   \n",
       "16462       Meal Plan 1                           0        Room_Type 4   \n",
       "28659       Meal Plan 1                           0        Room_Type 1   \n",
       "\n",
       "       lead_time  arrival_year  arrival_month  arrival_date  \\\n",
       "21771          6          2017             10             1   \n",
       "3866           1          2017             10             1   \n",
       "34227         16          2017             10             1   \n",
       "34104         17          2017             10             1   \n",
       "6144          16          2017             10             1   \n",
       "...          ...           ...            ...           ...   \n",
       "13628        198          2018              9             9   \n",
       "15109        198          2018              9             9   \n",
       "31588        169          2018              9             9   \n",
       "16462         65          2018              9             9   \n",
       "28659         57          2018              9             9   \n",
       "\n",
       "      market_segment_type  repeated_guest  no_of_previous_cancellations  \\\n",
       "21771             Offline               0                             0   \n",
       "3866              Offline               0                             0   \n",
       "34227              Online               0                             0   \n",
       "34104              Online               0                             0   \n",
       "6144               Online               0                             0   \n",
       "...                   ...             ...                           ...   \n",
       "13628             Offline               0                             0   \n",
       "15109             Offline               0                             0   \n",
       "31588             Offline               0                             0   \n",
       "16462              Online               0                             0   \n",
       "28659              Online               0                             0   \n",
       "\n",
       "       no_of_previous_bookings_not_canceled  avg_price_per_room  \\\n",
       "21771                                     0               58.40   \n",
       "3866                                      0               96.00   \n",
       "34227                                     0              117.00   \n",
       "34104                                     0               73.88   \n",
       "6144                                      0              111.75   \n",
       "...                                     ...                 ...   \n",
       "13628                                     0               90.00   \n",
       "15109                                     0               90.00   \n",
       "31588                                     0               80.75   \n",
       "16462                                     0              149.40   \n",
       "28659                                     0              125.10   \n",
       "\n",
       "       no_of_special_requests  booking_status  \n",
       "21771                       0               0  \n",
       "3866                        0               0  \n",
       "34227                       2               0  \n",
       "34104                       3               0  \n",
       "6144                        2               0  \n",
       "...                       ...             ...  \n",
       "13628                       0               1  \n",
       "15109                       0               1  \n",
       "31588                       0               0  \n",
       "16462                       1               1  \n",
       "28659                       1               0  \n",
       "\n",
       "[36275 rows x 18 columns]"
      ],
      "text/html": [
       "<div>\n",
       "<style scoped>\n",
       "    .dataframe tbody tr th:only-of-type {\n",
       "        vertical-align: middle;\n",
       "    }\n",
       "\n",
       "    .dataframe tbody tr th {\n",
       "        vertical-align: top;\n",
       "    }\n",
       "\n",
       "    .dataframe thead th {\n",
       "        text-align: right;\n",
       "    }\n",
       "</style>\n",
       "<table border=\"1\" class=\"dataframe\">\n",
       "  <thead>\n",
       "    <tr style=\"text-align: right;\">\n",
       "      <th></th>\n",
       "      <th>no_of_adults</th>\n",
       "      <th>no_of_children</th>\n",
       "      <th>no_of_weekend_nights</th>\n",
       "      <th>no_of_week_nights</th>\n",
       "      <th>type_of_meal_plan</th>\n",
       "      <th>required_car_parking_space</th>\n",
       "      <th>room_type_reserved</th>\n",
       "      <th>lead_time</th>\n",
       "      <th>arrival_year</th>\n",
       "      <th>arrival_month</th>\n",
       "      <th>arrival_date</th>\n",
       "      <th>market_segment_type</th>\n",
       "      <th>repeated_guest</th>\n",
       "      <th>no_of_previous_cancellations</th>\n",
       "      <th>no_of_previous_bookings_not_canceled</th>\n",
       "      <th>avg_price_per_room</th>\n",
       "      <th>no_of_special_requests</th>\n",
       "      <th>booking_status</th>\n",
       "    </tr>\n",
       "  </thead>\n",
       "  <tbody>\n",
       "    <tr>\n",
       "      <th>21771</th>\n",
       "      <td>2</td>\n",
       "      <td>0</td>\n",
       "      <td>2</td>\n",
       "      <td>3</td>\n",
       "      <td>Meal Plan 1</td>\n",
       "      <td>0</td>\n",
       "      <td>Room_Type 1</td>\n",
       "      <td>6</td>\n",
       "      <td>2017</td>\n",
       "      <td>10</td>\n",
       "      <td>1</td>\n",
       "      <td>Offline</td>\n",
       "      <td>0</td>\n",
       "      <td>0</td>\n",
       "      <td>0</td>\n",
       "      <td>58.40</td>\n",
       "      <td>0</td>\n",
       "      <td>0</td>\n",
       "    </tr>\n",
       "    <tr>\n",
       "      <th>3866</th>\n",
       "      <td>1</td>\n",
       "      <td>0</td>\n",
       "      <td>0</td>\n",
       "      <td>1</td>\n",
       "      <td>Meal Plan 1</td>\n",
       "      <td>0</td>\n",
       "      <td>Room_Type 1</td>\n",
       "      <td>1</td>\n",
       "      <td>2017</td>\n",
       "      <td>10</td>\n",
       "      <td>1</td>\n",
       "      <td>Offline</td>\n",
       "      <td>0</td>\n",
       "      <td>0</td>\n",
       "      <td>0</td>\n",
       "      <td>96.00</td>\n",
       "      <td>0</td>\n",
       "      <td>0</td>\n",
       "    </tr>\n",
       "    <tr>\n",
       "      <th>34227</th>\n",
       "      <td>2</td>\n",
       "      <td>0</td>\n",
       "      <td>0</td>\n",
       "      <td>2</td>\n",
       "      <td>Meal Plan 1</td>\n",
       "      <td>0</td>\n",
       "      <td>Room_Type 1</td>\n",
       "      <td>16</td>\n",
       "      <td>2017</td>\n",
       "      <td>10</td>\n",
       "      <td>1</td>\n",
       "      <td>Online</td>\n",
       "      <td>0</td>\n",
       "      <td>0</td>\n",
       "      <td>0</td>\n",
       "      <td>117.00</td>\n",
       "      <td>2</td>\n",
       "      <td>0</td>\n",
       "    </tr>\n",
       "    <tr>\n",
       "      <th>34104</th>\n",
       "      <td>1</td>\n",
       "      <td>0</td>\n",
       "      <td>0</td>\n",
       "      <td>2</td>\n",
       "      <td>Meal Plan 1</td>\n",
       "      <td>0</td>\n",
       "      <td>Room_Type 1</td>\n",
       "      <td>17</td>\n",
       "      <td>2017</td>\n",
       "      <td>10</td>\n",
       "      <td>1</td>\n",
       "      <td>Online</td>\n",
       "      <td>0</td>\n",
       "      <td>0</td>\n",
       "      <td>0</td>\n",
       "      <td>73.88</td>\n",
       "      <td>3</td>\n",
       "      <td>0</td>\n",
       "    </tr>\n",
       "    <tr>\n",
       "      <th>6144</th>\n",
       "      <td>2</td>\n",
       "      <td>0</td>\n",
       "      <td>1</td>\n",
       "      <td>3</td>\n",
       "      <td>Meal Plan 1</td>\n",
       "      <td>0</td>\n",
       "      <td>Room_Type 1</td>\n",
       "      <td>16</td>\n",
       "      <td>2017</td>\n",
       "      <td>10</td>\n",
       "      <td>1</td>\n",
       "      <td>Online</td>\n",
       "      <td>0</td>\n",
       "      <td>0</td>\n",
       "      <td>0</td>\n",
       "      <td>111.75</td>\n",
       "      <td>2</td>\n",
       "      <td>0</td>\n",
       "    </tr>\n",
       "    <tr>\n",
       "      <th>...</th>\n",
       "      <td>...</td>\n",
       "      <td>...</td>\n",
       "      <td>...</td>\n",
       "      <td>...</td>\n",
       "      <td>...</td>\n",
       "      <td>...</td>\n",
       "      <td>...</td>\n",
       "      <td>...</td>\n",
       "      <td>...</td>\n",
       "      <td>...</td>\n",
       "      <td>...</td>\n",
       "      <td>...</td>\n",
       "      <td>...</td>\n",
       "      <td>...</td>\n",
       "      <td>...</td>\n",
       "      <td>...</td>\n",
       "      <td>...</td>\n",
       "      <td>...</td>\n",
       "    </tr>\n",
       "    <tr>\n",
       "      <th>13628</th>\n",
       "      <td>2</td>\n",
       "      <td>0</td>\n",
       "      <td>1</td>\n",
       "      <td>2</td>\n",
       "      <td>Meal Plan 1</td>\n",
       "      <td>0</td>\n",
       "      <td>Room_Type 1</td>\n",
       "      <td>198</td>\n",
       "      <td>2018</td>\n",
       "      <td>9</td>\n",
       "      <td>9</td>\n",
       "      <td>Offline</td>\n",
       "      <td>0</td>\n",
       "      <td>0</td>\n",
       "      <td>0</td>\n",
       "      <td>90.00</td>\n",
       "      <td>0</td>\n",
       "      <td>1</td>\n",
       "    </tr>\n",
       "    <tr>\n",
       "      <th>15109</th>\n",
       "      <td>2</td>\n",
       "      <td>0</td>\n",
       "      <td>1</td>\n",
       "      <td>2</td>\n",
       "      <td>Meal Plan 1</td>\n",
       "      <td>0</td>\n",
       "      <td>Room_Type 1</td>\n",
       "      <td>198</td>\n",
       "      <td>2018</td>\n",
       "      <td>9</td>\n",
       "      <td>9</td>\n",
       "      <td>Offline</td>\n",
       "      <td>0</td>\n",
       "      <td>0</td>\n",
       "      <td>0</td>\n",
       "      <td>90.00</td>\n",
       "      <td>0</td>\n",
       "      <td>1</td>\n",
       "    </tr>\n",
       "    <tr>\n",
       "      <th>31588</th>\n",
       "      <td>2</td>\n",
       "      <td>0</td>\n",
       "      <td>0</td>\n",
       "      <td>2</td>\n",
       "      <td>Meal Plan 1</td>\n",
       "      <td>0</td>\n",
       "      <td>Room_Type 1</td>\n",
       "      <td>169</td>\n",
       "      <td>2018</td>\n",
       "      <td>9</td>\n",
       "      <td>9</td>\n",
       "      <td>Offline</td>\n",
       "      <td>0</td>\n",
       "      <td>0</td>\n",
       "      <td>0</td>\n",
       "      <td>80.75</td>\n",
       "      <td>0</td>\n",
       "      <td>0</td>\n",
       "    </tr>\n",
       "    <tr>\n",
       "      <th>16462</th>\n",
       "      <td>2</td>\n",
       "      <td>0</td>\n",
       "      <td>0</td>\n",
       "      <td>2</td>\n",
       "      <td>Meal Plan 1</td>\n",
       "      <td>0</td>\n",
       "      <td>Room_Type 4</td>\n",
       "      <td>65</td>\n",
       "      <td>2018</td>\n",
       "      <td>9</td>\n",
       "      <td>9</td>\n",
       "      <td>Online</td>\n",
       "      <td>0</td>\n",
       "      <td>0</td>\n",
       "      <td>0</td>\n",
       "      <td>149.40</td>\n",
       "      <td>1</td>\n",
       "      <td>1</td>\n",
       "    </tr>\n",
       "    <tr>\n",
       "      <th>28659</th>\n",
       "      <td>2</td>\n",
       "      <td>0</td>\n",
       "      <td>1</td>\n",
       "      <td>2</td>\n",
       "      <td>Meal Plan 1</td>\n",
       "      <td>0</td>\n",
       "      <td>Room_Type 1</td>\n",
       "      <td>57</td>\n",
       "      <td>2018</td>\n",
       "      <td>9</td>\n",
       "      <td>9</td>\n",
       "      <td>Online</td>\n",
       "      <td>0</td>\n",
       "      <td>0</td>\n",
       "      <td>0</td>\n",
       "      <td>125.10</td>\n",
       "      <td>1</td>\n",
       "      <td>0</td>\n",
       "    </tr>\n",
       "  </tbody>\n",
       "</table>\n",
       "<p>36275 rows × 18 columns</p>\n",
       "</div>"
      ]
     },
     "execution_count": 166,
     "metadata": {},
     "output_type": "execute_result"
    }
   ],
   "execution_count": 166
  },
  {
   "metadata": {
    "ExecuteTime": {
     "end_time": "2025-07-31T09:21:39.959574Z",
     "start_time": "2025-07-31T09:21:39.942292Z"
    }
   },
   "cell_type": "code",
   "source": [
    "fig = go.Figure([go.Bar(x=['no', 'yes'], y=df['booking_status'].value_counts())])\n",
    "fig.show()"
   ],
   "outputs": [
    {
     "data": {
      "application/vnd.plotly.v1+json": {
       "data": [
        {
         "x": [
          "no",
          "yes"
         ],
         "y": [
          24390,
          11885
         ],
         "type": "bar"
        }
       ],
       "layout": {
        "template": {
         "data": {
          "histogram2dcontour": [
           {
            "type": "histogram2dcontour",
            "colorbar": {
             "outlinewidth": 0,
             "ticks": ""
            },
            "colorscale": [
             [
              0.0,
              "#0d0887"
             ],
             [
              0.1111111111111111,
              "#46039f"
             ],
             [
              0.2222222222222222,
              "#7201a8"
             ],
             [
              0.3333333333333333,
              "#9c179e"
             ],
             [
              0.4444444444444444,
              "#bd3786"
             ],
             [
              0.5555555555555556,
              "#d8576b"
             ],
             [
              0.6666666666666666,
              "#ed7953"
             ],
             [
              0.7777777777777778,
              "#fb9f3a"
             ],
             [
              0.8888888888888888,
              "#fdca26"
             ],
             [
              1.0,
              "#f0f921"
             ]
            ]
           }
          ],
          "choropleth": [
           {
            "type": "choropleth",
            "colorbar": {
             "outlinewidth": 0,
             "ticks": ""
            }
           }
          ],
          "histogram2d": [
           {
            "type": "histogram2d",
            "colorbar": {
             "outlinewidth": 0,
             "ticks": ""
            },
            "colorscale": [
             [
              0.0,
              "#0d0887"
             ],
             [
              0.1111111111111111,
              "#46039f"
             ],
             [
              0.2222222222222222,
              "#7201a8"
             ],
             [
              0.3333333333333333,
              "#9c179e"
             ],
             [
              0.4444444444444444,
              "#bd3786"
             ],
             [
              0.5555555555555556,
              "#d8576b"
             ],
             [
              0.6666666666666666,
              "#ed7953"
             ],
             [
              0.7777777777777778,
              "#fb9f3a"
             ],
             [
              0.8888888888888888,
              "#fdca26"
             ],
             [
              1.0,
              "#f0f921"
             ]
            ]
           }
          ],
          "heatmap": [
           {
            "type": "heatmap",
            "colorbar": {
             "outlinewidth": 0,
             "ticks": ""
            },
            "colorscale": [
             [
              0.0,
              "#0d0887"
             ],
             [
              0.1111111111111111,
              "#46039f"
             ],
             [
              0.2222222222222222,
              "#7201a8"
             ],
             [
              0.3333333333333333,
              "#9c179e"
             ],
             [
              0.4444444444444444,
              "#bd3786"
             ],
             [
              0.5555555555555556,
              "#d8576b"
             ],
             [
              0.6666666666666666,
              "#ed7953"
             ],
             [
              0.7777777777777778,
              "#fb9f3a"
             ],
             [
              0.8888888888888888,
              "#fdca26"
             ],
             [
              1.0,
              "#f0f921"
             ]
            ]
           }
          ],
          "heatmapgl": [
           {
            "type": "heatmapgl",
            "colorbar": {
             "outlinewidth": 0,
             "ticks": ""
            },
            "colorscale": [
             [
              0.0,
              "#0d0887"
             ],
             [
              0.1111111111111111,
              "#46039f"
             ],
             [
              0.2222222222222222,
              "#7201a8"
             ],
             [
              0.3333333333333333,
              "#9c179e"
             ],
             [
              0.4444444444444444,
              "#bd3786"
             ],
             [
              0.5555555555555556,
              "#d8576b"
             ],
             [
              0.6666666666666666,
              "#ed7953"
             ],
             [
              0.7777777777777778,
              "#fb9f3a"
             ],
             [
              0.8888888888888888,
              "#fdca26"
             ],
             [
              1.0,
              "#f0f921"
             ]
            ]
           }
          ],
          "contourcarpet": [
           {
            "type": "contourcarpet",
            "colorbar": {
             "outlinewidth": 0,
             "ticks": ""
            }
           }
          ],
          "contour": [
           {
            "type": "contour",
            "colorbar": {
             "outlinewidth": 0,
             "ticks": ""
            },
            "colorscale": [
             [
              0.0,
              "#0d0887"
             ],
             [
              0.1111111111111111,
              "#46039f"
             ],
             [
              0.2222222222222222,
              "#7201a8"
             ],
             [
              0.3333333333333333,
              "#9c179e"
             ],
             [
              0.4444444444444444,
              "#bd3786"
             ],
             [
              0.5555555555555556,
              "#d8576b"
             ],
             [
              0.6666666666666666,
              "#ed7953"
             ],
             [
              0.7777777777777778,
              "#fb9f3a"
             ],
             [
              0.8888888888888888,
              "#fdca26"
             ],
             [
              1.0,
              "#f0f921"
             ]
            ]
           }
          ],
          "surface": [
           {
            "type": "surface",
            "colorbar": {
             "outlinewidth": 0,
             "ticks": ""
            },
            "colorscale": [
             [
              0.0,
              "#0d0887"
             ],
             [
              0.1111111111111111,
              "#46039f"
             ],
             [
              0.2222222222222222,
              "#7201a8"
             ],
             [
              0.3333333333333333,
              "#9c179e"
             ],
             [
              0.4444444444444444,
              "#bd3786"
             ],
             [
              0.5555555555555556,
              "#d8576b"
             ],
             [
              0.6666666666666666,
              "#ed7953"
             ],
             [
              0.7777777777777778,
              "#fb9f3a"
             ],
             [
              0.8888888888888888,
              "#fdca26"
             ],
             [
              1.0,
              "#f0f921"
             ]
            ]
           }
          ],
          "mesh3d": [
           {
            "type": "mesh3d",
            "colorbar": {
             "outlinewidth": 0,
             "ticks": ""
            }
           }
          ],
          "scatter": [
           {
            "fillpattern": {
             "fillmode": "overlay",
             "size": 10,
             "solidity": 0.2
            },
            "type": "scatter"
           }
          ],
          "parcoords": [
           {
            "type": "parcoords",
            "line": {
             "colorbar": {
              "outlinewidth": 0,
              "ticks": ""
             }
            }
           }
          ],
          "scatterpolargl": [
           {
            "type": "scatterpolargl",
            "marker": {
             "colorbar": {
              "outlinewidth": 0,
              "ticks": ""
             }
            }
           }
          ],
          "bar": [
           {
            "error_x": {
             "color": "#2a3f5f"
            },
            "error_y": {
             "color": "#2a3f5f"
            },
            "marker": {
             "line": {
              "color": "#E5ECF6",
              "width": 0.5
             },
             "pattern": {
              "fillmode": "overlay",
              "size": 10,
              "solidity": 0.2
             }
            },
            "type": "bar"
           }
          ],
          "scattergeo": [
           {
            "type": "scattergeo",
            "marker": {
             "colorbar": {
              "outlinewidth": 0,
              "ticks": ""
             }
            }
           }
          ],
          "scatterpolar": [
           {
            "type": "scatterpolar",
            "marker": {
             "colorbar": {
              "outlinewidth": 0,
              "ticks": ""
             }
            }
           }
          ],
          "histogram": [
           {
            "marker": {
             "pattern": {
              "fillmode": "overlay",
              "size": 10,
              "solidity": 0.2
             }
            },
            "type": "histogram"
           }
          ],
          "scattergl": [
           {
            "type": "scattergl",
            "marker": {
             "colorbar": {
              "outlinewidth": 0,
              "ticks": ""
             }
            }
           }
          ],
          "scatter3d": [
           {
            "type": "scatter3d",
            "line": {
             "colorbar": {
              "outlinewidth": 0,
              "ticks": ""
             }
            },
            "marker": {
             "colorbar": {
              "outlinewidth": 0,
              "ticks": ""
             }
            }
           }
          ],
          "scattermapbox": [
           {
            "type": "scattermapbox",
            "marker": {
             "colorbar": {
              "outlinewidth": 0,
              "ticks": ""
             }
            }
           }
          ],
          "scatterternary": [
           {
            "type": "scatterternary",
            "marker": {
             "colorbar": {
              "outlinewidth": 0,
              "ticks": ""
             }
            }
           }
          ],
          "scattercarpet": [
           {
            "type": "scattercarpet",
            "marker": {
             "colorbar": {
              "outlinewidth": 0,
              "ticks": ""
             }
            }
           }
          ],
          "carpet": [
           {
            "aaxis": {
             "endlinecolor": "#2a3f5f",
             "gridcolor": "white",
             "linecolor": "white",
             "minorgridcolor": "white",
             "startlinecolor": "#2a3f5f"
            },
            "baxis": {
             "endlinecolor": "#2a3f5f",
             "gridcolor": "white",
             "linecolor": "white",
             "minorgridcolor": "white",
             "startlinecolor": "#2a3f5f"
            },
            "type": "carpet"
           }
          ],
          "table": [
           {
            "cells": {
             "fill": {
              "color": "#EBF0F8"
             },
             "line": {
              "color": "white"
             }
            },
            "header": {
             "fill": {
              "color": "#C8D4E3"
             },
             "line": {
              "color": "white"
             }
            },
            "type": "table"
           }
          ],
          "barpolar": [
           {
            "marker": {
             "line": {
              "color": "#E5ECF6",
              "width": 0.5
             },
             "pattern": {
              "fillmode": "overlay",
              "size": 10,
              "solidity": 0.2
             }
            },
            "type": "barpolar"
           }
          ],
          "pie": [
           {
            "automargin": true,
            "type": "pie"
           }
          ]
         },
         "layout": {
          "autotypenumbers": "strict",
          "colorway": [
           "#636efa",
           "#EF553B",
           "#00cc96",
           "#ab63fa",
           "#FFA15A",
           "#19d3f3",
           "#FF6692",
           "#B6E880",
           "#FF97FF",
           "#FECB52"
          ],
          "font": {
           "color": "#2a3f5f"
          },
          "hovermode": "closest",
          "hoverlabel": {
           "align": "left"
          },
          "paper_bgcolor": "white",
          "plot_bgcolor": "#E5ECF6",
          "polar": {
           "bgcolor": "#E5ECF6",
           "angularaxis": {
            "gridcolor": "white",
            "linecolor": "white",
            "ticks": ""
           },
           "radialaxis": {
            "gridcolor": "white",
            "linecolor": "white",
            "ticks": ""
           }
          },
          "ternary": {
           "bgcolor": "#E5ECF6",
           "aaxis": {
            "gridcolor": "white",
            "linecolor": "white",
            "ticks": ""
           },
           "baxis": {
            "gridcolor": "white",
            "linecolor": "white",
            "ticks": ""
           },
           "caxis": {
            "gridcolor": "white",
            "linecolor": "white",
            "ticks": ""
           }
          },
          "coloraxis": {
           "colorbar": {
            "outlinewidth": 0,
            "ticks": ""
           }
          },
          "colorscale": {
           "sequential": [
            [
             0.0,
             "#0d0887"
            ],
            [
             0.1111111111111111,
             "#46039f"
            ],
            [
             0.2222222222222222,
             "#7201a8"
            ],
            [
             0.3333333333333333,
             "#9c179e"
            ],
            [
             0.4444444444444444,
             "#bd3786"
            ],
            [
             0.5555555555555556,
             "#d8576b"
            ],
            [
             0.6666666666666666,
             "#ed7953"
            ],
            [
             0.7777777777777778,
             "#fb9f3a"
            ],
            [
             0.8888888888888888,
             "#fdca26"
            ],
            [
             1.0,
             "#f0f921"
            ]
           ],
           "sequentialminus": [
            [
             0.0,
             "#0d0887"
            ],
            [
             0.1111111111111111,
             "#46039f"
            ],
            [
             0.2222222222222222,
             "#7201a8"
            ],
            [
             0.3333333333333333,
             "#9c179e"
            ],
            [
             0.4444444444444444,
             "#bd3786"
            ],
            [
             0.5555555555555556,
             "#d8576b"
            ],
            [
             0.6666666666666666,
             "#ed7953"
            ],
            [
             0.7777777777777778,
             "#fb9f3a"
            ],
            [
             0.8888888888888888,
             "#fdca26"
            ],
            [
             1.0,
             "#f0f921"
            ]
           ],
           "diverging": [
            [
             0,
             "#8e0152"
            ],
            [
             0.1,
             "#c51b7d"
            ],
            [
             0.2,
             "#de77ae"
            ],
            [
             0.3,
             "#f1b6da"
            ],
            [
             0.4,
             "#fde0ef"
            ],
            [
             0.5,
             "#f7f7f7"
            ],
            [
             0.6,
             "#e6f5d0"
            ],
            [
             0.7,
             "#b8e186"
            ],
            [
             0.8,
             "#7fbc41"
            ],
            [
             0.9,
             "#4d9221"
            ],
            [
             1,
             "#276419"
            ]
           ]
          },
          "xaxis": {
           "gridcolor": "white",
           "linecolor": "white",
           "ticks": "",
           "title": {
            "standoff": 15
           },
           "zerolinecolor": "white",
           "automargin": true,
           "zerolinewidth": 2
          },
          "yaxis": {
           "gridcolor": "white",
           "linecolor": "white",
           "ticks": "",
           "title": {
            "standoff": 15
           },
           "zerolinecolor": "white",
           "automargin": true,
           "zerolinewidth": 2
          },
          "scene": {
           "xaxis": {
            "backgroundcolor": "#E5ECF6",
            "gridcolor": "white",
            "linecolor": "white",
            "showbackground": true,
            "ticks": "",
            "zerolinecolor": "white",
            "gridwidth": 2
           },
           "yaxis": {
            "backgroundcolor": "#E5ECF6",
            "gridcolor": "white",
            "linecolor": "white",
            "showbackground": true,
            "ticks": "",
            "zerolinecolor": "white",
            "gridwidth": 2
           },
           "zaxis": {
            "backgroundcolor": "#E5ECF6",
            "gridcolor": "white",
            "linecolor": "white",
            "showbackground": true,
            "ticks": "",
            "zerolinecolor": "white",
            "gridwidth": 2
           }
          },
          "shapedefaults": {
           "line": {
            "color": "#2a3f5f"
           }
          },
          "annotationdefaults": {
           "arrowcolor": "#2a3f5f",
           "arrowhead": 0,
           "arrowwidth": 1
          },
          "geo": {
           "bgcolor": "white",
           "landcolor": "#E5ECF6",
           "subunitcolor": "white",
           "showland": true,
           "showlakes": true,
           "lakecolor": "white"
          },
          "title": {
           "x": 0.05
          },
          "mapbox": {
           "style": "light"
          }
         }
        }
       },
       "config": {
        "plotlyServerURL": "https://plot.ly"
       }
      },
      "text/html": [
       "<div>                            <div id=\"416a4fd4-ffa7-4085-9efc-99d7cb02eb00\" class=\"plotly-graph-div\" style=\"height:525px; width:100%;\"></div>            <script type=\"text/javascript\">                require([\"plotly\"], function(Plotly) {                    window.PLOTLYENV=window.PLOTLYENV || {};                                    if (document.getElementById(\"416a4fd4-ffa7-4085-9efc-99d7cb02eb00\")) {                    Plotly.newPlot(                        \"416a4fd4-ffa7-4085-9efc-99d7cb02eb00\",                        [{\"x\":[\"no\",\"yes\"],\"y\":[24390,11885],\"type\":\"bar\"}],                        {\"template\":{\"data\":{\"histogram2dcontour\":[{\"type\":\"histogram2dcontour\",\"colorbar\":{\"outlinewidth\":0,\"ticks\":\"\"},\"colorscale\":[[0.0,\"#0d0887\"],[0.1111111111111111,\"#46039f\"],[0.2222222222222222,\"#7201a8\"],[0.3333333333333333,\"#9c179e\"],[0.4444444444444444,\"#bd3786\"],[0.5555555555555556,\"#d8576b\"],[0.6666666666666666,\"#ed7953\"],[0.7777777777777778,\"#fb9f3a\"],[0.8888888888888888,\"#fdca26\"],[1.0,\"#f0f921\"]]}],\"choropleth\":[{\"type\":\"choropleth\",\"colorbar\":{\"outlinewidth\":0,\"ticks\":\"\"}}],\"histogram2d\":[{\"type\":\"histogram2d\",\"colorbar\":{\"outlinewidth\":0,\"ticks\":\"\"},\"colorscale\":[[0.0,\"#0d0887\"],[0.1111111111111111,\"#46039f\"],[0.2222222222222222,\"#7201a8\"],[0.3333333333333333,\"#9c179e\"],[0.4444444444444444,\"#bd3786\"],[0.5555555555555556,\"#d8576b\"],[0.6666666666666666,\"#ed7953\"],[0.7777777777777778,\"#fb9f3a\"],[0.8888888888888888,\"#fdca26\"],[1.0,\"#f0f921\"]]}],\"heatmap\":[{\"type\":\"heatmap\",\"colorbar\":{\"outlinewidth\":0,\"ticks\":\"\"},\"colorscale\":[[0.0,\"#0d0887\"],[0.1111111111111111,\"#46039f\"],[0.2222222222222222,\"#7201a8\"],[0.3333333333333333,\"#9c179e\"],[0.4444444444444444,\"#bd3786\"],[0.5555555555555556,\"#d8576b\"],[0.6666666666666666,\"#ed7953\"],[0.7777777777777778,\"#fb9f3a\"],[0.8888888888888888,\"#fdca26\"],[1.0,\"#f0f921\"]]}],\"heatmapgl\":[{\"type\":\"heatmapgl\",\"colorbar\":{\"outlinewidth\":0,\"ticks\":\"\"},\"colorscale\":[[0.0,\"#0d0887\"],[0.1111111111111111,\"#46039f\"],[0.2222222222222222,\"#7201a8\"],[0.3333333333333333,\"#9c179e\"],[0.4444444444444444,\"#bd3786\"],[0.5555555555555556,\"#d8576b\"],[0.6666666666666666,\"#ed7953\"],[0.7777777777777778,\"#fb9f3a\"],[0.8888888888888888,\"#fdca26\"],[1.0,\"#f0f921\"]]}],\"contourcarpet\":[{\"type\":\"contourcarpet\",\"colorbar\":{\"outlinewidth\":0,\"ticks\":\"\"}}],\"contour\":[{\"type\":\"contour\",\"colorbar\":{\"outlinewidth\":0,\"ticks\":\"\"},\"colorscale\":[[0.0,\"#0d0887\"],[0.1111111111111111,\"#46039f\"],[0.2222222222222222,\"#7201a8\"],[0.3333333333333333,\"#9c179e\"],[0.4444444444444444,\"#bd3786\"],[0.5555555555555556,\"#d8576b\"],[0.6666666666666666,\"#ed7953\"],[0.7777777777777778,\"#fb9f3a\"],[0.8888888888888888,\"#fdca26\"],[1.0,\"#f0f921\"]]}],\"surface\":[{\"type\":\"surface\",\"colorbar\":{\"outlinewidth\":0,\"ticks\":\"\"},\"colorscale\":[[0.0,\"#0d0887\"],[0.1111111111111111,\"#46039f\"],[0.2222222222222222,\"#7201a8\"],[0.3333333333333333,\"#9c179e\"],[0.4444444444444444,\"#bd3786\"],[0.5555555555555556,\"#d8576b\"],[0.6666666666666666,\"#ed7953\"],[0.7777777777777778,\"#fb9f3a\"],[0.8888888888888888,\"#fdca26\"],[1.0,\"#f0f921\"]]}],\"mesh3d\":[{\"type\":\"mesh3d\",\"colorbar\":{\"outlinewidth\":0,\"ticks\":\"\"}}],\"scatter\":[{\"fillpattern\":{\"fillmode\":\"overlay\",\"size\":10,\"solidity\":0.2},\"type\":\"scatter\"}],\"parcoords\":[{\"type\":\"parcoords\",\"line\":{\"colorbar\":{\"outlinewidth\":0,\"ticks\":\"\"}}}],\"scatterpolargl\":[{\"type\":\"scatterpolargl\",\"marker\":{\"colorbar\":{\"outlinewidth\":0,\"ticks\":\"\"}}}],\"bar\":[{\"error_x\":{\"color\":\"#2a3f5f\"},\"error_y\":{\"color\":\"#2a3f5f\"},\"marker\":{\"line\":{\"color\":\"#E5ECF6\",\"width\":0.5},\"pattern\":{\"fillmode\":\"overlay\",\"size\":10,\"solidity\":0.2}},\"type\":\"bar\"}],\"scattergeo\":[{\"type\":\"scattergeo\",\"marker\":{\"colorbar\":{\"outlinewidth\":0,\"ticks\":\"\"}}}],\"scatterpolar\":[{\"type\":\"scatterpolar\",\"marker\":{\"colorbar\":{\"outlinewidth\":0,\"ticks\":\"\"}}}],\"histogram\":[{\"marker\":{\"pattern\":{\"fillmode\":\"overlay\",\"size\":10,\"solidity\":0.2}},\"type\":\"histogram\"}],\"scattergl\":[{\"type\":\"scattergl\",\"marker\":{\"colorbar\":{\"outlinewidth\":0,\"ticks\":\"\"}}}],\"scatter3d\":[{\"type\":\"scatter3d\",\"line\":{\"colorbar\":{\"outlinewidth\":0,\"ticks\":\"\"}},\"marker\":{\"colorbar\":{\"outlinewidth\":0,\"ticks\":\"\"}}}],\"scattermapbox\":[{\"type\":\"scattermapbox\",\"marker\":{\"colorbar\":{\"outlinewidth\":0,\"ticks\":\"\"}}}],\"scatterternary\":[{\"type\":\"scatterternary\",\"marker\":{\"colorbar\":{\"outlinewidth\":0,\"ticks\":\"\"}}}],\"scattercarpet\":[{\"type\":\"scattercarpet\",\"marker\":{\"colorbar\":{\"outlinewidth\":0,\"ticks\":\"\"}}}],\"carpet\":[{\"aaxis\":{\"endlinecolor\":\"#2a3f5f\",\"gridcolor\":\"white\",\"linecolor\":\"white\",\"minorgridcolor\":\"white\",\"startlinecolor\":\"#2a3f5f\"},\"baxis\":{\"endlinecolor\":\"#2a3f5f\",\"gridcolor\":\"white\",\"linecolor\":\"white\",\"minorgridcolor\":\"white\",\"startlinecolor\":\"#2a3f5f\"},\"type\":\"carpet\"}],\"table\":[{\"cells\":{\"fill\":{\"color\":\"#EBF0F8\"},\"line\":{\"color\":\"white\"}},\"header\":{\"fill\":{\"color\":\"#C8D4E3\"},\"line\":{\"color\":\"white\"}},\"type\":\"table\"}],\"barpolar\":[{\"marker\":{\"line\":{\"color\":\"#E5ECF6\",\"width\":0.5},\"pattern\":{\"fillmode\":\"overlay\",\"size\":10,\"solidity\":0.2}},\"type\":\"barpolar\"}],\"pie\":[{\"automargin\":true,\"type\":\"pie\"}]},\"layout\":{\"autotypenumbers\":\"strict\",\"colorway\":[\"#636efa\",\"#EF553B\",\"#00cc96\",\"#ab63fa\",\"#FFA15A\",\"#19d3f3\",\"#FF6692\",\"#B6E880\",\"#FF97FF\",\"#FECB52\"],\"font\":{\"color\":\"#2a3f5f\"},\"hovermode\":\"closest\",\"hoverlabel\":{\"align\":\"left\"},\"paper_bgcolor\":\"white\",\"plot_bgcolor\":\"#E5ECF6\",\"polar\":{\"bgcolor\":\"#E5ECF6\",\"angularaxis\":{\"gridcolor\":\"white\",\"linecolor\":\"white\",\"ticks\":\"\"},\"radialaxis\":{\"gridcolor\":\"white\",\"linecolor\":\"white\",\"ticks\":\"\"}},\"ternary\":{\"bgcolor\":\"#E5ECF6\",\"aaxis\":{\"gridcolor\":\"white\",\"linecolor\":\"white\",\"ticks\":\"\"},\"baxis\":{\"gridcolor\":\"white\",\"linecolor\":\"white\",\"ticks\":\"\"},\"caxis\":{\"gridcolor\":\"white\",\"linecolor\":\"white\",\"ticks\":\"\"}},\"coloraxis\":{\"colorbar\":{\"outlinewidth\":0,\"ticks\":\"\"}},\"colorscale\":{\"sequential\":[[0.0,\"#0d0887\"],[0.1111111111111111,\"#46039f\"],[0.2222222222222222,\"#7201a8\"],[0.3333333333333333,\"#9c179e\"],[0.4444444444444444,\"#bd3786\"],[0.5555555555555556,\"#d8576b\"],[0.6666666666666666,\"#ed7953\"],[0.7777777777777778,\"#fb9f3a\"],[0.8888888888888888,\"#fdca26\"],[1.0,\"#f0f921\"]],\"sequentialminus\":[[0.0,\"#0d0887\"],[0.1111111111111111,\"#46039f\"],[0.2222222222222222,\"#7201a8\"],[0.3333333333333333,\"#9c179e\"],[0.4444444444444444,\"#bd3786\"],[0.5555555555555556,\"#d8576b\"],[0.6666666666666666,\"#ed7953\"],[0.7777777777777778,\"#fb9f3a\"],[0.8888888888888888,\"#fdca26\"],[1.0,\"#f0f921\"]],\"diverging\":[[0,\"#8e0152\"],[0.1,\"#c51b7d\"],[0.2,\"#de77ae\"],[0.3,\"#f1b6da\"],[0.4,\"#fde0ef\"],[0.5,\"#f7f7f7\"],[0.6,\"#e6f5d0\"],[0.7,\"#b8e186\"],[0.8,\"#7fbc41\"],[0.9,\"#4d9221\"],[1,\"#276419\"]]},\"xaxis\":{\"gridcolor\":\"white\",\"linecolor\":\"white\",\"ticks\":\"\",\"title\":{\"standoff\":15},\"zerolinecolor\":\"white\",\"automargin\":true,\"zerolinewidth\":2},\"yaxis\":{\"gridcolor\":\"white\",\"linecolor\":\"white\",\"ticks\":\"\",\"title\":{\"standoff\":15},\"zerolinecolor\":\"white\",\"automargin\":true,\"zerolinewidth\":2},\"scene\":{\"xaxis\":{\"backgroundcolor\":\"#E5ECF6\",\"gridcolor\":\"white\",\"linecolor\":\"white\",\"showbackground\":true,\"ticks\":\"\",\"zerolinecolor\":\"white\",\"gridwidth\":2},\"yaxis\":{\"backgroundcolor\":\"#E5ECF6\",\"gridcolor\":\"white\",\"linecolor\":\"white\",\"showbackground\":true,\"ticks\":\"\",\"zerolinecolor\":\"white\",\"gridwidth\":2},\"zaxis\":{\"backgroundcolor\":\"#E5ECF6\",\"gridcolor\":\"white\",\"linecolor\":\"white\",\"showbackground\":true,\"ticks\":\"\",\"zerolinecolor\":\"white\",\"gridwidth\":2}},\"shapedefaults\":{\"line\":{\"color\":\"#2a3f5f\"}},\"annotationdefaults\":{\"arrowcolor\":\"#2a3f5f\",\"arrowhead\":0,\"arrowwidth\":1},\"geo\":{\"bgcolor\":\"white\",\"landcolor\":\"#E5ECF6\",\"subunitcolor\":\"white\",\"showland\":true,\"showlakes\":true,\"lakecolor\":\"white\"},\"title\":{\"x\":0.05},\"mapbox\":{\"style\":\"light\"}}}},                        {\"responsive\": true}                    ).then(function(){\n",
       "                            \n",
       "var gd = document.getElementById('416a4fd4-ffa7-4085-9efc-99d7cb02eb00');\n",
       "var x = new MutationObserver(function (mutations, observer) {{\n",
       "        var display = window.getComputedStyle(gd).display;\n",
       "        if (!display || display === 'none') {{\n",
       "            console.log([gd, 'removed!']);\n",
       "            Plotly.purge(gd);\n",
       "            observer.disconnect();\n",
       "        }}\n",
       "}});\n",
       "\n",
       "// Listen for the removal of the full notebook cells\n",
       "var notebookContainer = gd.closest('#notebook-container');\n",
       "if (notebookContainer) {{\n",
       "    x.observe(notebookContainer, {childList: true});\n",
       "}}\n",
       "\n",
       "// Listen for the clearing of the current output cell\n",
       "var outputEl = gd.closest('.output');\n",
       "if (outputEl) {{\n",
       "    x.observe(outputEl, {childList: true});\n",
       "}}\n",
       "\n",
       "                        })                };                });            </script>        </div>"
      ]
     },
     "metadata": {},
     "output_type": "display_data"
    }
   ],
   "execution_count": 34
  },
  {
   "metadata": {},
   "cell_type": "markdown",
   "source": "# Calculate historical data"
  },
  {
   "metadata": {},
   "cell_type": "code",
   "outputs": [],
   "execution_count": null,
   "source": [
    "T = 10000\n",
    "his_df = df[:T]"
   ]
  },
  {
   "metadata": {},
   "cell_type": "code",
   "outputs": [],
   "execution_count": null,
   "source": [
    "P_his = his_df['booking_status'].sum() / T\n",
    "P_his"
   ]
  },
  {
   "metadata": {},
   "cell_type": "code",
   "outputs": [],
   "execution_count": null,
   "source": [
    "Avg_rev_his = his_df['avg_price_per_room'].sum() / T\n",
    "Avg_rev_his"
   ]
  },
  {
   "metadata": {},
   "cell_type": "code",
   "outputs": [],
   "execution_count": null,
   "source": [
    "Loss = P_his * T * Avg_rev_his\n",
    "Loss"
   ]
  },
  {
   "metadata": {},
   "cell_type": "markdown",
   "source": "# Model selection"
  },
  {
   "metadata": {
    "ExecuteTime": {
     "end_time": "2025-07-31T09:25:05.930826Z",
     "start_time": "2025-07-31T09:25:05.036597Z"
    }
   },
   "cell_type": "code",
   "outputs": [
    {
     "name": "stdout",
     "output_type": "stream",
     "text": [
      "Requirement already satisfied: catboost in /Users/domager73/PycharmProjects/Hoter_reser_harbour/.venv/lib/python3.12/site-packages (1.2.8)\r\n",
      "Requirement already satisfied: graphviz in /Users/domager73/PycharmProjects/Hoter_reser_harbour/.venv/lib/python3.12/site-packages (from catboost) (0.21)\r\n",
      "Requirement already satisfied: matplotlib in /Users/domager73/PycharmProjects/Hoter_reser_harbour/.venv/lib/python3.12/site-packages (from catboost) (3.10.0)\r\n",
      "Requirement already satisfied: numpy<3.0,>=1.16.0 in /Users/domager73/PycharmProjects/Hoter_reser_harbour/.venv/lib/python3.12/site-packages (from catboost) (2.1.3)\r\n",
      "Requirement already satisfied: pandas>=0.24 in /Users/domager73/PycharmProjects/Hoter_reser_harbour/.venv/lib/python3.12/site-packages (from catboost) (2.3.1)\r\n",
      "Requirement already satisfied: scipy in /Users/domager73/PycharmProjects/Hoter_reser_harbour/.venv/lib/python3.12/site-packages (from catboost) (1.15.3)\r\n",
      "Requirement already satisfied: plotly in /Users/domager73/PycharmProjects/Hoter_reser_harbour/.venv/lib/python3.12/site-packages (from catboost) (5.24.1)\r\n",
      "Requirement already satisfied: six in /Users/domager73/PycharmProjects/Hoter_reser_harbour/.venv/lib/python3.12/site-packages (from catboost) (1.17.0)\r\n",
      "Requirement already satisfied: python-dateutil>=2.8.2 in /Users/domager73/PycharmProjects/Hoter_reser_harbour/.venv/lib/python3.12/site-packages (from pandas>=0.24->catboost) (2.9.0.post0)\r\n",
      "Requirement already satisfied: pytz>=2020.1 in /Users/domager73/PycharmProjects/Hoter_reser_harbour/.venv/lib/python3.12/site-packages (from pandas>=0.24->catboost) (2025.2)\r\n",
      "Requirement already satisfied: tzdata>=2022.7 in /Users/domager73/PycharmProjects/Hoter_reser_harbour/.venv/lib/python3.12/site-packages (from pandas>=0.24->catboost) (2025.2)\r\n",
      "Requirement already satisfied: contourpy>=1.0.1 in /Users/domager73/PycharmProjects/Hoter_reser_harbour/.venv/lib/python3.12/site-packages (from matplotlib->catboost) (1.3.3)\r\n",
      "Requirement already satisfied: cycler>=0.10 in /Users/domager73/PycharmProjects/Hoter_reser_harbour/.venv/lib/python3.12/site-packages (from matplotlib->catboost) (0.12.1)\r\n",
      "Requirement already satisfied: fonttools>=4.22.0 in /Users/domager73/PycharmProjects/Hoter_reser_harbour/.venv/lib/python3.12/site-packages (from matplotlib->catboost) (4.59.0)\r\n",
      "Requirement already satisfied: kiwisolver>=1.3.1 in /Users/domager73/PycharmProjects/Hoter_reser_harbour/.venv/lib/python3.12/site-packages (from matplotlib->catboost) (1.4.8)\r\n",
      "Requirement already satisfied: packaging>=20.0 in /Users/domager73/PycharmProjects/Hoter_reser_harbour/.venv/lib/python3.12/site-packages (from matplotlib->catboost) (25.0)\r\n",
      "Requirement already satisfied: pillow>=8 in /Users/domager73/PycharmProjects/Hoter_reser_harbour/.venv/lib/python3.12/site-packages (from matplotlib->catboost) (11.3.0)\r\n",
      "Requirement already satisfied: pyparsing>=2.3.1 in /Users/domager73/PycharmProjects/Hoter_reser_harbour/.venv/lib/python3.12/site-packages (from matplotlib->catboost) (3.2.3)\r\n",
      "Requirement already satisfied: tenacity>=6.2.0 in /Users/domager73/PycharmProjects/Hoter_reser_harbour/.venv/lib/python3.12/site-packages (from plotly->catboost) (9.1.2)\r\n",
      "Note: you may need to restart the kernel to use updated packages.\n"
     ]
    }
   ],
   "execution_count": 45,
   "source": "pip install catboost"
  },
  {
   "metadata": {
    "ExecuteTime": {
     "end_time": "2025-07-31T19:58:50.930168Z",
     "start_time": "2025-07-31T19:58:50.920268Z"
    }
   },
   "cell_type": "code",
   "source": [
    "from sklearn.linear_model import LinearRegression\n",
    "from sklearn.linear_model import LogisticRegression\n",
    "from sklearn.tree import DecisionTreeClassifier\n",
    "from sklearn.ensemble import RandomForestClassifier\n",
    "from sklearn.ensemble import HistGradientBoostingClassifier\n",
    "\n",
    "from sklearn.metrics import root_mean_squared_error\n",
    "from sklearn.metrics import accuracy_score\n",
    "\n",
    "from catboost import CatBoostClassifier\n",
    "\n",
    "import mlflow\n",
    "\n",
    "import optuna"
   ],
   "outputs": [],
   "execution_count": 157
  },
  {
   "metadata": {
    "ExecuteTime": {
     "end_time": "2025-07-31T19:59:33.194766Z",
     "start_time": "2025-07-31T19:59:33.157222Z"
    }
   },
   "cell_type": "code",
   "source": [
    "categorical_cols = ['type_of_meal_plan', 'room_type_reserved', 'market_segment_type']\n",
    "\n",
    "df = pd.get_dummies(df, columns=categorical_cols)\n",
    "\n",
    "df_train = df.iloc[:20000]\n",
    "df_test = df.iloc[20000:]"
   ],
   "outputs": [],
   "execution_count": 167
  },
  {
   "metadata": {
    "ExecuteTime": {
     "end_time": "2025-07-31T19:59:33.812777Z",
     "start_time": "2025-07-31T19:59:33.805239Z"
    }
   },
   "cell_type": "code",
   "source": "df_train.info()",
   "outputs": [
    {
     "name": "stdout",
     "output_type": "stream",
     "text": [
      "<class 'pandas.core.frame.DataFrame'>\n",
      "Index: 20000 entries, 21771 to 33490\n",
      "Data columns (total 31 columns):\n",
      " #   Column                                Non-Null Count  Dtype  \n",
      "---  ------                                --------------  -----  \n",
      " 0   no_of_adults                          20000 non-null  int64  \n",
      " 1   no_of_children                        20000 non-null  int64  \n",
      " 2   no_of_weekend_nights                  20000 non-null  int64  \n",
      " 3   no_of_week_nights                     20000 non-null  int64  \n",
      " 4   required_car_parking_space            20000 non-null  int64  \n",
      " 5   lead_time                             20000 non-null  int64  \n",
      " 6   arrival_year                          20000 non-null  int64  \n",
      " 7   arrival_month                         20000 non-null  int64  \n",
      " 8   arrival_date                          20000 non-null  int64  \n",
      " 9   repeated_guest                        20000 non-null  int64  \n",
      " 10  no_of_previous_cancellations          20000 non-null  int64  \n",
      " 11  no_of_previous_bookings_not_canceled  20000 non-null  int64  \n",
      " 12  avg_price_per_room                    20000 non-null  float64\n",
      " 13  no_of_special_requests                20000 non-null  int64  \n",
      " 14  booking_status                        20000 non-null  int64  \n",
      " 15  type_of_meal_plan_Meal Plan 1         20000 non-null  bool   \n",
      " 16  type_of_meal_plan_Meal Plan 2         20000 non-null  bool   \n",
      " 17  type_of_meal_plan_Meal Plan 3         20000 non-null  bool   \n",
      " 18  type_of_meal_plan_Not Selected        20000 non-null  bool   \n",
      " 19  room_type_reserved_Room_Type 1        20000 non-null  bool   \n",
      " 20  room_type_reserved_Room_Type 2        20000 non-null  bool   \n",
      " 21  room_type_reserved_Room_Type 3        20000 non-null  bool   \n",
      " 22  room_type_reserved_Room_Type 4        20000 non-null  bool   \n",
      " 23  room_type_reserved_Room_Type 5        20000 non-null  bool   \n",
      " 24  room_type_reserved_Room_Type 6        20000 non-null  bool   \n",
      " 25  room_type_reserved_Room_Type 7        20000 non-null  bool   \n",
      " 26  market_segment_type_Aviation          20000 non-null  bool   \n",
      " 27  market_segment_type_Complementary     20000 non-null  bool   \n",
      " 28  market_segment_type_Corporate         20000 non-null  bool   \n",
      " 29  market_segment_type_Offline           20000 non-null  bool   \n",
      " 30  market_segment_type_Online            20000 non-null  bool   \n",
      "dtypes: bool(16), float64(1), int64(14)\n",
      "memory usage: 2.7 MB\n"
     ]
    }
   ],
   "execution_count": 168
  },
  {
   "metadata": {
    "ExecuteTime": {
     "end_time": "2025-07-31T19:59:34.366766Z",
     "start_time": "2025-07-31T19:59:34.363819Z"
    }
   },
   "cell_type": "code",
   "source": "len(df_test)",
   "outputs": [
    {
     "data": {
      "text/plain": [
       "16275"
      ]
     },
     "execution_count": 169,
     "metadata": {},
     "output_type": "execute_result"
    }
   ],
   "execution_count": 169
  },
  {
   "metadata": {
    "ExecuteTime": {
     "end_time": "2025-07-31T19:59:35.591075Z",
     "start_time": "2025-07-31T19:59:35.576849Z"
    }
   },
   "cell_type": "code",
   "source": [
    "X_train = df_train.drop('booking_status', axis=1)\n",
    "y_train = df_train['booking_status']\n",
    "\n",
    "X_test = df_test.drop('booking_status', axis=1)\n",
    "y_test = df_test['booking_status']"
   ],
   "outputs": [],
   "execution_count": 170
  },
  {
   "metadata": {
    "ExecuteTime": {
     "end_time": "2025-07-31T19:59:42.998299Z",
     "start_time": "2025-07-31T19:59:42.969535Z"
    }
   },
   "cell_type": "code",
   "source": [
    "bool_cols = X_train.select_dtypes(include='bool').columns\n",
    "X_train[bool_cols] = X_train[bool_cols].astype(int)\n",
    "X_test[bool_cols] = X_test[bool_cols].astype(int)"
   ],
   "outputs": [],
   "execution_count": 171
  },
  {
   "metadata": {
    "ExecuteTime": {
     "end_time": "2025-07-31T19:59:43.856206Z",
     "start_time": "2025-07-31T19:59:43.844178Z"
    }
   },
   "cell_type": "code",
   "source": "X_train_encoded.info()",
   "outputs": [
    {
     "name": "stdout",
     "output_type": "stream",
     "text": [
      "<class 'pandas.core.frame.DataFrame'>\n",
      "Index: 28000 entries, 21771 to 22542\n",
      "Data columns (total 30 columns):\n",
      " #   Column                                Non-Null Count  Dtype  \n",
      "---  ------                                --------------  -----  \n",
      " 0   no_of_adults                          28000 non-null  int64  \n",
      " 1   no_of_children                        28000 non-null  int64  \n",
      " 2   no_of_weekend_nights                  28000 non-null  int64  \n",
      " 3   no_of_week_nights                     28000 non-null  int64  \n",
      " 4   required_car_parking_space            28000 non-null  int64  \n",
      " 5   lead_time                             28000 non-null  int64  \n",
      " 6   arrival_year                          28000 non-null  int64  \n",
      " 7   arrival_month                         28000 non-null  int64  \n",
      " 8   arrival_date                          28000 non-null  int64  \n",
      " 9   repeated_guest                        28000 non-null  int64  \n",
      " 10  no_of_previous_cancellations          28000 non-null  int64  \n",
      " 11  no_of_previous_bookings_not_canceled  28000 non-null  int64  \n",
      " 12  avg_price_per_room                    28000 non-null  float64\n",
      " 13  no_of_special_requests                28000 non-null  int64  \n",
      " 14  type_of_meal_plan_Meal Plan 1         28000 non-null  int64  \n",
      " 15  type_of_meal_plan_Meal Plan 2         28000 non-null  int64  \n",
      " 16  type_of_meal_plan_Meal Plan 3         28000 non-null  int64  \n",
      " 17  type_of_meal_plan_Not Selected        28000 non-null  int64  \n",
      " 18  room_type_reserved_Room_Type 1        28000 non-null  int64  \n",
      " 19  room_type_reserved_Room_Type 2        28000 non-null  int64  \n",
      " 20  room_type_reserved_Room_Type 3        28000 non-null  int64  \n",
      " 21  room_type_reserved_Room_Type 4        28000 non-null  int64  \n",
      " 22  room_type_reserved_Room_Type 5        28000 non-null  int64  \n",
      " 23  room_type_reserved_Room_Type 6        28000 non-null  int64  \n",
      " 24  room_type_reserved_Room_Type 7        28000 non-null  int64  \n",
      " 25  market_segment_type_Aviation          28000 non-null  int64  \n",
      " 26  market_segment_type_Complementary     28000 non-null  int64  \n",
      " 27  market_segment_type_Corporate         28000 non-null  int64  \n",
      " 28  market_segment_type_Offline           28000 non-null  int64  \n",
      " 29  market_segment_type_Online            28000 non-null  int64  \n",
      "dtypes: float64(1), int64(29)\n",
      "memory usage: 6.6 MB\n"
     ]
    }
   ],
   "execution_count": 172
  },
  {
   "metadata": {
    "ExecuteTime": {
     "end_time": "2025-07-31T09:25:17.611758Z",
     "start_time": "2025-07-31T09:25:17.605344Z"
    }
   },
   "cell_type": "code",
   "source": "mlflow.set_tracking_uri('sqlite:///mlflow.db')",
   "outputs": [],
   "execution_count": 47
  },
  {
   "metadata": {
    "ExecuteTime": {
     "end_time": "2025-07-31T09:18:15.473266Z",
     "start_time": "2025-07-31T09:18:14.443992Z"
    }
   },
   "cell_type": "code",
   "source": "mlflow.set_experiment(\"regression_experiment\")",
   "outputs": [
    {
     "name": "stderr",
     "output_type": "stream",
     "text": [
      "2025/07/31 11:18:15 INFO mlflow.store.db.utils: Creating initial MLflow database tables...\n",
      "2025/07/31 11:18:15 INFO mlflow.store.db.utils: Updating database tables\n",
      "INFO  [alembic.runtime.migration] Context impl SQLiteImpl.\n",
      "INFO  [alembic.runtime.migration] Will assume non-transactional DDL.\n",
      "INFO  [alembic.runtime.migration] Context impl SQLiteImpl.\n",
      "INFO  [alembic.runtime.migration] Will assume non-transactional DDL.\n",
      "2025/07/31 11:18:15 INFO mlflow.tracking.fluent: Experiment with name 'regression_experiment' does not exist. Creating a new experiment.\n"
     ]
    },
    {
     "data": {
      "text/plain": [
       "<Experiment: artifact_location='/Users/domager73/Downloads/ml/Harbour_project/mlruns/1', creation_time=1753953495465, experiment_id='1', last_update_time=1753953495465, lifecycle_stage='active', name='regression_experiment', tags={}>"
      ]
     },
     "execution_count": 22,
     "metadata": {},
     "output_type": "execute_result"
    }
   ],
   "execution_count": 22
  },
  {
   "metadata": {},
   "cell_type": "code",
   "outputs": [],
   "execution_count": null,
   "source": ""
  },
  {
   "metadata": {
    "ExecuteTime": {
     "end_time": "2025-07-31T09:40:40.433821Z",
     "start_time": "2025-07-31T09:40:40.343567Z"
    }
   },
   "cell_type": "code",
   "source": [
    "with mlflow.start_run():\n",
    "    model = LinearRegression()\n",
    "    model.fit(X_train, y_train)\n",
    "    test_pred = model.predict(X_test)\n",
    "    rmse = root_mean_squared_error(test_pred, y_test)\n",
    "    mlflow.log_metric('rmse', rmse)\n",
    "    mlflow.set_tag('workspace', 'select model')"
   ],
   "outputs": [],
   "execution_count": 94
  },
  {
   "metadata": {
    "ExecuteTime": {
     "end_time": "2025-07-31T09:44:40.046825Z",
     "start_time": "2025-07-31T09:44:39.888139Z"
    }
   },
   "cell_type": "code",
   "source": [
    "with mlflow.start_run():\n",
    "    model = LogisticRegression()\n",
    "    model.fit(X_train, y_train)\n",
    "    test_pred = model.predict(X_test)\n",
    "    train_pred = model.predict(X_train)\n",
    "    accuracy_test = accuracy_score(test_pred, y_test)\n",
    "    accuracy_train = accuracy_score(train_pred, y_train)\n",
    "    mlflow.log_metric('accuracy_train', accuracy_train)\n",
    "    mlflow.log_metric('accuracy_test', accuracy_test)\n",
    "    mlflow.set_tag('workspace', 'select model')"
   ],
   "outputs": [
    {
     "name": "stderr",
     "output_type": "stream",
     "text": [
      "/Users/domager73/PycharmProjects/Hoter_reser_harbour/.venv/lib/python3.12/site-packages/sklearn/linear_model/_logistic.py:473: ConvergenceWarning:\n",
      "\n",
      "lbfgs failed to converge after 100 iteration(s) (status=1):\n",
      "STOP: TOTAL NO. OF ITERATIONS REACHED LIMIT\n",
      "\n",
      "Increase the number of iterations to improve the convergence (max_iter=100).\n",
      "You might also want to scale the data as shown in:\n",
      "    https://scikit-learn.org/stable/modules/preprocessing.html\n",
      "Please also refer to the documentation for alternative solver options:\n",
      "    https://scikit-learn.org/stable/modules/linear_model.html#logistic-regression\n",
      "\n"
     ]
    }
   ],
   "execution_count": 100
  },
  {
   "metadata": {
    "ExecuteTime": {
     "end_time": "2025-07-31T09:46:00.468597Z",
     "start_time": "2025-07-31T09:46:00.418426Z"
    }
   },
   "cell_type": "code",
   "source": "mlflow.set_experiment(\"decision_tree experiment\")",
   "outputs": [
    {
     "name": "stderr",
     "output_type": "stream",
     "text": [
      "2025/07/31 11:46:00 INFO mlflow.tracking.fluent: Experiment with name 'decision_tree experiment' does not exist. Creating a new experiment.\n"
     ]
    },
    {
     "data": {
      "text/plain": [
       "<Experiment: artifact_location='/Users/domager73/Downloads/ml/Harbour_project/mlruns/2', creation_time=1753955160454, experiment_id='2', last_update_time=1753955160454, lifecycle_stage='active', name='decision_tree experiment', tags={}>"
      ]
     },
     "execution_count": 101,
     "metadata": {},
     "output_type": "execute_result"
    }
   ],
   "execution_count": 101
  },
  {
   "metadata": {
    "ExecuteTime": {
     "end_time": "2025-07-31T09:52:11.853775Z",
     "start_time": "2025-07-31T09:51:59.424619Z"
    }
   },
   "cell_type": "code",
   "source": [
    "mlflow.autolog()\n",
    "model = DecisionTreeClassifier()\n",
    "model.fit(X_train, y_train)\n",
    "test_pred = model.predict(X_test)\n",
    "train_pred = model.predict(X_train)\n",
    "\n",
    "\n",
    "accuracy_test = accuracy_score(test_pred, y_test)\n",
    "accuracy_train = accuracy_score(train_pred, y_train)\n",
    "\n",
    "\n",
    "mlflow.log_metric('accuracy_train', accuracy_train)\n",
    "mlflow.log_metric('accuracy_test', accuracy_test)\n",
    "mlflow.set_tag('workspace', 'select model')"
   ],
   "outputs": [
    {
     "name": "stderr",
     "output_type": "stream",
     "text": [
      "2025/07/31 11:51:59 WARNING mlflow.utils.autologging_utils: MLflow sklearn autologging is known to be compatible with 1.3.0 <= scikit-learn <= 1.7.0, but the installed version is 1.7.1. If you encounter errors during autologging, try upgrading / downgrading scikit-learn to a compatible version, or try upgrading MLflow.\n",
      "2025/07/31 11:52:02 INFO mlflow.tracking.fluent: Autologging successfully enabled for sklearn.\n",
      "2025/07/31 11:52:02 WARNING mlflow.utils.autologging_utils: MLflow statsmodels autologging is known to be compatible with 0.14.1 <= statsmodels <= 0.14.4, but the installed version is 0.14.5. If you encounter errors during autologging, try upgrading / downgrading statsmodels to a compatible version, or try upgrading MLflow.\n",
      "2025/07/31 11:52:06 INFO mlflow.tracking.fluent: Autologging successfully enabled for statsmodels.\n",
      "2025/07/31 11:52:06 WARNING mlflow.utils.autologging_utils: MLflow xgboost autologging is known to be compatible with 1.7.6 <= xgboost <= 3.0.2, but the installed version is 3.0.3. If you encounter errors during autologging, try upgrading / downgrading xgboost to a compatible version, or try upgrading MLflow.\n",
      "2025/07/31 11:52:06 INFO mlflow.tracking.fluent: Autologging successfully enabled for xgboost.\n",
      "2025/07/31 11:52:06 INFO mlflow.utils.autologging_utils: Created MLflow autologging run with ID '62d68a3522204740972785fd213c57e8', which will track hyperparameters, performance metrics, model artifacts, and lineage information for the current sklearn workflow\n",
      "2025/07/31 11:52:07 WARNING mlflow.utils.autologging_utils: MLflow autologging encountered a warning: \"/Users/domager73/PycharmProjects/Hoter_reser_harbour/.venv/lib/python3.12/site-packages/mlflow/types/utils.py:452: UserWarning: Hint: Inferred schema contains integer column(s). Integer columns in Python cannot represent missing values. If your input data contains missing values at inference time, it will be encoded as floats and will cause a schema enforcement error. The best way to avoid this problem is to infer the model schema based on a realistic data sample (training dataset) that includes missing values. Alternatively, you can declare integer columns as doubles (float64) whenever these columns may have missing values. See `Handling Integers With Missing Values <https://www.mlflow.org/docs/latest/models.html#handling-integers-with-missing-values>`_ for more details.\"\n",
      "2025/07/31 11:52:07 WARNING mlflow.utils.autologging_utils: MLflow autologging encountered a warning: \"/Users/domager73/PycharmProjects/Hoter_reser_harbour/.venv/lib/python3.12/site-packages/mlflow/types/utils.py:452: UserWarning: Hint: Inferred schema contains integer column(s). Integer columns in Python cannot represent missing values. If your input data contains missing values at inference time, it will be encoded as floats and will cause a schema enforcement error. The best way to avoid this problem is to infer the model schema based on a realistic data sample (training dataset) that includes missing values. Alternatively, you can declare integer columns as doubles (float64) whenever these columns may have missing values. See `Handling Integers With Missing Values <https://www.mlflow.org/docs/latest/models.html#handling-integers-with-missing-values>`_ for more details.\"\n",
      "2025/07/31 11:52:11 WARNING mlflow.utils.autologging_utils: MLflow autologging encountered a warning: \"/Users/domager73/PycharmProjects/Hoter_reser_harbour/.venv/lib/python3.12/site-packages/mlflow/types/utils.py:452: UserWarning: Hint: Inferred schema contains integer column(s). Integer columns in Python cannot represent missing values. If your input data contains missing values at inference time, it will be encoded as floats and will cause a schema enforcement error. The best way to avoid this problem is to infer the model schema based on a realistic data sample (training dataset) that includes missing values. Alternatively, you can declare integer columns as doubles (float64) whenever these columns may have missing values. See `Handling Integers With Missing Values <https://www.mlflow.org/docs/latest/models.html#handling-integers-with-missing-values>`_ for more details.\"\n",
      "2025/07/31 11:52:11 WARNING mlflow.utils.autologging_utils: MLflow autologging encountered a warning: \"/Users/domager73/PycharmProjects/Hoter_reser_harbour/.venv/lib/python3.12/site-packages/mlflow/types/utils.py:452: UserWarning: Hint: Inferred schema contains integer column(s). Integer columns in Python cannot represent missing values. If your input data contains missing values at inference time, it will be encoded as floats and will cause a schema enforcement error. The best way to avoid this problem is to infer the model schema based on a realistic data sample (training dataset) that includes missing values. Alternatively, you can declare integer columns as doubles (float64) whenever these columns may have missing values. See `Handling Integers With Missing Values <https://www.mlflow.org/docs/latest/models.html#handling-integers-with-missing-values>`_ for more details.\"\n"
     ]
    }
   ],
   "execution_count": 106
  },
  {
   "metadata": {
    "ExecuteTime": {
     "end_time": "2025-07-31T09:55:14.193268Z",
     "start_time": "2025-07-31T09:55:08.090302Z"
    }
   },
   "cell_type": "code",
   "source": [
    "mlflow.autolog()\n",
    "\n",
    "mlflow.set_tag(\"description\", \"RandomForestClassifier auto log\")\n",
    "model = RandomForestClassifier()\n",
    "model.fit(X_train, y_train)\n",
    "test_pred = model.predict(X_test)\n",
    "train_pred = model.predict(X_train)\n",
    "\n",
    "\n",
    "accuracy_test = accuracy_score(test_pred, y_test)\n",
    "accuracy_train = accuracy_score(train_pred, y_train)\n",
    "\n",
    "\n",
    "mlflow.log_metric('accuracy_train', accuracy_train)\n",
    "mlflow.log_metric('accuracy_test', accuracy_test)\n",
    "mlflow.set_tag('workspace', 'select model')"
   ],
   "outputs": [
    {
     "name": "stderr",
     "output_type": "stream",
     "text": [
      "2025/07/31 11:55:08 WARNING mlflow.utils.autologging_utils: MLflow sklearn autologging is known to be compatible with 1.3.0 <= scikit-learn <= 1.7.0, but the installed version is 1.7.1. If you encounter errors during autologging, try upgrading / downgrading scikit-learn to a compatible version, or try upgrading MLflow.\n",
      "2025/07/31 11:55:08 INFO mlflow.tracking.fluent: Autologging successfully enabled for sklearn.\n",
      "2025/07/31 11:55:08 WARNING mlflow.utils.autologging_utils: MLflow statsmodels autologging is known to be compatible with 0.14.1 <= statsmodels <= 0.14.4, but the installed version is 0.14.5. If you encounter errors during autologging, try upgrading / downgrading statsmodels to a compatible version, or try upgrading MLflow.\n",
      "2025/07/31 11:55:08 INFO mlflow.tracking.fluent: Autologging successfully enabled for statsmodels.\n",
      "2025/07/31 11:55:08 WARNING mlflow.utils.autologging_utils: MLflow xgboost autologging is known to be compatible with 1.7.6 <= xgboost <= 3.0.2, but the installed version is 3.0.3. If you encounter errors during autologging, try upgrading / downgrading xgboost to a compatible version, or try upgrading MLflow.\n",
      "2025/07/31 11:55:08 INFO mlflow.tracking.fluent: Autologging successfully enabled for xgboost.\n",
      "2025/07/31 11:55:08 WARNING mlflow.utils.autologging_utils: MLflow autologging encountered a warning: \"/Users/domager73/PycharmProjects/Hoter_reser_harbour/.venv/lib/python3.12/site-packages/mlflow/types/utils.py:452: UserWarning: Hint: Inferred schema contains integer column(s). Integer columns in Python cannot represent missing values. If your input data contains missing values at inference time, it will be encoded as floats and will cause a schema enforcement error. The best way to avoid this problem is to infer the model schema based on a realistic data sample (training dataset) that includes missing values. Alternatively, you can declare integer columns as doubles (float64) whenever these columns may have missing values. See `Handling Integers With Missing Values <https://www.mlflow.org/docs/latest/models.html#handling-integers-with-missing-values>`_ for more details.\"\n",
      "2025/07/31 11:55:09 WARNING mlflow.utils.autologging_utils: MLflow autologging encountered a warning: \"/Users/domager73/PycharmProjects/Hoter_reser_harbour/.venv/lib/python3.12/site-packages/mlflow/types/utils.py:452: UserWarning: Hint: Inferred schema contains integer column(s). Integer columns in Python cannot represent missing values. If your input data contains missing values at inference time, it will be encoded as floats and will cause a schema enforcement error. The best way to avoid this problem is to infer the model schema based on a realistic data sample (training dataset) that includes missing values. Alternatively, you can declare integer columns as doubles (float64) whenever these columns may have missing values. See `Handling Integers With Missing Values <https://www.mlflow.org/docs/latest/models.html#handling-integers-with-missing-values>`_ for more details.\"\n",
      "2025/07/31 11:55:13 WARNING mlflow.utils.autologging_utils: MLflow autologging encountered a warning: \"/Users/domager73/PycharmProjects/Hoter_reser_harbour/.venv/lib/python3.12/site-packages/mlflow/types/utils.py:452: UserWarning: Hint: Inferred schema contains integer column(s). Integer columns in Python cannot represent missing values. If your input data contains missing values at inference time, it will be encoded as floats and will cause a schema enforcement error. The best way to avoid this problem is to infer the model schema based on a realistic data sample (training dataset) that includes missing values. Alternatively, you can declare integer columns as doubles (float64) whenever these columns may have missing values. See `Handling Integers With Missing Values <https://www.mlflow.org/docs/latest/models.html#handling-integers-with-missing-values>`_ for more details.\"\n",
      "2025/07/31 11:55:14 WARNING mlflow.utils.autologging_utils: MLflow autologging encountered a warning: \"/Users/domager73/PycharmProjects/Hoter_reser_harbour/.venv/lib/python3.12/site-packages/mlflow/types/utils.py:452: UserWarning: Hint: Inferred schema contains integer column(s). Integer columns in Python cannot represent missing values. If your input data contains missing values at inference time, it will be encoded as floats and will cause a schema enforcement error. The best way to avoid this problem is to infer the model schema based on a realistic data sample (training dataset) that includes missing values. Alternatively, you can declare integer columns as doubles (float64) whenever these columns may have missing values. See `Handling Integers With Missing Values <https://www.mlflow.org/docs/latest/models.html#handling-integers-with-missing-values>`_ for more details.\"\n"
     ]
    }
   ],
   "execution_count": 108
  },
  {
   "metadata": {
    "ExecuteTime": {
     "end_time": "2025-07-31T09:56:40.436099Z",
     "start_time": "2025-07-31T09:56:36.164341Z"
    }
   },
   "cell_type": "code",
   "source": [
    "mlflow.autolog()\n",
    "\n",
    "mlflow.set_tag(\"description\", \"HistGradientBoostingClassifier auto log\")\n",
    "model = HistGradientBoostingClassifier()\n",
    "model.fit(X_train, y_train)\n",
    "test_pred = model.predict(X_test)\n",
    "train_pred = model.predict(X_train)\n",
    "\n",
    "\n",
    "accuracy_test = accuracy_score(test_pred, y_test)\n",
    "accuracy_train = accuracy_score(train_pred, y_train)\n",
    "\n",
    "\n",
    "mlflow.log_metric('accuracy_train', accuracy_train)\n",
    "mlflow.log_metric('accuracy_test', accuracy_test)\n",
    "mlflow.set_tag('workspace', 'select model')"
   ],
   "outputs": [
    {
     "name": "stderr",
     "output_type": "stream",
     "text": [
      "2025/07/31 11:56:36 WARNING mlflow.utils.autologging_utils: MLflow sklearn autologging is known to be compatible with 1.3.0 <= scikit-learn <= 1.7.0, but the installed version is 1.7.1. If you encounter errors during autologging, try upgrading / downgrading scikit-learn to a compatible version, or try upgrading MLflow.\n",
      "2025/07/31 11:56:36 INFO mlflow.tracking.fluent: Autologging successfully enabled for sklearn.\n",
      "2025/07/31 11:56:36 WARNING mlflow.utils.autologging_utils: MLflow statsmodels autologging is known to be compatible with 0.14.1 <= statsmodels <= 0.14.4, but the installed version is 0.14.5. If you encounter errors during autologging, try upgrading / downgrading statsmodels to a compatible version, or try upgrading MLflow.\n",
      "2025/07/31 11:56:36 INFO mlflow.tracking.fluent: Autologging successfully enabled for statsmodels.\n",
      "2025/07/31 11:56:36 WARNING mlflow.utils.autologging_utils: MLflow xgboost autologging is known to be compatible with 1.7.6 <= xgboost <= 3.0.2, but the installed version is 3.0.3. If you encounter errors during autologging, try upgrading / downgrading xgboost to a compatible version, or try upgrading MLflow.\n",
      "2025/07/31 11:56:36 INFO mlflow.tracking.fluent: Autologging successfully enabled for xgboost.\n",
      "2025/07/31 11:56:36 WARNING mlflow.utils.autologging_utils: MLflow autologging encountered a warning: \"/Users/domager73/PycharmProjects/Hoter_reser_harbour/.venv/lib/python3.12/site-packages/mlflow/types/utils.py:452: UserWarning: Hint: Inferred schema contains integer column(s). Integer columns in Python cannot represent missing values. If your input data contains missing values at inference time, it will be encoded as floats and will cause a schema enforcement error. The best way to avoid this problem is to infer the model schema based on a realistic data sample (training dataset) that includes missing values. Alternatively, you can declare integer columns as doubles (float64) whenever these columns may have missing values. See `Handling Integers With Missing Values <https://www.mlflow.org/docs/latest/models.html#handling-integers-with-missing-values>`_ for more details.\"\n",
      "2025/07/31 11:56:37 WARNING mlflow.utils.autologging_utils: MLflow autologging encountered a warning: \"/Users/domager73/PycharmProjects/Hoter_reser_harbour/.venv/lib/python3.12/site-packages/mlflow/types/utils.py:452: UserWarning: Hint: Inferred schema contains integer column(s). Integer columns in Python cannot represent missing values. If your input data contains missing values at inference time, it will be encoded as floats and will cause a schema enforcement error. The best way to avoid this problem is to infer the model schema based on a realistic data sample (training dataset) that includes missing values. Alternatively, you can declare integer columns as doubles (float64) whenever these columns may have missing values. See `Handling Integers With Missing Values <https://www.mlflow.org/docs/latest/models.html#handling-integers-with-missing-values>`_ for more details.\"\n",
      "2025/07/31 11:56:40 WARNING mlflow.utils.autologging_utils: MLflow autologging encountered a warning: \"/Users/domager73/PycharmProjects/Hoter_reser_harbour/.venv/lib/python3.12/site-packages/mlflow/types/utils.py:452: UserWarning: Hint: Inferred schema contains integer column(s). Integer columns in Python cannot represent missing values. If your input data contains missing values at inference time, it will be encoded as floats and will cause a schema enforcement error. The best way to avoid this problem is to infer the model schema based on a realistic data sample (training dataset) that includes missing values. Alternatively, you can declare integer columns as doubles (float64) whenever these columns may have missing values. See `Handling Integers With Missing Values <https://www.mlflow.org/docs/latest/models.html#handling-integers-with-missing-values>`_ for more details.\"\n",
      "2025/07/31 11:56:40 WARNING mlflow.utils.autologging_utils: MLflow autologging encountered a warning: \"/Users/domager73/PycharmProjects/Hoter_reser_harbour/.venv/lib/python3.12/site-packages/mlflow/types/utils.py:452: UserWarning: Hint: Inferred schema contains integer column(s). Integer columns in Python cannot represent missing values. If your input data contains missing values at inference time, it will be encoded as floats and will cause a schema enforcement error. The best way to avoid this problem is to infer the model schema based on a realistic data sample (training dataset) that includes missing values. Alternatively, you can declare integer columns as doubles (float64) whenever these columns may have missing values. See `Handling Integers With Missing Values <https://www.mlflow.org/docs/latest/models.html#handling-integers-with-missing-values>`_ for more details.\"\n"
     ]
    }
   ],
   "execution_count": 111
  },
  {
   "metadata": {
    "ExecuteTime": {
     "end_time": "2025-07-31T09:56:34.152709Z",
     "start_time": "2025-07-31T09:56:34.127512Z"
    }
   },
   "cell_type": "code",
   "source": "mlflow.end_run()",
   "outputs": [],
   "execution_count": 110
  },
  {
   "metadata": {
    "ExecuteTime": {
     "end_time": "2025-07-31T10:01:07.963492Z",
     "start_time": "2025-07-31T10:01:07.924753Z"
    }
   },
   "cell_type": "code",
   "source": "mlflow.set_experiment(\"catboost_experiment\")",
   "outputs": [
    {
     "data": {
      "text/plain": [
       "<Experiment: artifact_location='/Users/domager73/Downloads/ml/Harbour_project/mlruns/3', creation_time=1753955944515, experiment_id='3', last_update_time=1753955944515, lifecycle_stage='active', name='catboost_experiment', tags={}>"
      ]
     },
     "execution_count": 119,
     "metadata": {},
     "output_type": "execute_result"
    }
   ],
   "execution_count": 119
  },
  {
   "metadata": {
    "ExecuteTime": {
     "end_time": "2025-07-31T10:01:15.114232Z",
     "start_time": "2025-07-31T10:01:10.791732Z"
    }
   },
   "cell_type": "code",
   "source": [
    "mlflow.autolog()\n",
    "\n",
    "mlflow.set_tag(\"description\", \"Catboost auto log\")\n",
    "model = CatBoostClassifier()\n",
    "model.fit(X_train, y_train)\n",
    "test_pred = model.predict(X_test)\n",
    "train_pred = model.predict(X_train)\n",
    "\n",
    "accuracy_test = accuracy_score(test_pred, y_test)\n",
    "accuracy_train = accuracy_score(train_pred, y_train)\n",
    "\n",
    "mlflow.log_metric('accuracy_train', accuracy_train)\n",
    "mlflow.log_metric('accuracy_test', accuracy_test)\n",
    "mlflow.set_tag('workspace', 'select model')\n"
   ],
   "outputs": [
    {
     "name": "stderr",
     "output_type": "stream",
     "text": [
      "2025/07/31 12:01:10 WARNING mlflow.utils.autologging_utils: MLflow sklearn autologging is known to be compatible with 1.3.0 <= scikit-learn <= 1.7.0, but the installed version is 1.7.1. If you encounter errors during autologging, try upgrading / downgrading scikit-learn to a compatible version, or try upgrading MLflow.\n",
      "2025/07/31 12:01:10 INFO mlflow.tracking.fluent: Autologging successfully enabled for sklearn.\n",
      "2025/07/31 12:01:10 WARNING mlflow.utils.autologging_utils: MLflow statsmodels autologging is known to be compatible with 0.14.1 <= statsmodels <= 0.14.4, but the installed version is 0.14.5. If you encounter errors during autologging, try upgrading / downgrading statsmodels to a compatible version, or try upgrading MLflow.\n",
      "2025/07/31 12:01:10 INFO mlflow.tracking.fluent: Autologging successfully enabled for statsmodels.\n",
      "2025/07/31 12:01:10 WARNING mlflow.utils.autologging_utils: MLflow xgboost autologging is known to be compatible with 1.7.6 <= xgboost <= 3.0.2, but the installed version is 3.0.3. If you encounter errors during autologging, try upgrading / downgrading xgboost to a compatible version, or try upgrading MLflow.\n",
      "2025/07/31 12:01:10 INFO mlflow.tracking.fluent: Autologging successfully enabled for xgboost.\n"
     ]
    },
    {
     "name": "stdout",
     "output_type": "stream",
     "text": [
      "Learning rate set to 0.042744\n",
      "0:\tlearn: 0.6632408\ttotal: 8.11ms\tremaining: 8.11s\n",
      "1:\tlearn: 0.6358283\ttotal: 11.5ms\tremaining: 5.74s\n",
      "2:\tlearn: 0.6131625\ttotal: 15.2ms\tremaining: 5.04s\n",
      "3:\tlearn: 0.5931480\ttotal: 18.2ms\tremaining: 4.53s\n",
      "4:\tlearn: 0.5696288\ttotal: 21.4ms\tremaining: 4.26s\n",
      "5:\tlearn: 0.5526843\ttotal: 24.4ms\tremaining: 4.03s\n",
      "6:\tlearn: 0.5356539\ttotal: 27.6ms\tremaining: 3.91s\n",
      "7:\tlearn: 0.5241977\ttotal: 30.9ms\tremaining: 3.83s\n",
      "8:\tlearn: 0.5087307\ttotal: 33.9ms\tremaining: 3.73s\n",
      "9:\tlearn: 0.4975314\ttotal: 37.1ms\tremaining: 3.68s\n",
      "10:\tlearn: 0.4875353\ttotal: 40.3ms\tremaining: 3.62s\n",
      "11:\tlearn: 0.4782169\ttotal: 43.4ms\tremaining: 3.57s\n",
      "12:\tlearn: 0.4705983\ttotal: 46.6ms\tremaining: 3.54s\n",
      "13:\tlearn: 0.4628754\ttotal: 49.6ms\tremaining: 3.49s\n",
      "14:\tlearn: 0.4553844\ttotal: 52.9ms\tremaining: 3.47s\n",
      "15:\tlearn: 0.4483834\ttotal: 56ms\tremaining: 3.44s\n",
      "16:\tlearn: 0.4426202\ttotal: 59.4ms\tremaining: 3.43s\n",
      "17:\tlearn: 0.4371452\ttotal: 62.5ms\tremaining: 3.41s\n",
      "18:\tlearn: 0.4325236\ttotal: 65.8ms\tremaining: 3.4s\n",
      "19:\tlearn: 0.4280062\ttotal: 68.9ms\tremaining: 3.38s\n",
      "20:\tlearn: 0.4235359\ttotal: 71.7ms\tremaining: 3.34s\n",
      "21:\tlearn: 0.4193545\ttotal: 74.7ms\tremaining: 3.32s\n",
      "22:\tlearn: 0.4148549\ttotal: 77.8ms\tremaining: 3.3s\n",
      "23:\tlearn: 0.4119778\ttotal: 80.8ms\tremaining: 3.29s\n",
      "24:\tlearn: 0.4083250\ttotal: 83.6ms\tremaining: 3.26s\n",
      "25:\tlearn: 0.4056267\ttotal: 86.5ms\tremaining: 3.24s\n",
      "26:\tlearn: 0.4022128\ttotal: 89.7ms\tremaining: 3.23s\n",
      "27:\tlearn: 0.3999014\ttotal: 93ms\tremaining: 3.23s\n",
      "28:\tlearn: 0.3976187\ttotal: 95.9ms\tremaining: 3.21s\n",
      "29:\tlearn: 0.3951354\ttotal: 98.9ms\tremaining: 3.2s\n",
      "30:\tlearn: 0.3932779\ttotal: 102ms\tremaining: 3.18s\n",
      "31:\tlearn: 0.3908696\ttotal: 105ms\tremaining: 3.16s\n",
      "32:\tlearn: 0.3879688\ttotal: 108ms\tremaining: 3.16s\n",
      "33:\tlearn: 0.3849285\ttotal: 111ms\tremaining: 3.16s\n",
      "34:\tlearn: 0.3830787\ttotal: 115ms\tremaining: 3.17s\n",
      "35:\tlearn: 0.3805845\ttotal: 119ms\tremaining: 3.18s\n",
      "36:\tlearn: 0.3790285\ttotal: 122ms\tremaining: 3.19s\n",
      "37:\tlearn: 0.3774502\ttotal: 126ms\tremaining: 3.19s\n",
      "38:\tlearn: 0.3755577\ttotal: 130ms\tremaining: 3.2s\n",
      "39:\tlearn: 0.3743924\ttotal: 134ms\tremaining: 3.21s\n",
      "40:\tlearn: 0.3731819\ttotal: 138ms\tremaining: 3.23s\n",
      "41:\tlearn: 0.3718922\ttotal: 144ms\tremaining: 3.28s\n",
      "42:\tlearn: 0.3703036\ttotal: 148ms\tremaining: 3.3s\n",
      "43:\tlearn: 0.3691999\ttotal: 153ms\tremaining: 3.32s\n",
      "44:\tlearn: 0.3679558\ttotal: 156ms\tremaining: 3.32s\n",
      "45:\tlearn: 0.3659618\ttotal: 160ms\tremaining: 3.31s\n",
      "46:\tlearn: 0.3646395\ttotal: 163ms\tremaining: 3.31s\n",
      "47:\tlearn: 0.3635874\ttotal: 166ms\tremaining: 3.29s\n",
      "48:\tlearn: 0.3627500\ttotal: 169ms\tremaining: 3.28s\n",
      "49:\tlearn: 0.3616677\ttotal: 172ms\tremaining: 3.27s\n",
      "50:\tlearn: 0.3604376\ttotal: 175ms\tremaining: 3.26s\n",
      "51:\tlearn: 0.3591127\ttotal: 178ms\tremaining: 3.25s\n",
      "52:\tlearn: 0.3583633\ttotal: 182ms\tremaining: 3.25s\n",
      "53:\tlearn: 0.3569399\ttotal: 185ms\tremaining: 3.23s\n",
      "54:\tlearn: 0.3557131\ttotal: 188ms\tremaining: 3.23s\n",
      "55:\tlearn: 0.3549701\ttotal: 192ms\tremaining: 3.23s\n",
      "56:\tlearn: 0.3539454\ttotal: 195ms\tremaining: 3.23s\n",
      "57:\tlearn: 0.3529322\ttotal: 199ms\tremaining: 3.23s\n",
      "58:\tlearn: 0.3521911\ttotal: 202ms\tremaining: 3.23s\n",
      "59:\tlearn: 0.3511609\ttotal: 206ms\tremaining: 3.22s\n",
      "60:\tlearn: 0.3504346\ttotal: 208ms\tremaining: 3.21s\n",
      "61:\tlearn: 0.3497957\ttotal: 211ms\tremaining: 3.19s\n",
      "62:\tlearn: 0.3488873\ttotal: 214ms\tremaining: 3.19s\n",
      "63:\tlearn: 0.3481552\ttotal: 217ms\tremaining: 3.18s\n",
      "64:\tlearn: 0.3471085\ttotal: 221ms\tremaining: 3.17s\n",
      "65:\tlearn: 0.3456797\ttotal: 223ms\tremaining: 3.16s\n",
      "66:\tlearn: 0.3449643\ttotal: 227ms\tremaining: 3.16s\n",
      "67:\tlearn: 0.3444214\ttotal: 231ms\tremaining: 3.17s\n",
      "68:\tlearn: 0.3436124\ttotal: 235ms\tremaining: 3.18s\n",
      "69:\tlearn: 0.3427936\ttotal: 240ms\tremaining: 3.19s\n",
      "70:\tlearn: 0.3420339\ttotal: 245ms\tremaining: 3.21s\n",
      "71:\tlearn: 0.3414877\ttotal: 249ms\tremaining: 3.21s\n",
      "72:\tlearn: 0.3402931\ttotal: 253ms\tremaining: 3.21s\n",
      "73:\tlearn: 0.3396909\ttotal: 257ms\tremaining: 3.21s\n",
      "74:\tlearn: 0.3390195\ttotal: 260ms\tremaining: 3.21s\n",
      "75:\tlearn: 0.3384746\ttotal: 263ms\tremaining: 3.2s\n",
      "76:\tlearn: 0.3379183\ttotal: 266ms\tremaining: 3.19s\n",
      "77:\tlearn: 0.3370589\ttotal: 269ms\tremaining: 3.18s\n",
      "78:\tlearn: 0.3364397\ttotal: 272ms\tremaining: 3.17s\n",
      "79:\tlearn: 0.3357975\ttotal: 275ms\tremaining: 3.17s\n",
      "80:\tlearn: 0.3352057\ttotal: 279ms\tremaining: 3.16s\n",
      "81:\tlearn: 0.3346532\ttotal: 282ms\tremaining: 3.15s\n",
      "82:\tlearn: 0.3339893\ttotal: 285ms\tremaining: 3.15s\n",
      "83:\tlearn: 0.3333630\ttotal: 288ms\tremaining: 3.14s\n",
      "84:\tlearn: 0.3328672\ttotal: 291ms\tremaining: 3.13s\n",
      "85:\tlearn: 0.3321094\ttotal: 294ms\tremaining: 3.13s\n",
      "86:\tlearn: 0.3318649\ttotal: 298ms\tremaining: 3.13s\n",
      "87:\tlearn: 0.3309695\ttotal: 302ms\tremaining: 3.13s\n",
      "88:\tlearn: 0.3303748\ttotal: 306ms\tremaining: 3.13s\n",
      "89:\tlearn: 0.3299632\ttotal: 309ms\tremaining: 3.13s\n",
      "90:\tlearn: 0.3294798\ttotal: 314ms\tremaining: 3.13s\n",
      "91:\tlearn: 0.3291329\ttotal: 318ms\tremaining: 3.13s\n",
      "92:\tlearn: 0.3286607\ttotal: 322ms\tremaining: 3.14s\n",
      "93:\tlearn: 0.3282548\ttotal: 327ms\tremaining: 3.15s\n",
      "94:\tlearn: 0.3279894\ttotal: 333ms\tremaining: 3.17s\n",
      "95:\tlearn: 0.3275516\ttotal: 339ms\tremaining: 3.19s\n",
      "96:\tlearn: 0.3272739\ttotal: 345ms\tremaining: 3.21s\n",
      "97:\tlearn: 0.3266123\ttotal: 349ms\tremaining: 3.21s\n",
      "98:\tlearn: 0.3261750\ttotal: 353ms\tremaining: 3.21s\n",
      "99:\tlearn: 0.3258340\ttotal: 356ms\tremaining: 3.21s\n",
      "100:\tlearn: 0.3254161\ttotal: 360ms\tremaining: 3.2s\n",
      "101:\tlearn: 0.3249408\ttotal: 363ms\tremaining: 3.19s\n",
      "102:\tlearn: 0.3245658\ttotal: 366ms\tremaining: 3.19s\n",
      "103:\tlearn: 0.3237784\ttotal: 370ms\tremaining: 3.19s\n",
      "104:\tlearn: 0.3226918\ttotal: 373ms\tremaining: 3.18s\n",
      "105:\tlearn: 0.3219993\ttotal: 377ms\tremaining: 3.18s\n",
      "106:\tlearn: 0.3210754\ttotal: 380ms\tremaining: 3.17s\n",
      "107:\tlearn: 0.3208265\ttotal: 383ms\tremaining: 3.16s\n",
      "108:\tlearn: 0.3202508\ttotal: 386ms\tremaining: 3.16s\n",
      "109:\tlearn: 0.3199787\ttotal: 390ms\tremaining: 3.15s\n",
      "110:\tlearn: 0.3192544\ttotal: 393ms\tremaining: 3.15s\n",
      "111:\tlearn: 0.3185301\ttotal: 396ms\tremaining: 3.14s\n",
      "112:\tlearn: 0.3180403\ttotal: 399ms\tremaining: 3.13s\n",
      "113:\tlearn: 0.3177689\ttotal: 402ms\tremaining: 3.12s\n",
      "114:\tlearn: 0.3174132\ttotal: 405ms\tremaining: 3.12s\n",
      "115:\tlearn: 0.3169904\ttotal: 408ms\tremaining: 3.11s\n",
      "116:\tlearn: 0.3166308\ttotal: 412ms\tremaining: 3.11s\n",
      "117:\tlearn: 0.3164681\ttotal: 415ms\tremaining: 3.1s\n",
      "118:\tlearn: 0.3159888\ttotal: 418ms\tremaining: 3.09s\n",
      "119:\tlearn: 0.3157724\ttotal: 421ms\tremaining: 3.09s\n",
      "120:\tlearn: 0.3154049\ttotal: 425ms\tremaining: 3.08s\n",
      "121:\tlearn: 0.3149911\ttotal: 428ms\tremaining: 3.08s\n",
      "122:\tlearn: 0.3147050\ttotal: 432ms\tremaining: 3.08s\n",
      "123:\tlearn: 0.3141689\ttotal: 436ms\tremaining: 3.08s\n",
      "124:\tlearn: 0.3137309\ttotal: 439ms\tremaining: 3.08s\n",
      "125:\tlearn: 0.3133683\ttotal: 443ms\tremaining: 3.07s\n",
      "126:\tlearn: 0.3129577\ttotal: 447ms\tremaining: 3.07s\n",
      "127:\tlearn: 0.3126676\ttotal: 451ms\tremaining: 3.07s\n",
      "128:\tlearn: 0.3118600\ttotal: 455ms\tremaining: 3.07s\n",
      "129:\tlearn: 0.3115779\ttotal: 459ms\tremaining: 3.07s\n",
      "130:\tlearn: 0.3110655\ttotal: 463ms\tremaining: 3.07s\n",
      "131:\tlearn: 0.3107660\ttotal: 467ms\tremaining: 3.07s\n",
      "132:\tlearn: 0.3101124\ttotal: 470ms\tremaining: 3.06s\n",
      "133:\tlearn: 0.3098421\ttotal: 473ms\tremaining: 3.06s\n",
      "134:\tlearn: 0.3094419\ttotal: 476ms\tremaining: 3.05s\n",
      "135:\tlearn: 0.3091799\ttotal: 479ms\tremaining: 3.04s\n",
      "136:\tlearn: 0.3089267\ttotal: 481ms\tremaining: 3.03s\n",
      "137:\tlearn: 0.3087279\ttotal: 485ms\tremaining: 3.03s\n",
      "138:\tlearn: 0.3083130\ttotal: 488ms\tremaining: 3.02s\n",
      "139:\tlearn: 0.3076408\ttotal: 491ms\tremaining: 3.02s\n",
      "140:\tlearn: 0.3074607\ttotal: 494ms\tremaining: 3.01s\n",
      "141:\tlearn: 0.3072125\ttotal: 504ms\tremaining: 3.05s\n",
      "142:\tlearn: 0.3066783\ttotal: 507ms\tremaining: 3.04s\n",
      "143:\tlearn: 0.3060008\ttotal: 511ms\tremaining: 3.04s\n",
      "144:\tlearn: 0.3058491\ttotal: 514ms\tremaining: 3.03s\n",
      "145:\tlearn: 0.3055664\ttotal: 517ms\tremaining: 3.02s\n",
      "146:\tlearn: 0.3054076\ttotal: 520ms\tremaining: 3.02s\n",
      "147:\tlearn: 0.3049128\ttotal: 523ms\tremaining: 3.01s\n",
      "148:\tlearn: 0.3047119\ttotal: 526ms\tremaining: 3s\n",
      "149:\tlearn: 0.3044672\ttotal: 529ms\tremaining: 3s\n",
      "150:\tlearn: 0.3041031\ttotal: 532ms\tremaining: 2.99s\n",
      "151:\tlearn: 0.3037513\ttotal: 536ms\tremaining: 2.99s\n",
      "152:\tlearn: 0.3035233\ttotal: 539ms\tremaining: 2.98s\n",
      "153:\tlearn: 0.3031759\ttotal: 542ms\tremaining: 2.98s\n",
      "154:\tlearn: 0.3030078\ttotal: 545ms\tremaining: 2.97s\n",
      "155:\tlearn: 0.3027849\ttotal: 549ms\tremaining: 2.97s\n",
      "156:\tlearn: 0.3025152\ttotal: 552ms\tremaining: 2.96s\n",
      "157:\tlearn: 0.3022656\ttotal: 555ms\tremaining: 2.96s\n",
      "158:\tlearn: 0.3017602\ttotal: 558ms\tremaining: 2.95s\n",
      "159:\tlearn: 0.3015747\ttotal: 561ms\tremaining: 2.95s\n",
      "160:\tlearn: 0.3013822\ttotal: 565ms\tremaining: 2.94s\n",
      "161:\tlearn: 0.3011743\ttotal: 568ms\tremaining: 2.94s\n",
      "162:\tlearn: 0.3010041\ttotal: 572ms\tremaining: 2.94s\n",
      "163:\tlearn: 0.3007518\ttotal: 575ms\tremaining: 2.93s\n",
      "164:\tlearn: 0.3004952\ttotal: 578ms\tremaining: 2.92s\n",
      "165:\tlearn: 0.3002575\ttotal: 581ms\tremaining: 2.92s\n",
      "166:\tlearn: 0.2999113\ttotal: 584ms\tremaining: 2.91s\n",
      "167:\tlearn: 0.2996069\ttotal: 587ms\tremaining: 2.91s\n",
      "168:\tlearn: 0.2991481\ttotal: 590ms\tremaining: 2.9s\n",
      "169:\tlearn: 0.2988998\ttotal: 593ms\tremaining: 2.9s\n",
      "170:\tlearn: 0.2984986\ttotal: 596ms\tremaining: 2.89s\n",
      "171:\tlearn: 0.2983475\ttotal: 600ms\tremaining: 2.88s\n",
      "172:\tlearn: 0.2981692\ttotal: 602ms\tremaining: 2.88s\n",
      "173:\tlearn: 0.2979265\ttotal: 605ms\tremaining: 2.87s\n",
      "174:\tlearn: 0.2977308\ttotal: 608ms\tremaining: 2.87s\n",
      "175:\tlearn: 0.2976101\ttotal: 612ms\tremaining: 2.86s\n",
      "176:\tlearn: 0.2969757\ttotal: 615ms\tremaining: 2.86s\n",
      "177:\tlearn: 0.2967408\ttotal: 618ms\tremaining: 2.85s\n",
      "178:\tlearn: 0.2965899\ttotal: 621ms\tremaining: 2.85s\n",
      "179:\tlearn: 0.2962554\ttotal: 625ms\tremaining: 2.85s\n",
      "180:\tlearn: 0.2960527\ttotal: 628ms\tremaining: 2.84s\n",
      "181:\tlearn: 0.2959097\ttotal: 631ms\tremaining: 2.84s\n",
      "182:\tlearn: 0.2955433\ttotal: 634ms\tremaining: 2.83s\n",
      "183:\tlearn: 0.2954261\ttotal: 638ms\tremaining: 2.83s\n",
      "184:\tlearn: 0.2950836\ttotal: 641ms\tremaining: 2.82s\n",
      "185:\tlearn: 0.2947642\ttotal: 644ms\tremaining: 2.82s\n",
      "186:\tlearn: 0.2945720\ttotal: 648ms\tremaining: 2.82s\n",
      "187:\tlearn: 0.2943622\ttotal: 651ms\tremaining: 2.81s\n",
      "188:\tlearn: 0.2940089\ttotal: 654ms\tremaining: 2.81s\n",
      "189:\tlearn: 0.2934487\ttotal: 657ms\tremaining: 2.8s\n",
      "190:\tlearn: 0.2933346\ttotal: 660ms\tremaining: 2.8s\n",
      "191:\tlearn: 0.2930861\ttotal: 664ms\tremaining: 2.79s\n",
      "192:\tlearn: 0.2926854\ttotal: 667ms\tremaining: 2.79s\n",
      "193:\tlearn: 0.2923956\ttotal: 670ms\tremaining: 2.79s\n",
      "194:\tlearn: 0.2921893\ttotal: 674ms\tremaining: 2.78s\n",
      "195:\tlearn: 0.2917890\ttotal: 677ms\tremaining: 2.78s\n",
      "196:\tlearn: 0.2915087\ttotal: 680ms\tremaining: 2.77s\n",
      "197:\tlearn: 0.2913440\ttotal: 683ms\tremaining: 2.77s\n",
      "198:\tlearn: 0.2912518\ttotal: 686ms\tremaining: 2.76s\n",
      "199:\tlearn: 0.2910993\ttotal: 689ms\tremaining: 2.75s\n",
      "200:\tlearn: 0.2908385\ttotal: 692ms\tremaining: 2.75s\n",
      "201:\tlearn: 0.2906634\ttotal: 695ms\tremaining: 2.75s\n",
      "202:\tlearn: 0.2903421\ttotal: 699ms\tremaining: 2.74s\n",
      "203:\tlearn: 0.2899551\ttotal: 702ms\tremaining: 2.74s\n",
      "204:\tlearn: 0.2894347\ttotal: 705ms\tremaining: 2.73s\n",
      "205:\tlearn: 0.2893909\ttotal: 708ms\tremaining: 2.73s\n",
      "206:\tlearn: 0.2891964\ttotal: 711ms\tremaining: 2.72s\n",
      "207:\tlearn: 0.2890709\ttotal: 715ms\tremaining: 2.72s\n",
      "208:\tlearn: 0.2888319\ttotal: 718ms\tremaining: 2.72s\n",
      "209:\tlearn: 0.2887328\ttotal: 721ms\tremaining: 2.71s\n",
      "210:\tlearn: 0.2881666\ttotal: 724ms\tremaining: 2.71s\n",
      "211:\tlearn: 0.2877201\ttotal: 727ms\tremaining: 2.7s\n",
      "212:\tlearn: 0.2875520\ttotal: 731ms\tremaining: 2.7s\n",
      "213:\tlearn: 0.2873114\ttotal: 736ms\tremaining: 2.7s\n",
      "214:\tlearn: 0.2870338\ttotal: 740ms\tremaining: 2.7s\n",
      "215:\tlearn: 0.2868905\ttotal: 744ms\tremaining: 2.7s\n",
      "216:\tlearn: 0.2866077\ttotal: 747ms\tremaining: 2.69s\n",
      "217:\tlearn: 0.2863483\ttotal: 751ms\tremaining: 2.69s\n",
      "218:\tlearn: 0.2861711\ttotal: 756ms\tremaining: 2.7s\n",
      "219:\tlearn: 0.2859424\ttotal: 762ms\tremaining: 2.7s\n",
      "220:\tlearn: 0.2857932\ttotal: 766ms\tremaining: 2.7s\n",
      "221:\tlearn: 0.2856557\ttotal: 771ms\tremaining: 2.7s\n",
      "222:\tlearn: 0.2854982\ttotal: 775ms\tremaining: 2.7s\n",
      "223:\tlearn: 0.2853123\ttotal: 780ms\tremaining: 2.7s\n",
      "224:\tlearn: 0.2851274\ttotal: 786ms\tremaining: 2.71s\n",
      "225:\tlearn: 0.2849334\ttotal: 793ms\tremaining: 2.71s\n",
      "226:\tlearn: 0.2842017\ttotal: 799ms\tremaining: 2.72s\n",
      "227:\tlearn: 0.2839642\ttotal: 803ms\tremaining: 2.72s\n",
      "228:\tlearn: 0.2838299\ttotal: 806ms\tremaining: 2.71s\n",
      "229:\tlearn: 0.2836157\ttotal: 810ms\tremaining: 2.71s\n",
      "230:\tlearn: 0.2832703\ttotal: 814ms\tremaining: 2.71s\n",
      "231:\tlearn: 0.2830420\ttotal: 817ms\tremaining: 2.71s\n",
      "232:\tlearn: 0.2828263\ttotal: 820ms\tremaining: 2.7s\n",
      "233:\tlearn: 0.2825606\ttotal: 823ms\tremaining: 2.69s\n",
      "234:\tlearn: 0.2824797\ttotal: 827ms\tremaining: 2.69s\n",
      "235:\tlearn: 0.2822208\ttotal: 830ms\tremaining: 2.69s\n",
      "236:\tlearn: 0.2821183\ttotal: 833ms\tremaining: 2.68s\n",
      "237:\tlearn: 0.2819370\ttotal: 836ms\tremaining: 2.67s\n",
      "238:\tlearn: 0.2817287\ttotal: 839ms\tremaining: 2.67s\n",
      "239:\tlearn: 0.2812836\ttotal: 842ms\tremaining: 2.67s\n",
      "240:\tlearn: 0.2811154\ttotal: 845ms\tremaining: 2.66s\n",
      "241:\tlearn: 0.2809271\ttotal: 848ms\tremaining: 2.66s\n",
      "242:\tlearn: 0.2807327\ttotal: 852ms\tremaining: 2.65s\n",
      "243:\tlearn: 0.2804955\ttotal: 855ms\tremaining: 2.65s\n",
      "244:\tlearn: 0.2801516\ttotal: 858ms\tremaining: 2.64s\n",
      "245:\tlearn: 0.2800349\ttotal: 861ms\tremaining: 2.64s\n",
      "246:\tlearn: 0.2798755\ttotal: 865ms\tremaining: 2.64s\n",
      "247:\tlearn: 0.2797314\ttotal: 868ms\tremaining: 2.63s\n",
      "248:\tlearn: 0.2795937\ttotal: 871ms\tremaining: 2.63s\n",
      "249:\tlearn: 0.2794455\ttotal: 874ms\tremaining: 2.62s\n",
      "250:\tlearn: 0.2793417\ttotal: 877ms\tremaining: 2.62s\n",
      "251:\tlearn: 0.2790824\ttotal: 880ms\tremaining: 2.61s\n",
      "252:\tlearn: 0.2788809\ttotal: 884ms\tremaining: 2.61s\n",
      "253:\tlearn: 0.2787540\ttotal: 887ms\tremaining: 2.6s\n",
      "254:\tlearn: 0.2784194\ttotal: 890ms\tremaining: 2.6s\n",
      "255:\tlearn: 0.2781871\ttotal: 893ms\tremaining: 2.59s\n",
      "256:\tlearn: 0.2779375\ttotal: 897ms\tremaining: 2.59s\n",
      "257:\tlearn: 0.2777453\ttotal: 899ms\tremaining: 2.59s\n",
      "258:\tlearn: 0.2775995\ttotal: 903ms\tremaining: 2.58s\n",
      "259:\tlearn: 0.2774942\ttotal: 906ms\tremaining: 2.58s\n",
      "260:\tlearn: 0.2773389\ttotal: 909ms\tremaining: 2.57s\n",
      "261:\tlearn: 0.2772414\ttotal: 912ms\tremaining: 2.57s\n",
      "262:\tlearn: 0.2770240\ttotal: 915ms\tremaining: 2.56s\n",
      "263:\tlearn: 0.2769079\ttotal: 919ms\tremaining: 2.56s\n",
      "264:\tlearn: 0.2767382\ttotal: 922ms\tremaining: 2.56s\n",
      "265:\tlearn: 0.2765098\ttotal: 925ms\tremaining: 2.55s\n",
      "266:\tlearn: 0.2764270\ttotal: 927ms\tremaining: 2.54s\n",
      "267:\tlearn: 0.2761635\ttotal: 930ms\tremaining: 2.54s\n",
      "268:\tlearn: 0.2757994\ttotal: 933ms\tremaining: 2.54s\n",
      "269:\tlearn: 0.2755584\ttotal: 936ms\tremaining: 2.53s\n",
      "270:\tlearn: 0.2753759\ttotal: 939ms\tremaining: 2.53s\n",
      "271:\tlearn: 0.2751049\ttotal: 943ms\tremaining: 2.52s\n",
      "272:\tlearn: 0.2748363\ttotal: 947ms\tremaining: 2.52s\n",
      "273:\tlearn: 0.2745306\ttotal: 950ms\tremaining: 2.52s\n",
      "274:\tlearn: 0.2743890\ttotal: 953ms\tremaining: 2.51s\n",
      "275:\tlearn: 0.2742874\ttotal: 956ms\tremaining: 2.51s\n",
      "276:\tlearn: 0.2740543\ttotal: 960ms\tremaining: 2.5s\n",
      "277:\tlearn: 0.2738883\ttotal: 963ms\tremaining: 2.5s\n",
      "278:\tlearn: 0.2736459\ttotal: 966ms\tremaining: 2.5s\n",
      "279:\tlearn: 0.2734849\ttotal: 969ms\tremaining: 2.49s\n",
      "280:\tlearn: 0.2731521\ttotal: 972ms\tremaining: 2.49s\n",
      "281:\tlearn: 0.2729980\ttotal: 975ms\tremaining: 2.48s\n",
      "282:\tlearn: 0.2727278\ttotal: 979ms\tremaining: 2.48s\n",
      "283:\tlearn: 0.2726169\ttotal: 982ms\tremaining: 2.48s\n",
      "284:\tlearn: 0.2720878\ttotal: 985ms\tremaining: 2.47s\n",
      "285:\tlearn: 0.2718932\ttotal: 988ms\tremaining: 2.47s\n",
      "286:\tlearn: 0.2717702\ttotal: 992ms\tremaining: 2.46s\n",
      "287:\tlearn: 0.2715154\ttotal: 996ms\tremaining: 2.46s\n",
      "288:\tlearn: 0.2712066\ttotal: 999ms\tremaining: 2.46s\n",
      "289:\tlearn: 0.2709537\ttotal: 1s\tremaining: 2.45s\n",
      "290:\tlearn: 0.2707293\ttotal: 1s\tremaining: 2.45s\n",
      "291:\tlearn: 0.2705539\ttotal: 1.01s\tremaining: 2.45s\n",
      "292:\tlearn: 0.2703415\ttotal: 1.01s\tremaining: 2.44s\n",
      "293:\tlearn: 0.2701943\ttotal: 1.02s\tremaining: 2.44s\n",
      "294:\tlearn: 0.2700332\ttotal: 1.02s\tremaining: 2.44s\n",
      "295:\tlearn: 0.2696510\ttotal: 1.02s\tremaining: 2.43s\n",
      "296:\tlearn: 0.2694198\ttotal: 1.03s\tremaining: 2.43s\n",
      "297:\tlearn: 0.2691989\ttotal: 1.03s\tremaining: 2.42s\n",
      "298:\tlearn: 0.2689635\ttotal: 1.03s\tremaining: 2.42s\n",
      "299:\tlearn: 0.2688089\ttotal: 1.04s\tremaining: 2.42s\n",
      "300:\tlearn: 0.2686189\ttotal: 1.04s\tremaining: 2.41s\n",
      "301:\tlearn: 0.2684310\ttotal: 1.04s\tremaining: 2.41s\n",
      "302:\tlearn: 0.2683263\ttotal: 1.05s\tremaining: 2.41s\n",
      "303:\tlearn: 0.2681750\ttotal: 1.05s\tremaining: 2.4s\n",
      "304:\tlearn: 0.2679904\ttotal: 1.05s\tremaining: 2.4s\n",
      "305:\tlearn: 0.2678573\ttotal: 1.06s\tremaining: 2.4s\n",
      "306:\tlearn: 0.2677205\ttotal: 1.06s\tremaining: 2.39s\n",
      "307:\tlearn: 0.2675330\ttotal: 1.06s\tremaining: 2.39s\n",
      "308:\tlearn: 0.2671481\ttotal: 1.07s\tremaining: 2.38s\n",
      "309:\tlearn: 0.2670352\ttotal: 1.07s\tremaining: 2.38s\n",
      "310:\tlearn: 0.2668080\ttotal: 1.07s\tremaining: 2.38s\n",
      "311:\tlearn: 0.2666525\ttotal: 1.08s\tremaining: 2.37s\n",
      "312:\tlearn: 0.2664702\ttotal: 1.08s\tremaining: 2.37s\n",
      "313:\tlearn: 0.2662145\ttotal: 1.08s\tremaining: 2.37s\n",
      "314:\tlearn: 0.2660946\ttotal: 1.09s\tremaining: 2.36s\n",
      "315:\tlearn: 0.2659483\ttotal: 1.09s\tremaining: 2.36s\n",
      "316:\tlearn: 0.2656676\ttotal: 1.09s\tremaining: 2.35s\n",
      "317:\tlearn: 0.2655417\ttotal: 1.1s\tremaining: 2.35s\n",
      "318:\tlearn: 0.2652894\ttotal: 1.1s\tremaining: 2.35s\n",
      "319:\tlearn: 0.2652092\ttotal: 1.1s\tremaining: 2.34s\n",
      "320:\tlearn: 0.2650174\ttotal: 1.11s\tremaining: 2.34s\n",
      "321:\tlearn: 0.2648447\ttotal: 1.11s\tremaining: 2.34s\n",
      "322:\tlearn: 0.2646492\ttotal: 1.11s\tremaining: 2.33s\n",
      "323:\tlearn: 0.2644114\ttotal: 1.12s\tremaining: 2.33s\n",
      "324:\tlearn: 0.2642976\ttotal: 1.12s\tremaining: 2.33s\n",
      "325:\tlearn: 0.2642156\ttotal: 1.12s\tremaining: 2.32s\n",
      "326:\tlearn: 0.2641050\ttotal: 1.13s\tremaining: 2.32s\n",
      "327:\tlearn: 0.2639387\ttotal: 1.13s\tremaining: 2.31s\n",
      "328:\tlearn: 0.2637757\ttotal: 1.13s\tremaining: 2.31s\n",
      "329:\tlearn: 0.2636108\ttotal: 1.14s\tremaining: 2.31s\n",
      "330:\tlearn: 0.2634354\ttotal: 1.14s\tremaining: 2.3s\n",
      "331:\tlearn: 0.2632351\ttotal: 1.14s\tremaining: 2.3s\n",
      "332:\tlearn: 0.2630744\ttotal: 1.14s\tremaining: 2.29s\n",
      "333:\tlearn: 0.2630104\ttotal: 1.15s\tremaining: 2.29s\n",
      "334:\tlearn: 0.2626870\ttotal: 1.15s\tremaining: 2.28s\n",
      "335:\tlearn: 0.2625499\ttotal: 1.15s\tremaining: 2.28s\n",
      "336:\tlearn: 0.2623665\ttotal: 1.16s\tremaining: 2.28s\n",
      "337:\tlearn: 0.2622295\ttotal: 1.16s\tremaining: 2.27s\n",
      "338:\tlearn: 0.2620022\ttotal: 1.16s\tremaining: 2.27s\n",
      "339:\tlearn: 0.2618133\ttotal: 1.17s\tremaining: 2.27s\n",
      "340:\tlearn: 0.2616717\ttotal: 1.17s\tremaining: 2.26s\n",
      "341:\tlearn: 0.2615226\ttotal: 1.17s\tremaining: 2.26s\n",
      "342:\tlearn: 0.2613834\ttotal: 1.18s\tremaining: 2.26s\n",
      "343:\tlearn: 0.2612364\ttotal: 1.18s\tremaining: 2.25s\n",
      "344:\tlearn: 0.2610090\ttotal: 1.18s\tremaining: 2.25s\n",
      "345:\tlearn: 0.2606728\ttotal: 1.19s\tremaining: 2.25s\n",
      "346:\tlearn: 0.2605652\ttotal: 1.19s\tremaining: 2.24s\n",
      "347:\tlearn: 0.2602454\ttotal: 1.19s\tremaining: 2.24s\n",
      "348:\tlearn: 0.2601279\ttotal: 1.2s\tremaining: 2.23s\n",
      "349:\tlearn: 0.2599991\ttotal: 1.2s\tremaining: 2.23s\n",
      "350:\tlearn: 0.2598196\ttotal: 1.2s\tremaining: 2.23s\n",
      "351:\tlearn: 0.2596573\ttotal: 1.21s\tremaining: 2.22s\n",
      "352:\tlearn: 0.2595171\ttotal: 1.21s\tremaining: 2.22s\n",
      "353:\tlearn: 0.2594130\ttotal: 1.21s\tremaining: 2.21s\n",
      "354:\tlearn: 0.2592568\ttotal: 1.22s\tremaining: 2.21s\n",
      "355:\tlearn: 0.2591297\ttotal: 1.22s\tremaining: 2.21s\n",
      "356:\tlearn: 0.2589656\ttotal: 1.22s\tremaining: 2.2s\n",
      "357:\tlearn: 0.2586056\ttotal: 1.23s\tremaining: 2.2s\n",
      "358:\tlearn: 0.2584669\ttotal: 1.23s\tremaining: 2.2s\n",
      "359:\tlearn: 0.2582896\ttotal: 1.25s\tremaining: 2.22s\n",
      "360:\tlearn: 0.2581438\ttotal: 1.25s\tremaining: 2.22s\n",
      "361:\tlearn: 0.2579981\ttotal: 1.25s\tremaining: 2.21s\n",
      "362:\tlearn: 0.2578884\ttotal: 1.26s\tremaining: 2.21s\n",
      "363:\tlearn: 0.2577123\ttotal: 1.26s\tremaining: 2.21s\n",
      "364:\tlearn: 0.2574689\ttotal: 1.26s\tremaining: 2.2s\n",
      "365:\tlearn: 0.2573467\ttotal: 1.27s\tremaining: 2.2s\n",
      "366:\tlearn: 0.2572489\ttotal: 1.27s\tremaining: 2.19s\n",
      "367:\tlearn: 0.2571650\ttotal: 1.28s\tremaining: 2.19s\n",
      "368:\tlearn: 0.2569473\ttotal: 1.28s\tremaining: 2.19s\n",
      "369:\tlearn: 0.2567811\ttotal: 1.28s\tremaining: 2.19s\n",
      "370:\tlearn: 0.2566617\ttotal: 1.29s\tremaining: 2.18s\n",
      "371:\tlearn: 0.2564500\ttotal: 1.29s\tremaining: 2.18s\n",
      "372:\tlearn: 0.2563422\ttotal: 1.29s\tremaining: 2.17s\n",
      "373:\tlearn: 0.2562345\ttotal: 1.3s\tremaining: 2.17s\n",
      "374:\tlearn: 0.2561131\ttotal: 1.3s\tremaining: 2.17s\n",
      "375:\tlearn: 0.2559189\ttotal: 1.3s\tremaining: 2.16s\n",
      "376:\tlearn: 0.2558092\ttotal: 1.3s\tremaining: 2.16s\n",
      "377:\tlearn: 0.2556934\ttotal: 1.31s\tremaining: 2.15s\n",
      "378:\tlearn: 0.2555512\ttotal: 1.31s\tremaining: 2.15s\n",
      "379:\tlearn: 0.2554159\ttotal: 1.31s\tremaining: 2.15s\n",
      "380:\tlearn: 0.2552558\ttotal: 1.32s\tremaining: 2.14s\n",
      "381:\tlearn: 0.2551553\ttotal: 1.32s\tremaining: 2.14s\n",
      "382:\tlearn: 0.2550256\ttotal: 1.32s\tremaining: 2.13s\n",
      "383:\tlearn: 0.2548722\ttotal: 1.35s\tremaining: 2.16s\n",
      "384:\tlearn: 0.2547855\ttotal: 1.36s\tremaining: 2.18s\n",
      "385:\tlearn: 0.2546657\ttotal: 1.37s\tremaining: 2.18s\n",
      "386:\tlearn: 0.2545475\ttotal: 1.39s\tremaining: 2.2s\n",
      "387:\tlearn: 0.2544694\ttotal: 1.4s\tremaining: 2.21s\n",
      "388:\tlearn: 0.2542775\ttotal: 1.42s\tremaining: 2.23s\n",
      "389:\tlearn: 0.2541227\ttotal: 1.43s\tremaining: 2.24s\n",
      "390:\tlearn: 0.2539908\ttotal: 1.47s\tremaining: 2.28s\n",
      "391:\tlearn: 0.2539032\ttotal: 1.49s\tremaining: 2.31s\n",
      "392:\tlearn: 0.2537865\ttotal: 1.51s\tremaining: 2.34s\n",
      "393:\tlearn: 0.2536633\ttotal: 1.53s\tremaining: 2.35s\n",
      "394:\tlearn: 0.2535547\ttotal: 1.53s\tremaining: 2.35s\n",
      "395:\tlearn: 0.2533187\ttotal: 1.54s\tremaining: 2.35s\n",
      "396:\tlearn: 0.2531520\ttotal: 1.55s\tremaining: 2.35s\n",
      "397:\tlearn: 0.2530198\ttotal: 1.55s\tremaining: 2.35s\n",
      "398:\tlearn: 0.2528807\ttotal: 1.56s\tremaining: 2.35s\n",
      "399:\tlearn: 0.2527906\ttotal: 1.57s\tremaining: 2.35s\n",
      "400:\tlearn: 0.2526566\ttotal: 1.57s\tremaining: 2.35s\n",
      "401:\tlearn: 0.2525525\ttotal: 1.58s\tremaining: 2.35s\n",
      "402:\tlearn: 0.2524124\ttotal: 1.58s\tremaining: 2.35s\n",
      "403:\tlearn: 0.2522153\ttotal: 1.59s\tremaining: 2.34s\n",
      "404:\tlearn: 0.2519338\ttotal: 1.59s\tremaining: 2.34s\n",
      "405:\tlearn: 0.2518051\ttotal: 1.6s\tremaining: 2.34s\n",
      "406:\tlearn: 0.2516729\ttotal: 1.6s\tremaining: 2.33s\n",
      "407:\tlearn: 0.2515937\ttotal: 1.6s\tremaining: 2.33s\n",
      "408:\tlearn: 0.2515126\ttotal: 1.61s\tremaining: 2.32s\n",
      "409:\tlearn: 0.2513302\ttotal: 1.61s\tremaining: 2.31s\n",
      "410:\tlearn: 0.2512670\ttotal: 1.61s\tremaining: 2.31s\n",
      "411:\tlearn: 0.2511225\ttotal: 1.61s\tremaining: 2.31s\n",
      "412:\tlearn: 0.2509673\ttotal: 1.62s\tremaining: 2.3s\n",
      "413:\tlearn: 0.2507544\ttotal: 1.62s\tremaining: 2.29s\n",
      "414:\tlearn: 0.2506643\ttotal: 1.62s\tremaining: 2.29s\n",
      "415:\tlearn: 0.2505599\ttotal: 1.63s\tremaining: 2.29s\n",
      "416:\tlearn: 0.2504572\ttotal: 1.63s\tremaining: 2.28s\n",
      "417:\tlearn: 0.2503074\ttotal: 1.64s\tremaining: 2.28s\n",
      "418:\tlearn: 0.2502262\ttotal: 1.64s\tremaining: 2.27s\n",
      "419:\tlearn: 0.2501552\ttotal: 1.64s\tremaining: 2.27s\n",
      "420:\tlearn: 0.2499697\ttotal: 1.65s\tremaining: 2.26s\n",
      "421:\tlearn: 0.2498306\ttotal: 1.65s\tremaining: 2.26s\n",
      "422:\tlearn: 0.2497212\ttotal: 1.65s\tremaining: 2.25s\n",
      "423:\tlearn: 0.2495610\ttotal: 1.66s\tremaining: 2.25s\n",
      "424:\tlearn: 0.2494998\ttotal: 1.66s\tremaining: 2.24s\n",
      "425:\tlearn: 0.2493882\ttotal: 1.66s\tremaining: 2.24s\n",
      "426:\tlearn: 0.2492526\ttotal: 1.67s\tremaining: 2.23s\n",
      "427:\tlearn: 0.2491262\ttotal: 1.67s\tremaining: 2.23s\n",
      "428:\tlearn: 0.2489632\ttotal: 1.67s\tremaining: 2.22s\n",
      "429:\tlearn: 0.2488502\ttotal: 1.67s\tremaining: 2.22s\n",
      "430:\tlearn: 0.2487430\ttotal: 1.68s\tremaining: 2.21s\n",
      "431:\tlearn: 0.2486544\ttotal: 1.68s\tremaining: 2.21s\n",
      "432:\tlearn: 0.2485800\ttotal: 1.68s\tremaining: 2.21s\n",
      "433:\tlearn: 0.2484053\ttotal: 1.69s\tremaining: 2.2s\n",
      "434:\tlearn: 0.2482892\ttotal: 1.69s\tremaining: 2.2s\n",
      "435:\tlearn: 0.2481866\ttotal: 1.69s\tremaining: 2.19s\n",
      "436:\tlearn: 0.2480424\ttotal: 1.7s\tremaining: 2.19s\n",
      "437:\tlearn: 0.2478412\ttotal: 1.7s\tremaining: 2.18s\n",
      "438:\tlearn: 0.2477604\ttotal: 1.7s\tremaining: 2.18s\n",
      "439:\tlearn: 0.2476654\ttotal: 1.71s\tremaining: 2.17s\n",
      "440:\tlearn: 0.2475684\ttotal: 1.71s\tremaining: 2.17s\n",
      "441:\tlearn: 0.2475009\ttotal: 1.71s\tremaining: 2.16s\n",
      "442:\tlearn: 0.2473168\ttotal: 1.72s\tremaining: 2.16s\n",
      "443:\tlearn: 0.2472035\ttotal: 1.72s\tremaining: 2.15s\n",
      "444:\tlearn: 0.2470538\ttotal: 1.72s\tremaining: 2.15s\n",
      "445:\tlearn: 0.2469841\ttotal: 1.73s\tremaining: 2.14s\n",
      "446:\tlearn: 0.2468973\ttotal: 1.73s\tremaining: 2.14s\n",
      "447:\tlearn: 0.2467821\ttotal: 1.73s\tremaining: 2.13s\n",
      "448:\tlearn: 0.2467075\ttotal: 1.74s\tremaining: 2.13s\n",
      "449:\tlearn: 0.2464967\ttotal: 1.74s\tremaining: 2.12s\n",
      "450:\tlearn: 0.2464388\ttotal: 1.74s\tremaining: 2.12s\n",
      "451:\tlearn: 0.2463372\ttotal: 1.74s\tremaining: 2.12s\n",
      "452:\tlearn: 0.2461052\ttotal: 1.75s\tremaining: 2.11s\n",
      "453:\tlearn: 0.2460197\ttotal: 1.75s\tremaining: 2.11s\n",
      "454:\tlearn: 0.2459046\ttotal: 1.75s\tremaining: 2.1s\n",
      "455:\tlearn: 0.2458470\ttotal: 1.76s\tremaining: 2.1s\n",
      "456:\tlearn: 0.2457547\ttotal: 1.76s\tremaining: 2.09s\n",
      "457:\tlearn: 0.2456420\ttotal: 1.76s\tremaining: 2.09s\n",
      "458:\tlearn: 0.2454557\ttotal: 1.77s\tremaining: 2.08s\n",
      "459:\tlearn: 0.2453890\ttotal: 1.77s\tremaining: 2.08s\n",
      "460:\tlearn: 0.2452053\ttotal: 1.78s\tremaining: 2.08s\n",
      "461:\tlearn: 0.2451033\ttotal: 1.78s\tremaining: 2.08s\n",
      "462:\tlearn: 0.2449561\ttotal: 1.79s\tremaining: 2.07s\n",
      "463:\tlearn: 0.2448580\ttotal: 1.79s\tremaining: 2.07s\n",
      "464:\tlearn: 0.2447770\ttotal: 1.8s\tremaining: 2.07s\n",
      "465:\tlearn: 0.2445325\ttotal: 1.8s\tremaining: 2.06s\n",
      "466:\tlearn: 0.2443605\ttotal: 1.8s\tremaining: 2.06s\n",
      "467:\tlearn: 0.2442490\ttotal: 1.81s\tremaining: 2.05s\n",
      "468:\tlearn: 0.2441501\ttotal: 1.81s\tremaining: 2.05s\n",
      "469:\tlearn: 0.2440038\ttotal: 1.81s\tremaining: 2.04s\n",
      "470:\tlearn: 0.2439085\ttotal: 1.82s\tremaining: 2.04s\n",
      "471:\tlearn: 0.2438667\ttotal: 1.82s\tremaining: 2.03s\n",
      "472:\tlearn: 0.2436180\ttotal: 1.82s\tremaining: 2.03s\n",
      "473:\tlearn: 0.2435276\ttotal: 1.82s\tremaining: 2.02s\n",
      "474:\tlearn: 0.2434307\ttotal: 1.83s\tremaining: 2.02s\n",
      "475:\tlearn: 0.2432987\ttotal: 1.83s\tremaining: 2.02s\n",
      "476:\tlearn: 0.2432348\ttotal: 1.83s\tremaining: 2.01s\n",
      "477:\tlearn: 0.2431276\ttotal: 1.84s\tremaining: 2.01s\n",
      "478:\tlearn: 0.2430006\ttotal: 1.84s\tremaining: 2s\n",
      "479:\tlearn: 0.2429189\ttotal: 1.84s\tremaining: 2s\n",
      "480:\tlearn: 0.2428752\ttotal: 1.85s\tremaining: 1.99s\n",
      "481:\tlearn: 0.2427752\ttotal: 1.85s\tremaining: 1.99s\n",
      "482:\tlearn: 0.2426657\ttotal: 1.85s\tremaining: 1.98s\n",
      "483:\tlearn: 0.2426130\ttotal: 1.85s\tremaining: 1.98s\n",
      "484:\tlearn: 0.2425294\ttotal: 1.86s\tremaining: 1.97s\n",
      "485:\tlearn: 0.2424535\ttotal: 1.86s\tremaining: 1.97s\n",
      "486:\tlearn: 0.2423889\ttotal: 1.86s\tremaining: 1.96s\n",
      "487:\tlearn: 0.2422885\ttotal: 1.87s\tremaining: 1.96s\n",
      "488:\tlearn: 0.2422275\ttotal: 1.87s\tremaining: 1.95s\n",
      "489:\tlearn: 0.2421072\ttotal: 1.87s\tremaining: 1.95s\n",
      "490:\tlearn: 0.2419970\ttotal: 1.88s\tremaining: 1.95s\n",
      "491:\tlearn: 0.2418855\ttotal: 1.88s\tremaining: 1.94s\n",
      "492:\tlearn: 0.2418063\ttotal: 1.88s\tremaining: 1.94s\n",
      "493:\tlearn: 0.2417267\ttotal: 1.89s\tremaining: 1.93s\n",
      "494:\tlearn: 0.2416408\ttotal: 1.89s\tremaining: 1.93s\n",
      "495:\tlearn: 0.2415231\ttotal: 1.89s\tremaining: 1.92s\n",
      "496:\tlearn: 0.2414348\ttotal: 1.89s\tremaining: 1.92s\n",
      "497:\tlearn: 0.2413581\ttotal: 1.9s\tremaining: 1.91s\n",
      "498:\tlearn: 0.2412999\ttotal: 1.9s\tremaining: 1.91s\n",
      "499:\tlearn: 0.2411221\ttotal: 1.9s\tremaining: 1.9s\n",
      "500:\tlearn: 0.2410056\ttotal: 1.91s\tremaining: 1.9s\n",
      "501:\tlearn: 0.2409292\ttotal: 1.91s\tremaining: 1.89s\n",
      "502:\tlearn: 0.2408698\ttotal: 1.91s\tremaining: 1.89s\n",
      "503:\tlearn: 0.2408078\ttotal: 1.92s\tremaining: 1.89s\n",
      "504:\tlearn: 0.2407271\ttotal: 1.92s\tremaining: 1.88s\n",
      "505:\tlearn: 0.2405955\ttotal: 1.92s\tremaining: 1.88s\n",
      "506:\tlearn: 0.2404241\ttotal: 1.93s\tremaining: 1.87s\n",
      "507:\tlearn: 0.2402993\ttotal: 1.93s\tremaining: 1.87s\n",
      "508:\tlearn: 0.2401639\ttotal: 1.93s\tremaining: 1.86s\n",
      "509:\tlearn: 0.2400669\ttotal: 1.93s\tremaining: 1.86s\n",
      "510:\tlearn: 0.2398881\ttotal: 1.94s\tremaining: 1.85s\n",
      "511:\tlearn: 0.2397991\ttotal: 1.94s\tremaining: 1.85s\n",
      "512:\tlearn: 0.2397052\ttotal: 1.94s\tremaining: 1.84s\n",
      "513:\tlearn: 0.2395873\ttotal: 1.95s\tremaining: 1.84s\n",
      "514:\tlearn: 0.2395064\ttotal: 1.95s\tremaining: 1.84s\n",
      "515:\tlearn: 0.2393475\ttotal: 1.95s\tremaining: 1.83s\n",
      "516:\tlearn: 0.2390936\ttotal: 1.96s\tremaining: 1.83s\n",
      "517:\tlearn: 0.2389716\ttotal: 1.96s\tremaining: 1.82s\n",
      "518:\tlearn: 0.2388879\ttotal: 1.96s\tremaining: 1.82s\n",
      "519:\tlearn: 0.2388189\ttotal: 1.97s\tremaining: 1.81s\n",
      "520:\tlearn: 0.2387278\ttotal: 1.97s\tremaining: 1.81s\n",
      "521:\tlearn: 0.2386539\ttotal: 1.97s\tremaining: 1.8s\n",
      "522:\tlearn: 0.2385633\ttotal: 1.97s\tremaining: 1.8s\n",
      "523:\tlearn: 0.2384772\ttotal: 1.98s\tremaining: 1.8s\n",
      "524:\tlearn: 0.2383962\ttotal: 1.98s\tremaining: 1.79s\n",
      "525:\tlearn: 0.2383382\ttotal: 1.99s\tremaining: 1.79s\n",
      "526:\tlearn: 0.2381800\ttotal: 2s\tremaining: 1.79s\n",
      "527:\tlearn: 0.2380636\ttotal: 2s\tremaining: 1.79s\n",
      "528:\tlearn: 0.2379952\ttotal: 2.01s\tremaining: 1.79s\n",
      "529:\tlearn: 0.2378838\ttotal: 2.02s\tremaining: 1.79s\n",
      "530:\tlearn: 0.2378176\ttotal: 2.02s\tremaining: 1.78s\n",
      "531:\tlearn: 0.2377524\ttotal: 2.02s\tremaining: 1.78s\n",
      "532:\tlearn: 0.2376905\ttotal: 2.03s\tremaining: 1.78s\n",
      "533:\tlearn: 0.2375611\ttotal: 2.03s\tremaining: 1.77s\n",
      "534:\tlearn: 0.2374471\ttotal: 2.03s\tremaining: 1.77s\n",
      "535:\tlearn: 0.2373707\ttotal: 2.04s\tremaining: 1.76s\n",
      "536:\tlearn: 0.2372788\ttotal: 2.04s\tremaining: 1.76s\n",
      "537:\tlearn: 0.2371873\ttotal: 2.04s\tremaining: 1.75s\n",
      "538:\tlearn: 0.2370914\ttotal: 2.05s\tremaining: 1.75s\n",
      "539:\tlearn: 0.2369826\ttotal: 2.05s\tremaining: 1.75s\n",
      "540:\tlearn: 0.2369229\ttotal: 2.05s\tremaining: 1.74s\n",
      "541:\tlearn: 0.2368408\ttotal: 2.06s\tremaining: 1.74s\n",
      "542:\tlearn: 0.2366603\ttotal: 2.06s\tremaining: 1.74s\n",
      "543:\tlearn: 0.2365785\ttotal: 2.07s\tremaining: 1.73s\n",
      "544:\tlearn: 0.2365044\ttotal: 2.07s\tremaining: 1.73s\n",
      "545:\tlearn: 0.2364497\ttotal: 2.07s\tremaining: 1.72s\n",
      "546:\tlearn: 0.2363531\ttotal: 2.08s\tremaining: 1.72s\n",
      "547:\tlearn: 0.2362787\ttotal: 2.08s\tremaining: 1.72s\n",
      "548:\tlearn: 0.2361405\ttotal: 2.08s\tremaining: 1.71s\n",
      "549:\tlearn: 0.2359893\ttotal: 2.09s\tremaining: 1.71s\n",
      "550:\tlearn: 0.2359323\ttotal: 2.09s\tremaining: 1.7s\n",
      "551:\tlearn: 0.2358109\ttotal: 2.1s\tremaining: 1.7s\n",
      "552:\tlearn: 0.2357281\ttotal: 2.1s\tremaining: 1.7s\n",
      "553:\tlearn: 0.2356791\ttotal: 2.1s\tremaining: 1.69s\n",
      "554:\tlearn: 0.2356055\ttotal: 2.11s\tremaining: 1.69s\n",
      "555:\tlearn: 0.2355481\ttotal: 2.11s\tremaining: 1.69s\n",
      "556:\tlearn: 0.2354794\ttotal: 2.11s\tremaining: 1.68s\n",
      "557:\tlearn: 0.2353767\ttotal: 2.12s\tremaining: 1.68s\n",
      "558:\tlearn: 0.2352391\ttotal: 2.12s\tremaining: 1.68s\n",
      "559:\tlearn: 0.2351602\ttotal: 2.13s\tremaining: 1.67s\n",
      "560:\tlearn: 0.2350289\ttotal: 2.13s\tremaining: 1.67s\n",
      "561:\tlearn: 0.2349393\ttotal: 2.14s\tremaining: 1.67s\n",
      "562:\tlearn: 0.2348890\ttotal: 2.15s\tremaining: 1.67s\n",
      "563:\tlearn: 0.2347808\ttotal: 2.15s\tremaining: 1.66s\n",
      "564:\tlearn: 0.2347094\ttotal: 2.15s\tremaining: 1.66s\n",
      "565:\tlearn: 0.2346565\ttotal: 2.16s\tremaining: 1.66s\n",
      "566:\tlearn: 0.2344755\ttotal: 2.17s\tremaining: 1.66s\n",
      "567:\tlearn: 0.2343791\ttotal: 2.17s\tremaining: 1.65s\n",
      "568:\tlearn: 0.2342956\ttotal: 2.18s\tremaining: 1.65s\n",
      "569:\tlearn: 0.2341950\ttotal: 2.18s\tremaining: 1.65s\n",
      "570:\tlearn: 0.2340979\ttotal: 2.19s\tremaining: 1.64s\n",
      "571:\tlearn: 0.2339750\ttotal: 2.19s\tremaining: 1.64s\n",
      "572:\tlearn: 0.2339078\ttotal: 2.2s\tremaining: 1.64s\n",
      "573:\tlearn: 0.2338047\ttotal: 2.21s\tremaining: 1.64s\n",
      "574:\tlearn: 0.2337391\ttotal: 2.21s\tremaining: 1.64s\n",
      "575:\tlearn: 0.2336990\ttotal: 2.22s\tremaining: 1.63s\n",
      "576:\tlearn: 0.2335943\ttotal: 2.22s\tremaining: 1.63s\n",
      "577:\tlearn: 0.2334842\ttotal: 2.23s\tremaining: 1.63s\n",
      "578:\tlearn: 0.2333709\ttotal: 2.23s\tremaining: 1.62s\n",
      "579:\tlearn: 0.2332879\ttotal: 2.24s\tremaining: 1.62s\n",
      "580:\tlearn: 0.2331636\ttotal: 2.24s\tremaining: 1.62s\n",
      "581:\tlearn: 0.2330680\ttotal: 2.25s\tremaining: 1.61s\n",
      "582:\tlearn: 0.2329751\ttotal: 2.25s\tremaining: 1.61s\n",
      "583:\tlearn: 0.2328515\ttotal: 2.25s\tremaining: 1.6s\n",
      "584:\tlearn: 0.2327670\ttotal: 2.26s\tremaining: 1.6s\n",
      "585:\tlearn: 0.2326434\ttotal: 2.26s\tremaining: 1.6s\n",
      "586:\tlearn: 0.2325914\ttotal: 2.27s\tremaining: 1.59s\n",
      "587:\tlearn: 0.2324803\ttotal: 2.27s\tremaining: 1.59s\n",
      "588:\tlearn: 0.2323787\ttotal: 2.28s\tremaining: 1.59s\n",
      "589:\tlearn: 0.2322870\ttotal: 2.28s\tremaining: 1.58s\n",
      "590:\tlearn: 0.2321454\ttotal: 2.29s\tremaining: 1.58s\n",
      "591:\tlearn: 0.2320618\ttotal: 2.29s\tremaining: 1.58s\n",
      "592:\tlearn: 0.2319692\ttotal: 2.3s\tremaining: 1.58s\n",
      "593:\tlearn: 0.2318634\ttotal: 2.31s\tremaining: 1.58s\n",
      "594:\tlearn: 0.2317883\ttotal: 2.31s\tremaining: 1.57s\n",
      "595:\tlearn: 0.2316719\ttotal: 2.32s\tremaining: 1.57s\n",
      "596:\tlearn: 0.2316009\ttotal: 2.33s\tremaining: 1.57s\n",
      "597:\tlearn: 0.2314916\ttotal: 2.33s\tremaining: 1.57s\n",
      "598:\tlearn: 0.2314026\ttotal: 2.34s\tremaining: 1.56s\n",
      "599:\tlearn: 0.2313130\ttotal: 2.34s\tremaining: 1.56s\n",
      "600:\tlearn: 0.2312311\ttotal: 2.35s\tremaining: 1.56s\n",
      "601:\tlearn: 0.2310993\ttotal: 2.35s\tremaining: 1.55s\n",
      "602:\tlearn: 0.2308855\ttotal: 2.36s\tremaining: 1.55s\n",
      "603:\tlearn: 0.2307378\ttotal: 2.36s\tremaining: 1.55s\n",
      "604:\tlearn: 0.2305562\ttotal: 2.37s\tremaining: 1.54s\n",
      "605:\tlearn: 0.2304778\ttotal: 2.37s\tremaining: 1.54s\n",
      "606:\tlearn: 0.2303423\ttotal: 2.38s\tremaining: 1.54s\n",
      "607:\tlearn: 0.2302755\ttotal: 2.39s\tremaining: 1.54s\n",
      "608:\tlearn: 0.2302184\ttotal: 2.4s\tremaining: 1.54s\n",
      "609:\tlearn: 0.2301591\ttotal: 2.41s\tremaining: 1.54s\n",
      "610:\tlearn: 0.2300176\ttotal: 2.41s\tremaining: 1.53s\n",
      "611:\tlearn: 0.2299538\ttotal: 2.42s\tremaining: 1.53s\n",
      "612:\tlearn: 0.2298322\ttotal: 2.42s\tremaining: 1.53s\n",
      "613:\tlearn: 0.2297851\ttotal: 2.42s\tremaining: 1.52s\n",
      "614:\tlearn: 0.2296981\ttotal: 2.43s\tremaining: 1.52s\n",
      "615:\tlearn: 0.2296510\ttotal: 2.43s\tremaining: 1.51s\n",
      "616:\tlearn: 0.2295301\ttotal: 2.44s\tremaining: 1.51s\n",
      "617:\tlearn: 0.2294745\ttotal: 2.44s\tremaining: 1.51s\n",
      "618:\tlearn: 0.2293957\ttotal: 2.46s\tremaining: 1.51s\n",
      "619:\tlearn: 0.2293100\ttotal: 2.46s\tremaining: 1.51s\n",
      "620:\tlearn: 0.2291679\ttotal: 2.47s\tremaining: 1.51s\n",
      "621:\tlearn: 0.2290931\ttotal: 2.48s\tremaining: 1.51s\n",
      "622:\tlearn: 0.2290456\ttotal: 2.49s\tremaining: 1.5s\n",
      "623:\tlearn: 0.2290109\ttotal: 2.49s\tremaining: 1.5s\n",
      "624:\tlearn: 0.2289149\ttotal: 2.5s\tremaining: 1.5s\n",
      "625:\tlearn: 0.2287738\ttotal: 2.5s\tremaining: 1.5s\n",
      "626:\tlearn: 0.2287109\ttotal: 2.51s\tremaining: 1.49s\n",
      "627:\tlearn: 0.2285909\ttotal: 2.52s\tremaining: 1.49s\n",
      "628:\tlearn: 0.2285084\ttotal: 2.52s\tremaining: 1.49s\n",
      "629:\tlearn: 0.2284450\ttotal: 2.53s\tremaining: 1.49s\n",
      "630:\tlearn: 0.2283905\ttotal: 2.54s\tremaining: 1.49s\n",
      "631:\tlearn: 0.2283473\ttotal: 2.55s\tremaining: 1.48s\n",
      "632:\tlearn: 0.2282563\ttotal: 2.55s\tremaining: 1.48s\n",
      "633:\tlearn: 0.2281601\ttotal: 2.56s\tremaining: 1.48s\n",
      "634:\tlearn: 0.2280859\ttotal: 2.56s\tremaining: 1.47s\n",
      "635:\tlearn: 0.2280459\ttotal: 2.57s\tremaining: 1.47s\n",
      "636:\tlearn: 0.2279895\ttotal: 2.57s\tremaining: 1.47s\n",
      "637:\tlearn: 0.2279406\ttotal: 2.58s\tremaining: 1.46s\n",
      "638:\tlearn: 0.2278729\ttotal: 2.58s\tremaining: 1.46s\n",
      "639:\tlearn: 0.2277959\ttotal: 2.59s\tremaining: 1.46s\n",
      "640:\tlearn: 0.2277220\ttotal: 2.59s\tremaining: 1.45s\n",
      "641:\tlearn: 0.2276733\ttotal: 2.59s\tremaining: 1.45s\n",
      "642:\tlearn: 0.2275462\ttotal: 2.6s\tremaining: 1.44s\n",
      "643:\tlearn: 0.2274809\ttotal: 2.6s\tremaining: 1.44s\n",
      "644:\tlearn: 0.2273916\ttotal: 2.6s\tremaining: 1.43s\n",
      "645:\tlearn: 0.2273480\ttotal: 2.61s\tremaining: 1.43s\n",
      "646:\tlearn: 0.2272490\ttotal: 2.61s\tremaining: 1.42s\n",
      "647:\tlearn: 0.2271507\ttotal: 2.62s\tremaining: 1.42s\n",
      "648:\tlearn: 0.2270056\ttotal: 2.62s\tremaining: 1.42s\n",
      "649:\tlearn: 0.2269272\ttotal: 2.64s\tremaining: 1.42s\n",
      "650:\tlearn: 0.2268909\ttotal: 2.64s\tremaining: 1.42s\n",
      "651:\tlearn: 0.2268193\ttotal: 2.65s\tremaining: 1.41s\n",
      "652:\tlearn: 0.2267973\ttotal: 2.65s\tremaining: 1.41s\n",
      "653:\tlearn: 0.2267390\ttotal: 2.65s\tremaining: 1.4s\n",
      "654:\tlearn: 0.2266534\ttotal: 2.66s\tremaining: 1.4s\n",
      "655:\tlearn: 0.2265709\ttotal: 2.66s\tremaining: 1.4s\n",
      "656:\tlearn: 0.2264808\ttotal: 2.67s\tremaining: 1.39s\n",
      "657:\tlearn: 0.2264203\ttotal: 2.67s\tremaining: 1.39s\n",
      "658:\tlearn: 0.2263121\ttotal: 2.68s\tremaining: 1.39s\n",
      "659:\tlearn: 0.2262895\ttotal: 2.68s\tremaining: 1.38s\n",
      "660:\tlearn: 0.2262126\ttotal: 2.69s\tremaining: 1.38s\n",
      "661:\tlearn: 0.2261388\ttotal: 2.7s\tremaining: 1.38s\n",
      "662:\tlearn: 0.2260204\ttotal: 2.71s\tremaining: 1.38s\n",
      "663:\tlearn: 0.2259199\ttotal: 2.71s\tremaining: 1.37s\n",
      "664:\tlearn: 0.2258798\ttotal: 2.72s\tremaining: 1.37s\n",
      "665:\tlearn: 0.2257689\ttotal: 2.73s\tremaining: 1.37s\n",
      "666:\tlearn: 0.2256730\ttotal: 2.73s\tremaining: 1.36s\n",
      "667:\tlearn: 0.2256306\ttotal: 2.73s\tremaining: 1.36s\n",
      "668:\tlearn: 0.2255497\ttotal: 2.74s\tremaining: 1.35s\n",
      "669:\tlearn: 0.2254836\ttotal: 2.75s\tremaining: 1.35s\n",
      "670:\tlearn: 0.2254038\ttotal: 2.75s\tremaining: 1.35s\n",
      "671:\tlearn: 0.2253272\ttotal: 2.76s\tremaining: 1.34s\n",
      "672:\tlearn: 0.2252509\ttotal: 2.76s\tremaining: 1.34s\n",
      "673:\tlearn: 0.2251797\ttotal: 2.77s\tremaining: 1.34s\n",
      "674:\tlearn: 0.2250874\ttotal: 2.77s\tremaining: 1.33s\n",
      "675:\tlearn: 0.2250328\ttotal: 2.77s\tremaining: 1.33s\n",
      "676:\tlearn: 0.2249920\ttotal: 2.78s\tremaining: 1.32s\n",
      "677:\tlearn: 0.2249054\ttotal: 2.78s\tremaining: 1.32s\n",
      "678:\tlearn: 0.2248379\ttotal: 2.79s\tremaining: 1.32s\n",
      "679:\tlearn: 0.2248073\ttotal: 2.79s\tremaining: 1.31s\n",
      "680:\tlearn: 0.2247513\ttotal: 2.79s\tremaining: 1.31s\n",
      "681:\tlearn: 0.2246850\ttotal: 2.8s\tremaining: 1.3s\n",
      "682:\tlearn: 0.2245735\ttotal: 2.8s\tremaining: 1.3s\n",
      "683:\tlearn: 0.2245012\ttotal: 2.8s\tremaining: 1.29s\n",
      "684:\tlearn: 0.2244203\ttotal: 2.81s\tremaining: 1.29s\n",
      "685:\tlearn: 0.2243788\ttotal: 2.81s\tremaining: 1.29s\n",
      "686:\tlearn: 0.2242896\ttotal: 2.81s\tremaining: 1.28s\n",
      "687:\tlearn: 0.2242519\ttotal: 2.82s\tremaining: 1.28s\n",
      "688:\tlearn: 0.2241694\ttotal: 2.82s\tremaining: 1.27s\n",
      "689:\tlearn: 0.2240557\ttotal: 2.83s\tremaining: 1.27s\n",
      "690:\tlearn: 0.2239572\ttotal: 2.83s\tremaining: 1.26s\n",
      "691:\tlearn: 0.2238835\ttotal: 2.84s\tremaining: 1.26s\n",
      "692:\tlearn: 0.2238173\ttotal: 2.85s\tremaining: 1.26s\n",
      "693:\tlearn: 0.2237725\ttotal: 2.85s\tremaining: 1.26s\n",
      "694:\tlearn: 0.2236973\ttotal: 2.85s\tremaining: 1.25s\n",
      "695:\tlearn: 0.2236241\ttotal: 2.86s\tremaining: 1.25s\n",
      "696:\tlearn: 0.2235457\ttotal: 2.86s\tremaining: 1.24s\n",
      "697:\tlearn: 0.2234546\ttotal: 2.86s\tremaining: 1.24s\n",
      "698:\tlearn: 0.2233778\ttotal: 2.87s\tremaining: 1.24s\n",
      "699:\tlearn: 0.2233057\ttotal: 2.87s\tremaining: 1.23s\n",
      "700:\tlearn: 0.2232613\ttotal: 2.88s\tremaining: 1.23s\n",
      "701:\tlearn: 0.2231498\ttotal: 2.89s\tremaining: 1.23s\n",
      "702:\tlearn: 0.2231149\ttotal: 2.89s\tremaining: 1.22s\n",
      "703:\tlearn: 0.2230732\ttotal: 2.9s\tremaining: 1.22s\n",
      "704:\tlearn: 0.2229896\ttotal: 2.9s\tremaining: 1.21s\n",
      "705:\tlearn: 0.2229554\ttotal: 2.91s\tremaining: 1.21s\n",
      "706:\tlearn: 0.2228545\ttotal: 2.91s\tremaining: 1.21s\n",
      "707:\tlearn: 0.2227935\ttotal: 2.91s\tremaining: 1.2s\n",
      "708:\tlearn: 0.2227104\ttotal: 2.92s\tremaining: 1.2s\n",
      "709:\tlearn: 0.2226633\ttotal: 2.92s\tremaining: 1.19s\n",
      "710:\tlearn: 0.2226221\ttotal: 2.92s\tremaining: 1.19s\n",
      "711:\tlearn: 0.2225409\ttotal: 2.93s\tremaining: 1.18s\n",
      "712:\tlearn: 0.2224921\ttotal: 2.93s\tremaining: 1.18s\n",
      "713:\tlearn: 0.2224698\ttotal: 2.93s\tremaining: 1.18s\n",
      "714:\tlearn: 0.2223865\ttotal: 2.94s\tremaining: 1.17s\n",
      "715:\tlearn: 0.2222798\ttotal: 2.94s\tremaining: 1.17s\n",
      "716:\tlearn: 0.2222175\ttotal: 2.94s\tremaining: 1.16s\n",
      "717:\tlearn: 0.2221634\ttotal: 2.95s\tremaining: 1.16s\n",
      "718:\tlearn: 0.2220903\ttotal: 2.95s\tremaining: 1.15s\n",
      "719:\tlearn: 0.2220538\ttotal: 2.95s\tremaining: 1.15s\n",
      "720:\tlearn: 0.2219969\ttotal: 2.96s\tremaining: 1.14s\n",
      "721:\tlearn: 0.2219672\ttotal: 2.96s\tremaining: 1.14s\n",
      "722:\tlearn: 0.2218608\ttotal: 2.96s\tremaining: 1.14s\n",
      "723:\tlearn: 0.2217686\ttotal: 2.97s\tremaining: 1.13s\n",
      "724:\tlearn: 0.2217092\ttotal: 2.97s\tremaining: 1.13s\n",
      "725:\tlearn: 0.2215729\ttotal: 2.97s\tremaining: 1.12s\n",
      "726:\tlearn: 0.2215342\ttotal: 2.98s\tremaining: 1.12s\n",
      "727:\tlearn: 0.2214755\ttotal: 2.98s\tremaining: 1.11s\n",
      "728:\tlearn: 0.2214243\ttotal: 2.98s\tremaining: 1.11s\n",
      "729:\tlearn: 0.2213289\ttotal: 2.99s\tremaining: 1.1s\n",
      "730:\tlearn: 0.2212971\ttotal: 2.99s\tremaining: 1.1s\n",
      "731:\tlearn: 0.2212651\ttotal: 3s\tremaining: 1.1s\n",
      "732:\tlearn: 0.2211877\ttotal: 3s\tremaining: 1.09s\n",
      "733:\tlearn: 0.2211048\ttotal: 3s\tremaining: 1.09s\n",
      "734:\tlearn: 0.2210290\ttotal: 3.01s\tremaining: 1.08s\n",
      "735:\tlearn: 0.2209942\ttotal: 3.01s\tremaining: 1.08s\n",
      "736:\tlearn: 0.2209300\ttotal: 3.01s\tremaining: 1.07s\n",
      "737:\tlearn: 0.2209117\ttotal: 3.02s\tremaining: 1.07s\n",
      "738:\tlearn: 0.2208370\ttotal: 3.02s\tremaining: 1.07s\n",
      "739:\tlearn: 0.2207636\ttotal: 3.02s\tremaining: 1.06s\n",
      "740:\tlearn: 0.2207479\ttotal: 3.03s\tremaining: 1.06s\n",
      "741:\tlearn: 0.2206984\ttotal: 3.03s\tremaining: 1.05s\n",
      "742:\tlearn: 0.2206134\ttotal: 3.03s\tremaining: 1.05s\n",
      "743:\tlearn: 0.2205002\ttotal: 3.04s\tremaining: 1.04s\n",
      "744:\tlearn: 0.2204473\ttotal: 3.04s\tremaining: 1.04s\n",
      "745:\tlearn: 0.2203739\ttotal: 3.04s\tremaining: 1.04s\n",
      "746:\tlearn: 0.2202875\ttotal: 3.05s\tremaining: 1.03s\n",
      "747:\tlearn: 0.2202226\ttotal: 3.05s\tremaining: 1.03s\n",
      "748:\tlearn: 0.2201423\ttotal: 3.05s\tremaining: 1.02s\n",
      "749:\tlearn: 0.2200295\ttotal: 3.06s\tremaining: 1.02s\n",
      "750:\tlearn: 0.2199459\ttotal: 3.06s\tremaining: 1.01s\n",
      "751:\tlearn: 0.2199113\ttotal: 3.06s\tremaining: 1.01s\n",
      "752:\tlearn: 0.2198465\ttotal: 3.07s\tremaining: 1s\n",
      "753:\tlearn: 0.2197412\ttotal: 3.07s\tremaining: 1s\n",
      "754:\tlearn: 0.2196578\ttotal: 3.07s\tremaining: 997ms\n",
      "755:\tlearn: 0.2196065\ttotal: 3.08s\tremaining: 993ms\n",
      "756:\tlearn: 0.2195644\ttotal: 3.08s\tremaining: 989ms\n",
      "757:\tlearn: 0.2194905\ttotal: 3.08s\tremaining: 984ms\n",
      "758:\tlearn: 0.2194067\ttotal: 3.08s\tremaining: 980ms\n",
      "759:\tlearn: 0.2193238\ttotal: 3.09s\tremaining: 975ms\n",
      "760:\tlearn: 0.2192459\ttotal: 3.09s\tremaining: 971ms\n",
      "761:\tlearn: 0.2191968\ttotal: 3.1s\tremaining: 967ms\n",
      "762:\tlearn: 0.2191155\ttotal: 3.1s\tremaining: 962ms\n",
      "763:\tlearn: 0.2190663\ttotal: 3.1s\tremaining: 958ms\n",
      "764:\tlearn: 0.2189898\ttotal: 3.1s\tremaining: 954ms\n",
      "765:\tlearn: 0.2189258\ttotal: 3.11s\tremaining: 949ms\n",
      "766:\tlearn: 0.2188714\ttotal: 3.11s\tremaining: 945ms\n",
      "767:\tlearn: 0.2187699\ttotal: 3.11s\tremaining: 941ms\n",
      "768:\tlearn: 0.2186881\ttotal: 3.12s\tremaining: 937ms\n",
      "769:\tlearn: 0.2186229\ttotal: 3.12s\tremaining: 932ms\n",
      "770:\tlearn: 0.2185380\ttotal: 3.12s\tremaining: 928ms\n",
      "771:\tlearn: 0.2184392\ttotal: 3.13s\tremaining: 924ms\n",
      "772:\tlearn: 0.2184101\ttotal: 3.13s\tremaining: 919ms\n",
      "773:\tlearn: 0.2183373\ttotal: 3.13s\tremaining: 915ms\n",
      "774:\tlearn: 0.2182895\ttotal: 3.14s\tremaining: 911ms\n",
      "775:\tlearn: 0.2182325\ttotal: 3.14s\tremaining: 906ms\n",
      "776:\tlearn: 0.2181997\ttotal: 3.14s\tremaining: 902ms\n",
      "777:\tlearn: 0.2181173\ttotal: 3.15s\tremaining: 898ms\n",
      "778:\tlearn: 0.2180662\ttotal: 3.15s\tremaining: 894ms\n",
      "779:\tlearn: 0.2180285\ttotal: 3.15s\tremaining: 889ms\n",
      "780:\tlearn: 0.2179829\ttotal: 3.16s\tremaining: 885ms\n",
      "781:\tlearn: 0.2178814\ttotal: 3.16s\tremaining: 881ms\n",
      "782:\tlearn: 0.2178163\ttotal: 3.16s\tremaining: 876ms\n",
      "783:\tlearn: 0.2177487\ttotal: 3.17s\tremaining: 872ms\n",
      "784:\tlearn: 0.2176804\ttotal: 3.17s\tremaining: 868ms\n",
      "785:\tlearn: 0.2176066\ttotal: 3.17s\tremaining: 864ms\n",
      "786:\tlearn: 0.2175138\ttotal: 3.17s\tremaining: 859ms\n",
      "787:\tlearn: 0.2174621\ttotal: 3.18s\tremaining: 855ms\n",
      "788:\tlearn: 0.2174043\ttotal: 3.18s\tremaining: 851ms\n",
      "789:\tlearn: 0.2173594\ttotal: 3.19s\tremaining: 847ms\n",
      "790:\tlearn: 0.2172649\ttotal: 3.19s\tremaining: 843ms\n",
      "791:\tlearn: 0.2171712\ttotal: 3.19s\tremaining: 838ms\n",
      "792:\tlearn: 0.2171236\ttotal: 3.19s\tremaining: 834ms\n",
      "793:\tlearn: 0.2170510\ttotal: 3.2s\tremaining: 830ms\n",
      "794:\tlearn: 0.2169959\ttotal: 3.2s\tremaining: 826ms\n",
      "795:\tlearn: 0.2169101\ttotal: 3.21s\tremaining: 822ms\n",
      "796:\tlearn: 0.2168251\ttotal: 3.21s\tremaining: 817ms\n",
      "797:\tlearn: 0.2168133\ttotal: 3.21s\tremaining: 813ms\n",
      "798:\tlearn: 0.2167689\ttotal: 3.22s\tremaining: 809ms\n",
      "799:\tlearn: 0.2166857\ttotal: 3.22s\tremaining: 805ms\n",
      "800:\tlearn: 0.2166554\ttotal: 3.22s\tremaining: 801ms\n",
      "801:\tlearn: 0.2165908\ttotal: 3.23s\tremaining: 796ms\n",
      "802:\tlearn: 0.2164719\ttotal: 3.23s\tremaining: 792ms\n",
      "803:\tlearn: 0.2164107\ttotal: 3.23s\tremaining: 788ms\n",
      "804:\tlearn: 0.2163643\ttotal: 3.23s\tremaining: 784ms\n",
      "805:\tlearn: 0.2162381\ttotal: 3.24s\tremaining: 780ms\n",
      "806:\tlearn: 0.2161505\ttotal: 3.24s\tremaining: 776ms\n",
      "807:\tlearn: 0.2161140\ttotal: 3.25s\tremaining: 771ms\n",
      "808:\tlearn: 0.2160636\ttotal: 3.25s\tremaining: 767ms\n",
      "809:\tlearn: 0.2158775\ttotal: 3.25s\tremaining: 763ms\n",
      "810:\tlearn: 0.2158139\ttotal: 3.25s\tremaining: 759ms\n",
      "811:\tlearn: 0.2157430\ttotal: 3.26s\tremaining: 754ms\n",
      "812:\tlearn: 0.2156579\ttotal: 3.26s\tremaining: 750ms\n",
      "813:\tlearn: 0.2155914\ttotal: 3.27s\tremaining: 746ms\n",
      "814:\tlearn: 0.2154912\ttotal: 3.27s\tremaining: 742ms\n",
      "815:\tlearn: 0.2154600\ttotal: 3.27s\tremaining: 738ms\n",
      "816:\tlearn: 0.2153670\ttotal: 3.28s\tremaining: 734ms\n",
      "817:\tlearn: 0.2152778\ttotal: 3.29s\tremaining: 732ms\n",
      "818:\tlearn: 0.2152216\ttotal: 3.29s\tremaining: 728ms\n",
      "819:\tlearn: 0.2151374\ttotal: 3.3s\tremaining: 724ms\n",
      "820:\tlearn: 0.2150785\ttotal: 3.3s\tremaining: 720ms\n",
      "821:\tlearn: 0.2150493\ttotal: 3.3s\tremaining: 716ms\n",
      "822:\tlearn: 0.2149669\ttotal: 3.31s\tremaining: 711ms\n",
      "823:\tlearn: 0.2149150\ttotal: 3.31s\tremaining: 707ms\n",
      "824:\tlearn: 0.2148710\ttotal: 3.31s\tremaining: 703ms\n",
      "825:\tlearn: 0.2148083\ttotal: 3.32s\tremaining: 699ms\n",
      "826:\tlearn: 0.2147673\ttotal: 3.32s\tremaining: 695ms\n",
      "827:\tlearn: 0.2146903\ttotal: 3.32s\tremaining: 691ms\n",
      "828:\tlearn: 0.2146248\ttotal: 3.33s\tremaining: 686ms\n",
      "829:\tlearn: 0.2145420\ttotal: 3.33s\tremaining: 682ms\n",
      "830:\tlearn: 0.2143979\ttotal: 3.33s\tremaining: 678ms\n",
      "831:\tlearn: 0.2143537\ttotal: 3.34s\tremaining: 674ms\n",
      "832:\tlearn: 0.2142625\ttotal: 3.34s\tremaining: 670ms\n",
      "833:\tlearn: 0.2142162\ttotal: 3.34s\tremaining: 666ms\n",
      "834:\tlearn: 0.2141519\ttotal: 3.35s\tremaining: 662ms\n",
      "835:\tlearn: 0.2140678\ttotal: 3.35s\tremaining: 657ms\n",
      "836:\tlearn: 0.2139704\ttotal: 3.35s\tremaining: 653ms\n",
      "837:\tlearn: 0.2139099\ttotal: 3.36s\tremaining: 649ms\n",
      "838:\tlearn: 0.2138024\ttotal: 3.36s\tremaining: 645ms\n",
      "839:\tlearn: 0.2137369\ttotal: 3.36s\tremaining: 641ms\n",
      "840:\tlearn: 0.2136517\ttotal: 3.37s\tremaining: 637ms\n",
      "841:\tlearn: 0.2136295\ttotal: 3.37s\tremaining: 633ms\n",
      "842:\tlearn: 0.2135802\ttotal: 3.37s\tremaining: 628ms\n",
      "843:\tlearn: 0.2134879\ttotal: 3.38s\tremaining: 624ms\n",
      "844:\tlearn: 0.2134271\ttotal: 3.38s\tremaining: 620ms\n",
      "845:\tlearn: 0.2133702\ttotal: 3.38s\tremaining: 616ms\n",
      "846:\tlearn: 0.2133120\ttotal: 3.39s\tremaining: 612ms\n",
      "847:\tlearn: 0.2132826\ttotal: 3.39s\tremaining: 608ms\n",
      "848:\tlearn: 0.2132338\ttotal: 3.39s\tremaining: 604ms\n",
      "849:\tlearn: 0.2131965\ttotal: 3.4s\tremaining: 600ms\n",
      "850:\tlearn: 0.2131581\ttotal: 3.4s\tremaining: 595ms\n",
      "851:\tlearn: 0.2131429\ttotal: 3.4s\tremaining: 591ms\n",
      "852:\tlearn: 0.2130483\ttotal: 3.41s\tremaining: 587ms\n",
      "853:\tlearn: 0.2129874\ttotal: 3.41s\tremaining: 583ms\n",
      "854:\tlearn: 0.2129234\ttotal: 3.41s\tremaining: 579ms\n",
      "855:\tlearn: 0.2128388\ttotal: 3.42s\tremaining: 575ms\n",
      "856:\tlearn: 0.2127680\ttotal: 3.42s\tremaining: 571ms\n",
      "857:\tlearn: 0.2127011\ttotal: 3.42s\tremaining: 567ms\n",
      "858:\tlearn: 0.2126551\ttotal: 3.43s\tremaining: 562ms\n",
      "859:\tlearn: 0.2126166\ttotal: 3.43s\tremaining: 558ms\n",
      "860:\tlearn: 0.2125198\ttotal: 3.43s\tremaining: 554ms\n",
      "861:\tlearn: 0.2124216\ttotal: 3.44s\tremaining: 550ms\n",
      "862:\tlearn: 0.2123739\ttotal: 3.44s\tremaining: 546ms\n",
      "863:\tlearn: 0.2123330\ttotal: 3.44s\tremaining: 542ms\n",
      "864:\tlearn: 0.2122906\ttotal: 3.45s\tremaining: 538ms\n",
      "865:\tlearn: 0.2122412\ttotal: 3.45s\tremaining: 534ms\n",
      "866:\tlearn: 0.2121897\ttotal: 3.45s\tremaining: 530ms\n",
      "867:\tlearn: 0.2121498\ttotal: 3.46s\tremaining: 526ms\n",
      "868:\tlearn: 0.2120842\ttotal: 3.46s\tremaining: 522ms\n",
      "869:\tlearn: 0.2120417\ttotal: 3.46s\tremaining: 518ms\n",
      "870:\tlearn: 0.2119241\ttotal: 3.47s\tremaining: 513ms\n",
      "871:\tlearn: 0.2118723\ttotal: 3.47s\tremaining: 509ms\n",
      "872:\tlearn: 0.2118186\ttotal: 3.47s\tremaining: 505ms\n",
      "873:\tlearn: 0.2117194\ttotal: 3.48s\tremaining: 501ms\n",
      "874:\tlearn: 0.2116457\ttotal: 3.48s\tremaining: 497ms\n",
      "875:\tlearn: 0.2115849\ttotal: 3.48s\tremaining: 493ms\n",
      "876:\tlearn: 0.2115591\ttotal: 3.48s\tremaining: 489ms\n",
      "877:\tlearn: 0.2115071\ttotal: 3.49s\tremaining: 485ms\n",
      "878:\tlearn: 0.2114517\ttotal: 3.49s\tremaining: 481ms\n",
      "879:\tlearn: 0.2114160\ttotal: 3.49s\tremaining: 476ms\n",
      "880:\tlearn: 0.2113239\ttotal: 3.5s\tremaining: 472ms\n",
      "881:\tlearn: 0.2111533\ttotal: 3.5s\tremaining: 468ms\n",
      "882:\tlearn: 0.2111095\ttotal: 3.5s\tremaining: 464ms\n",
      "883:\tlearn: 0.2110490\ttotal: 3.51s\tremaining: 460ms\n",
      "884:\tlearn: 0.2109871\ttotal: 3.51s\tremaining: 456ms\n",
      "885:\tlearn: 0.2108769\ttotal: 3.51s\tremaining: 452ms\n",
      "886:\tlearn: 0.2108413\ttotal: 3.52s\tremaining: 448ms\n",
      "887:\tlearn: 0.2107828\ttotal: 3.52s\tremaining: 445ms\n",
      "888:\tlearn: 0.2107106\ttotal: 3.54s\tremaining: 442ms\n",
      "889:\tlearn: 0.2106587\ttotal: 3.55s\tremaining: 439ms\n",
      "890:\tlearn: 0.2105777\ttotal: 3.55s\tremaining: 435ms\n",
      "891:\tlearn: 0.2105202\ttotal: 3.56s\tremaining: 431ms\n",
      "892:\tlearn: 0.2104803\ttotal: 3.56s\tremaining: 427ms\n",
      "893:\tlearn: 0.2104086\ttotal: 3.57s\tremaining: 423ms\n",
      "894:\tlearn: 0.2103645\ttotal: 3.57s\tremaining: 419ms\n",
      "895:\tlearn: 0.2102878\ttotal: 3.58s\tremaining: 415ms\n",
      "896:\tlearn: 0.2102442\ttotal: 3.58s\tremaining: 411ms\n",
      "897:\tlearn: 0.2101738\ttotal: 3.6s\tremaining: 408ms\n",
      "898:\tlearn: 0.2100922\ttotal: 3.6s\tremaining: 405ms\n",
      "899:\tlearn: 0.2100357\ttotal: 3.61s\tremaining: 401ms\n",
      "900:\tlearn: 0.2099915\ttotal: 3.62s\tremaining: 397ms\n",
      "901:\tlearn: 0.2099452\ttotal: 3.62s\tremaining: 394ms\n",
      "902:\tlearn: 0.2099057\ttotal: 3.63s\tremaining: 390ms\n",
      "903:\tlearn: 0.2098642\ttotal: 3.64s\tremaining: 386ms\n",
      "904:\tlearn: 0.2098220\ttotal: 3.64s\tremaining: 382ms\n",
      "905:\tlearn: 0.2097821\ttotal: 3.65s\tremaining: 378ms\n",
      "906:\tlearn: 0.2097245\ttotal: 3.65s\tremaining: 375ms\n",
      "907:\tlearn: 0.2096626\ttotal: 3.66s\tremaining: 371ms\n",
      "908:\tlearn: 0.2095852\ttotal: 3.66s\tremaining: 367ms\n",
      "909:\tlearn: 0.2095375\ttotal: 3.67s\tremaining: 363ms\n",
      "910:\tlearn: 0.2094889\ttotal: 3.67s\tremaining: 359ms\n",
      "911:\tlearn: 0.2094112\ttotal: 3.67s\tremaining: 355ms\n",
      "912:\tlearn: 0.2093991\ttotal: 3.68s\tremaining: 351ms\n",
      "913:\tlearn: 0.2093243\ttotal: 3.68s\tremaining: 347ms\n",
      "914:\tlearn: 0.2091843\ttotal: 3.69s\tremaining: 343ms\n",
      "915:\tlearn: 0.2091378\ttotal: 3.69s\tremaining: 339ms\n",
      "916:\tlearn: 0.2090571\ttotal: 3.7s\tremaining: 335ms\n",
      "917:\tlearn: 0.2090278\ttotal: 3.7s\tremaining: 331ms\n",
      "918:\tlearn: 0.2089456\ttotal: 3.71s\tremaining: 327ms\n",
      "919:\tlearn: 0.2088755\ttotal: 3.71s\tremaining: 323ms\n",
      "920:\tlearn: 0.2088097\ttotal: 3.72s\tremaining: 319ms\n",
      "921:\tlearn: 0.2087671\ttotal: 3.73s\tremaining: 315ms\n",
      "922:\tlearn: 0.2086969\ttotal: 3.73s\tremaining: 312ms\n",
      "923:\tlearn: 0.2086314\ttotal: 3.74s\tremaining: 308ms\n",
      "924:\tlearn: 0.2085713\ttotal: 3.74s\tremaining: 304ms\n",
      "925:\tlearn: 0.2085251\ttotal: 3.75s\tremaining: 299ms\n",
      "926:\tlearn: 0.2085014\ttotal: 3.75s\tremaining: 295ms\n",
      "927:\tlearn: 0.2084558\ttotal: 3.75s\tremaining: 291ms\n",
      "928:\tlearn: 0.2083959\ttotal: 3.76s\tremaining: 287ms\n",
      "929:\tlearn: 0.2083531\ttotal: 3.76s\tremaining: 283ms\n",
      "930:\tlearn: 0.2082745\ttotal: 3.77s\tremaining: 279ms\n",
      "931:\tlearn: 0.2082162\ttotal: 3.77s\tremaining: 275ms\n",
      "932:\tlearn: 0.2081729\ttotal: 3.77s\tremaining: 271ms\n",
      "933:\tlearn: 0.2081282\ttotal: 3.78s\tremaining: 267ms\n",
      "934:\tlearn: 0.2080775\ttotal: 3.78s\tremaining: 263ms\n",
      "935:\tlearn: 0.2080134\ttotal: 3.78s\tremaining: 259ms\n",
      "936:\tlearn: 0.2079809\ttotal: 3.79s\tremaining: 255ms\n",
      "937:\tlearn: 0.2079277\ttotal: 3.79s\tremaining: 251ms\n",
      "938:\tlearn: 0.2078556\ttotal: 3.79s\tremaining: 246ms\n",
      "939:\tlearn: 0.2078042\ttotal: 3.8s\tremaining: 242ms\n",
      "940:\tlearn: 0.2077653\ttotal: 3.8s\tremaining: 238ms\n",
      "941:\tlearn: 0.2077314\ttotal: 3.8s\tremaining: 234ms\n",
      "942:\tlearn: 0.2076777\ttotal: 3.81s\tremaining: 230ms\n",
      "943:\tlearn: 0.2076078\ttotal: 3.81s\tremaining: 226ms\n",
      "944:\tlearn: 0.2075464\ttotal: 3.81s\tremaining: 222ms\n",
      "945:\tlearn: 0.2075050\ttotal: 3.82s\tremaining: 218ms\n",
      "946:\tlearn: 0.2074303\ttotal: 3.82s\tremaining: 214ms\n",
      "947:\tlearn: 0.2073591\ttotal: 3.82s\tremaining: 210ms\n",
      "948:\tlearn: 0.2073299\ttotal: 3.83s\tremaining: 206ms\n",
      "949:\tlearn: 0.2072641\ttotal: 3.83s\tremaining: 202ms\n",
      "950:\tlearn: 0.2072180\ttotal: 3.83s\tremaining: 198ms\n",
      "951:\tlearn: 0.2071549\ttotal: 3.84s\tremaining: 193ms\n",
      "952:\tlearn: 0.2071189\ttotal: 3.84s\tremaining: 189ms\n",
      "953:\tlearn: 0.2070637\ttotal: 3.84s\tremaining: 185ms\n",
      "954:\tlearn: 0.2070189\ttotal: 3.85s\tremaining: 181ms\n",
      "955:\tlearn: 0.2069676\ttotal: 3.85s\tremaining: 177ms\n",
      "956:\tlearn: 0.2068936\ttotal: 3.85s\tremaining: 173ms\n",
      "957:\tlearn: 0.2068760\ttotal: 3.86s\tremaining: 169ms\n",
      "958:\tlearn: 0.2067959\ttotal: 3.86s\tremaining: 165ms\n",
      "959:\tlearn: 0.2067275\ttotal: 3.86s\tremaining: 161ms\n",
      "960:\tlearn: 0.2066043\ttotal: 3.87s\tremaining: 157ms\n",
      "961:\tlearn: 0.2065348\ttotal: 3.87s\tremaining: 153ms\n",
      "962:\tlearn: 0.2064875\ttotal: 3.87s\tremaining: 149ms\n",
      "963:\tlearn: 0.2064524\ttotal: 3.88s\tremaining: 145ms\n",
      "964:\tlearn: 0.2064360\ttotal: 3.88s\tremaining: 141ms\n",
      "965:\tlearn: 0.2063894\ttotal: 3.88s\tremaining: 137ms\n",
      "966:\tlearn: 0.2062821\ttotal: 3.89s\tremaining: 133ms\n",
      "967:\tlearn: 0.2062518\ttotal: 3.89s\tremaining: 129ms\n",
      "968:\tlearn: 0.2061766\ttotal: 3.89s\tremaining: 125ms\n",
      "969:\tlearn: 0.2061007\ttotal: 3.9s\tremaining: 120ms\n",
      "970:\tlearn: 0.2060379\ttotal: 3.9s\tremaining: 116ms\n",
      "971:\tlearn: 0.2059674\ttotal: 3.9s\tremaining: 112ms\n",
      "972:\tlearn: 0.2059022\ttotal: 3.9s\tremaining: 108ms\n",
      "973:\tlearn: 0.2058719\ttotal: 3.91s\tremaining: 104ms\n",
      "974:\tlearn: 0.2058041\ttotal: 3.91s\tremaining: 100ms\n",
      "975:\tlearn: 0.2057338\ttotal: 3.91s\tremaining: 96.2ms\n",
      "976:\tlearn: 0.2056836\ttotal: 3.92s\tremaining: 92.2ms\n",
      "977:\tlearn: 0.2056153\ttotal: 3.92s\tremaining: 88.2ms\n",
      "978:\tlearn: 0.2055829\ttotal: 3.92s\tremaining: 84.1ms\n",
      "979:\tlearn: 0.2055378\ttotal: 3.92s\tremaining: 80.1ms\n",
      "980:\tlearn: 0.2054888\ttotal: 3.93s\tremaining: 76.1ms\n",
      "981:\tlearn: 0.2054106\ttotal: 3.93s\tremaining: 72.1ms\n",
      "982:\tlearn: 0.2053593\ttotal: 3.94s\tremaining: 68.1ms\n",
      "983:\tlearn: 0.2053024\ttotal: 3.94s\tremaining: 64ms\n",
      "984:\tlearn: 0.2052841\ttotal: 3.94s\tremaining: 60ms\n",
      "985:\tlearn: 0.2052387\ttotal: 3.94s\tremaining: 56ms\n",
      "986:\tlearn: 0.2051898\ttotal: 3.95s\tremaining: 52ms\n",
      "987:\tlearn: 0.2051683\ttotal: 3.95s\tremaining: 48ms\n",
      "988:\tlearn: 0.2051199\ttotal: 3.95s\tremaining: 44ms\n",
      "989:\tlearn: 0.2050708\ttotal: 3.96s\tremaining: 40ms\n",
      "990:\tlearn: 0.2050288\ttotal: 3.96s\tremaining: 36ms\n",
      "991:\tlearn: 0.2049519\ttotal: 3.96s\tremaining: 32ms\n",
      "992:\tlearn: 0.2049168\ttotal: 3.96s\tremaining: 28ms\n",
      "993:\tlearn: 0.2048727\ttotal: 3.97s\tremaining: 24ms\n",
      "994:\tlearn: 0.2048255\ttotal: 3.97s\tremaining: 20ms\n",
      "995:\tlearn: 0.2047671\ttotal: 3.98s\tremaining: 16ms\n",
      "996:\tlearn: 0.2047110\ttotal: 3.98s\tremaining: 12ms\n",
      "997:\tlearn: 0.2046399\ttotal: 3.98s\tremaining: 7.98ms\n",
      "998:\tlearn: 0.2046034\ttotal: 3.98s\tremaining: 3.99ms\n",
      "999:\tlearn: 0.2045674\ttotal: 3.99s\tremaining: 0us\n"
     ]
    }
   ],
   "execution_count": 120
  },
  {
   "metadata": {
    "ExecuteTime": {
     "end_time": "2025-07-31T10:05:03.153427Z",
     "start_time": "2025-07-31T10:05:03.141265Z"
    }
   },
   "cell_type": "code",
   "source": "mlflow.end_run()",
   "outputs": [],
   "execution_count": 122
  },
  {
   "metadata": {
    "ExecuteTime": {
     "end_time": "2025-07-31T20:00:16.973010Z",
     "start_time": "2025-07-31T19:59:59.452174Z"
    }
   },
   "cell_type": "code",
   "source": [
    "from sklearn.model_selection import ParameterGrid\n",
    "\n",
    "param_grid = {\n",
    "    'iterations': [2000, 3000],\n",
    "    'learning_rate': [0.05, 0.1],\n",
    "    'depth': [6, 10],\n",
    "    'l2_leaf_reg': [3,5, 8]\n",
    "}\n",
    "\n",
    "mlflow.autolog()\n",
    "\n",
    "for params in ParameterGrid(param_grid):\n",
    "    with mlflow.start_run():\n",
    "        mlflow.set_tag(\"description\", f\"CatBoost hyperparameter tuning {param_grid}\")\n",
    "        mlflow.set_tag(\"workspace\", \"select model\")\n",
    "        mlflow.set_tag(\"model_type\", \"CatBoostClassifier\")\n",
    "        \n",
    "        mlflow.log_params(params)\n",
    "        \n",
    "        model = CatBoostClassifier(\n",
    "            **params,\n",
    "            verbose=0, \n",
    "            random_state=42\n",
    "        )\n",
    "        \n",
    "        model.fit(X_train, y_train)\n",
    "        \n",
    "        test_pred = model.predict(X_test)\n",
    "        train_pred = model.predict(X_train)\n",
    "        \n",
    "        accuracy_test = accuracy_score(y_test, test_pred)\n",
    "        accuracy_train = accuracy_score(y_train, train_pred)\n",
    "        \n",
    "        mlflow.log_metric('accuracy_train', accuracy_train)\n",
    "        mlflow.log_metric('accuracy_test', accuracy_test)\n",
    "        \n",
    "        mlflow.log_metric('delta_accuracy', accuracy_train - accuracy_test)\n",
    "        \n",
    "        print(f\"Params: {params}\")\n",
    "        print(f\"Test accuracy: {accuracy_test:.4f}\")"
   ],
   "outputs": [
    {
     "name": "stderr",
     "output_type": "stream",
     "text": [
      "2025/07/31 21:59:59 WARNING mlflow.utils.autologging_utils: MLflow sklearn autologging is known to be compatible with 1.3.0 <= scikit-learn <= 1.7.0, but the installed version is 1.7.1. If you encounter errors during autologging, try upgrading / downgrading scikit-learn to a compatible version, or try upgrading MLflow.\n",
      "2025/07/31 21:59:59 INFO mlflow.tracking.fluent: Autologging successfully enabled for sklearn.\n",
      "2025/07/31 21:59:59 WARNING mlflow.utils.autologging_utils: MLflow statsmodels autologging is known to be compatible with 0.14.1 <= statsmodels <= 0.14.4, but the installed version is 0.14.5. If you encounter errors during autologging, try upgrading / downgrading statsmodels to a compatible version, or try upgrading MLflow.\n",
      "2025/07/31 21:59:59 INFO mlflow.tracking.fluent: Autologging successfully enabled for statsmodels.\n",
      "2025/07/31 21:59:59 WARNING mlflow.utils.autologging_utils: MLflow xgboost autologging is known to be compatible with 1.7.6 <= xgboost <= 3.0.2, but the installed version is 3.0.3. If you encounter errors during autologging, try upgrading / downgrading xgboost to a compatible version, or try upgrading MLflow.\n",
      "2025/07/31 21:59:59 INFO mlflow.tracking.fluent: Autologging successfully enabled for xgboost.\n"
     ]
    },
    {
     "name": "stdout",
     "output_type": "stream",
     "text": [
      "Params: {'depth': 6, 'iterations': 2000, 'l2_leaf_reg': 3, 'learning_rate': 0.05}\n",
      "Test accuracy: 0.8095\n",
      "Params: {'depth': 6, 'iterations': 2000, 'l2_leaf_reg': 3, 'learning_rate': 0.1}\n",
      "Test accuracy: 0.8021\n"
     ]
    },
    {
     "ename": "KeyboardInterrupt",
     "evalue": "",
     "output_type": "error",
     "traceback": [
      "\u001B[31m---------------------------------------------------------------------------\u001B[39m",
      "\u001B[31mKeyboardInterrupt\u001B[39m                         Traceback (most recent call last)",
      "\u001B[36mCell\u001B[39m\u001B[36m \u001B[39m\u001B[32mIn[173]\u001B[39m\u001B[32m, line 26\u001B[39m\n\u001B[32m     18\u001B[39m mlflow.log_params(params)\n\u001B[32m     20\u001B[39m model = CatBoostClassifier(\n\u001B[32m     21\u001B[39m     **params,\n\u001B[32m     22\u001B[39m     verbose=\u001B[32m0\u001B[39m, \n\u001B[32m     23\u001B[39m     random_state=\u001B[32m42\u001B[39m\n\u001B[32m     24\u001B[39m )\n\u001B[32m---> \u001B[39m\u001B[32m26\u001B[39m \u001B[43mmodel\u001B[49m\u001B[43m.\u001B[49m\u001B[43mfit\u001B[49m\u001B[43m(\u001B[49m\u001B[43mX_train\u001B[49m\u001B[43m,\u001B[49m\u001B[43m \u001B[49m\u001B[43my_train\u001B[49m\u001B[43m)\u001B[49m\n\u001B[32m     28\u001B[39m test_pred = model.predict(X_test)\n\u001B[32m     29\u001B[39m train_pred = model.predict(X_train)\n",
      "\u001B[36mFile \u001B[39m\u001B[32m~/PycharmProjects/Hoter_reser_harbour/.venv/lib/python3.12/site-packages/catboost/core.py:5245\u001B[39m, in \u001B[36mCatBoostClassifier.fit\u001B[39m\u001B[34m(self, X, y, cat_features, text_features, embedding_features, graph, sample_weight, baseline, use_best_model, eval_set, verbose, logging_level, plot, plot_file, column_description, verbose_eval, metric_period, silent, early_stopping_rounds, save_snapshot, snapshot_file, snapshot_interval, init_model, callbacks, log_cout, log_cerr)\u001B[39m\n\u001B[32m   5242\u001B[39m \u001B[38;5;28;01mif\u001B[39;00m \u001B[33m'\u001B[39m\u001B[33mloss_function\u001B[39m\u001B[33m'\u001B[39m \u001B[38;5;129;01min\u001B[39;00m params:\n\u001B[32m   5243\u001B[39m     CatBoostClassifier._check_is_compatible_loss(params[\u001B[33m'\u001B[39m\u001B[33mloss_function\u001B[39m\u001B[33m'\u001B[39m])\n\u001B[32m-> \u001B[39m\u001B[32m5245\u001B[39m \u001B[38;5;28;43mself\u001B[39;49m\u001B[43m.\u001B[49m\u001B[43m_fit\u001B[49m\u001B[43m(\u001B[49m\u001B[43mX\u001B[49m\u001B[43m,\u001B[49m\u001B[43m \u001B[49m\u001B[43my\u001B[49m\u001B[43m,\u001B[49m\u001B[43m \u001B[49m\u001B[43mcat_features\u001B[49m\u001B[43m,\u001B[49m\u001B[43m \u001B[49m\u001B[43mtext_features\u001B[49m\u001B[43m,\u001B[49m\u001B[43m \u001B[49m\u001B[43membedding_features\u001B[49m\u001B[43m,\u001B[49m\u001B[43m \u001B[49m\u001B[38;5;28;43;01mNone\u001B[39;49;00m\u001B[43m,\u001B[49m\u001B[43m \u001B[49m\u001B[43mgraph\u001B[49m\u001B[43m,\u001B[49m\u001B[43m \u001B[49m\u001B[43msample_weight\u001B[49m\u001B[43m,\u001B[49m\u001B[43m \u001B[49m\u001B[38;5;28;43;01mNone\u001B[39;49;00m\u001B[43m,\u001B[49m\u001B[43m \u001B[49m\u001B[38;5;28;43;01mNone\u001B[39;49;00m\u001B[43m,\u001B[49m\u001B[43m \u001B[49m\u001B[38;5;28;43;01mNone\u001B[39;49;00m\u001B[43m,\u001B[49m\u001B[43m \u001B[49m\u001B[38;5;28;43;01mNone\u001B[39;49;00m\u001B[43m,\u001B[49m\u001B[43m \u001B[49m\u001B[43mbaseline\u001B[49m\u001B[43m,\u001B[49m\u001B[43m \u001B[49m\u001B[43muse_best_model\u001B[49m\u001B[43m,\u001B[49m\n\u001B[32m   5246\u001B[39m \u001B[43m          \u001B[49m\u001B[43meval_set\u001B[49m\u001B[43m,\u001B[49m\u001B[43m \u001B[49m\u001B[43mverbose\u001B[49m\u001B[43m,\u001B[49m\u001B[43m \u001B[49m\u001B[43mlogging_level\u001B[49m\u001B[43m,\u001B[49m\u001B[43m \u001B[49m\u001B[43mplot\u001B[49m\u001B[43m,\u001B[49m\u001B[43m \u001B[49m\u001B[43mplot_file\u001B[49m\u001B[43m,\u001B[49m\u001B[43m \u001B[49m\u001B[43mcolumn_description\u001B[49m\u001B[43m,\u001B[49m\u001B[43m \u001B[49m\u001B[43mverbose_eval\u001B[49m\u001B[43m,\u001B[49m\u001B[43m \u001B[49m\u001B[43mmetric_period\u001B[49m\u001B[43m,\u001B[49m\n\u001B[32m   5247\u001B[39m \u001B[43m          \u001B[49m\u001B[43msilent\u001B[49m\u001B[43m,\u001B[49m\u001B[43m \u001B[49m\u001B[43mearly_stopping_rounds\u001B[49m\u001B[43m,\u001B[49m\u001B[43m \u001B[49m\u001B[43msave_snapshot\u001B[49m\u001B[43m,\u001B[49m\u001B[43m \u001B[49m\u001B[43msnapshot_file\u001B[49m\u001B[43m,\u001B[49m\u001B[43m \u001B[49m\u001B[43msnapshot_interval\u001B[49m\u001B[43m,\u001B[49m\u001B[43m \u001B[49m\u001B[43minit_model\u001B[49m\u001B[43m,\u001B[49m\u001B[43m \u001B[49m\u001B[43mcallbacks\u001B[49m\u001B[43m,\u001B[49m\u001B[43m \u001B[49m\u001B[43mlog_cout\u001B[49m\u001B[43m,\u001B[49m\u001B[43m \u001B[49m\u001B[43mlog_cerr\u001B[49m\u001B[43m)\u001B[49m\n\u001B[32m   5248\u001B[39m \u001B[38;5;28;01mreturn\u001B[39;00m \u001B[38;5;28mself\u001B[39m\n",
      "\u001B[36mFile \u001B[39m\u001B[32m~/PycharmProjects/Hoter_reser_harbour/.venv/lib/python3.12/site-packages/catboost/core.py:2410\u001B[39m, in \u001B[36mCatBoost._fit\u001B[39m\u001B[34m(self, X, y, cat_features, text_features, embedding_features, pairs, graph, sample_weight, group_id, group_weight, subgroup_id, pairs_weight, baseline, use_best_model, eval_set, verbose, logging_level, plot, plot_file, column_description, verbose_eval, metric_period, silent, early_stopping_rounds, save_snapshot, snapshot_file, snapshot_interval, init_model, callbacks, log_cout, log_cerr)\u001B[39m\n\u001B[32m   2407\u001B[39m allow_clear_pool = train_params[\u001B[33m\"\u001B[39m\u001B[33mallow_clear_pool\u001B[39m\u001B[33m\"\u001B[39m]\n\u001B[32m   2409\u001B[39m \u001B[38;5;28;01mwith\u001B[39;00m plot_wrapper(plot, plot_file, \u001B[33m'\u001B[39m\u001B[33mTraining plots\u001B[39m\u001B[33m'\u001B[39m, [_get_train_dir(\u001B[38;5;28mself\u001B[39m.get_params())]):\n\u001B[32m-> \u001B[39m\u001B[32m2410\u001B[39m     \u001B[38;5;28;43mself\u001B[39;49m\u001B[43m.\u001B[49m\u001B[43m_train\u001B[49m\u001B[43m(\u001B[49m\n\u001B[32m   2411\u001B[39m \u001B[43m        \u001B[49m\u001B[43mtrain_pool\u001B[49m\u001B[43m,\u001B[49m\n\u001B[32m   2412\u001B[39m \u001B[43m        \u001B[49m\u001B[43mtrain_params\u001B[49m\u001B[43m[\u001B[49m\u001B[33;43m\"\u001B[39;49m\u001B[33;43meval_sets\u001B[39;49m\u001B[33;43m\"\u001B[39;49m\u001B[43m]\u001B[49m\u001B[43m,\u001B[49m\n\u001B[32m   2413\u001B[39m \u001B[43m        \u001B[49m\u001B[43mparams\u001B[49m\u001B[43m,\u001B[49m\n\u001B[32m   2414\u001B[39m \u001B[43m        \u001B[49m\u001B[43mallow_clear_pool\u001B[49m\u001B[43m,\u001B[49m\n\u001B[32m   2415\u001B[39m \u001B[43m        \u001B[49m\u001B[43mtrain_params\u001B[49m\u001B[43m[\u001B[49m\u001B[33;43m\"\u001B[39;49m\u001B[33;43minit_model\u001B[39;49m\u001B[33;43m\"\u001B[39;49m\u001B[43m]\u001B[49m\n\u001B[32m   2416\u001B[39m \u001B[43m    \u001B[49m\u001B[43m)\u001B[49m\n\u001B[32m   2418\u001B[39m \u001B[38;5;66;03m# Have property feature_importance possibly set\u001B[39;00m\n\u001B[32m   2419\u001B[39m loss = \u001B[38;5;28mself\u001B[39m._object._get_loss_function_name()\n",
      "\u001B[36mFile \u001B[39m\u001B[32m~/PycharmProjects/Hoter_reser_harbour/.venv/lib/python3.12/site-packages/catboost/core.py:1790\u001B[39m, in \u001B[36m_CatBoostBase._train\u001B[39m\u001B[34m(self, train_pool, test_pool, params, allow_clear_pool, init_model)\u001B[39m\n\u001B[32m   1789\u001B[39m \u001B[38;5;28;01mdef\u001B[39;00m\u001B[38;5;250m \u001B[39m\u001B[34m_train\u001B[39m(\u001B[38;5;28mself\u001B[39m, train_pool, test_pool, params, allow_clear_pool, init_model):\n\u001B[32m-> \u001B[39m\u001B[32m1790\u001B[39m     \u001B[38;5;28;43mself\u001B[39;49m\u001B[43m.\u001B[49m\u001B[43m_object\u001B[49m\u001B[43m.\u001B[49m\u001B[43m_train\u001B[49m\u001B[43m(\u001B[49m\u001B[43mtrain_pool\u001B[49m\u001B[43m,\u001B[49m\u001B[43m \u001B[49m\u001B[43mtest_pool\u001B[49m\u001B[43m,\u001B[49m\u001B[43m \u001B[49m\u001B[43mparams\u001B[49m\u001B[43m,\u001B[49m\u001B[43m \u001B[49m\u001B[43mallow_clear_pool\u001B[49m\u001B[43m,\u001B[49m\u001B[43m \u001B[49m\u001B[43minit_model\u001B[49m\u001B[43m.\u001B[49m\u001B[43m_object\u001B[49m\u001B[43m \u001B[49m\u001B[38;5;28;43;01mif\u001B[39;49;00m\u001B[43m \u001B[49m\u001B[43minit_model\u001B[49m\u001B[43m \u001B[49m\u001B[38;5;28;43;01melse\u001B[39;49;00m\u001B[43m \u001B[49m\u001B[38;5;28;43;01mNone\u001B[39;49;00m\u001B[43m)\u001B[49m\n\u001B[32m   1791\u001B[39m     \u001B[38;5;28mself\u001B[39m._set_trained_model_attributes()\n",
      "\u001B[36mFile \u001B[39m\u001B[32m_catboost.pyx:5023\u001B[39m, in \u001B[36m_catboost._CatBoost._train\u001B[39m\u001B[34m()\u001B[39m\n",
      "\u001B[36mFile \u001B[39m\u001B[32m_catboost.pyx:5072\u001B[39m, in \u001B[36m_catboost._CatBoost._train\u001B[39m\u001B[34m()\u001B[39m\n",
      "\u001B[31mKeyboardInterrupt\u001B[39m: "
     ]
    }
   ],
   "execution_count": 173
  },
  {
   "metadata": {
    "ExecuteTime": {
     "end_time": "2025-07-31T10:12:37.349984Z",
     "start_time": "2025-07-31T10:12:37.304425Z"
    }
   },
   "cell_type": "code",
   "source": [
    "def objective(trial):\n",
    "    model = catboost.CatBoostClassifier(\n",
    "        iterations=trial.suggest_int(\"iterations\", 100, 1000),\n",
    "        learning_rate=trial.suggest_float(\"learning_rate\", 1e-3, 1e-1, log=True),\n",
    "        depth=trial.suggest_int(\"depth\", 4, 10),\n",
    "        l2_leaf_reg=trial.suggest_float(\"l2_leaf_reg\", 1e-8, 100.0, log=True),\n",
    "        bootstrap_type=trial.suggest_categorical(\"bootstrap_type\", [\"Bayesian\"]),\n",
    "        random_strength=trial.suggest_float(\"random_strength\", 1e-8, 10.0, log=True),\n",
    "        bagging_temperature=trial.suggest_float(\"bagging_temperature\", 0.0, 10.0),\n",
    "        od_type=trial.suggest_categorical(\"od_type\", [\"IncToDec\", \"Iter\"]),\n",
    "        od_wait=trial.suggest_int(\"od_wait\", 10, 50),\n",
    "        verbose=False\n",
    "    )\n",
    "    model.fit(X_train, y_train)\n",
    "    y_pred = model.predict(X_test)\n",
    "    return accuracy_score(y_test, y_pred)"
   ],
   "outputs": [],
   "execution_count": 126
  },
  {
   "metadata": {
    "ExecuteTime": {
     "end_time": "2025-07-31T10:13:38.770400Z",
     "start_time": "2025-07-31T10:13:38.765696Z"
    }
   },
   "cell_type": "code",
   "source": [
    "from optuna.samplers import TPESampler\n",
    "import optuna\n",
    "import catboost\n",
    "\n",
    "sampler = TPESampler(seed=1)"
   ],
   "outputs": [],
   "execution_count": 133
  },
  {
   "metadata": {
    "ExecuteTime": {
     "end_time": "2025-07-31T10:19:16.566325Z",
     "start_time": "2025-07-31T10:13:39.100502Z"
    }
   },
   "cell_type": "code",
   "source": [
    "study = optuna.create_study(study_name=\"catboost\", direction=\"maximize\", sampler=sampler)\n",
    "study.optimize(objective, n_trials=100)"
   ],
   "outputs": [
    {
     "name": "stderr",
     "output_type": "stream",
     "text": [
      "[I 2025-07-31 12:13:39,101] A new study created in memory with name: catboost\n",
      "[I 2025-07-31 12:13:42,514] Trial 0 finished with value: 0.8450755287009063 and parameters: {'iterations': 475, 'learning_rate': 0.027583475549166746, 'depth': 4, 'l2_leaf_reg': 1.0551779964424746e-05, 'bootstrap_type': 'Bayesian', 'random_strength': 2.0931628460945333e-07, 'bagging_temperature': 0.923385947687978, 'od_type': 'Iter', 'od_wait': 26}. Best is trial 0 with value: 0.8450755287009063.\n",
      "[I 2025-07-31 12:13:45,191] Trial 1 finished with value: 0.8561933534743202 and parameters: {'iterations': 585, 'learning_rate': 0.006892694481137703, 'depth': 8, 'l2_leaf_reg': 1.10795595820296e-06, 'bootstrap_type': 'Bayesian', 'random_strength': 0.79993910451721, 'bagging_temperature': 0.27387593197926163, 'od_type': 'IncToDec', 'od_wait': 32}. Best is trial 1 with value: 0.8561933534743202.\n",
      "[I 2025-07-31 12:13:46,627] Trial 2 finished with value: 0.8322658610271904 and parameters: {'iterations': 226, 'learning_rate': 0.002490020818620744, 'depth': 9, 'l2_leaf_reg': 48.152158203957725, 'bootstrap_type': 'Bayesian', 'random_strength': 6.6193844201488376e-06, 'bagging_temperature': 6.923226156693141, 'od_type': 'Iter', 'od_wait': 13}. Best is trial 1 with value: 0.8561933534743202.\n",
      "[I 2025-07-31 12:13:48,003] Trial 3 finished with value: 0.8279154078549849 and parameters: {'iterations': 135, 'learning_rate': 0.002186053765545967, 'depth': 10, 'l2_leaf_reg': 9.62649829692002e-08, 'bootstrap_type': 'Bayesian', 'random_strength': 6.165504584878686e-05, 'bagging_temperature': 9.57889530150502, 'od_type': 'Iter', 'od_wait': 22}. Best is trial 1 with value: 0.8561933534743202.\n",
      "[I 2025-07-31 12:13:50,068] Trial 4 finished with value: 0.8348036253776435 and parameters: {'iterations': 718, 'learning_rate': 0.0466929533152365, 'depth': 4, 'l2_leaf_reg': 0.3172803306450888, 'bootstrap_type': 'Bayesian', 'random_strength': 7.938707489172773, 'bagging_temperature': 7.481656543798394, 'od_type': 'Iter', 'od_wait': 14}. Best is trial 1 with value: 0.8561933534743202.\n",
      "[I 2025-07-31 12:13:54,037] Trial 5 finished with value: 0.841570996978852 and parameters: {'iterations': 503, 'learning_rate': 0.06564339077069614, 'depth': 6, 'l2_leaf_reg': 7.546635702360232e-06, 'bootstrap_type': 'Bayesian', 'random_strength': 1.4799844388224315e-07, 'bagging_temperature': 0.19366957870297075, 'od_type': 'IncToDec', 'od_wait': 20}. Best is trial 1 with value: 0.8561933534743202.\n",
      "[I 2025-07-31 12:13:57,668] Trial 6 finished with value: 0.8285196374622357 and parameters: {'iterations': 542, 'learning_rate': 0.001278571708054608, 'depth': 8, 'l2_leaf_reg': 2.9328222947799687e-07, 'bootstrap_type': 'Bayesian', 'random_strength': 0.0020125646126523404, 'bagging_temperature': 6.997583600209312, 'od_type': 'Iter', 'od_wait': 38}. Best is trial 1 with value: 0.8561933534743202.\n",
      "[I 2025-07-31 12:13:59,531] Trial 7 finished with value: 0.8018126888217523 and parameters: {'iterations': 473, 'learning_rate': 0.0012586556158866136, 'depth': 7, 'l2_leaf_reg': 0.043445665307147247, 'bootstrap_type': 'Bayesian', 'random_strength': 0.00043052860159544323, 'bagging_temperature': 9.445947559908133, 'od_type': 'Iter', 'od_wait': 15}. Best is trial 1 with value: 0.8561933534743202.\n",
      "[I 2025-07-31 12:14:00,324] Trial 8 finished with value: 0.8501510574018127 and parameters: {'iterations': 225, 'learning_rate': 0.04118912607048067, 'depth': 6, 'l2_leaf_reg': 4.503415011735204e-07, 'bootstrap_type': 'Bayesian', 'random_strength': 2.2262668706347197, 'bagging_temperature': 3.477658597455066, 'od_type': 'IncToDec', 'od_wait': 46}. Best is trial 1 with value: 0.8561933534743202.\n",
      "[I 2025-07-31 12:14:02,613] Trial 9 finished with value: 0.8472507552870091 and parameters: {'iterations': 661, 'learning_rate': 0.03176031989459053, 'depth': 6, 'l2_leaf_reg': 5.003557761128302e-06, 'bootstrap_type': 'Bayesian', 'random_strength': 1.1560482583788436, 'bagging_temperature': 4.280911898712949, 'od_type': 'IncToDec', 'od_wait': 35}. Best is trial 1 with value: 0.8561933534743202.\n",
      "[I 2025-07-31 12:14:12,384] Trial 10 finished with value: 0.8542598187311178 and parameters: {'iterations': 982, 'learning_rate': 0.008013259505912921, 'depth': 10, 'l2_leaf_reg': 0.0032196265172219057, 'bootstrap_type': 'Bayesian', 'random_strength': 0.01727041042494132, 'bagging_temperature': 2.470574673338552, 'od_type': 'IncToDec', 'od_wait': 50}. Best is trial 1 with value: 0.8561933534743202.\n",
      "[I 2025-07-31 12:14:21,044] Trial 11 finished with value: 0.8525679758308157 and parameters: {'iterations': 912, 'learning_rate': 0.007515516670796351, 'depth': 10, 'l2_leaf_reg': 0.001105038492142041, 'bootstrap_type': 'Bayesian', 'random_strength': 0.03777608266952443, 'bagging_temperature': 2.2306062191998945, 'od_type': 'IncToDec', 'od_wait': 50}. Best is trial 1 with value: 0.8561933534743202.\n",
      "[I 2025-07-31 12:14:25,727] Trial 12 finished with value: 0.8532930513595166 and parameters: {'iterations': 929, 'learning_rate': 0.0087035551919287, 'depth': 8, 'l2_leaf_reg': 0.0006752127750254305, 'bootstrap_type': 'Bayesian', 'random_strength': 0.06213937973686316, 'bagging_temperature': 2.43641048326954, 'od_type': 'IncToDec', 'od_wait': 42}. Best is trial 1 with value: 0.8561933534743202.\n",
      "[I 2025-07-31 12:14:34,198] Trial 13 finished with value: 0.8560725075528701 and parameters: {'iterations': 829, 'learning_rate': 0.014702094031740737, 'depth': 9, 'l2_leaf_reg': 0.00037265683734114474, 'bootstrap_type': 'Bayesian', 'random_strength': 0.02169603329004366, 'bagging_temperature': 1.806515469168879, 'od_type': 'IncToDec', 'od_wait': 32}. Best is trial 1 with value: 0.8561933534743202.\n",
      "[I 2025-07-31 12:14:37,841] Trial 14 finished with value: 0.8596978851963746 and parameters: {'iterations': 782, 'learning_rate': 0.016240503351995193, 'depth': 8, 'l2_leaf_reg': 1.6558173263853176e-08, 'bootstrap_type': 'Bayesian', 'random_strength': 0.20114681966801798, 'bagging_temperature': 0.023627812687380345, 'od_type': 'IncToDec', 'od_wait': 32}. Best is trial 14 with value: 0.8596978851963746.\n",
      "[I 2025-07-31 12:14:40,973] Trial 15 finished with value: 0.8574018126888218 and parameters: {'iterations': 677, 'learning_rate': 0.004102109931659536, 'depth': 8, 'l2_leaf_reg': 2.7929141000296078e-08, 'bootstrap_type': 'Bayesian', 'random_strength': 0.35958909616694923, 'bagging_temperature': 0.31592390137076976, 'od_type': 'IncToDec', 'od_wait': 30}. Best is trial 14 with value: 0.8596978851963746.\n",
      "[I 2025-07-31 12:14:43,946] Trial 16 finished with value: 0.8391540785498489 and parameters: {'iterations': 769, 'learning_rate': 0.004102928083612987, 'depth': 7, 'l2_leaf_reg': 1.6929085896514613e-08, 'bootstrap_type': 'Bayesian', 'random_strength': 0.21400122847540878, 'bagging_temperature': 5.308643825440758, 'od_type': 'IncToDec', 'od_wait': 27}. Best is trial 14 with value: 0.8596978851963746.\n",
      "[I 2025-07-31 12:14:46,361] Trial 17 finished with value: 0.8555891238670695 and parameters: {'iterations': 389, 'learning_rate': 0.017069282821528073, 'depth': 9, 'l2_leaf_reg': 1.2184854431821032e-08, 'bootstrap_type': 'Bayesian', 'random_strength': 0.0014269229191519346, 'bagging_temperature': 1.036186102598824, 'od_type': 'IncToDec', 'od_wait': 39}. Best is trial 14 with value: 0.8596978851963746.\n",
      "[I 2025-07-31 12:14:49,488] Trial 18 finished with value: 0.8534138972809667 and parameters: {'iterations': 666, 'learning_rate': 0.004022549934148223, 'depth': 8, 'l2_leaf_reg': 3.680020408616411e-05, 'bootstrap_type': 'Bayesian', 'random_strength': 5.343871924877367e-06, 'bagging_temperature': 3.466852909347127, 'od_type': 'IncToDec', 'od_wait': 27}. Best is trial 14 with value: 0.8596978851963746.\n",
      "[I 2025-07-31 12:14:51,884] Trial 19 finished with value: 0.8316616314199395 and parameters: {'iterations': 831, 'learning_rate': 0.09650131846945785, 'depth': 5, 'l2_leaf_reg': 1.0054971927169823e-08, 'bootstrap_type': 'Bayesian', 'random_strength': 0.0026098485522466092, 'bagging_temperature': 5.301783184812292, 'od_type': 'IncToDec', 'od_wait': 20}. Best is trial 14 with value: 0.8596978851963746.\n",
      "[I 2025-07-31 12:14:53,286] Trial 20 finished with value: 0.8581268882175227 and parameters: {'iterations': 364, 'learning_rate': 0.01864420789744135, 'depth': 7, 'l2_leaf_reg': 5.293837630646663, 'bootstrap_type': 'Bayesian', 'random_strength': 1.1589663494447903e-08, 'bagging_temperature': 1.3821998539149618, 'od_type': 'IncToDec', 'od_wait': 34}. Best is trial 14 with value: 0.8596978851963746.\n",
      "[I 2025-07-31 12:14:54,581] Trial 21 finished with value: 0.8569184290030212 and parameters: {'iterations': 339, 'learning_rate': 0.01659434446045263, 'depth': 7, 'l2_leaf_reg': 94.04714106425212, 'bootstrap_type': 'Bayesian', 'random_strength': 2.7103696619905137e-08, 'bagging_temperature': 0.029223965806436825, 'od_type': 'IncToDec', 'od_wait': 37}. Best is trial 14 with value: 0.8596978851963746.\n",
      "[I 2025-07-31 12:14:57,385] Trial 22 finished with value: 0.8561933534743202 and parameters: {'iterations': 606, 'learning_rate': 0.012564037408249578, 'depth': 8, 'l2_leaf_reg': 3.0379785460439055, 'bootstrap_type': 'Bayesian', 'random_strength': 6.629953589597337e-05, 'bagging_temperature': 1.205471449849326, 'od_type': 'IncToDec', 'od_wait': 30}. Best is trial 14 with value: 0.8596978851963746.\n",
      "[I 2025-07-31 12:14:58,720] Trial 23 finished with value: 0.8410876132930514 and parameters: {'iterations': 359, 'learning_rate': 0.02316411537748837, 'depth': 7, 'l2_leaf_reg': 0.10165425410906638, 'bootstrap_type': 'Bayesian', 'random_strength': 9.145159994025807, 'bagging_temperature': 1.6846051064973775, 'od_type': 'IncToDec', 'od_wait': 42}. Best is trial 14 with value: 0.8596978851963746.\n",
      "[I 2025-07-31 12:15:03,514] Trial 24 finished with value: 0.8507552870090634 and parameters: {'iterations': 769, 'learning_rate': 0.004123481129991741, 'depth': 9, 'l2_leaf_reg': 8.071917904799597e-08, 'bootstrap_type': 'Bayesian', 'random_strength': 1.0457775226467394e-08, 'bagging_temperature': 3.3034543412080404, 'od_type': 'IncToDec', 'od_wait': 34}. Best is trial 14 with value: 0.8596978851963746.\n",
      "[I 2025-07-31 12:15:05,214] Trial 25 finished with value: 0.8542598187311178 and parameters: {'iterations': 431, 'learning_rate': 0.005578342384442355, 'depth': 7, 'l2_leaf_reg': 4.238828188871717, 'bootstrap_type': 'Bayesian', 'random_strength': 0.2404037082298849, 'bagging_temperature': 0.6570791790627355, 'od_type': 'IncToDec', 'od_wait': 24}. Best is trial 14 with value: 0.8596978851963746.\n",
      "[I 2025-07-31 12:15:06,160] Trial 26 finished with value: 0.8532930513595166 and parameters: {'iterations': 270, 'learning_rate': 0.010488410009138494, 'depth': 6, 'l2_leaf_reg': 7.927941401228108e-05, 'bootstrap_type': 'Bayesian', 'random_strength': 5.5501732451494785e-06, 'bagging_temperature': 1.3992029541440254, 'od_type': 'IncToDec', 'od_wait': 28}. Best is trial 14 with value: 0.8596978851963746.\n",
      "[I 2025-07-31 12:15:07,996] Trial 27 finished with value: 0.8471299093655589 and parameters: {'iterations': 622, 'learning_rate': 0.020494942910841585, 'depth': 5, 'l2_leaf_reg': 0.007938613475917726, 'bootstrap_type': 'Bayesian', 'random_strength': 0.0071872402496155376, 'bagging_temperature': 2.721316842816734, 'od_type': 'IncToDec', 'od_wait': 31}. Best is trial 14 with value: 0.8596978851963746.\n",
      "[I 2025-07-31 12:15:11,483] Trial 28 finished with value: 0.8442296072507552 and parameters: {'iterations': 722, 'learning_rate': 0.002607231673786782, 'depth': 8, 'l2_leaf_reg': 1.1222207491651686, 'bootstrap_type': 'Bayesian', 'random_strength': 0.11421674362183955, 'bagging_temperature': 4.469269085578176, 'od_type': 'IncToDec', 'od_wait': 41}. Best is trial 14 with value: 0.8596978851963746.\n",
      "[I 2025-07-31 12:15:14,922] Trial 29 finished with value: 0.8529305135951661 and parameters: {'iterations': 533, 'learning_rate': 0.03157558007847945, 'depth': 9, 'l2_leaf_reg': 3.196855220377483e-06, 'bootstrap_type': 'Bayesian', 'random_strength': 0.00014055272669778157, 'bagging_temperature': 0.6741134330120632, 'od_type': 'Iter', 'od_wait': 35}. Best is trial 14 with value: 0.8596978851963746.\n",
      "[I 2025-07-31 12:15:18,311] Trial 30 finished with value: 0.8501510574018127 and parameters: {'iterations': 865, 'learning_rate': 0.011212558989891512, 'depth': 7, 'l2_leaf_reg': 5.886812191624434e-05, 'bootstrap_type': 'Bayesian', 'random_strength': 7.76825362959605e-07, 'bagging_temperature': 1.531476041282458, 'od_type': 'IncToDec', 'od_wait': 24}. Best is trial 14 with value: 0.8596978851963746.\n",
      "[I 2025-07-31 12:15:19,717] Trial 31 finished with value: 0.8589728096676738 and parameters: {'iterations': 364, 'learning_rate': 0.017907315058010992, 'depth': 7, 'l2_leaf_reg': 98.81526854763857, 'bootstrap_type': 'Bayesian', 'random_strength': 4.2215494977037645e-08, 'bagging_temperature': 0.11904747548320548, 'od_type': 'IncToDec', 'od_wait': 36}. Best is trial 14 with value: 0.8596978851963746.\n",
      "[I 2025-07-31 12:15:21,157] Trial 32 finished with value: 0.8561933534743202 and parameters: {'iterations': 287, 'learning_rate': 0.005831849458636556, 'depth': 8, 'l2_leaf_reg': 3.1300804270785796, 'bootstrap_type': 'Bayesian', 'random_strength': 2.2777155828016472e-07, 'bagging_temperature': 0.1019541747940787, 'od_type': 'IncToDec', 'od_wait': 30}. Best is trial 14 with value: 0.8596978851963746.\n",
      "[I 2025-07-31 12:15:22,764] Trial 33 finished with value: 0.8563141993957704 and parameters: {'iterations': 407, 'learning_rate': 0.02373906902160916, 'depth': 7, 'l2_leaf_reg': 37.44723487707392, 'bootstrap_type': 'Bayesian', 'random_strength': 4.917470857900292e-08, 'bagging_temperature': 0.8597356210250107, 'od_type': 'IncToDec', 'od_wait': 33}. Best is trial 14 with value: 0.8596978851963746.\n",
      "[I 2025-07-31 12:15:23,306] Trial 34 finished with value: 0.8570392749244713 and parameters: {'iterations': 107, 'learning_rate': 0.018596256091364425, 'depth': 8, 'l2_leaf_reg': 14.599560270357886, 'bootstrap_type': 'Bayesian', 'random_strength': 1.284919492781217e-06, 'bagging_temperature': 0.6212300006247252, 'od_type': 'IncToDec', 'od_wait': 36}. Best is trial 14 with value: 0.8596978851963746.\n",
      "[I 2025-07-31 12:15:24,899] Trial 35 finished with value: 0.854380664652568 and parameters: {'iterations': 458, 'learning_rate': 0.013251554734872722, 'depth': 6, 'l2_leaf_reg': 1.2783175022410233e-06, 'bootstrap_type': 'Bayesian', 'random_strength': 1.9998212782834796e-05, 'bagging_temperature': 1.9321341499715763, 'od_type': 'Iter', 'od_wait': 29}. Best is trial 14 with value: 0.8596978851963746.\n",
      "[I 2025-07-31 12:15:25,848] Trial 36 finished with value: 0.8473716012084592 and parameters: {'iterations': 315, 'learning_rate': 0.04210153270587446, 'depth': 5, 'l2_leaf_reg': 6.540470016471244e-08, 'bootstrap_type': 'Bayesian', 'random_strength': 1.044261921394642e-07, 'bagging_temperature': 0.03585606329039254, 'od_type': 'IncToDec', 'od_wait': 39}. Best is trial 14 with value: 0.8596978851963746.\n",
      "[I 2025-07-31 12:15:29,476] Trial 37 finished with value: 0.8494259818731118 and parameters: {'iterations': 583, 'learning_rate': 0.001979372656735113, 'depth': 9, 'l2_leaf_reg': 13.715466520095811, 'bootstrap_type': 'Bayesian', 'random_strength': 0.6852239626292116, 'bagging_temperature': 0.6521887210263969, 'od_type': 'Iter', 'od_wait': 24}. Best is trial 14 with value: 0.8596978851963746.\n",
      "[I 2025-07-31 12:15:30,613] Trial 38 finished with value: 0.8508761329305136 and parameters: {'iterations': 239, 'learning_rate': 0.026652313069802445, 'depth': 8, 'l2_leaf_reg': 0.26543217748524284, 'bootstrap_type': 'Bayesian', 'random_strength': 1.2584532994109119e-08, 'bagging_temperature': 3.0170900165878445, 'od_type': 'IncToDec', 'od_wait': 32}. Best is trial 14 with value: 0.8596978851963746.\n",
      "[I 2025-07-31 12:15:31,324] Trial 39 finished with value: 0.8471299093655589 and parameters: {'iterations': 176, 'learning_rate': 0.00541247919451744, 'depth': 7, 'l2_leaf_reg': 2.5108052710065335e-07, 'bootstrap_type': 'Bayesian', 'random_strength': 5.554370270605157e-07, 'bagging_temperature': 1.2860402208761204, 'od_type': 'Iter', 'od_wait': 45}. Best is trial 14 with value: 0.8596978851963746.\n",
      "[I 2025-07-31 12:15:33,082] Trial 40 finished with value: 0.8443504531722055 and parameters: {'iterations': 510, 'learning_rate': 0.05091493852624813, 'depth': 6, 'l2_leaf_reg': 4.00063761257025e-08, 'bootstrap_type': 'Bayesian', 'random_strength': 2.9455779409396823, 'bagging_temperature': 8.435193251704, 'od_type': 'IncToDec', 'od_wait': 17}. Best is trial 14 with value: 0.8596978851963746.\n",
      "[I 2025-07-31 12:15:33,757] Trial 41 finished with value: 0.856797583081571 and parameters: {'iterations': 110, 'learning_rate': 0.018067450525118135, 'depth': 8, 'l2_leaf_reg': 18.03236907226703, 'bootstrap_type': 'Bayesian', 'random_strength': 1.621882238342256e-06, 'bagging_temperature': 0.5078054344787353, 'od_type': 'IncToDec', 'od_wait': 36}. Best is trial 14 with value: 0.8596978851963746.\n",
      "[I 2025-07-31 12:15:34,819] Trial 42 finished with value: 0.8537764350453172 and parameters: {'iterations': 190, 'learning_rate': 0.009540396122397857, 'depth': 8, 'l2_leaf_reg': 7.473400630376973, 'bootstrap_type': 'Bayesian', 'random_strength': 3.6091241449366837e-08, 'bagging_temperature': 1.0208510258139651, 'od_type': 'IncToDec', 'od_wait': 34}. Best is trial 14 with value: 0.8596978851963746.\n",
      "[I 2025-07-31 12:15:37,553] Trial 43 finished with value: 0.8435045317220544 and parameters: {'iterations': 699, 'learning_rate': 0.02963550161380872, 'depth': 7, 'l2_leaf_reg': 72.32151530298462, 'bootstrap_type': 'Bayesian', 'random_strength': 1.9515889799677403e-07, 'bagging_temperature': 6.130006354928239, 'od_type': 'IncToDec', 'od_wait': 37}. Best is trial 14 with value: 0.8596978851963746.\n",
      "[I 2025-07-31 12:15:38,313] Trial 44 finished with value: 0.8633232628398791 and parameters: {'iterations': 162, 'learning_rate': 0.020659576807258582, 'depth': 8, 'l2_leaf_reg': 0.8679838253640907, 'bootstrap_type': 'Bayesian', 'random_strength': 1.5305950013403581e-06, 'bagging_temperature': 0.5829113245739789, 'od_type': 'IncToDec', 'od_wait': 40}. Best is trial 44 with value: 0.8633232628398791.\n",
      "[I 2025-07-31 12:15:45,641] Trial 45 finished with value: 0.8547432024169185 and parameters: {'iterations': 766, 'learning_rate': 0.014160968116702546, 'depth': 8, 'l2_leaf_reg': 0.7802512685656602, 'bootstrap_type': 'Bayesian', 'random_strength': 8.219375048534506e-08, 'bagging_temperature': 2.14364349444827, 'od_type': 'IncToDec', 'od_wait': 44}. Best is trial 44 with value: 0.8633232628398791.\n",
      "[I 2025-07-31 12:15:49,176] Trial 46 finished with value: 0.8565558912386707 and parameters: {'iterations': 567, 'learning_rate': 0.03651398145959122, 'depth': 9, 'l2_leaf_reg': 0.04388366372232015, 'bootstrap_type': 'Bayesian', 'random_strength': 0.00043248442883975853, 'bagging_temperature': 0.3304286030934437, 'od_type': 'IncToDec', 'od_wait': 40}. Best is trial 44 with value: 0.8633232628398791.\n",
      "[I 2025-07-31 12:15:51,690] Trial 47 finished with value: 0.8465256797583082 and parameters: {'iterations': 648, 'learning_rate': 0.0609745110649963, 'depth': 7, 'l2_leaf_reg': 0.8919252993362463, 'bootstrap_type': 'Bayesian', 'random_strength': 1.7491871824605197e-05, 'bagging_temperature': 3.9245759856228895, 'od_type': 'Iter', 'od_wait': 43}. Best is trial 44 with value: 0.8633232628398791.\n",
      "[I 2025-07-31 12:15:52,537] Trial 48 finished with value: 0.8554682779456193 and parameters: {'iterations': 214, 'learning_rate': 0.022304244124082297, 'depth': 7, 'l2_leaf_reg': 0.013573921585502436, 'bootstrap_type': 'Bayesian', 'random_strength': 4.07725520992751e-07, 'bagging_temperature': 1.6123358426942924, 'od_type': 'IncToDec', 'od_wait': 11}. Best is trial 44 with value: 0.8633232628398791.\n",
      "[I 2025-07-31 12:15:57,007] Trial 49 finished with value: 0.8577643504531722 and parameters: {'iterations': 723, 'learning_rate': 0.001586177993893308, 'depth': 9, 'l2_leaf_reg': 2.7535070573692994e-07, 'bootstrap_type': 'Bayesian', 'random_strength': 2.0262473417605032e-08, 'bagging_temperature': 1.0538857695735362, 'od_type': 'IncToDec', 'od_wait': 47}. Best is trial 44 with value: 0.8633232628398791.\n",
      "[I 2025-07-31 12:15:58,468] Trial 50 finished with value: 0.8495468277945619 and parameters: {'iterations': 149, 'learning_rate': 0.0015646922046504087, 'depth': 10, 'l2_leaf_reg': 1.6845961998020816e-05, 'bootstrap_type': 'Bayesian', 'random_strength': 1.916781509733476e-08, 'bagging_temperature': 1.0303702536843293, 'od_type': 'IncToDec', 'od_wait': 48}. Best is trial 44 with value: 0.8633232628398791.\n",
      "[I 2025-07-31 12:16:02,866] Trial 51 finished with value: 0.8610271903323263 and parameters: {'iterations': 713, 'learning_rate': 0.0030950916468017084, 'depth': 9, 'l2_leaf_reg': 2.2913768022602762e-07, 'bootstrap_type': 'Bayesian', 'random_strength': 6.220537945802804e-08, 'bagging_temperature': 0.35890288315125063, 'od_type': 'IncToDec', 'od_wait': 48}. Best is trial 44 with value: 0.8633232628398791.\n",
      "[I 2025-07-31 12:16:07,597] Trial 52 finished with value: 0.856797583081571 and parameters: {'iterations': 736, 'learning_rate': 0.001177549444759535, 'depth': 9, 'l2_leaf_reg': 2.3713391977213618e-07, 'bootstrap_type': 'Bayesian', 'random_strength': 6.516997809717966e-08, 'bagging_temperature': 0.00541317223124127, 'od_type': 'IncToDec', 'od_wait': 47}. Best is trial 44 with value: 0.8633232628398791.\n",
      "[I 2025-07-31 12:16:15,701] Trial 53 finished with value: 0.8505135951661631 and parameters: {'iterations': 821, 'learning_rate': 0.001014194428062336, 'depth': 10, 'l2_leaf_reg': 3.021926092910504e-06, 'bootstrap_type': 'Bayesian', 'random_strength': 2.869911724336748e-08, 'bagging_temperature': 0.43361540400216797, 'od_type': 'IncToDec', 'od_wait': 49}. Best is trial 44 with value: 0.8633232628398791.\n",
      "[I 2025-07-31 12:16:21,547] Trial 54 finished with value: 0.8545015105740181 and parameters: {'iterations': 895, 'learning_rate': 0.0024118460718828283, 'depth': 9, 'l2_leaf_reg': 6.365814679133865e-07, 'bootstrap_type': 'Bayesian', 'random_strength': 2.614951002235894e-06, 'bagging_temperature': 2.004061179988806, 'od_type': 'IncToDec', 'od_wait': 46}. Best is trial 44 with value: 0.8633232628398791.\n",
      "[I 2025-07-31 12:16:26,989] Trial 55 finished with value: 0.857643504531722 and parameters: {'iterations': 814, 'learning_rate': 0.0030580314535086943, 'depth': 9, 'l2_leaf_reg': 33.647500983876945, 'bootstrap_type': 'Bayesian', 'random_strength': 2.577199877084456e-07, 'bagging_temperature': 1.1043036332874538, 'od_type': 'IncToDec', 'od_wait': 38}. Best is trial 44 with value: 0.8633232628398791.\n",
      "[I 2025-07-31 12:16:35,447] Trial 56 finished with value: 0.8548640483383686 and parameters: {'iterations': 792, 'learning_rate': 0.0017261719137805218, 'depth': 10, 'l2_leaf_reg': 9.613630718895264e-08, 'bootstrap_type': 'Bayesian', 'random_strength': 1.1023167721402311e-07, 'bagging_temperature': 2.348477630579079, 'od_type': 'IncToDec', 'od_wait': 44}. Best is trial 44 with value: 0.8633232628398791.\n",
      "[I 2025-07-31 12:16:43,597] Trial 57 finished with value: 0.8555891238670695 and parameters: {'iterations': 971, 'learning_rate': 0.015196747672738029, 'depth': 9, 'l2_leaf_reg': 0.00019612468114652007, 'bootstrap_type': 'Bayesian', 'random_strength': 1.7537558684590348e-08, 'bagging_temperature': 1.2957651871612734, 'od_type': 'IncToDec', 'od_wait': 50}. Best is trial 44 with value: 0.8633232628398791.\n",
      "[I 2025-07-31 12:16:46,727] Trial 58 finished with value: 0.841570996978852 and parameters: {'iterations': 373, 'learning_rate': 0.012279854096811328, 'depth': 4, 'l2_leaf_reg': 2.8339484869202038e-08, 'bootstrap_type': 'Bayesian', 'random_strength': 4.001326851833346e-08, 'bagging_temperature': 0.3426277513576659, 'od_type': 'IncToDec', 'od_wait': 47}. Best is trial 44 with value: 0.8633232628398791.\n",
      "[I 2025-07-31 12:16:49,953] Trial 59 finished with value: 0.8525679758308157 and parameters: {'iterations': 695, 'learning_rate': 0.007134507666219, 'depth': 6, 'l2_leaf_reg': 0.0018826677797700157, 'bootstrap_type': 'Bayesian', 'random_strength': 1.2360872253171861e-08, 'bagging_temperature': 2.597002047571148, 'od_type': 'IncToDec', 'od_wait': 41}. Best is trial 44 with value: 0.8633232628398791.\n",
      "[I 2025-07-31 12:16:52,925] Trial 60 finished with value: 0.857643504531722 and parameters: {'iterations': 637, 'learning_rate': 0.008651517068194689, 'depth': 8, 'l2_leaf_reg': 1.0566334103797507e-06, 'bootstrap_type': 'Bayesian', 'random_strength': 3.651985789733703e-07, 'bagging_temperature': 0.8196062959438405, 'od_type': 'IncToDec', 'od_wait': 33}. Best is trial 44 with value: 0.8633232628398791.\n",
      "[I 2025-07-31 12:16:58,229] Trial 61 finished with value: 0.8581268882175227 and parameters: {'iterations': 866, 'learning_rate': 0.0028823299814954868, 'depth': 9, 'l2_leaf_reg': 32.63270701837756, 'bootstrap_type': 'Bayesian', 'random_strength': 2.0318553269536667e-07, 'bagging_temperature': 1.0429833003998659, 'od_type': 'IncToDec', 'od_wait': 38}. Best is trial 44 with value: 0.8633232628398791.\n",
      "[I 2025-07-31 12:17:06,803] Trial 62 finished with value: 0.857643504531722 and parameters: {'iterations': 890, 'learning_rate': 0.0032010018354330393, 'depth': 10, 'l2_leaf_reg': 1.8009190202782084, 'bootstrap_type': 'Bayesian', 'random_strength': 6.365397189591725e-08, 'bagging_temperature': 1.6141116732923249, 'od_type': 'IncToDec', 'od_wait': 39}. Best is trial 44 with value: 0.8633232628398791.\n",
      "[I 2025-07-31 12:17:12,184] Trial 63 finished with value: 0.8290030211480363 and parameters: {'iterations': 854, 'learning_rate': 0.0016496338547109684, 'depth': 9, 'l2_leaf_reg': 6.8305216820532655, 'bootstrap_type': 'Bayesian', 'random_strength': 1.338956966376403e-07, 'bagging_temperature': 9.991369837016018, 'od_type': 'IncToDec', 'od_wait': 36}. Best is trial 44 with value: 0.8633232628398791.\n",
      "[I 2025-07-31 12:17:17,949] Trial 64 finished with value: 0.8534138972809667 and parameters: {'iterations': 943, 'learning_rate': 0.001382176772919101, 'depth': 9, 'l2_leaf_reg': 41.630776702098366, 'bootstrap_type': 'Bayesian', 'random_strength': 1.0564782600339504e-06, 'bagging_temperature': 0.41384403045992213, 'od_type': 'IncToDec', 'od_wait': 42}. Best is trial 44 with value: 0.8633232628398791.\n",
      "[I 2025-07-31 12:17:21,464] Trial 65 finished with value: 0.8589728096676738 and parameters: {'iterations': 765, 'learning_rate': 0.003406135545998623, 'depth': 8, 'l2_leaf_reg': 0.3876217813808859, 'bootstrap_type': 'Bayesian', 'random_strength': 2.1863415707967884e-08, 'bagging_temperature': 0.8222570197497912, 'od_type': 'IncToDec', 'od_wait': 37}. Best is trial 44 with value: 0.8633232628398791.\n",
      "[I 2025-07-31 12:17:24,920] Trial 66 finished with value: 0.8593353474320242 and parameters: {'iterations': 752, 'learning_rate': 0.0034383158914303674, 'depth': 8, 'l2_leaf_reg': 0.45679320561644177, 'bootstrap_type': 'Bayesian', 'random_strength': 1.4319702827092677e-07, 'bagging_temperature': 0.8090979796837232, 'od_type': 'IncToDec', 'od_wait': 34}. Best is trial 44 with value: 0.8633232628398791.\n",
      "[I 2025-07-31 12:17:28,393] Trial 67 finished with value: 0.8593353474320242 and parameters: {'iterations': 757, 'learning_rate': 0.0036757320959034494, 'depth': 8, 'l2_leaf_reg': 0.16084055872563913, 'bootstrap_type': 'Bayesian', 'random_strength': 4.144096855002347e-08, 'bagging_temperature': 0.7344193422311741, 'od_type': 'Iter', 'od_wait': 34}. Best is trial 44 with value: 0.8633232628398791.\n",
      "[I 2025-07-31 12:17:31,942] Trial 68 finished with value: 0.859214501510574 and parameters: {'iterations': 748, 'learning_rate': 0.003640295151926844, 'depth': 8, 'l2_leaf_reg': 0.3430615089845861, 'bootstrap_type': 'Bayesian', 'random_strength': 2.7080516896511603e-06, 'bagging_temperature': 0.7139807648811723, 'od_type': 'Iter', 'od_wait': 32}. Best is trial 44 with value: 0.8633232628398791.\n",
      "[I 2025-07-31 12:17:35,467] Trial 69 finished with value: 0.8611480362537764 and parameters: {'iterations': 749, 'learning_rate': 0.004946166277825312, 'depth': 8, 'l2_leaf_reg': 0.055284173833519114, 'bootstrap_type': 'Bayesian', 'random_strength': 1.3501775665694921e-05, 'bagging_temperature': 0.23793390801249104, 'od_type': 'Iter', 'od_wait': 32}. Best is trial 44 with value: 0.8633232628398791.\n",
      "[I 2025-07-31 12:17:39,115] Trial 70 finished with value: 0.857643504531722 and parameters: {'iterations': 790, 'learning_rate': 0.0045629601806525194, 'depth': 8, 'l2_leaf_reg': 0.05564496174941569, 'bootstrap_type': 'Bayesian', 'random_strength': 1.856616151600726e-05, 'bagging_temperature': 1.8655938426877503, 'od_type': 'Iter', 'od_wait': 31}. Best is trial 44 with value: 0.8633232628398791.\n",
      "[I 2025-07-31 12:17:42,539] Trial 71 finished with value: 0.8612688821752266 and parameters: {'iterations': 739, 'learning_rate': 0.006088563292340394, 'depth': 8, 'l2_leaf_reg': 0.19064864950501278, 'bootstrap_type': 'Bayesian', 'random_strength': 4.158869066278186e-06, 'bagging_temperature': 0.24007827112719204, 'od_type': 'Iter', 'od_wait': 28}. Best is trial 44 with value: 0.8633232628398791.\n",
      "[I 2025-07-31 12:17:45,977] Trial 72 finished with value: 0.8611480362537764 and parameters: {'iterations': 751, 'learning_rate': 0.004856080486205314, 'depth': 8, 'l2_leaf_reg': 0.1456885472891377, 'bootstrap_type': 'Bayesian', 'random_strength': 2.5795767706082845e-06, 'bagging_temperature': 0.3111419038450389, 'od_type': 'Iter', 'od_wait': 29}. Best is trial 44 with value: 0.8633232628398791.\n",
      "[I 2025-07-31 12:17:49,645] Trial 73 finished with value: 0.8604229607250755 and parameters: {'iterations': 788, 'learning_rate': 0.004760622568076333, 'depth': 8, 'l2_leaf_reg': 0.012693409081588721, 'bootstrap_type': 'Bayesian', 'random_strength': 6.284924843419625e-05, 'bagging_temperature': 0.35332243046489903, 'od_type': 'Iter', 'od_wait': 28}. Best is trial 44 with value: 0.8633232628398791.\n",
      "[I 2025-07-31 12:17:52,934] Trial 74 finished with value: 0.8627190332326284 and parameters: {'iterations': 683, 'learning_rate': 0.004934207097751387, 'depth': 8, 'l2_leaf_reg': 0.01490251235739413, 'bootstrap_type': 'Bayesian', 'random_strength': 3.78561919643789e-05, 'bagging_temperature': 0.3016590965890408, 'od_type': 'Iter', 'od_wait': 27}. Best is trial 44 with value: 0.8633232628398791.\n",
      "[I 2025-07-31 12:17:56,104] Trial 75 finished with value: 0.8605438066465256 and parameters: {'iterations': 684, 'learning_rate': 0.005150489183225174, 'depth': 8, 'l2_leaf_reg': 0.015194974575206978, 'bootstrap_type': 'Bayesian', 'random_strength': 5.8395632279345755e-05, 'bagging_temperature': 0.26888493033089883, 'od_type': 'Iter', 'od_wait': 26}. Best is trial 44 with value: 0.8633232628398791.\n",
      "[I 2025-07-31 12:17:59,219] Trial 76 finished with value: 0.8606646525679759 and parameters: {'iterations': 683, 'learning_rate': 0.006212723133127538, 'depth': 8, 'l2_leaf_reg': 0.015019609804234129, 'bootstrap_type': 'Bayesian', 'random_strength': 4.496644676405092e-05, 'bagging_temperature': 0.29211045697420757, 'od_type': 'Iter', 'od_wait': 26}. Best is trial 44 with value: 0.8633232628398791.\n",
      "[I 2025-07-31 12:18:02,384] Trial 77 finished with value: 0.8598187311178248 and parameters: {'iterations': 681, 'learning_rate': 0.004976297958138784, 'depth': 8, 'l2_leaf_reg': 0.00573518553530315, 'bootstrap_type': 'Bayesian', 'random_strength': 1.1585587378482331e-05, 'bagging_temperature': 0.23250160630197264, 'od_type': 'Iter', 'od_wait': 26}. Best is trial 44 with value: 0.8633232628398791.\n",
      "[I 2025-07-31 12:18:05,483] Trial 78 finished with value: 0.8603021148036254 and parameters: {'iterations': 667, 'learning_rate': 0.006278054801467704, 'depth': 8, 'l2_leaf_reg': 0.021931024249736343, 'bootstrap_type': 'Bayesian', 'random_strength': 3.2243102753735224e-05, 'bagging_temperature': 0.5191570508121284, 'od_type': 'Iter', 'od_wait': 22}. Best is trial 44 with value: 0.8633232628398791.\n",
      "[I 2025-07-31 12:18:08,365] Trial 79 finished with value: 0.8558308157099698 and parameters: {'iterations': 613, 'learning_rate': 0.0065525826930897665, 'depth': 8, 'l2_leaf_reg': 0.11312357957241322, 'bootstrap_type': 'Bayesian', 'random_strength': 0.00023361215341247436, 'bagging_temperature': 1.3849114103857063, 'od_type': 'Iter', 'od_wait': 25}. Best is trial 44 with value: 0.8633232628398791.\n",
      "[I 2025-07-31 12:18:11,802] Trial 80 finished with value: 0.8437462235649547 and parameters: {'iterations': 702, 'learning_rate': 0.004330862886891218, 'depth': 8, 'l2_leaf_reg': 0.06871759295338806, 'bootstrap_type': 'Bayesian', 'random_strength': 3.670448472559587e-05, 'bagging_temperature': 6.639446420344442, 'od_type': 'Iter', 'od_wait': 27}. Best is trial 44 with value: 0.8633232628398791.\n",
      "[I 2025-07-31 12:18:15,265] Trial 81 finished with value: 0.8584894259818732 and parameters: {'iterations': 727, 'learning_rate': 0.007716196262231594, 'depth': 8, 'l2_leaf_reg': 0.015263108203963233, 'bootstrap_type': 'Bayesian', 'random_strength': 8.41041086409868e-05, 'bagging_temperature': 0.199393522788271, 'od_type': 'Iter', 'od_wait': 28}. Best is trial 44 with value: 0.8633232628398791.\n",
      "[I 2025-07-31 12:18:18,077] Trial 82 finished with value: 0.8611480362537764 and parameters: {'iterations': 598, 'learning_rate': 0.004978886147728023, 'depth': 8, 'l2_leaf_reg': 0.02491847162392246, 'bootstrap_type': 'Bayesian', 'random_strength': 0.0009188229618634696, 'bagging_temperature': 0.25332627422189863, 'od_type': 'Iter', 'od_wait': 23}. Best is trial 44 with value: 0.8633232628398791.\n",
      "[I 2025-07-31 12:18:21,147] Trial 83 finished with value: 0.8601812688821753 and parameters: {'iterations': 655, 'learning_rate': 0.005418091182932438, 'depth': 8, 'l2_leaf_reg': 0.031142254903013332, 'bootstrap_type': 'Bayesian', 'random_strength': 0.0006637538939984509, 'bagging_temperature': 0.5424701646132983, 'od_type': 'Iter', 'od_wait': 22}. Best is trial 44 with value: 0.8633232628398791.\n",
      "[I 2025-07-31 12:18:23,526] Trial 84 finished with value: 0.8325075528700906 and parameters: {'iterations': 589, 'learning_rate': 0.005981253051997777, 'depth': 7, 'l2_leaf_reg': 0.004886957820474582, 'bootstrap_type': 'Bayesian', 'random_strength': 8.648253417437906e-06, 'bagging_temperature': 8.071911870401367, 'od_type': 'Iter', 'od_wait': 19}. Best is trial 44 with value: 0.8633232628398791.\n",
      "[I 2025-07-31 12:18:27,353] Trial 85 finished with value: 0.8588519637462235 and parameters: {'iterations': 625, 'learning_rate': 0.006841456626960951, 'depth': 8, 'l2_leaf_reg': 0.0013245151113022158, 'bootstrap_type': 'Bayesian', 'random_strength': 4.024230060446284e-06, 'bagging_temperature': 0.03012814796980065, 'od_type': 'Iter', 'od_wait': 22}. Best is trial 44 with value: 0.8633232628398791.\n",
      "[I 2025-07-31 12:18:29,544] Trial 86 finished with value: 0.8563141993957704 and parameters: {'iterations': 549, 'learning_rate': 0.005171014486300093, 'depth': 7, 'l2_leaf_reg': 0.15168362276603947, 'bootstrap_type': 'Bayesian', 'random_strength': 3.4222488827803924e-05, 'bagging_temperature': 0.25722219168442384, 'od_type': 'Iter', 'od_wait': 25}. Best is trial 44 with value: 0.8633232628398791.\n",
      "[I 2025-07-31 12:18:32,809] Trial 87 finished with value: 0.8593353474320242 and parameters: {'iterations': 709, 'learning_rate': 0.00897553510399872, 'depth': 8, 'l2_leaf_reg': 0.03162330299317619, 'bootstrap_type': 'Bayesian', 'random_strength': 0.0001677079696287968, 'bagging_temperature': 0.5545266173224596, 'od_type': 'Iter', 'od_wait': 29}. Best is trial 44 with value: 0.8633232628398791.\n",
      "[I 2025-07-31 12:18:37,113] Trial 88 finished with value: 0.8588519637462235 and parameters: {'iterations': 690, 'learning_rate': 0.008105657976499566, 'depth': 9, 'l2_leaf_reg': 0.19616164354744783, 'bootstrap_type': 'Bayesian', 'random_strength': 0.00011811251666040857, 'bagging_temperature': 1.3100381632170746, 'od_type': 'Iter', 'od_wait': 23}. Best is trial 44 with value: 0.8633232628398791.\n",
      "[I 2025-07-31 12:18:39,479] Trial 89 finished with value: 0.8569184290030212 and parameters: {'iterations': 502, 'learning_rate': 0.003873268342740901, 'depth': 8, 'l2_leaf_reg': 0.003191188522144537, 'bootstrap_type': 'Bayesian', 'random_strength': 1.0719369311400248e-05, 'bagging_temperature': 0.9766518165860827, 'od_type': 'Iter', 'od_wait': 20}. Best is trial 44 with value: 0.8633232628398791.\n",
      "[I 2025-07-31 12:18:42,046] Trial 90 finished with value: 0.8558308157099698 and parameters: {'iterations': 666, 'learning_rate': 0.0045211308927648255, 'depth': 7, 'l2_leaf_reg': 0.07918464129450838, 'bootstrap_type': 'Bayesian', 'random_strength': 0.002667286736150258, 'bagging_temperature': 0.017305319343359105, 'od_type': 'Iter', 'od_wait': 25}. Best is trial 44 with value: 0.8633232628398791.\n",
      "[I 2025-07-31 12:18:45,787] Trial 91 finished with value: 0.8584894259818732 and parameters: {'iterations': 800, 'learning_rate': 0.004716425919078328, 'depth': 8, 'l2_leaf_reg': 0.010560403495290045, 'bootstrap_type': 'Bayesian', 'random_strength': 4.7801463468762736e-05, 'bagging_temperature': 0.36721975615160546, 'od_type': 'Iter', 'od_wait': 28}. Best is trial 44 with value: 0.8633232628398791.\n",
      "[I 2025-07-31 12:18:49,773] Trial 92 finished with value: 0.8595770392749245 and parameters: {'iterations': 846, 'learning_rate': 0.0025585654539270757, 'depth': 8, 'l2_leaf_reg': 0.024669429140224887, 'bootstrap_type': 'Bayesian', 'random_strength': 0.000667548471998965, 'bagging_temperature': 0.2653911502617931, 'od_type': 'Iter', 'od_wait': 26}. Best is trial 44 with value: 0.8633232628398791.\n",
      "[I 2025-07-31 12:18:53,461] Trial 93 finished with value: 0.8564350453172206 and parameters: {'iterations': 736, 'learning_rate': 0.006038676285718922, 'depth': 8, 'l2_leaf_reg': 0.0005816747278285012, 'bootstrap_type': 'Bayesian', 'random_strength': 7.505137109955564e-05, 'bagging_temperature': 0.5006573416267937, 'od_type': 'Iter', 'od_wait': 29}. Best is trial 44 with value: 0.8633232628398791.\n",
      "[I 2025-07-31 12:18:57,369] Trial 94 finished with value: 0.8589728096676738 and parameters: {'iterations': 778, 'learning_rate': 0.004018893486678989, 'depth': 8, 'l2_leaf_reg': 0.0027172095601227637, 'bootstrap_type': 'Bayesian', 'random_strength': 5.749722701921538e-06, 'bagging_temperature': 0.8465972704869376, 'od_type': 'Iter', 'od_wait': 27}. Best is trial 44 with value: 0.8633232628398791.\n",
      "[I 2025-07-31 12:19:04,166] Trial 95 finished with value: 0.8615105740181269 and parameters: {'iterations': 635, 'learning_rate': 0.005115097551134914, 'depth': 8, 'l2_leaf_reg': 0.007366821174500065, 'bootstrap_type': 'Bayesian', 'random_strength': 2.4804398067667e-06, 'bagging_temperature': 0.24868525699951416, 'od_type': 'Iter', 'od_wait': 31}. Best is trial 44 with value: 0.8633232628398791.\n",
      "[I 2025-07-31 12:19:06,897] Trial 96 finished with value: 0.8590936555891239 and parameters: {'iterations': 583, 'learning_rate': 0.010642063163583895, 'depth': 8, 'l2_leaf_reg': 0.04615458633247291, 'bootstrap_type': 'Bayesian', 'random_strength': 2.071367910933177e-06, 'bagging_temperature': 1.144720206062615, 'od_type': 'Iter', 'od_wait': 31}. Best is trial 44 with value: 0.8633232628398791.\n",
      "[I 2025-07-31 12:19:10,880] Trial 97 finished with value: 0.8580060422960725 and parameters: {'iterations': 640, 'learning_rate': 0.007219142646621045, 'depth': 9, 'l2_leaf_reg': 0.007159269345209063, 'bootstrap_type': 'Bayesian', 'random_strength': 4.3845028688860345e-06, 'bagging_temperature': 0.6331715209036751, 'od_type': 'Iter', 'od_wait': 30}. Best is trial 44 with value: 0.8633232628398791.\n",
      "[I 2025-07-31 12:19:13,266] Trial 98 finished with value: 0.8500302114803625 and parameters: {'iterations': 607, 'learning_rate': 0.002853333001350289, 'depth': 7, 'l2_leaf_reg': 0.6959203550775884, 'bootstrap_type': 'Bayesian', 'random_strength': 7.664243336379913e-07, 'bagging_temperature': 1.5105633110991459, 'od_type': 'Iter', 'od_wait': 23}. Best is trial 44 with value: 0.8633232628398791.\n",
      "[I 2025-07-31 12:19:16,556] Trial 99 finished with value: 0.860785498489426 and parameters: {'iterations': 709, 'learning_rate': 0.005554533186276907, 'depth': 8, 'l2_leaf_reg': 0.01666916392971425, 'bootstrap_type': 'Bayesian', 'random_strength': 2.48730747193654e-05, 'bagging_temperature': 0.17016882887768991, 'od_type': 'Iter', 'od_wait': 26}. Best is trial 44 with value: 0.8633232628398791.\n"
     ]
    }
   ],
   "execution_count": 134
  },
  {
   "metadata": {
    "ExecuteTime": {
     "end_time": "2025-07-31T10:21:13.406828Z",
     "start_time": "2025-07-31T10:21:13.385567Z"
    }
   },
   "cell_type": "code",
   "source": [
    "print(\"Number of finished trials: \", len(study.trials))\n",
    "print(\"Best trial:\")\n",
    "trial = study.best_trial\n",
    "print(\"  Value: \", trial.value)\n",
    "print(\"  Params: \")\n",
    "for key, value in trial.params.items():\n",
    "    print(\"    {}: {}\".format(key, value))"
   ],
   "outputs": [
    {
     "name": "stdout",
     "output_type": "stream",
     "text": [
      "Number of finished trials:  100\n",
      "Best trial:\n",
      "  Value:  0.8633232628398791\n",
      "  Params: \n",
      "    iterations: 162\n",
      "    learning_rate: 0.020659576807258582\n",
      "    depth: 8\n",
      "    l2_leaf_reg: 0.8679838253640907\n",
      "    bootstrap_type: Bayesian\n",
      "    random_strength: 1.5305950013403581e-06\n",
      "    bagging_temperature: 0.5829113245739789\n",
      "    od_type: IncToDec\n",
      "    od_wait: 40\n"
     ]
    }
   ],
   "execution_count": 135
  },
  {
   "metadata": {
    "ExecuteTime": {
     "end_time": "2025-07-31T10:23:54.949932Z",
     "start_time": "2025-07-31T10:23:49.428003Z"
    }
   },
   "cell_type": "code",
   "source": [
    "with mlflow.start_run() as run:\n",
    "    mlflow.set_tag(\"optimizer\", \"optuna\")\n",
    "    mlflow.set_tag(\"model_type\", \"CatBoostClassifier\")\n",
    "    mlflow.set_tag(\"description\", \"Optuna hyperparameter optimization\")\n",
    "    \n",
    "    mlflow.log_metric(\"best_accuracy\", trial.value)\n",
    "    mlflow.log_params(trial.params)\n",
    "    mlflow.log_param(\"n_trials\", len(study.trials))\n",
    "    \n",
    "    best_model = CatBoostClassifier(**trial.params)\n",
    "    best_model.fit(X_train, y_train)\n",
    "    \n",
    "    test_pred = best_model.predict(X_test)\n",
    "    train_pred = best_model.predict(X_train)\n",
    "    accuracy_test = accuracy_score(y_test, test_pred)\n",
    "    accuracy_train = accuracy_score(y_train, train_pred)\n",
    "    \n",
    "    mlflow.log_metrics({\n",
    "        \"final_accuracy_test\": accuracy_test,\n",
    "        \"final_accuracy_train\": accuracy_train,\n",
    "        \"accuracy_gap\": accuracy_train - accuracy_test\n",
    "    })\n",
    "    \n",
    "    mlflow.catboost.log_model(best_model, \"best_model\")\n",
    "    \n",
    "    trials_df = study.trials_dataframe()\n",
    "    trials_df.to_csv(\"optuna_trials.csv\", index=False)\n",
    "    mlflow.log_artifact(\"optuna_trials.csv\")"
   ],
   "outputs": [
    {
     "name": "stdout",
     "output_type": "stream",
     "text": [
      "0:\tlearn: 0.6720991\ttotal: 12.1ms\tremaining: 1.95s\n",
      "1:\tlearn: 0.6525455\ttotal: 17ms\tremaining: 1.36s\n",
      "2:\tlearn: 0.6357474\ttotal: 23.8ms\tremaining: 1.26s\n",
      "3:\tlearn: 0.6200871\ttotal: 35.6ms\tremaining: 1.41s\n",
      "4:\tlearn: 0.6058055\ttotal: 43.8ms\tremaining: 1.38s\n",
      "5:\tlearn: 0.5908016\ttotal: 60.6ms\tremaining: 1.57s\n",
      "6:\tlearn: 0.5769070\ttotal: 72.4ms\tremaining: 1.6s\n",
      "7:\tlearn: 0.5661361\ttotal: 86.3ms\tremaining: 1.66s\n",
      "8:\tlearn: 0.5561276\ttotal: 108ms\tremaining: 1.84s\n",
      "9:\tlearn: 0.5457519\ttotal: 121ms\tremaining: 1.84s\n",
      "10:\tlearn: 0.5365709\ttotal: 135ms\tremaining: 1.86s\n",
      "11:\tlearn: 0.5277573\ttotal: 161ms\tremaining: 2.02s\n",
      "12:\tlearn: 0.5196405\ttotal: 174ms\tremaining: 1.99s\n",
      "13:\tlearn: 0.5115723\ttotal: 186ms\tremaining: 1.97s\n",
      "14:\tlearn: 0.5042330\ttotal: 197ms\tremaining: 1.93s\n",
      "15:\tlearn: 0.4972150\ttotal: 210ms\tremaining: 1.92s\n",
      "16:\tlearn: 0.4904180\ttotal: 222ms\tremaining: 1.89s\n",
      "17:\tlearn: 0.4835657\ttotal: 227ms\tremaining: 1.82s\n",
      "18:\tlearn: 0.4768666\ttotal: 236ms\tremaining: 1.77s\n",
      "19:\tlearn: 0.4701448\ttotal: 241ms\tremaining: 1.71s\n",
      "20:\tlearn: 0.4637266\ttotal: 246ms\tremaining: 1.65s\n",
      "21:\tlearn: 0.4584283\ttotal: 253ms\tremaining: 1.61s\n",
      "22:\tlearn: 0.4531382\ttotal: 260ms\tremaining: 1.57s\n",
      "23:\tlearn: 0.4487149\ttotal: 267ms\tremaining: 1.53s\n",
      "24:\tlearn: 0.4443175\ttotal: 272ms\tremaining: 1.49s\n",
      "25:\tlearn: 0.4398412\ttotal: 277ms\tremaining: 1.45s\n",
      "26:\tlearn: 0.4355579\ttotal: 282ms\tremaining: 1.41s\n",
      "27:\tlearn: 0.4314930\ttotal: 289ms\tremaining: 1.38s\n",
      "28:\tlearn: 0.4280118\ttotal: 294ms\tremaining: 1.35s\n",
      "29:\tlearn: 0.4232903\ttotal: 302ms\tremaining: 1.33s\n",
      "30:\tlearn: 0.4197337\ttotal: 310ms\tremaining: 1.31s\n",
      "31:\tlearn: 0.4165577\ttotal: 315ms\tremaining: 1.28s\n",
      "32:\tlearn: 0.4136224\ttotal: 321ms\tremaining: 1.25s\n",
      "33:\tlearn: 0.4102513\ttotal: 326ms\tremaining: 1.23s\n",
      "34:\tlearn: 0.4076049\ttotal: 335ms\tremaining: 1.21s\n",
      "35:\tlearn: 0.4046534\ttotal: 344ms\tremaining: 1.2s\n",
      "36:\tlearn: 0.4015004\ttotal: 351ms\tremaining: 1.19s\n",
      "37:\tlearn: 0.3986105\ttotal: 360ms\tremaining: 1.17s\n",
      "38:\tlearn: 0.3959271\ttotal: 370ms\tremaining: 1.17s\n",
      "39:\tlearn: 0.3928131\ttotal: 379ms\tremaining: 1.15s\n",
      "40:\tlearn: 0.3909243\ttotal: 385ms\tremaining: 1.14s\n",
      "41:\tlearn: 0.3885354\ttotal: 393ms\tremaining: 1.12s\n",
      "42:\tlearn: 0.3865439\ttotal: 398ms\tremaining: 1.1s\n",
      "43:\tlearn: 0.3844688\ttotal: 403ms\tremaining: 1.08s\n",
      "44:\tlearn: 0.3822673\ttotal: 408ms\tremaining: 1.06s\n",
      "45:\tlearn: 0.3805015\ttotal: 413ms\tremaining: 1.04s\n",
      "46:\tlearn: 0.3786339\ttotal: 417ms\tremaining: 1.02s\n",
      "47:\tlearn: 0.3769966\ttotal: 425ms\tremaining: 1.01s\n",
      "48:\tlearn: 0.3752547\ttotal: 432ms\tremaining: 995ms\n",
      "49:\tlearn: 0.3737793\ttotal: 439ms\tremaining: 984ms\n",
      "50:\tlearn: 0.3720525\ttotal: 447ms\tremaining: 974ms\n",
      "51:\tlearn: 0.3702138\ttotal: 454ms\tremaining: 961ms\n",
      "52:\tlearn: 0.3683212\ttotal: 461ms\tremaining: 949ms\n",
      "53:\tlearn: 0.3669817\ttotal: 467ms\tremaining: 934ms\n",
      "54:\tlearn: 0.3652695\ttotal: 473ms\tremaining: 920ms\n",
      "55:\tlearn: 0.3627199\ttotal: 479ms\tremaining: 906ms\n",
      "56:\tlearn: 0.3612326\ttotal: 486ms\tremaining: 895ms\n",
      "57:\tlearn: 0.3600001\ttotal: 494ms\tremaining: 886ms\n",
      "58:\tlearn: 0.3586445\ttotal: 503ms\tremaining: 877ms\n",
      "59:\tlearn: 0.3575017\ttotal: 510ms\tremaining: 867ms\n",
      "60:\tlearn: 0.3566443\ttotal: 516ms\tremaining: 855ms\n",
      "61:\tlearn: 0.3555158\ttotal: 525ms\tremaining: 846ms\n",
      "62:\tlearn: 0.3544546\ttotal: 530ms\tremaining: 834ms\n",
      "63:\tlearn: 0.3528228\ttotal: 536ms\tremaining: 821ms\n",
      "64:\tlearn: 0.3518465\ttotal: 541ms\tremaining: 807ms\n",
      "65:\tlearn: 0.3508245\ttotal: 545ms\tremaining: 793ms\n",
      "66:\tlearn: 0.3499806\ttotal: 550ms\tremaining: 780ms\n",
      "67:\tlearn: 0.3492076\ttotal: 555ms\tremaining: 768ms\n",
      "68:\tlearn: 0.3484210\ttotal: 560ms\tremaining: 755ms\n",
      "69:\tlearn: 0.3476602\ttotal: 565ms\tremaining: 743ms\n",
      "70:\tlearn: 0.3468506\ttotal: 571ms\tremaining: 731ms\n",
      "71:\tlearn: 0.3456047\ttotal: 575ms\tremaining: 719ms\n",
      "72:\tlearn: 0.3448210\ttotal: 580ms\tremaining: 707ms\n",
      "73:\tlearn: 0.3440237\ttotal: 584ms\tremaining: 695ms\n",
      "74:\tlearn: 0.3430944\ttotal: 588ms\tremaining: 682ms\n",
      "75:\tlearn: 0.3420317\ttotal: 592ms\tremaining: 670ms\n",
      "76:\tlearn: 0.3405833\ttotal: 597ms\tremaining: 659ms\n",
      "77:\tlearn: 0.3399109\ttotal: 601ms\tremaining: 648ms\n",
      "78:\tlearn: 0.3391288\ttotal: 606ms\tremaining: 636ms\n",
      "79:\tlearn: 0.3383288\ttotal: 610ms\tremaining: 625ms\n",
      "80:\tlearn: 0.3377662\ttotal: 614ms\tremaining: 614ms\n",
      "81:\tlearn: 0.3369969\ttotal: 619ms\tremaining: 604ms\n",
      "82:\tlearn: 0.3361852\ttotal: 625ms\tremaining: 595ms\n",
      "83:\tlearn: 0.3355372\ttotal: 629ms\tremaining: 584ms\n",
      "84:\tlearn: 0.3348121\ttotal: 635ms\tremaining: 575ms\n",
      "85:\tlearn: 0.3340893\ttotal: 641ms\tremaining: 567ms\n",
      "86:\tlearn: 0.3335008\ttotal: 649ms\tremaining: 559ms\n",
      "87:\tlearn: 0.3329535\ttotal: 655ms\tremaining: 551ms\n",
      "88:\tlearn: 0.3320980\ttotal: 661ms\tremaining: 542ms\n",
      "89:\tlearn: 0.3315063\ttotal: 667ms\tremaining: 533ms\n",
      "90:\tlearn: 0.3304926\ttotal: 672ms\tremaining: 525ms\n",
      "91:\tlearn: 0.3298420\ttotal: 678ms\tremaining: 516ms\n",
      "92:\tlearn: 0.3288855\ttotal: 683ms\tremaining: 507ms\n",
      "93:\tlearn: 0.3284113\ttotal: 688ms\tremaining: 498ms\n",
      "94:\tlearn: 0.3279410\ttotal: 693ms\tremaining: 489ms\n",
      "95:\tlearn: 0.3273281\ttotal: 698ms\tremaining: 480ms\n",
      "96:\tlearn: 0.3268916\ttotal: 704ms\tremaining: 472ms\n",
      "97:\tlearn: 0.3264272\ttotal: 709ms\tremaining: 463ms\n",
      "98:\tlearn: 0.3253932\ttotal: 714ms\tremaining: 454ms\n",
      "99:\tlearn: 0.3245031\ttotal: 720ms\tremaining: 446ms\n",
      "100:\tlearn: 0.3237985\ttotal: 724ms\tremaining: 437ms\n",
      "101:\tlearn: 0.3233558\ttotal: 728ms\tremaining: 428ms\n",
      "102:\tlearn: 0.3228936\ttotal: 733ms\tremaining: 420ms\n",
      "103:\tlearn: 0.3221798\ttotal: 737ms\tremaining: 411ms\n",
      "104:\tlearn: 0.3217166\ttotal: 742ms\tremaining: 403ms\n",
      "105:\tlearn: 0.3211927\ttotal: 747ms\tremaining: 395ms\n",
      "106:\tlearn: 0.3208497\ttotal: 754ms\tremaining: 388ms\n",
      "107:\tlearn: 0.3204086\ttotal: 758ms\tremaining: 379ms\n",
      "108:\tlearn: 0.3198115\ttotal: 762ms\tremaining: 371ms\n",
      "109:\tlearn: 0.3190666\ttotal: 767ms\tremaining: 363ms\n",
      "110:\tlearn: 0.3185938\ttotal: 772ms\tremaining: 354ms\n",
      "111:\tlearn: 0.3180868\ttotal: 776ms\tremaining: 346ms\n",
      "112:\tlearn: 0.3176607\ttotal: 780ms\tremaining: 338ms\n",
      "113:\tlearn: 0.3170295\ttotal: 785ms\tremaining: 330ms\n",
      "114:\tlearn: 0.3165971\ttotal: 790ms\tremaining: 323ms\n",
      "115:\tlearn: 0.3160769\ttotal: 795ms\tremaining: 315ms\n",
      "116:\tlearn: 0.3155648\ttotal: 799ms\tremaining: 307ms\n",
      "117:\tlearn: 0.3148149\ttotal: 804ms\tremaining: 300ms\n",
      "118:\tlearn: 0.3144457\ttotal: 808ms\tremaining: 292ms\n",
      "119:\tlearn: 0.3140961\ttotal: 812ms\tremaining: 284ms\n",
      "120:\tlearn: 0.3135570\ttotal: 817ms\tremaining: 277ms\n",
      "121:\tlearn: 0.3130765\ttotal: 825ms\tremaining: 270ms\n",
      "122:\tlearn: 0.3124350\ttotal: 831ms\tremaining: 264ms\n",
      "123:\tlearn: 0.3120268\ttotal: 837ms\tremaining: 257ms\n",
      "124:\tlearn: 0.3114390\ttotal: 843ms\tremaining: 250ms\n",
      "125:\tlearn: 0.3110765\ttotal: 848ms\tremaining: 242ms\n",
      "126:\tlearn: 0.3106368\ttotal: 854ms\tremaining: 235ms\n",
      "127:\tlearn: 0.3103164\ttotal: 859ms\tremaining: 228ms\n",
      "128:\tlearn: 0.3096665\ttotal: 864ms\tremaining: 221ms\n",
      "129:\tlearn: 0.3093367\ttotal: 870ms\tremaining: 214ms\n",
      "130:\tlearn: 0.3089099\ttotal: 875ms\tremaining: 207ms\n",
      "131:\tlearn: 0.3084757\ttotal: 881ms\tremaining: 200ms\n",
      "132:\tlearn: 0.3081557\ttotal: 887ms\tremaining: 193ms\n",
      "133:\tlearn: 0.3078215\ttotal: 892ms\tremaining: 186ms\n",
      "134:\tlearn: 0.3074772\ttotal: 897ms\tremaining: 179ms\n",
      "135:\tlearn: 0.3071469\ttotal: 903ms\tremaining: 173ms\n",
      "136:\tlearn: 0.3068498\ttotal: 911ms\tremaining: 166ms\n",
      "137:\tlearn: 0.3063812\ttotal: 916ms\tremaining: 159ms\n",
      "138:\tlearn: 0.3058474\ttotal: 923ms\tremaining: 153ms\n",
      "139:\tlearn: 0.3054473\ttotal: 929ms\tremaining: 146ms\n",
      "140:\tlearn: 0.3050242\ttotal: 934ms\tremaining: 139ms\n",
      "141:\tlearn: 0.3047461\ttotal: 938ms\tremaining: 132ms\n",
      "142:\tlearn: 0.3042107\ttotal: 943ms\tremaining: 125ms\n",
      "143:\tlearn: 0.3039226\ttotal: 947ms\tremaining: 118ms\n",
      "144:\tlearn: 0.3034683\ttotal: 952ms\tremaining: 112ms\n",
      "145:\tlearn: 0.3027407\ttotal: 956ms\tremaining: 105ms\n",
      "146:\tlearn: 0.3020788\ttotal: 961ms\tremaining: 98ms\n",
      "147:\tlearn: 0.3017674\ttotal: 965ms\tremaining: 91.3ms\n",
      "148:\tlearn: 0.3014718\ttotal: 970ms\tremaining: 84.6ms\n",
      "149:\tlearn: 0.3009665\ttotal: 974ms\tremaining: 77.9ms\n",
      "150:\tlearn: 0.3004561\ttotal: 978ms\tremaining: 71.3ms\n",
      "151:\tlearn: 0.3001962\ttotal: 983ms\tremaining: 64.6ms\n",
      "152:\tlearn: 0.2999884\ttotal: 987ms\tremaining: 58.1ms\n",
      "153:\tlearn: 0.2996200\ttotal: 993ms\tremaining: 51.6ms\n",
      "154:\tlearn: 0.2990799\ttotal: 998ms\tremaining: 45.1ms\n",
      "155:\tlearn: 0.2985657\ttotal: 1s\tremaining: 38.6ms\n",
      "156:\tlearn: 0.2980492\ttotal: 1.01s\tremaining: 32.1ms\n",
      "157:\tlearn: 0.2974919\ttotal: 1.01s\tremaining: 25.6ms\n"
     ]
    },
    {
     "name": "stderr",
     "output_type": "stream",
     "text": [
      "2025/07/31 12:23:50 WARNING mlflow.models.model: `artifact_path` is deprecated. Please use `name` instead.\n"
     ]
    },
    {
     "name": "stdout",
     "output_type": "stream",
     "text": [
      "158:\tlearn: 0.2970819\ttotal: 1.02s\tremaining: 19.2ms\n",
      "159:\tlearn: 0.2967035\ttotal: 1.02s\tremaining: 12.8ms\n",
      "160:\tlearn: 0.2964366\ttotal: 1.03s\tremaining: 6.39ms\n",
      "161:\tlearn: 0.2961713\ttotal: 1.03s\tremaining: 0us\n"
     ]
    },
    {
     "name": "stderr",
     "output_type": "stream",
     "text": [
      "\u001B[31m2025/07/31 12:23:54 WARNING mlflow.models.model: Model logged without a signature and input example. Please set `input_example` parameter when logging the model to auto infer the model signature.\u001B[0m\n"
     ]
    }
   ],
   "execution_count": 136
  },
  {
   "metadata": {
    "ExecuteTime": {
     "end_time": "2025-07-31T10:25:14.450566Z",
     "start_time": "2025-07-31T10:25:11.730497Z"
    }
   },
   "cell_type": "code",
   "source": "mlflow.catboost.log_model(best_model, \"best_model\")",
   "outputs": [
    {
     "name": "stderr",
     "output_type": "stream",
     "text": [
      "2025/07/31 12:25:11 WARNING mlflow.models.model: `artifact_path` is deprecated. Please use `name` instead.\n",
      "\u001B[31m2025/07/31 12:25:14 WARNING mlflow.models.model: Model logged without a signature and input example. Please set `input_example` parameter when logging the model to auto infer the model signature.\u001B[0m\n"
     ]
    },
    {
     "data": {
      "text/plain": [
       "<mlflow.models.model.ModelInfo at 0x281a4e420>"
      ]
     },
     "execution_count": 139,
     "metadata": {},
     "output_type": "execute_result"
    }
   ],
   "execution_count": 139
  },
  {
   "metadata": {
    "ExecuteTime": {
     "end_time": "2025-07-31T10:25:09.307624Z",
     "start_time": "2025-07-31T10:25:09.302758Z"
    }
   },
   "cell_type": "code",
   "source": "mlflow.end_run()",
   "outputs": [],
   "execution_count": 138
  },
  {
   "metadata": {},
   "cell_type": "code",
   "outputs": [],
   "execution_count": null,
   "source": ""
  }
 ],
 "metadata": {
  "kaggle": {
   "accelerator": "none",
   "dataSources": [
    {
     "datasetId": 2783627,
     "sourceId": 4807272,
     "sourceType": "datasetVersion"
    }
   ],
   "dockerImageVersionId": 31089,
   "isGpuEnabled": false,
   "isInternetEnabled": true,
   "language": "python",
   "sourceType": "notebook"
  },
  "kernelspec": {
   "display_name": "Python 3 (ipykernel)",
   "language": "python",
   "name": "python3"
  },
  "language_info": {
   "codemirror_mode": {
    "name": "ipython",
    "version": 3
   },
   "file_extension": ".py",
   "mimetype": "text/x-python",
   "name": "python",
   "nbconvert_exporter": "python",
   "pygments_lexer": "ipython3",
   "version": "3.12.3"
  }
 },
 "nbformat": 4,
 "nbformat_minor": 4
}
