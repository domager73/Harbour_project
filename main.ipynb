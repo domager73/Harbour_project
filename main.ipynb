{
 "metadata": {
  "kernelspec": {
   "language": "python",
   "display_name": "Python 3",
   "name": "python3"
  },
  "language_info": {
   "name": "python",
   "version": "3.11.13",
   "mimetype": "text/x-python",
   "codemirror_mode": {
    "name": "ipython",
    "version": 3
   },
   "pygments_lexer": "ipython3",
   "nbconvert_exporter": "python",
   "file_extension": ".py"
  },
  "kaggle": {
   "accelerator": "none",
   "dataSources": [
    {
     "sourceId": 4807272,
     "sourceType": "datasetVersion",
     "datasetId": 2783627
    }
   ],
   "dockerImageVersionId": 31089,
   "isInternetEnabled": true,
   "language": "python",
   "sourceType": "notebook",
   "isGpuEnabled": false
  }
 },
 "nbformat_minor": 4,
 "nbformat": 4,
 "cells": [
  {
   "cell_type": "markdown",
   "source": "# Import Libraris",
   "metadata": {}
  },
  {
   "metadata": {
    "ExecuteTime": {
     "end_time": "2025-07-31T08:05:37.874025Z",
     "start_time": "2025-07-31T08:05:36.738065Z"
    }
   },
   "cell_type": "code",
   "source": "!pip install evidently",
   "outputs": [
    {
     "name": "stdout",
     "output_type": "stream",
     "text": [
      "Requirement already satisfied: evidently in ./.venv/lib/python3.12/site-packages (0.7.11)\r\n",
      "Requirement already satisfied: plotly<6,>=5.10.0 in ./.venv/lib/python3.12/site-packages (from evidently) (5.24.1)\r\n",
      "Requirement already satisfied: statsmodels>=0.12.2 in ./.venv/lib/python3.12/site-packages (from evidently) (0.14.5)\r\n",
      "Requirement already satisfied: scikit-learn>=1.0.1 in ./.venv/lib/python3.12/site-packages (from evidently) (1.7.1)\r\n",
      "Requirement already satisfied: pandas>=1.3.5 in ./.venv/lib/python3.12/site-packages (from pandas[parquet]>=1.3.5->evidently) (2.3.1)\r\n",
      "Requirement already satisfied: numpy>=1.22.0 in ./.venv/lib/python3.12/site-packages (from evidently) (2.1.3)\r\n",
      "Requirement already satisfied: nltk>=3.6.7 in ./.venv/lib/python3.12/site-packages (from evidently) (3.9.1)\r\n",
      "Requirement already satisfied: scipy>=1.10.0 in ./.venv/lib/python3.12/site-packages (from evidently) (1.15.3)\r\n",
      "Requirement already satisfied: requests>=2.32.0 in ./.venv/lib/python3.12/site-packages (from evidently) (2.32.4)\r\n",
      "Requirement already satisfied: PyYAML>=5.4 in ./.venv/lib/python3.12/site-packages (from evidently) (6.0.2)\r\n",
      "Requirement already satisfied: pydantic>=1.10.16 in ./.venv/lib/python3.12/site-packages (from evidently) (2.11.7)\r\n",
      "Requirement already satisfied: litestar>=2.8.3 in ./.venv/lib/python3.12/site-packages (from evidently) (2.16.0)\r\n",
      "Requirement already satisfied: typing-inspect>=0.9.0 in ./.venv/lib/python3.12/site-packages (from evidently) (0.9.0)\r\n",
      "Requirement already satisfied: uvicorn>=0.22.0 in ./.venv/lib/python3.12/site-packages (from uvicorn[standard]>=0.22.0->evidently) (0.35.0)\r\n",
      "Requirement already satisfied: watchdog>=3.0.0 in ./.venv/lib/python3.12/site-packages (from evidently) (6.0.0)\r\n",
      "Requirement already satisfied: typer>=0.3 in ./.venv/lib/python3.12/site-packages (from evidently) (0.16.0)\r\n",
      "Requirement already satisfied: rich>=13 in ./.venv/lib/python3.12/site-packages (from evidently) (14.1.0)\r\n",
      "Requirement already satisfied: iterative-telemetry>=0.0.5 in ./.venv/lib/python3.12/site-packages (from evidently) (0.0.10)\r\n",
      "Requirement already satisfied: dynaconf>=3.2.4 in ./.venv/lib/python3.12/site-packages (from evidently) (3.2.11)\r\n",
      "Requirement already satisfied: certifi>=2024.7.4 in ./.venv/lib/python3.12/site-packages (from evidently) (2025.7.14)\r\n",
      "Requirement already satisfied: urllib3>=1.26.19 in ./.venv/lib/python3.12/site-packages (from evidently) (2.5.0)\r\n",
      "Requirement already satisfied: fsspec>=2024.6.1 in ./.venv/lib/python3.12/site-packages (from evidently) (2025.7.0)\r\n",
      "Requirement already satisfied: ujson>=5.4.0 in ./.venv/lib/python3.12/site-packages (from evidently) (5.10.0)\r\n",
      "Requirement already satisfied: deprecation>=2.1.0 in ./.venv/lib/python3.12/site-packages (from evidently) (2.1.0)\r\n",
      "Requirement already satisfied: uuid6>=2024.7.10 in ./.venv/lib/python3.12/site-packages (from evidently) (2025.0.1)\r\n",
      "Requirement already satisfied: cryptography>=43.0.1 in ./.venv/lib/python3.12/site-packages (from evidently) (45.0.5)\r\n",
      "Requirement already satisfied: tenacity>=6.2.0 in ./.venv/lib/python3.12/site-packages (from plotly<6,>=5.10.0->evidently) (9.1.2)\r\n",
      "Requirement already satisfied: packaging in ./.venv/lib/python3.12/site-packages (from plotly<6,>=5.10.0->evidently) (25.0)\r\n",
      "Requirement already satisfied: cffi>=1.14 in ./.venv/lib/python3.12/site-packages (from cryptography>=43.0.1->evidently) (1.17.1)\r\n",
      "Requirement already satisfied: pycparser in ./.venv/lib/python3.12/site-packages (from cffi>=1.14->cryptography>=43.0.1->evidently) (2.22)\r\n",
      "Requirement already satisfied: appdirs in ./.venv/lib/python3.12/site-packages (from iterative-telemetry>=0.0.5->evidently) (1.4.4)\r\n",
      "Requirement already satisfied: filelock in ./.venv/lib/python3.12/site-packages (from iterative-telemetry>=0.0.5->evidently) (3.18.0)\r\n",
      "Requirement already satisfied: distro in ./.venv/lib/python3.12/site-packages (from iterative-telemetry>=0.0.5->evidently) (1.9.0)\r\n",
      "Requirement already satisfied: anyio>=3 in ./.venv/lib/python3.12/site-packages (from litestar>=2.8.3->evidently) (4.9.0)\r\n",
      "Requirement already satisfied: click in ./.venv/lib/python3.12/site-packages (from litestar>=2.8.3->evidently) (8.2.1)\r\n",
      "Requirement already satisfied: httpx>=0.22 in ./.venv/lib/python3.12/site-packages (from litestar>=2.8.3->evidently) (0.28.1)\r\n",
      "Requirement already satisfied: litestar-htmx>=0.4.0 in ./.venv/lib/python3.12/site-packages (from litestar>=2.8.3->evidently) (0.5.0)\r\n",
      "Requirement already satisfied: msgspec>=0.18.2 in ./.venv/lib/python3.12/site-packages (from litestar>=2.8.3->evidently) (0.19.0)\r\n",
      "Requirement already satisfied: multidict>=6.0.2 in ./.venv/lib/python3.12/site-packages (from litestar>=2.8.3->evidently) (6.6.3)\r\n",
      "Requirement already satisfied: multipart>=1.2.0 in ./.venv/lib/python3.12/site-packages (from litestar>=2.8.3->evidently) (1.3.0)\r\n",
      "Requirement already satisfied: polyfactory>=2.6.3 in ./.venv/lib/python3.12/site-packages (from litestar>=2.8.3->evidently) (2.22.1)\r\n",
      "Requirement already satisfied: rich-click in ./.venv/lib/python3.12/site-packages (from litestar>=2.8.3->evidently) (1.8.9)\r\n",
      "Requirement already satisfied: typing-extensions in ./.venv/lib/python3.12/site-packages (from litestar>=2.8.3->evidently) (4.14.1)\r\n",
      "Requirement already satisfied: idna>=2.8 in ./.venv/lib/python3.12/site-packages (from anyio>=3->litestar>=2.8.3->evidently) (3.10)\r\n",
      "Requirement already satisfied: sniffio>=1.1 in ./.venv/lib/python3.12/site-packages (from anyio>=3->litestar>=2.8.3->evidently) (1.3.1)\r\n",
      "Requirement already satisfied: httpcore==1.* in ./.venv/lib/python3.12/site-packages (from httpx>=0.22->litestar>=2.8.3->evidently) (1.0.9)\r\n",
      "Requirement already satisfied: h11>=0.16 in ./.venv/lib/python3.12/site-packages (from httpcore==1.*->httpx>=0.22->litestar>=2.8.3->evidently) (0.16.0)\r\n",
      "Requirement already satisfied: joblib in ./.venv/lib/python3.12/site-packages (from nltk>=3.6.7->evidently) (1.5.1)\r\n",
      "Requirement already satisfied: regex>=2021.8.3 in ./.venv/lib/python3.12/site-packages (from nltk>=3.6.7->evidently) (2025.7.34)\r\n",
      "Requirement already satisfied: tqdm in ./.venv/lib/python3.12/site-packages (from nltk>=3.6.7->evidently) (4.67.1)\r\n",
      "Requirement already satisfied: python-dateutil>=2.8.2 in ./.venv/lib/python3.12/site-packages (from pandas>=1.3.5->pandas[parquet]>=1.3.5->evidently) (2.9.0.post0)\r\n",
      "Requirement already satisfied: pytz>=2020.1 in ./.venv/lib/python3.12/site-packages (from pandas>=1.3.5->pandas[parquet]>=1.3.5->evidently) (2025.2)\r\n",
      "Requirement already satisfied: tzdata>=2022.7 in ./.venv/lib/python3.12/site-packages (from pandas>=1.3.5->pandas[parquet]>=1.3.5->evidently) (2025.2)\r\n",
      "Requirement already satisfied: pyarrow>=10.0.1 in ./.venv/lib/python3.12/site-packages (from pandas[parquet]>=1.3.5->evidently) (21.0.0)\r\n",
      "Requirement already satisfied: faker>=5.0.0 in ./.venv/lib/python3.12/site-packages (from polyfactory>=2.6.3->litestar>=2.8.3->evidently) (37.5.3)\r\n",
      "Requirement already satisfied: annotated-types>=0.6.0 in ./.venv/lib/python3.12/site-packages (from pydantic>=1.10.16->evidently) (0.7.0)\r\n",
      "Requirement already satisfied: pydantic-core==2.33.2 in ./.venv/lib/python3.12/site-packages (from pydantic>=1.10.16->evidently) (2.33.2)\r\n",
      "Requirement already satisfied: typing-inspection>=0.4.0 in ./.venv/lib/python3.12/site-packages (from pydantic>=1.10.16->evidently) (0.4.1)\r\n",
      "Requirement already satisfied: six>=1.5 in ./.venv/lib/python3.12/site-packages (from python-dateutil>=2.8.2->pandas>=1.3.5->pandas[parquet]>=1.3.5->evidently) (1.17.0)\r\n",
      "Requirement already satisfied: charset_normalizer<4,>=2 in ./.venv/lib/python3.12/site-packages (from requests>=2.32.0->evidently) (3.4.2)\r\n",
      "Requirement already satisfied: markdown-it-py>=2.2.0 in ./.venv/lib/python3.12/site-packages (from rich>=13->evidently) (3.0.0)\r\n",
      "Requirement already satisfied: pygments<3.0.0,>=2.13.0 in ./.venv/lib/python3.12/site-packages (from rich>=13->evidently) (2.19.2)\r\n",
      "Requirement already satisfied: mdurl~=0.1 in ./.venv/lib/python3.12/site-packages (from markdown-it-py>=2.2.0->rich>=13->evidently) (0.1.2)\r\n",
      "Requirement already satisfied: threadpoolctl>=3.1.0 in ./.venv/lib/python3.12/site-packages (from scikit-learn>=1.0.1->evidently) (3.6.0)\r\n",
      "Requirement already satisfied: patsy>=0.5.6 in ./.venv/lib/python3.12/site-packages (from statsmodels>=0.12.2->evidently) (1.0.1)\r\n",
      "Requirement already satisfied: shellingham>=1.3.0 in ./.venv/lib/python3.12/site-packages (from typer>=0.3->evidently) (1.5.4)\r\n",
      "Requirement already satisfied: mypy-extensions>=0.3.0 in ./.venv/lib/python3.12/site-packages (from typing-inspect>=0.9.0->evidently) (1.1.0)\r\n",
      "Requirement already satisfied: httptools>=0.6.3 in ./.venv/lib/python3.12/site-packages (from uvicorn[standard]>=0.22.0->evidently) (0.6.4)\r\n",
      "Requirement already satisfied: python-dotenv>=0.13 in ./.venv/lib/python3.12/site-packages (from uvicorn[standard]>=0.22.0->evidently) (1.1.1)\r\n",
      "Requirement already satisfied: uvloop>=0.15.1 in ./.venv/lib/python3.12/site-packages (from uvicorn[standard]>=0.22.0->evidently) (0.21.0)\r\n",
      "Requirement already satisfied: watchfiles>=0.13 in ./.venv/lib/python3.12/site-packages (from uvicorn[standard]>=0.22.0->evidently) (1.1.0)\r\n",
      "Requirement already satisfied: websockets>=10.4 in ./.venv/lib/python3.12/site-packages (from uvicorn[standard]>=0.22.0->evidently) (15.0.1)\r\n"
     ]
    }
   ],
   "execution_count": 15
  },
  {
   "cell_type": "code",
   "source": "pip install ydata_profiling",
   "metadata": {
    "trusted": true,
    "execution": {
     "iopub.status.busy": "2025-07-24T09:50:38.996633Z",
     "iopub.execute_input": "2025-07-24T09:50:38.997097Z",
     "iopub.status.idle": "2025-07-24T09:50:45.501582Z",
     "shell.execute_reply.started": "2025-07-24T09:50:38.997065Z",
     "shell.execute_reply": "2025-07-24T09:50:45.500620Z"
    },
    "_kg_hide-input": true,
    "collapsed": true,
    "jupyter": {
     "outputs_hidden": true
    },
    "ExecuteTime": {
     "end_time": "2025-07-31T07:57:34.532255Z",
     "start_time": "2025-07-31T07:56:46.140705Z"
    }
   },
   "outputs": [
    {
     "name": "stdout",
     "output_type": "stream",
     "text": [
      "Collecting ydata_profiling\r\n",
      "  Downloading ydata_profiling-4.16.1-py2.py3-none-any.whl.metadata (22 kB)\r\n",
      "Collecting scipy<1.16,>=1.4.1 (from ydata_profiling)\r\n",
      "  Downloading scipy-1.15.3-cp312-cp312-macosx_14_0_arm64.whl.metadata (61 kB)\r\n",
      "Collecting pandas!=1.4.0,<3.0,>1.1 (from ydata_profiling)\r\n",
      "  Using cached pandas-2.3.1-cp312-cp312-macosx_11_0_arm64.whl.metadata (91 kB)\r\n",
      "Collecting matplotlib<=3.10,>=3.5 (from ydata_profiling)\r\n",
      "  Downloading matplotlib-3.10.0-cp312-cp312-macosx_11_0_arm64.whl.metadata (11 kB)\r\n",
      "Collecting pydantic>=2 (from ydata_profiling)\r\n",
      "  Using cached pydantic-2.11.7-py3-none-any.whl.metadata (67 kB)\r\n",
      "Requirement already satisfied: PyYAML<6.1,>=5.0.0 in ./.venv/lib/python3.12/site-packages (from ydata_profiling) (6.0.2)\r\n",
      "Requirement already satisfied: jinja2<3.2,>=2.11.1 in ./.venv/lib/python3.12/site-packages (from ydata_profiling) (3.1.6)\r\n",
      "Collecting visions<0.8.2,>=0.7.5 (from visions[type_image_path]<0.8.2,>=0.7.5->ydata_profiling)\r\n",
      "  Downloading visions-0.8.1-py3-none-any.whl.metadata (11 kB)\r\n",
      "Collecting numpy<2.2,>=1.16.0 (from ydata_profiling)\r\n",
      "  Downloading numpy-2.1.3-cp312-cp312-macosx_14_0_arm64.whl.metadata (62 kB)\r\n",
      "Collecting htmlmin==0.1.12 (from ydata_profiling)\r\n",
      "  Downloading htmlmin-0.1.12.tar.gz (19 kB)\r\n",
      "  Installing build dependencies ... \u001B[?25ldone\r\n",
      "\u001B[?25h  Getting requirements to build wheel ... \u001B[?25ldone\r\n",
      "\u001B[?25h  Preparing metadata (pyproject.toml) ... \u001B[?25ldone\r\n",
      "\u001B[?25hCollecting phik<0.13,>=0.11.1 (from ydata_profiling)\r\n",
      "  Downloading phik-0.12.5-cp312-cp312-macosx_11_0_arm64.whl.metadata (5.6 kB)\r\n",
      "Requirement already satisfied: requests<3,>=2.24.0 in ./.venv/lib/python3.12/site-packages (from ydata_profiling) (2.32.4)\r\n",
      "Collecting tqdm<5,>=4.48.2 (from ydata_profiling)\r\n",
      "  Using cached tqdm-4.67.1-py3-none-any.whl.metadata (57 kB)\r\n",
      "Collecting seaborn<0.14,>=0.10.1 (from ydata_profiling)\r\n",
      "  Using cached seaborn-0.13.2-py3-none-any.whl.metadata (5.4 kB)\r\n",
      "Collecting multimethod<2,>=1.4 (from ydata_profiling)\r\n",
      "  Downloading multimethod-1.12-py3-none-any.whl.metadata (9.6 kB)\r\n",
      "Collecting statsmodels<1,>=0.13.2 (from ydata_profiling)\r\n",
      "  Using cached statsmodels-0.14.5-cp312-cp312-macosx_11_0_arm64.whl.metadata (9.5 kB)\r\n",
      "Collecting typeguard<5,>=3 (from ydata_profiling)\r\n",
      "  Downloading typeguard-4.4.4-py3-none-any.whl.metadata (3.3 kB)\r\n",
      "Collecting imagehash==4.3.1 (from ydata_profiling)\r\n",
      "  Downloading ImageHash-4.3.1-py2.py3-none-any.whl.metadata (8.0 kB)\r\n",
      "Collecting wordcloud>=1.9.3 (from ydata_profiling)\r\n",
      "  Downloading wordcloud-1.9.4-cp312-cp312-macosx_11_0_arm64.whl.metadata (3.4 kB)\r\n",
      "Collecting dacite>=1.8 (from ydata_profiling)\r\n",
      "  Downloading dacite-1.9.2-py3-none-any.whl.metadata (17 kB)\r\n",
      "Collecting numba<=0.61,>=0.56.0 (from ydata_profiling)\r\n",
      "  Downloading numba-0.61.0-cp312-cp312-macosx_11_0_arm64.whl.metadata (2.7 kB)\r\n",
      "Collecting PyWavelets (from imagehash==4.3.1->ydata_profiling)\r\n",
      "  Downloading pywavelets-1.8.0-cp312-cp312-macosx_11_0_arm64.whl.metadata (9.0 kB)\r\n",
      "Collecting pillow (from imagehash==4.3.1->ydata_profiling)\r\n",
      "  Using cached pillow-11.3.0-cp312-cp312-macosx_11_0_arm64.whl.metadata (9.0 kB)\r\n",
      "Requirement already satisfied: MarkupSafe>=2.0 in ./.venv/lib/python3.12/site-packages (from jinja2<3.2,>=2.11.1->ydata_profiling) (3.0.2)\r\n",
      "Collecting contourpy>=1.0.1 (from matplotlib<=3.10,>=3.5->ydata_profiling)\r\n",
      "  Using cached contourpy-1.3.3-cp312-cp312-macosx_11_0_arm64.whl.metadata (5.5 kB)\r\n",
      "Collecting cycler>=0.10 (from matplotlib<=3.10,>=3.5->ydata_profiling)\r\n",
      "  Using cached cycler-0.12.1-py3-none-any.whl.metadata (3.8 kB)\r\n",
      "Collecting fonttools>=4.22.0 (from matplotlib<=3.10,>=3.5->ydata_profiling)\r\n",
      "  Using cached fonttools-4.59.0-cp312-cp312-macosx_10_13_universal2.whl.metadata (107 kB)\r\n",
      "Collecting kiwisolver>=1.3.1 (from matplotlib<=3.10,>=3.5->ydata_profiling)\r\n",
      "  Using cached kiwisolver-1.4.8-cp312-cp312-macosx_11_0_arm64.whl.metadata (6.2 kB)\r\n",
      "Requirement already satisfied: packaging>=20.0 in ./.venv/lib/python3.12/site-packages (from matplotlib<=3.10,>=3.5->ydata_profiling) (25.0)\r\n",
      "Collecting pyparsing>=2.3.1 (from matplotlib<=3.10,>=3.5->ydata_profiling)\r\n",
      "  Using cached pyparsing-3.2.3-py3-none-any.whl.metadata (5.0 kB)\r\n",
      "Requirement already satisfied: python-dateutil>=2.7 in ./.venv/lib/python3.12/site-packages (from matplotlib<=3.10,>=3.5->ydata_profiling) (2.9.0.post0)\r\n",
      "Collecting llvmlite<0.45,>=0.44.0dev0 (from numba<=0.61,>=0.56.0->ydata_profiling)\r\n",
      "  Downloading llvmlite-0.44.0-cp312-cp312-macosx_11_0_arm64.whl.metadata (4.8 kB)\r\n",
      "Collecting pytz>=2020.1 (from pandas!=1.4.0,<3.0,>1.1->ydata_profiling)\r\n",
      "  Using cached pytz-2025.2-py2.py3-none-any.whl.metadata (22 kB)\r\n",
      "Collecting tzdata>=2022.7 (from pandas!=1.4.0,<3.0,>1.1->ydata_profiling)\r\n",
      "  Using cached tzdata-2025.2-py2.py3-none-any.whl.metadata (1.4 kB)\r\n",
      "Collecting joblib>=0.14.1 (from phik<0.13,>=0.11.1->ydata_profiling)\r\n",
      "  Using cached joblib-1.5.1-py3-none-any.whl.metadata (5.6 kB)\r\n",
      "Requirement already satisfied: charset_normalizer<4,>=2 in ./.venv/lib/python3.12/site-packages (from requests<3,>=2.24.0->ydata_profiling) (3.4.2)\r\n",
      "Requirement already satisfied: idna<4,>=2.5 in ./.venv/lib/python3.12/site-packages (from requests<3,>=2.24.0->ydata_profiling) (3.10)\r\n",
      "Requirement already satisfied: urllib3<3,>=1.21.1 in ./.venv/lib/python3.12/site-packages (from requests<3,>=2.24.0->ydata_profiling) (2.5.0)\r\n",
      "Requirement already satisfied: certifi>=2017.4.17 in ./.venv/lib/python3.12/site-packages (from requests<3,>=2.24.0->ydata_profiling) (2025.7.14)\r\n",
      "Collecting patsy>=0.5.6 (from statsmodels<1,>=0.13.2->ydata_profiling)\r\n",
      "  Using cached patsy-1.0.1-py2.py3-none-any.whl.metadata (3.3 kB)\r\n",
      "Requirement already satisfied: typing_extensions>=4.14.0 in ./.venv/lib/python3.12/site-packages (from typeguard<5,>=3->ydata_profiling) (4.14.1)\r\n",
      "Requirement already satisfied: attrs>=19.3.0 in ./.venv/lib/python3.12/site-packages (from visions<0.8.2,>=0.7.5->visions[type_image_path]<0.8.2,>=0.7.5->ydata_profiling) (25.3.0)\r\n",
      "Collecting networkx>=2.4 (from visions<0.8.2,>=0.7.5->visions[type_image_path]<0.8.2,>=0.7.5->ydata_profiling)\r\n",
      "  Downloading networkx-3.5-py3-none-any.whl.metadata (6.3 kB)\r\n",
      "Collecting puremagic (from visions<0.8.2,>=0.7.5->visions[type_image_path]<0.8.2,>=0.7.5->ydata_profiling)\r\n",
      "  Downloading puremagic-1.30-py3-none-any.whl.metadata (5.8 kB)\r\n",
      "Collecting annotated-types>=0.6.0 (from pydantic>=2->ydata_profiling)\r\n",
      "  Using cached annotated_types-0.7.0-py3-none-any.whl.metadata (15 kB)\r\n",
      "Collecting pydantic-core==2.33.2 (from pydantic>=2->ydata_profiling)\r\n",
      "  Using cached pydantic_core-2.33.2-cp312-cp312-macosx_11_0_arm64.whl.metadata (6.8 kB)\r\n",
      "Collecting typing-inspection>=0.4.0 (from pydantic>=2->ydata_profiling)\r\n",
      "  Using cached typing_inspection-0.4.1-py3-none-any.whl.metadata (2.6 kB)\r\n",
      "Requirement already satisfied: six>=1.5 in ./.venv/lib/python3.12/site-packages (from python-dateutil>=2.7->matplotlib<=3.10,>=3.5->ydata_profiling) (1.17.0)\r\n",
      "Downloading ydata_profiling-4.16.1-py2.py3-none-any.whl (400 kB)\r\n",
      "Downloading ImageHash-4.3.1-py2.py3-none-any.whl (296 kB)\r\n",
      "Downloading matplotlib-3.10.0-cp312-cp312-macosx_11_0_arm64.whl (8.0 MB)\r\n",
      "\u001B[2K   \u001B[90m━━━━━━━━━━━━━━━━━━━━━━━━━━━━━━━━━━━━━━━━\u001B[0m \u001B[32m8.0/8.0 MB\u001B[0m \u001B[31m2.1 MB/s\u001B[0m  \u001B[33m0:00:03\u001B[0mm0:00:01\u001B[0m00:01\u001B[0m\r\n",
      "\u001B[?25hDownloading multimethod-1.12-py3-none-any.whl (10 kB)\r\n",
      "Downloading numba-0.61.0-cp312-cp312-macosx_11_0_arm64.whl (2.8 MB)\r\n",
      "\u001B[2K   \u001B[90m━━━━━━━━━━━━━━━━━━━━━━━━━━━━━━━━━━━━━━━━\u001B[0m \u001B[32m2.8/2.8 MB\u001B[0m \u001B[31m2.4 MB/s\u001B[0m  \u001B[33m0:00:01\u001B[0m eta \u001B[36m0:00:01\u001B[0m\r\n",
      "\u001B[?25hDownloading llvmlite-0.44.0-cp312-cp312-macosx_11_0_arm64.whl (26.2 MB)\r\n",
      "\u001B[2K   \u001B[90m━━━━━━━━━━━━━━━━━━━━━━━━━━━━━━━━━━━━━━━━\u001B[0m \u001B[32m26.2/26.2 MB\u001B[0m \u001B[31m2.2 MB/s\u001B[0m  \u001B[33m0:00:11\u001B[0mm0:00:01\u001B[0m00:01\u001B[0m\r\n",
      "\u001B[?25hDownloading numpy-2.1.3-cp312-cp312-macosx_14_0_arm64.whl (5.1 MB)\r\n",
      "\u001B[2K   \u001B[90m━━━━━━━━━━━━━━━━━━━━━━━━━━━━━━━━━━━━━━━━\u001B[0m \u001B[32m5.1/5.1 MB\u001B[0m \u001B[31m2.2 MB/s\u001B[0m  \u001B[33m0:00:02\u001B[0m eta \u001B[36m0:00:01\u001B[0m\r\n",
      "\u001B[?25hDownloading pandas-2.3.1-cp312-cp312-macosx_11_0_arm64.whl (10.7 MB)\r\n",
      "\u001B[2K   \u001B[90m━━━━━━━━━━━━━━━━━━━━━━━━━━━━━━━━━━━━━━━━\u001B[0m \u001B[32m10.7/10.7 MB\u001B[0m \u001B[31m2.2 MB/s\u001B[0m  \u001B[33m0:00:04\u001B[0m eta \u001B[36m0:00:01\u001B[0m\r\n",
      "\u001B[?25hDownloading phik-0.12.5-cp312-cp312-macosx_11_0_arm64.whl (665 kB)\r\n",
      "\u001B[2K   \u001B[90m━━━━━━━━━━━━━━━━━━━━━━━━━━━━━━━━━━━━━━━━\u001B[0m \u001B[32m665.7/665.7 kB\u001B[0m \u001B[31m2.7 MB/s\u001B[0m  \u001B[33m0:00:00\u001B[0m36m-:--:--\u001B[0m\r\n",
      "\u001B[?25hDownloading scipy-1.15.3-cp312-cp312-macosx_14_0_arm64.whl (22.4 MB)\r\n",
      "\u001B[2K   \u001B[90m━━━━━━━━━━━━━━━━━━━━━━━━━━━━━━━━━━━━━━━━\u001B[0m \u001B[32m22.4/22.4 MB\u001B[0m \u001B[31m2.5 MB/s\u001B[0m  \u001B[33m0:00:09\u001B[0mm0:00:01\u001B[0m00:01\u001B[0m\r\n",
      "\u001B[?25hUsing cached seaborn-0.13.2-py3-none-any.whl (294 kB)\r\n",
      "Using cached statsmodels-0.14.5-cp312-cp312-macosx_11_0_arm64.whl (9.7 MB)\r\n",
      "Downloading tqdm-4.67.1-py3-none-any.whl (78 kB)\r\n",
      "Downloading typeguard-4.4.4-py3-none-any.whl (34 kB)\r\n",
      "Downloading visions-0.8.1-py3-none-any.whl (105 kB)\r\n",
      "Downloading contourpy-1.3.3-cp312-cp312-macosx_11_0_arm64.whl (273 kB)\r\n",
      "Using cached cycler-0.12.1-py3-none-any.whl (8.3 kB)\r\n",
      "Downloading dacite-1.9.2-py3-none-any.whl (16 kB)\r\n",
      "Downloading fonttools-4.59.0-cp312-cp312-macosx_10_13_universal2.whl (2.8 MB)\r\n",
      "\u001B[2K   \u001B[90m━━━━━━━━━━━━━━━━━━━━━━━━━━━━━━━━━━━━━━━━\u001B[0m \u001B[32m2.8/2.8 MB\u001B[0m \u001B[31m2.4 MB/s\u001B[0m  \u001B[33m0:00:01\u001B[0m eta \u001B[36m0:00:01\u001B[0m\r\n",
      "\u001B[?25hDownloading joblib-1.5.1-py3-none-any.whl (307 kB)\r\n",
      "Downloading kiwisolver-1.4.8-cp312-cp312-macosx_11_0_arm64.whl (65 kB)\r\n",
      "Downloading networkx-3.5-py3-none-any.whl (2.0 MB)\r\n",
      "\u001B[2K   \u001B[90m━━━━━━━━━━━━━━━━━━━━━━━━━━━━━━━━━━━━━━━━\u001B[0m \u001B[32m2.0/2.0 MB\u001B[0m \u001B[31m2.6 MB/s\u001B[0m  \u001B[33m0:00:00\u001B[0m eta \u001B[36m0:00:01\u001B[0m\r\n",
      "\u001B[?25hUsing cached patsy-1.0.1-py2.py3-none-any.whl (232 kB)\r\n",
      "Downloading pillow-11.3.0-cp312-cp312-macosx_11_0_arm64.whl (4.7 MB)\r\n",
      "\u001B[2K   \u001B[90m━━━━━━━━━━━━━━━━━━━━━━━━━━━━━━━━━━━━━━━━\u001B[0m \u001B[32m4.7/4.7 MB\u001B[0m \u001B[31m2.5 MB/s\u001B[0m  \u001B[33m0:00:01\u001B[0m eta \u001B[36m0:00:01\u001B[0m\r\n",
      "\u001B[?25hDownloading pydantic-2.11.7-py3-none-any.whl (444 kB)\r\n",
      "Downloading pydantic_core-2.33.2-cp312-cp312-macosx_11_0_arm64.whl (1.8 MB)\r\n",
      "\u001B[2K   \u001B[90m━━━━━━━━━━━━━━━━━━━━━━━━━━━━━━━━━━━━━━━━\u001B[0m \u001B[32m1.8/1.8 MB\u001B[0m \u001B[31m2.5 MB/s\u001B[0m  \u001B[33m0:00:00\u001B[0m eta \u001B[36m0:00:01\u001B[0m\r\n",
      "\u001B[?25hUsing cached annotated_types-0.7.0-py3-none-any.whl (13 kB)\r\n",
      "Downloading pyparsing-3.2.3-py3-none-any.whl (111 kB)\r\n",
      "Downloading pytz-2025.2-py2.py3-none-any.whl (509 kB)\r\n",
      "Downloading typing_inspection-0.4.1-py3-none-any.whl (14 kB)\r\n",
      "Downloading tzdata-2025.2-py2.py3-none-any.whl (347 kB)\r\n",
      "Downloading wordcloud-1.9.4-cp312-cp312-macosx_11_0_arm64.whl (168 kB)\r\n",
      "Downloading puremagic-1.30-py3-none-any.whl (43 kB)\r\n",
      "Downloading pywavelets-1.8.0-cp312-cp312-macosx_11_0_arm64.whl (4.3 MB)\r\n",
      "\u001B[2K   \u001B[91m━━━━━━━━━━━━\u001B[0m\u001B[90m╺\u001B[0m\u001B[90m━━━━━━━━━━━━━━━━━━━━━━━━━━━\u001B[0m \u001B[32m1.3/4.3 MB\u001B[0m \u001B[31m3.1 MB/s\u001B[0m eta \u001B[36m0:00:01\u001B[0m^C\r\n",
      "\u001B[2K   \u001B[91m━━━━━━━━━━━━━━━━━\u001B[0m\u001B[90m╺\u001B[0m\u001B[90m━━━━━━━━━━━━━━━━━━━━━━\u001B[0m \u001B[32m1.8/4.3 MB\u001B[0m \u001B[31m2.6 MB/s\u001B[0m eta \u001B[36m0:00:01\u001B[0m\r\n",
      "\u001B[?25h\u001B[31mERROR: Operation cancelled by user\u001B[0m\u001B[31m\r\n",
      "\u001B[0m"
     ]
    }
   ],
   "execution_count": 1
  },
  {
   "cell_type": "code",
   "source": "pip install facets-overview",
   "metadata": {
    "trusted": true,
    "execution": {
     "iopub.status.busy": "2025-07-24T09:00:14.603149Z",
     "iopub.execute_input": "2025-07-24T09:00:14.603431Z",
     "iopub.status.idle": "2025-07-24T09:00:19.383566Z",
     "shell.execute_reply.started": "2025-07-24T09:00:14.603405Z",
     "shell.execute_reply": "2025-07-24T09:00:19.382494Z"
    },
    "_kg_hide-input": true,
    "_kg_hide-output": true,
    "collapsed": true,
    "jupyter": {
     "outputs_hidden": true
    },
    "ExecuteTime": {
     "end_time": "2025-07-31T08:00:00.514291Z",
     "start_time": "2025-07-31T07:59:59.940268Z"
    }
   },
   "outputs": [
    {
     "name": "stdout",
     "output_type": "stream",
     "text": [
      "Requirement already satisfied: facets-overview in ./.venv/lib/python3.12/site-packages (1.1.1)\r\n",
      "Requirement already satisfied: numpy>=1.16.0 in ./.venv/lib/python3.12/site-packages (from facets-overview) (2.1.3)\r\n",
      "Requirement already satisfied: pandas>=0.22.0 in ./.venv/lib/python3.12/site-packages (from facets-overview) (2.3.1)\r\n",
      "Requirement already satisfied: protobuf>=3.20.0 in ./.venv/lib/python3.12/site-packages (from facets-overview) (6.31.1)\r\n",
      "Requirement already satisfied: python-dateutil>=2.8.2 in ./.venv/lib/python3.12/site-packages (from pandas>=0.22.0->facets-overview) (2.9.0.post0)\r\n",
      "Requirement already satisfied: pytz>=2020.1 in ./.venv/lib/python3.12/site-packages (from pandas>=0.22.0->facets-overview) (2025.2)\r\n",
      "Requirement already satisfied: tzdata>=2022.7 in ./.venv/lib/python3.12/site-packages (from pandas>=0.22.0->facets-overview) (2025.2)\r\n",
      "Requirement already satisfied: six>=1.5 in ./.venv/lib/python3.12/site-packages (from python-dateutil>=2.8.2->pandas>=0.22.0->facets-overview) (1.17.0)\r\n",
      "Note: you may need to restart the kernel to use updated packages.\n"
     ]
    }
   ],
   "execution_count": 9
  },
  {
   "metadata": {
    "trusted": true,
    "execution": {
     "iopub.status.busy": "2025-07-24T09:50:36.213244Z",
     "iopub.execute_input": "2025-07-24T09:50:36.213529Z",
     "iopub.status.idle": "2025-07-24T09:50:38.995194Z",
     "shell.execute_reply.started": "2025-07-24T09:50:36.213508Z",
     "shell.execute_reply": "2025-07-24T09:50:38.994297Z"
    },
    "ExecuteTime": {
     "end_time": "2025-07-31T08:08:02.895018Z",
     "start_time": "2025-07-31T08:07:47.923308Z"
    }
   },
   "cell_type": "code",
   "source": [
    "import pandas as pd\n",
    "\n",
    "from IPython.core.display import HTML, display_html\n",
    "import base64\n",
    "from facets_overview.generic_feature_statistics_generator import GenericFeatureStatisticsGenerator\n",
    "\n",
    "from ydata_profiling import ProfileReport\n",
    "\n",
    "from evidently import Dataset, DataDefinition, Report\n",
    "from evidently.presets import DataDriftPreset, DataSummaryPreset"
   ],
   "outputs": [],
   "execution_count": 18
  },
  {
   "metadata": {},
   "cell_type": "markdown",
   "source": "# Load data and EDA"
  },
  {
   "metadata": {
    "trusted": true,
    "execution": {
     "iopub.status.busy": "2025-07-24T09:59:02.900935Z",
     "iopub.execute_input": "2025-07-24T09:59:02.901212Z",
     "iopub.status.idle": "2025-07-24T09:59:03.002333Z",
     "shell.execute_reply.started": "2025-07-24T09:59:02.901191Z",
     "shell.execute_reply": "2025-07-24T09:59:03.001560Z"
    },
    "ExecuteTime": {
     "end_time": "2025-07-31T07:59:48.961873Z",
     "start_time": "2025-07-31T07:59:48.905380Z"
    }
   },
   "cell_type": "code",
   "outputs": [],
   "execution_count": 6,
   "source": [
    "df = pd.read_csv(''\n",
    "                 'Hotel Reservations.csv')"
   ]
  },
  {
   "metadata": {
    "trusted": true,
    "execution": {
     "iopub.status.busy": "2025-07-24T09:00:04.706725Z",
     "iopub.execute_input": "2025-07-24T09:00:04.707016Z",
     "iopub.status.idle": "2025-07-24T09:00:14.576312Z",
     "shell.execute_reply.started": "2025-07-24T09:00:04.706991Z",
     "shell.execute_reply": "2025-07-24T09:00:14.574939Z"
    },
    "ExecuteTime": {
     "end_time": "2025-07-31T07:59:53.652986Z",
     "start_time": "2025-07-31T07:59:50.786034Z"
    }
   },
   "cell_type": "code",
   "outputs": [
    {
     "name": "stderr",
     "output_type": "stream",
     "text": [
      "Summarize dataset:  33%|███▎      | 8/24 [00:00<00:00, 65.45it/s, Describe variable: repeated_guest]     \n",
      "100%|██████████| 19/19 [00:00<00:00, 793.02it/s]<00:00, 65.45it/s, Describe variable: booking_status]        \n",
      "Summarize dataset: 100%|██████████| 25/25 [00:00<00:00, 159.55it/s, Completed]                       \n",
      "Generate report structure: 100%|██████████| 1/1 [00:01<00:00,  1.93s/it]\n",
      "Render HTML: 100%|██████████| 1/1 [00:00<00:00,  5.24it/s]\n",
      "Export report to file: 100%|██████████| 1/1 [00:00<00:00, 185.81it/s]\n"
     ]
    }
   ],
   "execution_count": 7,
   "source": [
    "profile = ProfileReport(df, title=\"Hotel Bookings Profiling\", minimal=True)\n",
    "\n",
    "profile.to_file(\"report.html\")"
   ]
  },
  {
   "metadata": {
    "trusted": true,
    "execution": {
     "iopub.status.busy": "2025-07-24T09:00:14.578628Z",
     "iopub.execute_input": "2025-07-24T09:00:14.579023Z",
     "iopub.status.idle": "2025-07-24T09:00:14.602149Z",
     "shell.execute_reply.started": "2025-07-24T09:00:14.578993Z",
     "shell.execute_reply": "2025-07-24T09:00:14.601236Z"
    },
    "ExecuteTime": {
     "end_time": "2025-07-31T07:59:55.783427Z",
     "start_time": "2025-07-31T07:59:55.769743Z"
    }
   },
   "cell_type": "code",
   "outputs": [
    {
     "name": "stdout",
     "output_type": "stream",
     "text": [
      "<class 'pandas.core.frame.DataFrame'>\n",
      "RangeIndex: 36275 entries, 0 to 36274\n",
      "Data columns (total 19 columns):\n",
      " #   Column                                Non-Null Count  Dtype  \n",
      "---  ------                                --------------  -----  \n",
      " 0   Booking_ID                            36275 non-null  object \n",
      " 1   no_of_adults                          36275 non-null  int64  \n",
      " 2   no_of_children                        36275 non-null  int64  \n",
      " 3   no_of_weekend_nights                  36275 non-null  int64  \n",
      " 4   no_of_week_nights                     36275 non-null  int64  \n",
      " 5   type_of_meal_plan                     36275 non-null  object \n",
      " 6   required_car_parking_space            36275 non-null  int64  \n",
      " 7   room_type_reserved                    36275 non-null  object \n",
      " 8   lead_time                             36275 non-null  int64  \n",
      " 9   arrival_year                          36275 non-null  int64  \n",
      " 10  arrival_month                         36275 non-null  int64  \n",
      " 11  arrival_date                          36275 non-null  int64  \n",
      " 12  market_segment_type                   36275 non-null  object \n",
      " 13  repeated_guest                        36275 non-null  int64  \n",
      " 14  no_of_previous_cancellations          36275 non-null  int64  \n",
      " 15  no_of_previous_bookings_not_canceled  36275 non-null  int64  \n",
      " 16  avg_price_per_room                    36275 non-null  float64\n",
      " 17  no_of_special_requests                36275 non-null  int64  \n",
      " 18  booking_status                        36275 non-null  object \n",
      "dtypes: float64(1), int64(13), object(5)\n",
      "memory usage: 5.3+ MB\n"
     ]
    }
   ],
   "execution_count": 8,
   "source": "df.info()"
  },
  {
   "metadata": {
    "trusted": true,
    "ExecuteTime": {
     "end_time": "2025-07-31T08:07:18.844283Z",
     "start_time": "2025-07-31T08:07:17.023437Z"
    }
   },
   "cell_type": "code",
   "source": [
    "proto = GenericFeatureStatisticsGenerator().ProtoFromDataFrames([{'name': 'train', 'table': df}])\n",
    "\n",
    "protostr = base64.b64encode(proto.SerializeToString()).decode(\"utf-8\")\n",
    "HTML_TEMPLATE = \"\"\"\n",
    "<script src=\"https://cdnjs.cloudflare.com/ajax/libs/webcomponentsjs/1.3.3/webcomponents-lite.js\"></script>\n",
    "<link rel=\"import\" href=\"https://raw.githubusercontent.com/PAIR-code/facets/master/facets-dist/facets-jupyter.html\">\n",
    "<facets-overview id=\"elem\"></facets-overview>\n",
    "<script>\n",
    "document.querySelector(\"#elem\").protoInput = \"{protostr}\";\n",
    "</script>\"\"\"\n",
    "html = HTML_TEMPLATE.format(protostr=protostr)\n",
    "display_html(html)"
   ],
   "outputs": [
    {
     "name": "stderr",
     "output_type": "stream",
     "text": [
      "/Users/domager73/PycharmProjects/Hoter_reser_harbour/.venv/lib/python3.12/site-packages/facets_overview/base_generic_feature_statistics_generator.py:121: FutureWarning: Series.ravel is deprecated. The underlying array is already 1D, so ravel is not necessary.  Use `to_numpy()` for conversion to a numpy array instead.\n",
      "  flattened = x.ravel()\n"
     ]
    }
   ],
   "execution_count": 17
  },
  {
   "metadata": {},
   "cell_type": "code",
   "outputs": [],
   "execution_count": null,
   "source": ""
  },
  {
   "cell_type": "markdown",
   "source": "# Feature Genering",
   "metadata": {}
  },
  {
   "cell_type": "code",
   "source": "def target_to_int(df):\n    df['booking_status'] = (df['booking_status'] == 'Canceled').astype('int64')\n    return df",
   "metadata": {
    "trusted": true,
    "execution": {
     "iopub.status.busy": "2025-07-24T09:59:06.145396Z",
     "iopub.execute_input": "2025-07-24T09:59:06.146039Z",
     "iopub.status.idle": "2025-07-24T09:59:06.150373Z",
     "shell.execute_reply.started": "2025-07-24T09:59:06.146016Z",
     "shell.execute_reply": "2025-07-24T09:59:06.149416Z"
    }
   },
   "outputs": [],
   "execution_count": 34
  },
  {
   "cell_type": "code",
   "source": "df['date'] = df.apply(\n    lambda row: ''.join(map(str, [row['arrival_year'],row['arrival_month'], row['arrival_date']])), \n    axis=1\n)",
   "metadata": {
    "trusted": true,
    "execution": {
     "iopub.status.busy": "2025-07-24T09:59:06.401835Z",
     "iopub.execute_input": "2025-07-24T09:59:06.402099Z",
     "iopub.status.idle": "2025-07-24T09:59:06.747498Z",
     "shell.execute_reply.started": "2025-07-24T09:59:06.402079Z",
     "shell.execute_reply": "2025-07-24T09:59:06.746583Z"
    }
   },
   "outputs": [],
   "execution_count": 35
  },
  {
   "cell_type": "code",
   "source": "df = df.sort_values(by = 'date')",
   "metadata": {
    "trusted": true,
    "execution": {
     "iopub.status.busy": "2025-07-24T09:59:07.663239Z",
     "iopub.execute_input": "2025-07-24T09:59:07.663505Z",
     "iopub.status.idle": "2025-07-24T09:59:07.707423Z",
     "shell.execute_reply.started": "2025-07-24T09:59:07.663487Z",
     "shell.execute_reply": "2025-07-24T09:59:07.706750Z"
    }
   },
   "outputs": [],
   "execution_count": 36
  },
  {
   "cell_type": "code",
   "source": "df = target_to_int(df)",
   "metadata": {
    "trusted": true,
    "execution": {
     "iopub.status.busy": "2025-07-24T09:59:07.969318Z",
     "iopub.execute_input": "2025-07-24T09:59:07.969601Z",
     "iopub.status.idle": "2025-07-24T09:59:07.977826Z",
     "shell.execute_reply.started": "2025-07-24T09:59:07.969580Z",
     "shell.execute_reply": "2025-07-24T09:59:07.976788Z"
    }
   },
   "outputs": [],
   "execution_count": 37
  },
  {
   "cell_type": "code",
   "source": "df",
   "metadata": {
    "trusted": true,
    "execution": {
     "iopub.status.busy": "2025-07-24T10:00:47.640696Z",
     "iopub.execute_input": "2025-07-24T10:00:47.641004Z",
     "iopub.status.idle": "2025-07-24T10:00:47.657781Z",
     "shell.execute_reply.started": "2025-07-24T10:00:47.640982Z",
     "shell.execute_reply": "2025-07-24T10:00:47.656742Z"
    }
   },
   "outputs": [
    {
     "execution_count": 42,
     "output_type": "execute_result",
     "data": {
      "text/plain": "      Booking_ID  no_of_adults  no_of_children  no_of_weekend_nights  \\\n21771   INN21772             2               0                     2   \n3866    INN03867             1               0                     0   \n34227   INN34228             2               0                     0   \n34104   INN34105             1               0                     0   \n6144    INN06145             2               0                     1   \n...          ...           ...             ...                   ...   \n13628   INN13629             2               0                     1   \n15109   INN15110             2               0                     1   \n31588   INN31589             2               0                     0   \n16462   INN16463             2               0                     0   \n28659   INN28660             2               0                     1   \n\n       no_of_week_nights type_of_meal_plan  required_car_parking_space  \\\n21771                  3       Meal Plan 1                           0   \n3866                   1       Meal Plan 1                           0   \n34227                  2       Meal Plan 1                           0   \n34104                  2       Meal Plan 1                           0   \n6144                   3       Meal Plan 1                           0   \n...                  ...               ...                         ...   \n13628                  2       Meal Plan 1                           0   \n15109                  2       Meal Plan 1                           0   \n31588                  2       Meal Plan 1                           0   \n16462                  2       Meal Plan 1                           0   \n28659                  2       Meal Plan 1                           0   \n\n      room_type_reserved  lead_time  arrival_year  arrival_month  \\\n21771        Room_Type 1          6          2017             10   \n3866         Room_Type 1          1          2017             10   \n34227        Room_Type 1         16          2017             10   \n34104        Room_Type 1         17          2017             10   \n6144         Room_Type 1         16          2017             10   \n...                  ...        ...           ...            ...   \n13628        Room_Type 1        198          2018              9   \n15109        Room_Type 1        198          2018              9   \n31588        Room_Type 1        169          2018              9   \n16462        Room_Type 4         65          2018              9   \n28659        Room_Type 1         57          2018              9   \n\n       arrival_date market_segment_type  repeated_guest  \\\n21771             1             Offline               0   \n3866              1             Offline               0   \n34227             1              Online               0   \n34104             1              Online               0   \n6144              1              Online               0   \n...             ...                 ...             ...   \n13628             9             Offline               0   \n15109             9             Offline               0   \n31588             9             Offline               0   \n16462             9              Online               0   \n28659             9              Online               0   \n\n       no_of_previous_cancellations  no_of_previous_bookings_not_canceled  \\\n21771                             0                                     0   \n3866                              0                                     0   \n34227                             0                                     0   \n34104                             0                                     0   \n6144                              0                                     0   \n...                             ...                                   ...   \n13628                             0                                     0   \n15109                             0                                     0   \n31588                             0                                     0   \n16462                             0                                     0   \n28659                             0                                     0   \n\n       avg_price_per_room  no_of_special_requests  booking_status     date  \n21771               58.40                       0               0  2017101  \n3866                96.00                       0               0  2017101  \n34227              117.00                       2               0  2017101  \n34104               73.88                       3               0  2017101  \n6144               111.75                       2               0  2017101  \n...                   ...                     ...             ...      ...  \n13628               90.00                       0               1   201899  \n15109               90.00                       0               1   201899  \n31588               80.75                       0               0   201899  \n16462              149.40                       1               1   201899  \n28659              125.10                       1               0   201899  \n\n[36275 rows x 20 columns]",
      "text/html": "<div>\n<style scoped>\n    .dataframe tbody tr th:only-of-type {\n        vertical-align: middle;\n    }\n\n    .dataframe tbody tr th {\n        vertical-align: top;\n    }\n\n    .dataframe thead th {\n        text-align: right;\n    }\n</style>\n<table border=\"1\" class=\"dataframe\">\n  <thead>\n    <tr style=\"text-align: right;\">\n      <th></th>\n      <th>Booking_ID</th>\n      <th>no_of_adults</th>\n      <th>no_of_children</th>\n      <th>no_of_weekend_nights</th>\n      <th>no_of_week_nights</th>\n      <th>type_of_meal_plan</th>\n      <th>required_car_parking_space</th>\n      <th>room_type_reserved</th>\n      <th>lead_time</th>\n      <th>arrival_year</th>\n      <th>arrival_month</th>\n      <th>arrival_date</th>\n      <th>market_segment_type</th>\n      <th>repeated_guest</th>\n      <th>no_of_previous_cancellations</th>\n      <th>no_of_previous_bookings_not_canceled</th>\n      <th>avg_price_per_room</th>\n      <th>no_of_special_requests</th>\n      <th>booking_status</th>\n      <th>date</th>\n    </tr>\n  </thead>\n  <tbody>\n    <tr>\n      <th>21771</th>\n      <td>INN21772</td>\n      <td>2</td>\n      <td>0</td>\n      <td>2</td>\n      <td>3</td>\n      <td>Meal Plan 1</td>\n      <td>0</td>\n      <td>Room_Type 1</td>\n      <td>6</td>\n      <td>2017</td>\n      <td>10</td>\n      <td>1</td>\n      <td>Offline</td>\n      <td>0</td>\n      <td>0</td>\n      <td>0</td>\n      <td>58.40</td>\n      <td>0</td>\n      <td>0</td>\n      <td>2017101</td>\n    </tr>\n    <tr>\n      <th>3866</th>\n      <td>INN03867</td>\n      <td>1</td>\n      <td>0</td>\n      <td>0</td>\n      <td>1</td>\n      <td>Meal Plan 1</td>\n      <td>0</td>\n      <td>Room_Type 1</td>\n      <td>1</td>\n      <td>2017</td>\n      <td>10</td>\n      <td>1</td>\n      <td>Offline</td>\n      <td>0</td>\n      <td>0</td>\n      <td>0</td>\n      <td>96.00</td>\n      <td>0</td>\n      <td>0</td>\n      <td>2017101</td>\n    </tr>\n    <tr>\n      <th>34227</th>\n      <td>INN34228</td>\n      <td>2</td>\n      <td>0</td>\n      <td>0</td>\n      <td>2</td>\n      <td>Meal Plan 1</td>\n      <td>0</td>\n      <td>Room_Type 1</td>\n      <td>16</td>\n      <td>2017</td>\n      <td>10</td>\n      <td>1</td>\n      <td>Online</td>\n      <td>0</td>\n      <td>0</td>\n      <td>0</td>\n      <td>117.00</td>\n      <td>2</td>\n      <td>0</td>\n      <td>2017101</td>\n    </tr>\n    <tr>\n      <th>34104</th>\n      <td>INN34105</td>\n      <td>1</td>\n      <td>0</td>\n      <td>0</td>\n      <td>2</td>\n      <td>Meal Plan 1</td>\n      <td>0</td>\n      <td>Room_Type 1</td>\n      <td>17</td>\n      <td>2017</td>\n      <td>10</td>\n      <td>1</td>\n      <td>Online</td>\n      <td>0</td>\n      <td>0</td>\n      <td>0</td>\n      <td>73.88</td>\n      <td>3</td>\n      <td>0</td>\n      <td>2017101</td>\n    </tr>\n    <tr>\n      <th>6144</th>\n      <td>INN06145</td>\n      <td>2</td>\n      <td>0</td>\n      <td>1</td>\n      <td>3</td>\n      <td>Meal Plan 1</td>\n      <td>0</td>\n      <td>Room_Type 1</td>\n      <td>16</td>\n      <td>2017</td>\n      <td>10</td>\n      <td>1</td>\n      <td>Online</td>\n      <td>0</td>\n      <td>0</td>\n      <td>0</td>\n      <td>111.75</td>\n      <td>2</td>\n      <td>0</td>\n      <td>2017101</td>\n    </tr>\n    <tr>\n      <th>...</th>\n      <td>...</td>\n      <td>...</td>\n      <td>...</td>\n      <td>...</td>\n      <td>...</td>\n      <td>...</td>\n      <td>...</td>\n      <td>...</td>\n      <td>...</td>\n      <td>...</td>\n      <td>...</td>\n      <td>...</td>\n      <td>...</td>\n      <td>...</td>\n      <td>...</td>\n      <td>...</td>\n      <td>...</td>\n      <td>...</td>\n      <td>...</td>\n      <td>...</td>\n    </tr>\n    <tr>\n      <th>13628</th>\n      <td>INN13629</td>\n      <td>2</td>\n      <td>0</td>\n      <td>1</td>\n      <td>2</td>\n      <td>Meal Plan 1</td>\n      <td>0</td>\n      <td>Room_Type 1</td>\n      <td>198</td>\n      <td>2018</td>\n      <td>9</td>\n      <td>9</td>\n      <td>Offline</td>\n      <td>0</td>\n      <td>0</td>\n      <td>0</td>\n      <td>90.00</td>\n      <td>0</td>\n      <td>1</td>\n      <td>201899</td>\n    </tr>\n    <tr>\n      <th>15109</th>\n      <td>INN15110</td>\n      <td>2</td>\n      <td>0</td>\n      <td>1</td>\n      <td>2</td>\n      <td>Meal Plan 1</td>\n      <td>0</td>\n      <td>Room_Type 1</td>\n      <td>198</td>\n      <td>2018</td>\n      <td>9</td>\n      <td>9</td>\n      <td>Offline</td>\n      <td>0</td>\n      <td>0</td>\n      <td>0</td>\n      <td>90.00</td>\n      <td>0</td>\n      <td>1</td>\n      <td>201899</td>\n    </tr>\n    <tr>\n      <th>31588</th>\n      <td>INN31589</td>\n      <td>2</td>\n      <td>0</td>\n      <td>0</td>\n      <td>2</td>\n      <td>Meal Plan 1</td>\n      <td>0</td>\n      <td>Room_Type 1</td>\n      <td>169</td>\n      <td>2018</td>\n      <td>9</td>\n      <td>9</td>\n      <td>Offline</td>\n      <td>0</td>\n      <td>0</td>\n      <td>0</td>\n      <td>80.75</td>\n      <td>0</td>\n      <td>0</td>\n      <td>201899</td>\n    </tr>\n    <tr>\n      <th>16462</th>\n      <td>INN16463</td>\n      <td>2</td>\n      <td>0</td>\n      <td>0</td>\n      <td>2</td>\n      <td>Meal Plan 1</td>\n      <td>0</td>\n      <td>Room_Type 4</td>\n      <td>65</td>\n      <td>2018</td>\n      <td>9</td>\n      <td>9</td>\n      <td>Online</td>\n      <td>0</td>\n      <td>0</td>\n      <td>0</td>\n      <td>149.40</td>\n      <td>1</td>\n      <td>1</td>\n      <td>201899</td>\n    </tr>\n    <tr>\n      <th>28659</th>\n      <td>INN28660</td>\n      <td>2</td>\n      <td>0</td>\n      <td>1</td>\n      <td>2</td>\n      <td>Meal Plan 1</td>\n      <td>0</td>\n      <td>Room_Type 1</td>\n      <td>57</td>\n      <td>2018</td>\n      <td>9</td>\n      <td>9</td>\n      <td>Online</td>\n      <td>0</td>\n      <td>0</td>\n      <td>0</td>\n      <td>125.10</td>\n      <td>1</td>\n      <td>0</td>\n      <td>201899</td>\n    </tr>\n  </tbody>\n</table>\n<p>36275 rows × 20 columns</p>\n</div>"
     },
     "metadata": {}
    }
   ],
   "execution_count": 42
  },
  {
   "cell_type": "markdown",
   "source": "# Calculate historical data",
   "metadata": {}
  },
  {
   "cell_type": "code",
   "source": "T = 10000\nhis_df = df[:T]",
   "metadata": {
    "trusted": true,
    "execution": {
     "iopub.status.busy": "2025-07-24T10:14:03.837834Z",
     "iopub.execute_input": "2025-07-24T10:14:03.838177Z",
     "iopub.status.idle": "2025-07-24T10:14:03.842878Z",
     "shell.execute_reply.started": "2025-07-24T10:14:03.838153Z",
     "shell.execute_reply": "2025-07-24T10:14:03.842048Z"
    }
   },
   "outputs": [],
   "execution_count": 55
  },
  {
   "cell_type": "code",
   "source": "P_his = his_df['booking_status'].sum() / T\nP_his",
   "metadata": {
    "trusted": true,
    "execution": {
     "iopub.status.busy": "2025-07-24T10:14:04.165226Z",
     "iopub.execute_input": "2025-07-24T10:14:04.165512Z",
     "iopub.status.idle": "2025-07-24T10:14:04.171650Z",
     "shell.execute_reply.started": "2025-07-24T10:14:04.165492Z",
     "shell.execute_reply": "2025-07-24T10:14:04.171046Z"
    }
   },
   "outputs": [
    {
     "execution_count": 56,
     "output_type": "execute_result",
     "data": {
      "text/plain": "0.2561"
     },
     "metadata": {}
    }
   ],
   "execution_count": 56
  },
  {
   "cell_type": "code",
   "source": "Avg_rev_his = his_df['avg_price_per_room'].sum() / T\nAvg_rev_his",
   "metadata": {
    "trusted": true,
    "execution": {
     "iopub.status.busy": "2025-07-24T10:14:28.281238Z",
     "iopub.execute_input": "2025-07-24T10:14:28.281524Z",
     "iopub.status.idle": "2025-07-24T10:14:28.287355Z",
     "shell.execute_reply.started": "2025-07-24T10:14:28.281504Z",
     "shell.execute_reply": "2025-07-24T10:14:28.286521Z"
    }
   },
   "outputs": [
    {
     "execution_count": 58,
     "output_type": "execute_result",
     "data": {
      "text/plain": "97.349209"
     },
     "metadata": {}
    }
   ],
   "execution_count": 58
  },
  {
   "cell_type": "code",
   "source": "Loss = P_his * T * Avg_rev_his\nLoss",
   "metadata": {
    "trusted": true,
    "execution": {
     "iopub.status.busy": "2025-07-24T10:15:02.884759Z",
     "iopub.execute_input": "2025-07-24T10:15:02.885052Z",
     "iopub.status.idle": "2025-07-24T10:15:02.890798Z",
     "shell.execute_reply.started": "2025-07-24T10:15:02.885027Z",
     "shell.execute_reply": "2025-07-24T10:15:02.889874Z"
    }
   },
   "outputs": [
    {
     "execution_count": 60,
     "output_type": "execute_result",
     "data": {
      "text/plain": "249311.324249"
     },
     "metadata": {}
    }
   ],
   "execution_count": 60
  },
  {
   "cell_type": "code",
   "source": "",
   "metadata": {
    "trusted": true
   },
   "outputs": [],
   "execution_count": null
  }
 ]
}
